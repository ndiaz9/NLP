{
 "cells": [
  {
   "cell_type": "markdown",
   "id": "d7710d98-5abf-4dfa-8c7b-9bbde6a4f59c",
   "metadata": {},
   "source": [
    "### BSII"
   ]
  },
  {
   "cell_type": "code",
   "execution_count": 1,
   "id": "91c1af16-0c01-48ae-a0be-ed8e560c2ce1",
   "metadata": {},
   "outputs": [],
   "source": [
    "import xml.etree.ElementTree as ET\n",
    "import pandas as pd\n",
    "import numpy as np\n",
    "import os, re, json\n",
    "from gensim.parsing.porter import PorterStemmer\n",
    "from nltk.corpus import stopwords\n"
   ]
  },
  {
   "cell_type": "markdown",
   "id": "a5175e17-3ab1-442e-94b3-8db1c61007df",
   "metadata": {},
   "source": [
    "__paths to change__"
   ]
  },
  {
   "cell_type": "code",
   "execution_count": 2,
   "id": "3619551e-8ab1-4e4b-b0fb-102e5ae5d4de",
   "metadata": {},
   "outputs": [],
   "source": [
    "# input variables\n",
    "documents_path = './datos/docs-raw-texts/'\n",
    "queries_path = './datos/queries-raw-texts/'\n",
    "\n",
    "# output varibles\n",
    "inverted_index_path = './salida/inverted_index.json'\n",
    "bsii_and_path = './salida/BSII-AND-queries_results.txt'\n",
    "bsii_or_path = './salida/BSII-OR-queries_results.txt'"
   ]
  },
  {
   "cell_type": "markdown",
   "id": "5ce7ae30-5efc-4708-ab54-0e3163efee38",
   "metadata": {},
   "source": [
    "### Read documents methods"
   ]
  },
  {
   "cell_type": "code",
   "execution_count": 3,
   "id": "43f5fd57-ebf1-4dab-bd55-30f1bf61d648",
   "metadata": {},
   "outputs": [],
   "source": [
    "def get_documents(path: str) -> list:\n",
    "    \"\"\"\n",
    "    read raw text from naf documents located in the directory path\n",
    "    \"\"\"\n",
    "    data = []\n",
    "    for file in sorted(os.listdir(path)):\n",
    "        if file.endswith(\".naf\"):\n",
    "            tree = ET.parse(path + file)\n",
    "            text = tree.find('raw').text\n",
    "            header = tree.find('nafHeader')\n",
    "            if header:\n",
    "                desc = header.find('fileDesc')\n",
    "                if desc:\n",
    "                    title = desc.attrib.get('title')\n",
    "                    text = title + ' ' + text if title else text\n",
    "            data.append(text)\n",
    "    return data"
   ]
  },
  {
   "cell_type": "code",
   "execution_count": 4,
   "id": "d2ebe2f4-aa04-498e-a146-46de8b0ad943",
   "metadata": {},
   "outputs": [],
   "source": [
    "def remove_stopwords(document: str) -> list:\n",
    "    \"\"\"\n",
    "    remove the english stop words from data\n",
    "    \"\"\"\n",
    "    lower = document.lower()\n",
    "    words = lower.split(' ')\n",
    "    stop_words = stopwords.words('english')\n",
    "    return [word for word in words if word not in stop_words]"
   ]
  },
  {
   "cell_type": "code",
   "execution_count": 5,
   "id": "f1ca268d-ad57-4023-9a60-461decd7a825",
   "metadata": {},
   "outputs": [],
   "source": [
    "def remove_nonlatin(document: str) -> str:\n",
    "    \"\"\"\n",
    "    replace problematic characters\n",
    "    \"\"\"\n",
    "    document = re.sub('\\n', ' ', document)\n",
    "    document = re.sub('[^a-zA-Z]|[0-9]', ' ', document)\n",
    "    document = re.sub('\\s+', ' ', document)\n",
    "    return document"
   ]
  },
  {
   "cell_type": "code",
   "execution_count": 6,
   "id": "09180d00-12f9-440c-90c0-52892c99e9fc",
   "metadata": {},
   "outputs": [],
   "source": [
    "def preprocessing(document: str) -> list:\n",
    "    \"\"\"\n",
    "    clean data by removing non-latin characters or numbers\n",
    "    stem data sentences\n",
    "    remove stop words from a document\n",
    "    \"\"\"\n",
    "    porter = PorterStemmer()\n",
    "    document = remove_nonlatin(document)\n",
    "    document = porter.stem_sentence(document)\n",
    "    return remove_stopwords(document)"
   ]
  },
  {
   "cell_type": "markdown",
   "id": "9de04ed7-da90-4134-92ad-c7c79472f82b",
   "metadata": {},
   "source": [
    "### Inverted index"
   ]
  },
  {
   "cell_type": "code",
   "execution_count": 7,
   "id": "f553b57c-22b3-4986-a064-f40d1366e5e6",
   "metadata": {},
   "outputs": [],
   "source": [
    "def get_inverted_index(documents: pd.Series) -> dict:\n",
    "    \"\"\"\n",
    "    iterate over the words in all the documents and add their index in a dictionary\n",
    "    \"\"\"\n",
    "    inverted_index = {}\n",
    "    for i in range(len(documents)):\n",
    "        for j in range(len(documents.iloc[i])):\n",
    "            word = documents.iloc[i][j]\n",
    "            if word not in inverted_index:\n",
    "                inverted_index[word] = []\n",
    "            inverted_index[word].append(i+1)\n",
    "    return inverted_index"
   ]
  },
  {
   "cell_type": "markdown",
   "id": "106ebbf7-f9b3-4f58-8548-a40b75b7e03a",
   "metadata": {
    "tags": []
   },
   "source": [
    "### AND/OR Queries"
   ]
  },
  {
   "cell_type": "code",
   "execution_count": 8,
   "id": "7ddd4b3b-4b7d-4ca7-a5af-b11c2d896fe7",
   "metadata": {},
   "outputs": [],
   "source": [
    "def BSII_AND(query: list) -> str:\n",
    "    \"\"\"\n",
    "    iterate over all words in the query\n",
    "    with each word retrieve all documents where is presented\n",
    "    comparing with the next word's retrieve documents\n",
    "    \"\"\"\n",
    "    a_list = inverted_index.get(query[0])\n",
    "    if len(a_list) > 0: \n",
    "        for i in range(1, len(query)):\n",
    "            b_list = inverted_index.get(query[i])\n",
    "            if not b_list: \n",
    "                a_list = []\n",
    "                break\n",
    "            a_list = and_merge_algorihtm(a_list, b_list)\n",
    "    return ','.join([f'd{x:03}' for x in a_list]) if len(a_list) > 0 else ''"
   ]
  },
  {
   "cell_type": "code",
   "execution_count": 9,
   "id": "c7d8168d-4831-43ce-93de-1a4dcef68dc1",
   "metadata": {},
   "outputs": [],
   "source": [
    "def and_merge_algorihtm(l1: list, l2: list) -> list:\n",
    "    \"\"\"\n",
    "    and implementatin for merge algorithm\n",
    "    \"\"\"\n",
    "    answer = []\n",
    "    i1, i2 = 0, 0\n",
    "    len_l1, len_l2 = len(l1), len(l2)\n",
    "    while i1 < len_l1 and i2 < len_l2:\n",
    "        val1, val2 = l1[i1], l2[i2]\n",
    "        if val1 == val2:\n",
    "            answer.append(val1)\n",
    "            i1 += 1\n",
    "            i2 += 1\n",
    "        elif val1 < val2:\n",
    "            i1 += 1\n",
    "        else:\n",
    "            i2 += 1\n",
    "    return answer"
   ]
  },
  {
   "cell_type": "code",
   "execution_count": 10,
   "id": "5ea78310-e2f4-4633-8b43-9cce73c612c8",
   "metadata": {},
   "outputs": [],
   "source": [
    "def BSII_OR(query: list) -> str:\n",
    "    \"\"\"\n",
    "    iterate over all query's words\n",
    "    searching each one in the inverted index dictionary\n",
    "    removing the repeating items\n",
    "    \"\"\"\n",
    "    a_list = inverted_index.get(query[0])\n",
    "    if len(a_list) == 0: \n",
    "        a_list = []\n",
    "    for i in range(1, len(query)):\n",
    "        b_list = inverted_index.get(query[i])\n",
    "        if not b_list: \n",
    "            b_list = []\n",
    "        a_list = a_list + b_list\n",
    "    a_list = np.unique(a_list)\n",
    "    return ','.join([f'd{x:03}' for x in a_list]) if len(a_list) > 0 else ''"
   ]
  },
  {
   "cell_type": "markdown",
   "id": "8ff79ba3",
   "metadata": {},
   "source": [
    "### NOT Queries"
   ]
  },
  {
   "cell_type": "code",
   "execution_count": 11,
   "id": "80cb74fe",
   "metadata": {},
   "outputs": [],
   "source": [
    "def BSII_NOT(query):\n",
    "    \"\"\"\n",
    "    iterate over all query's words\n",
    "    searching each one in the inverted index dictionary\n",
    "    removing the repeating items\n",
    "    \"\"\"\n",
    "    all_list= list(range(1,332))\n",
    "    if len(query) == 0:\n",
    "        return ','.join([f'd{x:03}' for x in all_list])\n",
    "    if len(query) == 1:\n",
    "        a_list = inverted_index[query[0]]\n",
    "        for elem in a_list:\n",
    "            all_list.remove(elem)\n",
    "        return ','.join([f'd{x:03}' for x in all_list])\n",
    "    else:\n",
    "        a_list = inverted_index[query[0]].copy()\n",
    "        for i in range(1,len(query)):\n",
    "            if query[i] in inverted_index:\n",
    "                b_list = inverted_index[query[i]]\n",
    "                c_list =  a_list.copy()+b_list.copy()\n",
    "                a_list = c_list.copy()\n",
    "\n",
    "        a_list = np.unique(a_list)  \n",
    "        \n",
    "        for elem in a_list:\n",
    "            all_list.remove(elem)\n",
    "        return ','.join([f'd{x:03}' for x in all_list])     "
   ]
  },
  {
   "cell_type": "markdown",
   "id": "b06c19c0-8b66-4df1-a6bc-bb4d6c2b3ee9",
   "metadata": {},
   "source": [
    "### Process the data"
   ]
  },
  {
   "cell_type": "code",
   "execution_count": 12,
   "id": "7117799f",
   "metadata": {},
   "outputs": [
    {
     "data": {
      "text/html": [
       "<div>\n",
       "<style scoped>\n",
       "    .dataframe tbody tr th:only-of-type {\n",
       "        vertical-align: middle;\n",
       "    }\n",
       "\n",
       "    .dataframe tbody tr th {\n",
       "        vertical-align: top;\n",
       "    }\n",
       "\n",
       "    .dataframe thead th {\n",
       "        text-align: right;\n",
       "    }\n",
       "</style>\n",
       "<table border=\"1\" class=\"dataframe\">\n",
       "  <thead>\n",
       "    <tr style=\"text-align: right;\">\n",
       "      <th></th>\n",
       "      <th>data</th>\n",
       "    </tr>\n",
       "  </thead>\n",
       "  <tbody>\n",
       "    <tr>\n",
       "      <th>0</th>\n",
       "      <td>William Beaumont and the Human Digestion.\\n\\nW...</td>\n",
       "    </tr>\n",
       "    <tr>\n",
       "      <th>1</th>\n",
       "      <td>Selma Lagerlöf and the wonderful Adventures of...</td>\n",
       "    </tr>\n",
       "    <tr>\n",
       "      <th>2</th>\n",
       "      <td>Ferdinand de Lesseps and the Suez Canal.\\n\\nFe...</td>\n",
       "    </tr>\n",
       "    <tr>\n",
       "      <th>3</th>\n",
       "      <td>Walt Disney’s ‘Steamboat Willie’ and the Rise ...</td>\n",
       "    </tr>\n",
       "    <tr>\n",
       "      <th>4</th>\n",
       "      <td>Eugene Wigner and the Structure of the Atomic ...</td>\n",
       "    </tr>\n",
       "  </tbody>\n",
       "</table>\n",
       "</div>"
      ],
      "text/plain": [
       "                                                data\n",
       "0  William Beaumont and the Human Digestion.\\n\\nW...\n",
       "1  Selma Lagerlöf and the wonderful Adventures of...\n",
       "2  Ferdinand de Lesseps and the Suez Canal.\\n\\nFe...\n",
       "3  Walt Disney’s ‘Steamboat Willie’ and the Rise ...\n",
       "4  Eugene Wigner and the Structure of the Atomic ..."
      ]
     },
     "execution_count": 12,
     "metadata": {},
     "output_type": "execute_result"
    }
   ],
   "source": [
    "# Step 1: get documents\n",
    "data = get_documents(documents_path)\n",
    "documents = pd.DataFrame(data, columns=['data'])\n",
    "documents.head()"
   ]
  },
  {
   "cell_type": "code",
   "execution_count": 13,
   "id": "7abe327c-3cba-43fa-9bc1-eaff96f5561a",
   "metadata": {},
   "outputs": [
    {
     "data": {
      "text/html": [
       "<div>\n",
       "<style scoped>\n",
       "    .dataframe tbody tr th:only-of-type {\n",
       "        vertical-align: middle;\n",
       "    }\n",
       "\n",
       "    .dataframe tbody tr th {\n",
       "        vertical-align: top;\n",
       "    }\n",
       "\n",
       "    .dataframe thead th {\n",
       "        text-align: right;\n",
       "    }\n",
       "</style>\n",
       "<table border=\"1\" class=\"dataframe\">\n",
       "  <thead>\n",
       "    <tr style=\"text-align: right;\">\n",
       "      <th></th>\n",
       "      <th>data</th>\n",
       "      <th>filtered</th>\n",
       "    </tr>\n",
       "  </thead>\n",
       "  <tbody>\n",
       "    <tr>\n",
       "      <th>0</th>\n",
       "      <td>William Beaumont and the Human Digestion.\\n\\nW...</td>\n",
       "      <td>[accid, acid, activ, affect, ag, alexi, also, ...</td>\n",
       "    </tr>\n",
       "    <tr>\n",
       "      <th>1</th>\n",
       "      <td>Selma Lagerlöf and the wonderful Adventures of...</td>\n",
       "      <td>[abl, academi, accept, acclaim, accomplish, ac...</td>\n",
       "    </tr>\n",
       "    <tr>\n",
       "      <th>2</th>\n",
       "      <td>Ferdinand de Lesseps and the Suez Canal.\\n\\nFe...</td>\n",
       "      <td>[abandon, act, adopt, affair, africa, afterwar...</td>\n",
       "    </tr>\n",
       "    <tr>\n",
       "      <th>3</th>\n",
       "      <td>Walt Disney’s ‘Steamboat Willie’ and the Rise ...</td>\n",
       "      <td>[aboard, accident, accompani, ad, along, also,...</td>\n",
       "    </tr>\n",
       "    <tr>\n",
       "      <th>4</th>\n",
       "      <td>Eugene Wigner and the Structure of the Atomic ...</td>\n",
       "      <td>[accept, achiev, ad, administr, albert, along,...</td>\n",
       "    </tr>\n",
       "  </tbody>\n",
       "</table>\n",
       "</div>"
      ],
      "text/plain": [
       "                                                data  \\\n",
       "0  William Beaumont and the Human Digestion.\\n\\nW...   \n",
       "1  Selma Lagerlöf and the wonderful Adventures of...   \n",
       "2  Ferdinand de Lesseps and the Suez Canal.\\n\\nFe...   \n",
       "3  Walt Disney’s ‘Steamboat Willie’ and the Rise ...   \n",
       "4  Eugene Wigner and the Structure of the Atomic ...   \n",
       "\n",
       "                                            filtered  \n",
       "0  [accid, acid, activ, affect, ag, alexi, also, ...  \n",
       "1  [abl, academi, accept, acclaim, accomplish, ac...  \n",
       "2  [abandon, act, adopt, affair, africa, afterwar...  \n",
       "3  [aboard, accident, accompani, ad, along, also,...  \n",
       "4  [accept, achiev, ad, administr, albert, along,...  "
      ]
     },
     "execution_count": 13,
     "metadata": {},
     "output_type": "execute_result"
    }
   ],
   "source": [
    "# Step 2: apply the preprocessing function\n",
    "documents['filtered'] = documents.data.apply(preprocessing)\n",
    "documents.filtered = documents.filtered.apply(np.unique)\n",
    "documents.head()"
   ]
  },
  {
   "cell_type": "code",
   "execution_count": 14,
   "id": "6d7637ff-52c7-4454-b425-dc25c909a68e",
   "metadata": {},
   "outputs": [
    {
     "data": {
      "text/plain": [
       "288"
      ]
     },
     "execution_count": 14,
     "metadata": {},
     "output_type": "execute_result"
    }
   ],
   "source": [
    "# Step 3: get inverted index\n",
    "inverted_index = get_inverted_index(documents.filtered)\n",
    "len(inverted_index['also'])"
   ]
  },
  {
   "cell_type": "code",
   "execution_count": 15,
   "id": "bf038ec6",
   "metadata": {},
   "outputs": [],
   "source": [
    "# save json file with inverted index\n",
    "with open(inverted_index_path, \"w\") as file:\n",
    "    json.dump(inverted_index, file)\n",
    "    file.close()"
   ]
  },
  {
   "cell_type": "code",
   "execution_count": 16,
   "id": "9600b375-8485-4e20-a4f2-633e779763c3",
   "metadata": {},
   "outputs": [],
   "source": [
    "# open json file with inverted index\n",
    "with open(inverted_index_path, \"r\") as file:\n",
    "    json_file = file.read()\n",
    "    inverted_index = json.loads(json_file)"
   ]
  },
  {
   "cell_type": "code",
   "execution_count": 17,
   "id": "2cc1a1c8-ee3b-4a86-a963-9ccd1651bfd5",
   "metadata": {},
   "outputs": [
    {
     "data": {
      "text/html": [
       "<div>\n",
       "<style scoped>\n",
       "    .dataframe tbody tr th:only-of-type {\n",
       "        vertical-align: middle;\n",
       "    }\n",
       "\n",
       "    .dataframe tbody tr th {\n",
       "        vertical-align: top;\n",
       "    }\n",
       "\n",
       "    .dataframe thead th {\n",
       "        text-align: right;\n",
       "    }\n",
       "</style>\n",
       "<table border=\"1\" class=\"dataframe\">\n",
       "  <thead>\n",
       "    <tr style=\"text-align: right;\">\n",
       "      <th></th>\n",
       "      <th>data</th>\n",
       "    </tr>\n",
       "  </thead>\n",
       "  <tbody>\n",
       "    <tr>\n",
       "      <th>0</th>\n",
       "      <td>Fabrication of music instruments</td>\n",
       "    </tr>\n",
       "    <tr>\n",
       "      <th>1</th>\n",
       "      <td>famous German poetry</td>\n",
       "    </tr>\n",
       "    <tr>\n",
       "      <th>2</th>\n",
       "      <td>Romanticism</td>\n",
       "    </tr>\n",
       "    <tr>\n",
       "      <th>3</th>\n",
       "      <td>University of Edinburgh research</td>\n",
       "    </tr>\n",
       "    <tr>\n",
       "      <th>4</th>\n",
       "      <td>bridge construction</td>\n",
       "    </tr>\n",
       "  </tbody>\n",
       "</table>\n",
       "</div>"
      ],
      "text/plain": [
       "                               data\n",
       "0  Fabrication of music instruments\n",
       "1              famous German poetry\n",
       "2                       Romanticism\n",
       "3  University of Edinburgh research\n",
       "4               bridge construction"
      ]
     },
     "execution_count": 17,
     "metadata": {},
     "output_type": "execute_result"
    }
   ],
   "source": [
    "data_query = get_documents(queries_path)\n",
    "queries = pd.DataFrame(data_query, columns=['data'])\n",
    "queries.head()"
   ]
  },
  {
   "cell_type": "code",
   "execution_count": 18,
   "id": "1c6bc91c-dc65-4091-9ca2-ddef858ae3f9",
   "metadata": {},
   "outputs": [
    {
     "data": {
      "text/html": [
       "<div>\n",
       "<style scoped>\n",
       "    .dataframe tbody tr th:only-of-type {\n",
       "        vertical-align: middle;\n",
       "    }\n",
       "\n",
       "    .dataframe tbody tr th {\n",
       "        vertical-align: top;\n",
       "    }\n",
       "\n",
       "    .dataframe thead th {\n",
       "        text-align: right;\n",
       "    }\n",
       "</style>\n",
       "<table border=\"1\" class=\"dataframe\">\n",
       "  <thead>\n",
       "    <tr style=\"text-align: right;\">\n",
       "      <th></th>\n",
       "      <th>data</th>\n",
       "      <th>filtered</th>\n",
       "    </tr>\n",
       "  </thead>\n",
       "  <tbody>\n",
       "    <tr>\n",
       "      <th>0</th>\n",
       "      <td>Fabrication of music instruments</td>\n",
       "      <td>[fabric, instrument, music]</td>\n",
       "    </tr>\n",
       "    <tr>\n",
       "      <th>1</th>\n",
       "      <td>famous German poetry</td>\n",
       "      <td>[famou, german, poetri]</td>\n",
       "    </tr>\n",
       "    <tr>\n",
       "      <th>2</th>\n",
       "      <td>Romanticism</td>\n",
       "      <td>[romantic]</td>\n",
       "    </tr>\n",
       "    <tr>\n",
       "      <th>3</th>\n",
       "      <td>University of Edinburgh research</td>\n",
       "      <td>[edinburgh, research, univers]</td>\n",
       "    </tr>\n",
       "    <tr>\n",
       "      <th>4</th>\n",
       "      <td>bridge construction</td>\n",
       "      <td>[bridg, construct]</td>\n",
       "    </tr>\n",
       "  </tbody>\n",
       "</table>\n",
       "</div>"
      ],
      "text/plain": [
       "                               data                        filtered\n",
       "0  Fabrication of music instruments     [fabric, instrument, music]\n",
       "1              famous German poetry         [famou, german, poetri]\n",
       "2                       Romanticism                      [romantic]\n",
       "3  University of Edinburgh research  [edinburgh, research, univers]\n",
       "4               bridge construction              [bridg, construct]"
      ]
     },
     "execution_count": 18,
     "metadata": {},
     "output_type": "execute_result"
    }
   ],
   "source": [
    "queries['filtered'] = queries.data.apply(preprocessing)\n",
    "queries.filtered = queries.filtered.apply(np.unique)\n",
    "queries.head()"
   ]
  },
  {
   "cell_type": "code",
   "execution_count": 19,
   "id": "a745e7a2-cd20-488e-b8c2-7decb5994ed5",
   "metadata": {},
   "outputs": [
    {
     "name": "stdout",
     "output_type": "stream",
     "text": [
      "0                                       \n",
      "1                              d291,d293\n",
      "2          d105,d147,d152,d283,d291,d318\n",
      "3                                   d286\n",
      "4     d026,d029,d069,d257,d297,d303,d329\n",
      "5                              d004,d034\n",
      "6               d108,d110,d117,d205,d251\n",
      "7                         d198,d205,d223\n",
      "8                                   d231\n",
      "9                         d176,d250,d277\n",
      "10                                      \n",
      "11                                      \n",
      "12    d132,d150,d176,d184,d229,d250,d277\n",
      "13                             d121,d271\n",
      "14                   d192,d194,d203,d210\n",
      "15                                  d179\n",
      "16                                      \n",
      "17                                      \n",
      "18                   d129,d221,d240,d282\n",
      "19                                      \n",
      "20                                      \n",
      "21                                      \n",
      "22                             d136,d174\n",
      "23                        d037,d046,d294\n",
      "24              d025,d031,d090,d139,d254\n",
      "25                                      \n",
      "26                             d257,d265\n",
      "27                                  d169\n",
      "28                                      \n",
      "29                                      \n",
      "30                             d150,d174\n",
      "31                                      \n",
      "32                             d029,d185\n",
      "33                                  d105\n",
      "34                             d094,d133\n",
      "Name: filtered, dtype: object\n"
     ]
    }
   ],
   "source": [
    "q_and=queries.filtered.apply(BSII_AND)\n",
    "print(q_and)"
   ]
  },
  {
   "cell_type": "code",
   "execution_count": 20,
   "id": "f41afd78-c33d-4fed-8a01-236920fc2586",
   "metadata": {},
   "outputs": [],
   "source": [
    "with open(bsii_and_path, \"w\") as f:\n",
    "    for i in range(len(q_and)):\n",
    "        f.write(f'q{i+1:02} {q_and[i]}\\n')\n",
    "    f.close()"
   ]
  },
  {
   "cell_type": "code",
   "execution_count": 21,
   "id": "ce715a8d-68f8-4bf5-a50f-26aba384b75e",
   "metadata": {},
   "outputs": [
    {
     "name": "stdout",
     "output_type": "stream",
     "text": [
      "0     d004,d006,d008,d016,d021,d024,d028,d032,d038,d...\n",
      "1     d001,d002,d003,d004,d005,d007,d010,d014,d017,d...\n",
      "2                         d105,d147,d152,d283,d291,d318\n",
      "3     d001,d003,d004,d005,d006,d007,d008,d009,d010,d...\n",
      "4     d003,d004,d012,d018,d021,d023,d025,d026,d029,d...\n",
      "5     d004,d011,d031,d033,d034,d042,d044,d057,d060,d...\n",
      "6     d001,d002,d003,d005,d006,d007,d008,d009,d012,d...\n",
      "7     d008,d010,d016,d021,d029,d038,d041,d052,d055,d...\n",
      "8     d001,d003,d009,d010,d012,d014,d015,d016,d017,d...\n",
      "9     d003,d010,d011,d012,d015,d021,d034,d035,d048,d...\n",
      "10    d001,d002,d003,d004,d007,d012,d013,d014,d015,d...\n",
      "11    d002,d005,d008,d010,d016,d021,d022,d023,d025,d...\n",
      "12    d021,d024,d034,d049,d056,d060,d071,d076,d077,d...\n",
      "13    d003,d024,d030,d066,d074,d084,d091,d106,d121,d...\n",
      "14    d002,d020,d027,d028,d048,d052,d053,d055,d058,d...\n",
      "15    d001,d004,d009,d015,d021,d028,d035,d051,d055,d...\n",
      "16    d003,d004,d007,d010,d011,d015,d019,d020,d022,d...\n",
      "17    d001,d002,d003,d004,d005,d007,d013,d014,d017,d...\n",
      "18    d002,d028,d031,d034,d039,d040,d042,d044,d055,d...\n",
      "19    d020,d023,d032,d128,d156,d166,d167,d211,d245,d...\n",
      "20    d002,d003,d005,d007,d012,d014,d015,d017,d027,d...\n",
      "21    d002,d005,d012,d014,d015,d016,d017,d018,d020,d...\n",
      "22    d001,d002,d003,d008,d009,d010,d011,d012,d013,d...\n",
      "23    d001,d008,d013,d015,d019,d026,d027,d031,d037,d...\n",
      "24    d006,d011,d015,d018,d025,d031,d042,d053,d059,d...\n",
      "25    d001,d005,d006,d008,d009,d010,d013,d015,d020,d...\n",
      "26    d003,d007,d010,d012,d013,d015,d017,d019,d020,d...\n",
      "27    d035,d062,d116,d117,d120,d141,d169,d209,d231,d...\n",
      "28    d001,d003,d008,d009,d010,d011,d013,d015,d022,d...\n",
      "29    d006,d012,d017,d021,d022,d025,d031,d035,d039,d...\n",
      "30    d004,d007,d012,d014,d017,d023,d027,d036,d039,d...\n",
      "31    d001,d006,d007,d008,d010,d011,d014,d018,d020,d...\n",
      "32    d003,d016,d029,d042,d046,d048,d055,d059,d060,d...\n",
      "33    d003,d010,d015,d016,d026,d029,d034,d038,d039,d...\n",
      "34    d002,d003,d004,d005,d006,d009,d010,d011,d012,d...\n",
      "Name: filtered, dtype: object\n"
     ]
    }
   ],
   "source": [
    "q_or=queries.filtered.apply(BSII_OR)\n",
    "print(q_or)"
   ]
  },
  {
   "cell_type": "code",
   "execution_count": 22,
   "id": "f49a409a-645e-4d48-b709-d39e8606ae12",
   "metadata": {},
   "outputs": [],
   "source": [
    "with open(bsii_or_path, \"w\") as f:\n",
    "    for i in range(len(q_or)):\n",
    "        f.write(f'q{i+1:02} {q_or[i]}\\n')\n",
    "    f.close()"
   ]
  },
  {
   "cell_type": "code",
   "execution_count": 23,
   "id": "7b2ebd6a",
   "metadata": {},
   "outputs": [
    {
     "name": "stdout",
     "output_type": "stream",
     "text": [
      "0     d001,d002,d003,d005,d007,d009,d010,d011,d012,d...\n",
      "1     d006,d008,d009,d011,d012,d013,d015,d016,d025,d...\n",
      "2     d001,d002,d003,d004,d005,d006,d007,d008,d009,d...\n",
      "3     d002,d011,d016,d017,d025,d026,d033,d034,d035,d...\n",
      "4     d001,d002,d005,d006,d007,d008,d009,d010,d011,d...\n",
      "5     d001,d002,d003,d005,d006,d007,d008,d009,d010,d...\n",
      "6     d004,d010,d011,d014,d016,d018,d025,d027,d031,d...\n",
      "7     d001,d002,d003,d004,d005,d006,d007,d009,d011,d...\n",
      "8     d002,d004,d005,d006,d007,d008,d011,d013,d019,d...\n",
      "9     d001,d002,d004,d005,d006,d007,d008,d009,d013,d...\n",
      "10    d005,d006,d008,d009,d010,d011,d025,d027,d030,d...\n",
      "11    d001,d003,d004,d006,d007,d009,d011,d012,d013,d...\n",
      "12    d001,d002,d003,d004,d005,d006,d007,d008,d009,d...\n",
      "13    d001,d002,d004,d005,d006,d007,d008,d009,d010,d...\n",
      "14    d001,d003,d004,d005,d006,d007,d008,d009,d010,d...\n",
      "15    d002,d003,d005,d006,d007,d008,d010,d011,d012,d...\n",
      "16    d001,d002,d005,d006,d008,d009,d012,d013,d014,d...\n",
      "17    d006,d008,d009,d010,d011,d012,d015,d016,d022,d...\n",
      "18    d001,d003,d004,d005,d006,d007,d008,d009,d010,d...\n",
      "19    d001,d002,d003,d004,d005,d006,d007,d008,d009,d...\n",
      "20    d001,d004,d006,d008,d009,d010,d011,d013,d016,d...\n",
      "21    d001,d003,d004,d006,d007,d008,d009,d010,d011,d...\n",
      "22    d004,d005,d006,d007,d017,d020,d025,d028,d030,d...\n",
      "23    d002,d003,d004,d005,d006,d007,d009,d010,d011,d...\n",
      "24    d001,d002,d003,d004,d005,d007,d008,d009,d010,d...\n",
      "25    d002,d003,d004,d007,d011,d012,d014,d016,d017,d...\n",
      "26    d001,d002,d004,d005,d006,d008,d009,d011,d014,d...\n",
      "27    d001,d002,d003,d004,d005,d006,d007,d008,d009,d...\n",
      "28    d002,d004,d005,d006,d007,d012,d014,d016,d017,d...\n",
      "29    d001,d002,d003,d004,d005,d007,d008,d009,d010,d...\n",
      "30    d001,d002,d003,d005,d006,d008,d009,d010,d011,d...\n",
      "31    d002,d003,d004,d005,d009,d012,d013,d015,d016,d...\n",
      "32    d001,d002,d004,d005,d006,d007,d008,d009,d010,d...\n",
      "33    d001,d002,d004,d005,d006,d007,d008,d009,d011,d...\n",
      "34    d001,d007,d008,d016,d035,d042,d043,d059,d067,d...\n",
      "Name: filtered, dtype: object\n"
     ]
    }
   ],
   "source": [
    "q_not=queries.filtered.apply(BSII_NOT)\n",
    "print(q_not)"
   ]
  },
  {
   "cell_type": "code",
   "execution_count": 24,
   "id": "98426736",
   "metadata": {},
   "outputs": [],
   "source": [
    "f = open(\"salida/BSII-NOT-queries_results.txt\", \"w\")\n",
    "for i in range(len(q_not)):\n",
    "    f.write(f'q{i+1:02} {q_not[i]}\\n')\n",
    "f.close() "
   ]
  }
 ],
 "metadata": {
  "kernelspec": {
   "display_name": "Python 3 (ipykernel)",
   "language": "python",
   "name": "python3"
  },
  "language_info": {
   "codemirror_mode": {
    "name": "ipython",
    "version": 3
   },
   "file_extension": ".py",
   "mimetype": "text/x-python",
   "name": "python",
   "nbconvert_exporter": "python",
   "pygments_lexer": "ipython3",
   "version": "3.10.5"
  },
  "vscode": {
   "interpreter": {
    "hash": "ad2bdc8ecc057115af97d19610ffacc2b4e99fae6737bb82f5d7fb13d2f2c186"
   }
  }
 },
 "nbformat": 4,
 "nbformat_minor": 5
}
