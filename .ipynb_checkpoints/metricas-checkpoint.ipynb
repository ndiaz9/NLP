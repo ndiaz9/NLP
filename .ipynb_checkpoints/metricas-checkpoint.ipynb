{
 "cells": [
  {
   "cell_type": "markdown",
   "metadata": {},
   "source": [
    "### Importación de librerias"
   ]
  },
  {
   "cell_type": "code",
   "execution_count": 8,
   "metadata": {},
   "outputs": [],
   "source": [
    "import numpy as np"
   ]
  },
  {
   "cell_type": "markdown",
   "metadata": {},
   "source": [
    "## Precision"
   ]
  },
  {
   "cell_type": "code",
   "execution_count": 9,
   "metadata": {},
   "outputs": [],
   "source": [
    "def precision(relevance_query):\n",
    "    n = len(relevance_query)\n",
    "    x = 0\n",
    "    for item in relevance_query:\n",
    "        if(item == 1):\n",
    "            x += 1\n",
    "    return x/n"
   ]
  },
  {
   "cell_type": "markdown",
   "metadata": {},
   "source": [
    "## Precision at K"
   ]
  },
  {
   "cell_type": "code",
   "execution_count": 2,
   "metadata": {},
   "outputs": [],
   "source": [
    "\n",
    "def precision_at_k(relevance_query,k):\n",
    "    x = 0\n",
    "    if k > 0 and k <= len(relevance_query):\n",
    "        for i in range(0, k):\n",
    "            if(relevance_query[i] == 1):\n",
    "                x += 1\n",
    "        return x/k\n",
    "    else:\n",
    "        return None"
   ]
  },
  {
   "cell_type": "markdown",
   "metadata": {},
   "source": [
    "## Recall at K"
   ]
  },
  {
   "cell_type": "code",
   "execution_count": 4,
   "metadata": {},
   "outputs": [],
   "source": [
    "def recall_at_k(relevance_query: list, k: int) -> float:\n",
    "    len_relevance_query = len(relevance_query)\n",
    "    if k > 0 and k <= len_relevance_query:\n",
    "        return sum(relevance_query[:k]) / len_relevance_query\n",
    "    else:\n",
    "        return None"
   ]
  },
  {
   "cell_type": "markdown",
   "metadata": {},
   "source": [
    "## Average Precision"
   ]
  },
  {
   "cell_type": "code",
   "execution_count": 12,
   "metadata": {},
   "outputs": [],
   "source": [
    "def average_precision(relevance_query):\n",
    "    relevant_docs = np.sum(relevance_query)\n",
    "    last_recall = 0\n",
    "    precisions = np.array([])\n",
    "    for i in range(1,relevance_query.shape[0]+1):\n",
    "        recall = recall_at_k(relevance_query,relevant_docs,i)\n",
    "        if recall > last_recall:\n",
    "            last_recall = recall \n",
    "            precisions= np.append(precisions,precision_at_k(relevance_query,i))\n",
    "    return np.average(precisions)"
   ]
  },
  {
   "cell_type": "markdown",
   "metadata": {},
   "source": [
    "## Mean average precision MAP"
   ]
  },
  {
   "cell_type": "code",
   "execution_count": 14,
   "metadata": {},
   "outputs": [],
   "source": [
    "def mean_average_precision(list_vectors):\n",
    "    average_precisions = np.apply_along_axis(average_precision, 1, list_vectors)\n",
    "    return np.average(average_precisions)"
   ]
  },
  {
   "cell_type": "markdown",
   "metadata": {},
   "source": [
    "## GCG at K"
   ]
  },
  {
   "cell_type": "code",
   "execution_count": 15,
   "metadata": {},
   "outputs": [],
   "source": [
    "def dcg_at_k(rel, k):\n",
    "    import math\n",
    "    result = 0\n",
    "    for i in range(k):\n",
    "        discount_factor = 1/math.log(max([i+1, 2]), 2)\n",
    "        gain = + (rel[i]*discount_factor)\n",
    "        result = result + gain \n",
    "    return result"
   ]
  },
  {
   "cell_type": "markdown",
   "metadata": {},
   "source": [
    "## NDCG at K"
   ]
  },
  {
   "cell_type": "code",
   "execution_count": 16,
   "metadata": {},
   "outputs": [],
   "source": [
    "def ndcg_at_k(rel, k):\n",
    "    DCG = dcg_at_k(rel, k)\n",
    "    IDCG = dcg_at_k(sorted(rel, reverse=True), k)\n",
    "    result = DCG/IDCG\n",
    "    return result\n"
   ]
  },
  {
   "cell_type": "code",
   "execution_count": null,
   "metadata": {},
   "outputs": [],
   "source": []
  }
 ],
 "metadata": {
  "kernelspec": {
   "display_name": "Python 3 (ipykernel)",
   "language": "python",
   "name": "python3"
  },
  "language_info": {
   "codemirror_mode": {
    "name": "ipython",
    "version": 3
   },
   "file_extension": ".py",
   "mimetype": "text/x-python",
   "name": "python",
   "nbconvert_exporter": "python",
   "pygments_lexer": "ipython3",
   "version": "3.10.5"
  },
  "vscode": {
   "interpreter": {
    "hash": "c7a79e9e75522a046d95171e373010a5dca4ce6e8605d007854b2218f1d88052"
   }
  }
 },
 "nbformat": 4,
 "nbformat_minor": 4
}
