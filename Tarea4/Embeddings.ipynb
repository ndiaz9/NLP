{
 "cells": [
  {
   "cell_type": "markdown",
   "metadata": {},
   "source": [
    "## Words Embeddings using GENSIM and word2vec"
   ]
  },
  {
   "cell_type": "code",
   "execution_count": 147,
   "metadata": {},
   "outputs": [],
   "source": [
    "import re\n",
    "import spacy\n",
    "import gensim\n",
    "import logging\n",
    "import pandas as pd\n",
    "import numpy as np\n",
    "logging.basicConfig(format='%(asctime)s : %(levelname)s : %(message)s', level=logging.INFO)"
   ]
  },
  {
   "cell_type": "code",
   "execution_count": 99,
   "metadata": {},
   "outputs": [
    {
     "name": "stdout",
     "output_type": "stream",
     "text": [
      "(126646, 2)\n"
     ]
    },
    {
     "data": {
      "text/html": [
       "<div>\n",
       "<style scoped>\n",
       "    .dataframe tbody tr th:only-of-type {\n",
       "        vertical-align: middle;\n",
       "    }\n",
       "\n",
       "    .dataframe tbody tr th {\n",
       "        vertical-align: top;\n",
       "    }\n",
       "\n",
       "    .dataframe thead th {\n",
       "        text-align: right;\n",
       "    }\n",
       "</style>\n",
       "<table border=\"1\" class=\"dataframe\">\n",
       "  <thead>\n",
       "    <tr style=\"text-align: right;\">\n",
       "      <th></th>\n",
       "      <th>raw_character_text</th>\n",
       "      <th>spoken_words</th>\n",
       "    </tr>\n",
       "  </thead>\n",
       "  <tbody>\n",
       "    <tr>\n",
       "      <th>0</th>\n",
       "      <td>Miss Hoover</td>\n",
       "      <td>No, actually, it was a little of both. Sometim...</td>\n",
       "    </tr>\n",
       "    <tr>\n",
       "      <th>1</th>\n",
       "      <td>Lisa Simpson</td>\n",
       "      <td>Where's Mr. Bergstrom?</td>\n",
       "    </tr>\n",
       "    <tr>\n",
       "      <th>2</th>\n",
       "      <td>Miss Hoover</td>\n",
       "      <td>I don't know. Although I'd sure like to talk t...</td>\n",
       "    </tr>\n",
       "    <tr>\n",
       "      <th>3</th>\n",
       "      <td>Lisa Simpson</td>\n",
       "      <td>That life is worth living.</td>\n",
       "    </tr>\n",
       "    <tr>\n",
       "      <th>4</th>\n",
       "      <td>Edna Krabappel-Flanders</td>\n",
       "      <td>The polls will be open from now until the end ...</td>\n",
       "    </tr>\n",
       "  </tbody>\n",
       "</table>\n",
       "</div>"
      ],
      "text/plain": [
       "        raw_character_text                                       spoken_words\n",
       "0              Miss Hoover  No, actually, it was a little of both. Sometim...\n",
       "1             Lisa Simpson                             Where's Mr. Bergstrom?\n",
       "2              Miss Hoover  I don't know. Although I'd sure like to talk t...\n",
       "3             Lisa Simpson                         That life is worth living.\n",
       "4  Edna Krabappel-Flanders  The polls will be open from now until the end ..."
      ]
     },
     "execution_count": 99,
     "metadata": {},
     "output_type": "execute_result"
    }
   ],
   "source": [
    "documents = pd.read_csv('./datos/simpsons_dataset.csv')\n",
    "documents = documents.dropna()\n",
    "documents = documents.reset_index(drop=True)\n",
    "documents = documents.drop_duplicates()\n",
    "print(documents.shape)\n",
    "documents.head()"
   ]
  },
  {
   "cell_type": "code",
   "execution_count": null,
   "metadata": {},
   "outputs": [
    {
     "data": {
      "text/plain": [
       "(85955, 1)"
      ]
     },
     "execution_count": 105,
     "metadata": {},
     "output_type": "execute_result"
    }
   ],
   "source": [
    "nlp = spacy.load('en_core_web_sm', disable=['ner', 'parser'])\n",
    "def cleaning(doc):\n",
    "    txt = [token.lemma_ for token in doc if not token.is_stop]\n",
    "    if len(txt) > 2:\n",
    "        return ' '.join(txt)\n",
    "brief_cleaning = (re.sub(\"[^A-Za-z']+\", ' ', str(row)).lower() for row in documents.spoken_words)\n",
    "txt = [cleaning(doc) for doc in nlp.pipe(brief_cleaning, batch_size=5000)]\n",
    "df_clean = pd.DataFrame({'clean': txt})\n",
    "df_clean = df_clean.dropna().drop_duplicates()\n",
    "df_clean.shape"
   ]
  },
  {
   "cell_type": "code",
   "execution_count": 111,
   "metadata": {},
   "outputs": [
    {
     "name": "stderr",
     "output_type": "stream",
     "text": [
      "2022-07-10 16:33:41,140 : INFO : collecting all words and their counts\n",
      "2022-07-10 16:33:41,140 : INFO : PROGRESS: at sentence #0, processed 0 words and 0 word types\n",
      "2022-07-10 16:33:41,255 : INFO : PROGRESS: at sentence #10000, processed 63557 words and 52687 word types\n",
      "2022-07-10 16:33:41,385 : INFO : PROGRESS: at sentence #20000, processed 130936 words and 99557 word types\n",
      "2022-07-10 16:33:41,513 : INFO : PROGRESS: at sentence #30000, processed 192963 words and 138094 word types\n",
      "2022-07-10 16:33:41,647 : INFO : PROGRESS: at sentence #40000, processed 249832 words and 172088 word types\n",
      "2022-07-10 16:33:41,787 : INFO : PROGRESS: at sentence #50000, processed 311270 words and 207883 word types\n",
      "2022-07-10 16:33:41,903 : INFO : PROGRESS: at sentence #60000, processed 373576 words and 242881 word types\n",
      "2022-07-10 16:33:42,031 : INFO : PROGRESS: at sentence #70000, processed 436425 words and 277780 word types\n",
      "2022-07-10 16:33:42,171 : INFO : PROGRESS: at sentence #80000, processed 497889 words and 310841 word types\n",
      "2022-07-10 16:33:42,233 : INFO : collected 329545 token types (unigram + bigrams) from a corpus of 537097 words and 85955 sentences\n",
      "2022-07-10 16:33:42,233 : INFO : merged Phrases<329545 vocab, min_count=30, threshold=10.0, max_vocab_size=40000000>\n",
      "2022-07-10 16:33:42,233 : INFO : Phrases lifecycle event {'msg': 'built Phrases<329545 vocab, min_count=30, threshold=10.0, max_vocab_size=40000000> in 1.09s', 'datetime': '2022-07-10T16:33:42.233868', 'gensim': '4.2.0', 'python': '3.10.5 (tags/v3.10.5:f377153, Jun  6 2022, 16:14:13) [MSC v.1929 64 bit (AMD64)]', 'platform': 'Windows-10-10.0.22000-SP0', 'event': 'created'}\n",
      "2022-07-10 16:33:42,263 : INFO : exporting phrases from Phrases<329545 vocab, min_count=30, threshold=10.0, max_vocab_size=40000000>\n",
      "2022-07-10 16:33:43,119 : INFO : FrozenPhrases lifecycle event {'msg': 'exported FrozenPhrases<125 phrases, min_count=30, threshold=10.0> from Phrases<329545 vocab, min_count=30, threshold=10.0, max_vocab_size=40000000> in 0.85s', 'datetime': '2022-07-10T16:33:43.119969', 'gensim': '4.2.0', 'python': '3.10.5 (tags/v3.10.5:f377153, Jun  6 2022, 16:14:13) [MSC v.1929 64 bit (AMD64)]', 'platform': 'Windows-10-10.0.22000-SP0', 'event': 'created'}\n"
     ]
    },
    {
     "data": {
      "text/plain": [
       "29643"
      ]
     },
     "execution_count": 111,
     "metadata": {},
     "output_type": "execute_result"
    }
   ],
   "source": [
    "from gensim.models.phrases import Phrases, Phraser\n",
    "from collections import defaultdict\n",
    "sent = [row.split() for row in df_clean['clean']]\n",
    "phrases = Phrases(sent, min_count=30, progress_per=10000)\n",
    "bigram = Phraser(phrases)\n",
    "sentences = bigram[sent]\n",
    "word_freq = defaultdict(int)\n",
    "for sent in sentences:\n",
    "    for i in sent:\n",
    "        word_freq[i] += 1\n",
    "len(word_freq)"
   ]
  },
  {
   "cell_type": "code",
   "execution_count": 117,
   "metadata": {},
   "outputs": [
    {
     "name": "stderr",
     "output_type": "stream",
     "text": [
      "2022-07-10 16:36:37,964 : INFO : Word2Vec lifecycle event {'params': 'Word2Vec<vocab=0, vector_size=300, alpha=0.03>', 'datetime': '2022-07-10T16:36:37.964211', 'gensim': '4.2.0', 'python': '3.10.5 (tags/v3.10.5:f377153, Jun  6 2022, 16:14:13) [MSC v.1929 64 bit (AMD64)]', 'platform': 'Windows-10-10.0.22000-SP0', 'event': 'created'}\n",
      "2022-07-10 16:36:37,967 : INFO : collecting all words and their counts\n",
      "2022-07-10 16:36:37,969 : INFO : PROGRESS: at sentence #0, processed 0 words, keeping 0 word types\n",
      "2022-07-10 16:36:38,090 : INFO : PROGRESS: at sentence #10000, processed 61712 words, keeping 9500 word types\n",
      "2022-07-10 16:36:38,205 : INFO : PROGRESS: at sentence #20000, processed 127347 words, keeping 14369 word types\n",
      "2022-07-10 16:36:38,314 : INFO : PROGRESS: at sentence #30000, processed 187813 words, keeping 17427 word types\n",
      "2022-07-10 16:36:38,412 : INFO : PROGRESS: at sentence #40000, processed 243323 words, keeping 20120 word types\n",
      "2022-07-10 16:36:38,514 : INFO : PROGRESS: at sentence #50000, processed 303187 words, keeping 22550 word types\n",
      "2022-07-10 16:36:38,612 : INFO : PROGRESS: at sentence #60000, processed 363926 words, keeping 24793 word types\n",
      "2022-07-10 16:36:38,709 : INFO : PROGRESS: at sentence #70000, processed 425391 words, keeping 26959 word types\n",
      "2022-07-10 16:36:38,812 : INFO : PROGRESS: at sentence #80000, processed 485525 words, keeping 28775 word types\n",
      "2022-07-10 16:36:38,879 : INFO : collected 29643 word types from a corpus of 523642 raw words and 85955 sentences\n",
      "2022-07-10 16:36:38,879 : INFO : Creating a fresh vocabulary\n",
      "2022-07-10 16:36:38,929 : INFO : Word2Vec lifecycle event {'msg': 'effective_min_count=20 retains 3317 unique words (11.19% of original 29643, drops 26326)', 'datetime': '2022-07-10T16:36:38.929650', 'gensim': '4.2.0', 'python': '3.10.5 (tags/v3.10.5:f377153, Jun  6 2022, 16:14:13) [MSC v.1929 64 bit (AMD64)]', 'platform': 'Windows-10-10.0.22000-SP0', 'event': 'prepare_vocab'}\n",
      "2022-07-10 16:36:38,929 : INFO : Word2Vec lifecycle event {'msg': 'effective_min_count=20 leaves 438113 word corpus (83.67% of original 523642, drops 85529)', 'datetime': '2022-07-10T16:36:38.929650', 'gensim': '4.2.0', 'python': '3.10.5 (tags/v3.10.5:f377153, Jun  6 2022, 16:14:13) [MSC v.1929 64 bit (AMD64)]', 'platform': 'Windows-10-10.0.22000-SP0', 'event': 'prepare_vocab'}\n",
      "2022-07-10 16:36:38,985 : INFO : deleting the raw counts dictionary of 29643 items\n",
      "2022-07-10 16:36:38,985 : INFO : sample=6e-05 downsamples 1203 most-common words\n",
      "2022-07-10 16:36:38,987 : INFO : Word2Vec lifecycle event {'msg': 'downsampling leaves estimated 199319.00280131726 word corpus (45.5%% of prior 438113)', 'datetime': '2022-07-10T16:36:38.987928', 'gensim': '4.2.0', 'python': '3.10.5 (tags/v3.10.5:f377153, Jun  6 2022, 16:14:13) [MSC v.1929 64 bit (AMD64)]', 'platform': 'Windows-10-10.0.22000-SP0', 'event': 'prepare_vocab'}\n",
      "2022-07-10 16:36:39,056 : INFO : estimated required memory for 3317 words and 300 dimensions: 9619300 bytes\n",
      "2022-07-10 16:36:39,056 : INFO : resetting layer weights\n",
      "2022-07-10 16:36:39,065 : INFO : Word2Vec lifecycle event {'update': False, 'trim_rule': 'None', 'datetime': '2022-07-10T16:36:39.065397', 'gensim': '4.2.0', 'python': '3.10.5 (tags/v3.10.5:f377153, Jun  6 2022, 16:14:13) [MSC v.1929 64 bit (AMD64)]', 'platform': 'Windows-10-10.0.22000-SP0', 'event': 'build_vocab'}\n",
      "2022-07-10 16:36:39,065 : INFO : Word2Vec lifecycle event {'msg': 'training model with 7 workers on 3317 vocabulary and 300 features, using sg=0 hs=0 sample=6e-05 negative=20 window=2 shrink_windows=True', 'datetime': '2022-07-10T16:36:39.065397', 'gensim': '4.2.0', 'python': '3.10.5 (tags/v3.10.5:f377153, Jun  6 2022, 16:14:13) [MSC v.1929 64 bit (AMD64)]', 'platform': 'Windows-10-10.0.22000-SP0', 'event': 'train'}\n",
      "2022-07-10 16:36:40,107 : INFO : EPOCH 0 - PROGRESS: at 20.39% examples, 40573 words/s, in_qsize 9, out_qsize 5\n",
      "2022-07-10 16:36:41,090 : INFO : EPOCH 0: training on 523642 raw words (199180 effective words) took 2.0s, 99205 effective words/s\n",
      "2022-07-10 16:36:42,888 : INFO : EPOCH 1 - PROGRESS: at 27.49% examples, 31944 words/s, in_qsize 6, out_qsize 0\n",
      "2022-07-10 16:36:43,872 : INFO : EPOCH 1: training on 523642 raw words (199253 effective words) took 2.8s, 72055 effective words/s\n",
      "2022-07-10 16:36:44,995 : INFO : EPOCH 2 - PROGRESS: at 43.61% examples, 79047 words/s, in_qsize 13, out_qsize 5\n",
      "2022-07-10 16:36:45,395 : INFO : EPOCH 2: training on 523642 raw words (198874 effective words) took 1.5s, 132191 effective words/s\n",
      "2022-07-10 16:36:46,437 : INFO : EPOCH 3 - PROGRESS: at 49.84% examples, 96787 words/s, in_qsize 14, out_qsize 0\n",
      "2022-07-10 16:36:46,879 : INFO : EPOCH 3: training on 523642 raw words (199388 effective words) took 1.5s, 136499 effective words/s\n",
      "2022-07-10 16:36:48,028 : INFO : EPOCH 4 - PROGRESS: at 49.86% examples, 86547 words/s, in_qsize 13, out_qsize 0\n",
      "2022-07-10 16:36:48,413 : INFO : EPOCH 4: training on 523642 raw words (199391 effective words) took 1.5s, 131456 effective words/s\n",
      "2022-07-10 16:36:49,463 : INFO : EPOCH 5 - PROGRESS: at 39.56% examples, 77570 words/s, in_qsize 9, out_qsize 5\n",
      "2022-07-10 16:36:50,144 : INFO : EPOCH 5: training on 523642 raw words (199710 effective words) took 1.7s, 116849 effective words/s\n",
      "2022-07-10 16:36:51,305 : INFO : EPOCH 6 - PROGRESS: at 35.35% examples, 63097 words/s, in_qsize 14, out_qsize 0\n",
      "2022-07-10 16:36:52,013 : INFO : EPOCH 6: training on 523642 raw words (198902 effective words) took 1.8s, 107781 effective words/s\n",
      "2022-07-10 16:36:53,752 : INFO : EPOCH 7 - PROGRESS: at 7.41% examples, 8765 words/s, in_qsize 14, out_qsize 0\n",
      "2022-07-10 16:36:54,817 : INFO : EPOCH 7 - PROGRESS: at 57.55% examples, 41145 words/s, in_qsize 9, out_qsize 0\n",
      "2022-07-10 16:36:55,346 : INFO : EPOCH 7: training on 523642 raw words (199610 effective words) took 3.3s, 60122 effective words/s\n",
      "2022-07-10 16:36:56,397 : INFO : EPOCH 8 - PROGRESS: at 20.13% examples, 41668 words/s, in_qsize 10, out_qsize 0\n",
      "2022-07-10 16:36:57,419 : INFO : EPOCH 8 - PROGRESS: at 65.20% examples, 63594 words/s, in_qsize 14, out_qsize 0\n",
      "2022-07-10 16:36:57,628 : INFO : EPOCH 8: training on 523642 raw words (199441 effective words) took 2.2s, 88924 effective words/s\n",
      "2022-07-10 16:36:58,695 : INFO : EPOCH 9 - PROGRESS: at 31.40% examples, 62057 words/s, in_qsize 14, out_qsize 0\n",
      "2022-07-10 16:36:59,546 : INFO : EPOCH 9: training on 523642 raw words (199478 effective words) took 1.9s, 105330 effective words/s\n",
      "2022-07-10 16:37:00,590 : INFO : EPOCH 10 - PROGRESS: at 37.41% examples, 74751 words/s, in_qsize 0, out_qsize 0\n",
      "2022-07-10 16:37:01,648 : INFO : EPOCH 10 - PROGRESS: at 70.97% examples, 67803 words/s, in_qsize 13, out_qsize 0\n",
      "2022-07-10 16:37:01,813 : INFO : EPOCH 10: training on 523642 raw words (199364 effective words) took 2.2s, 88829 effective words/s\n",
      "2022-07-10 16:37:02,848 : INFO : EPOCH 11 - PROGRESS: at 43.69% examples, 85330 words/s, in_qsize 1, out_qsize 1\n",
      "2022-07-10 16:37:03,809 : INFO : EPOCH 11: training on 523642 raw words (198897 effective words) took 2.0s, 100396 effective words/s\n",
      "2022-07-10 16:37:04,896 : INFO : EPOCH 12 - PROGRESS: at 37.41% examples, 69804 words/s, in_qsize 13, out_qsize 0\n",
      "2022-07-10 16:37:05,513 : INFO : EPOCH 12: training on 523642 raw words (198992 effective words) took 1.7s, 117815 effective words/s\n",
      "2022-07-10 16:37:06,893 : INFO : EPOCH 13 - PROGRESS: at 5.44% examples, 8168 words/s, in_qsize 13, out_qsize 0\n",
      "2022-07-10 16:37:07,947 : INFO : EPOCH 13 - PROGRESS: at 70.97% examples, 57948 words/s, in_qsize 13, out_qsize 0\n",
      "2022-07-10 16:37:08,112 : INFO : EPOCH 13: training on 523642 raw words (198907 effective words) took 2.6s, 76448 effective words/s\n",
      "2022-07-10 16:37:09,171 : INFO : EPOCH 14 - PROGRESS: at 29.46% examples, 58930 words/s, in_qsize 12, out_qsize 3\n",
      "2022-07-10 16:37:09,911 : INFO : EPOCH 14: training on 523642 raw words (199844 effective words) took 1.8s, 112544 effective words/s\n",
      "2022-07-10 16:37:10,980 : INFO : EPOCH 15 - PROGRESS: at 29.47% examples, 58356 words/s, in_qsize 13, out_qsize 1\n",
      "2022-07-10 16:37:11,689 : INFO : EPOCH 15: training on 523642 raw words (199212 effective words) took 1.7s, 114081 effective words/s\n",
      "2022-07-10 16:37:12,708 : INFO : EPOCH 16 - PROGRESS: at 25.79% examples, 52753 words/s, in_qsize 11, out_qsize 3\n",
      "2022-07-10 16:37:13,649 : INFO : EPOCH 16: training on 523642 raw words (199606 effective words) took 1.9s, 102530 effective words/s\n",
      "2022-07-10 16:37:14,760 : INFO : EPOCH 17 - PROGRESS: at 53.71% examples, 96376 words/s, in_qsize 14, out_qsize 0\n",
      "2022-07-10 16:37:15,114 : INFO : EPOCH 17: training on 523642 raw words (199451 effective words) took 1.5s, 136958 effective words/s\n",
      "2022-07-10 16:37:16,157 : INFO : EPOCH 18 - PROGRESS: at 37.41% examples, 74867 words/s, in_qsize 13, out_qsize 0\n",
      "2022-07-10 16:37:16,787 : INFO : EPOCH 18: training on 523642 raw words (199401 effective words) took 1.6s, 121149 effective words/s\n",
      "2022-07-10 16:37:18,258 : INFO : EPOCH 19 - PROGRESS: at 23.76% examples, 33494 words/s, in_qsize 0, out_qsize 0\n",
      "2022-07-10 16:37:19,279 : INFO : EPOCH 19 - PROGRESS: at 72.89% examples, 58466 words/s, in_qsize 14, out_qsize 0\n",
      "2022-07-10 16:37:19,412 : INFO : EPOCH 19: training on 523642 raw words (199180 effective words) took 2.6s, 76135 effective words/s\n",
      "2022-07-10 16:37:20,444 : INFO : EPOCH 20 - PROGRESS: at 35.53% examples, 71679 words/s, in_qsize 14, out_qsize 0\n",
      "2022-07-10 16:37:21,188 : INFO : EPOCH 20: training on 523642 raw words (198921 effective words) took 1.7s, 113748 effective words/s\n",
      "2022-07-10 16:37:22,353 : INFO : EPOCH 21 - PROGRESS: at 35.35% examples, 62706 words/s, in_qsize 0, out_qsize 1\n",
      "2022-07-10 16:37:23,393 : INFO : EPOCH 21 - PROGRESS: at 70.97% examples, 64171 words/s, in_qsize 13, out_qsize 0\n",
      "2022-07-10 16:37:23,597 : INFO : EPOCH 21: training on 523642 raw words (199520 effective words) took 2.4s, 83301 effective words/s\n",
      "2022-07-10 16:37:24,694 : INFO : EPOCH 22 - PROGRESS: at 25.69% examples, 49220 words/s, in_qsize 12, out_qsize 2\n",
      "2022-07-10 16:37:25,696 : INFO : EPOCH 22 - PROGRESS: at 82.30% examples, 78668 words/s, in_qsize 9, out_qsize 1\n",
      "2022-07-10 16:37:25,808 : INFO : EPOCH 22: training on 523642 raw words (199261 effective words) took 2.2s, 90859 effective words/s\n",
      "2022-07-10 16:37:26,879 : INFO : EPOCH 23 - PROGRESS: at 29.43% examples, 57563 words/s, in_qsize 0, out_qsize 0\n",
      "2022-07-10 16:37:27,896 : INFO : EPOCH 23 - PROGRESS: at 55.62% examples, 53051 words/s, in_qsize 12, out_qsize 0\n",
      "2022-07-10 16:37:28,332 : INFO : EPOCH 23: training on 523642 raw words (199263 effective words) took 2.5s, 79407 effective words/s\n",
      "2022-07-10 16:37:29,411 : INFO : EPOCH 24 - PROGRESS: at 27.49% examples, 53272 words/s, in_qsize 14, out_qsize 0\n",
      "2022-07-10 16:37:30,414 : INFO : EPOCH 24 - PROGRESS: at 88.11% examples, 84825 words/s, in_qsize 5, out_qsize 4\n",
      "2022-07-10 16:37:30,476 : INFO : EPOCH 24: training on 523642 raw words (199457 effective words) took 2.1s, 93205 effective words/s\n",
      "2022-07-10 16:37:32,175 : INFO : EPOCH 25 - PROGRESS: at 20.23% examples, 25008 words/s, in_qsize 11, out_qsize 0\n",
      "2022-07-10 16:37:33,165 : INFO : EPOCH 25 - PROGRESS: at 88.13% examples, 65522 words/s, in_qsize 7, out_qsize 0\n",
      "2022-07-10 16:37:33,227 : INFO : EPOCH 25: training on 523642 raw words (199181 effective words) took 2.7s, 73014 effective words/s\n",
      "2022-07-10 16:37:34,244 : INFO : EPOCH 26 - PROGRESS: at 21.90% examples, 45282 words/s, in_qsize 12, out_qsize 1\n",
      "2022-07-10 16:37:35,246 : INFO : EPOCH 26 - PROGRESS: at 80.40% examples, 79829 words/s, in_qsize 11, out_qsize 0\n",
      "2022-07-10 16:37:35,353 : INFO : EPOCH 26: training on 523642 raw words (199299 effective words) took 2.1s, 94331 effective words/s\n",
      "2022-07-10 16:37:36,471 : INFO : EPOCH 27 - PROGRESS: at 31.40% examples, 58132 words/s, in_qsize 1, out_qsize 0\n",
      "2022-07-10 16:37:37,484 : INFO : EPOCH 27 - PROGRESS: at 70.97% examples, 66437 words/s, in_qsize 6, out_qsize 0\n",
      "2022-07-10 16:37:37,872 : INFO : EPOCH 27: training on 523642 raw words (199288 effective words) took 2.5s, 79587 effective words/s\n",
      "2022-07-10 16:37:38,892 : INFO : EPOCH 28 - PROGRESS: at 35.35% examples, 72034 words/s, in_qsize 0, out_qsize 1\n",
      "2022-07-10 16:37:39,932 : INFO : EPOCH 28 - PROGRESS: at 74.75% examples, 72794 words/s, in_qsize 13, out_qsize 1\n",
      "2022-07-10 16:37:40,070 : INFO : EPOCH 28: training on 523642 raw words (199430 effective words) took 2.2s, 91535 effective words/s\n",
      "2022-07-10 16:37:41,117 : INFO : EPOCH 29 - PROGRESS: at 35.35% examples, 69821 words/s, in_qsize 13, out_qsize 0\n",
      "2022-07-10 16:37:41,911 : INFO : EPOCH 29: training on 523642 raw words (199387 effective words) took 1.8s, 108901 effective words/s\n",
      "2022-07-10 16:37:41,911 : INFO : Word2Vec lifecycle event {'msg': 'training on 15709260 raw words (5979088 effective words) took 62.8s, 95137 effective words/s', 'datetime': '2022-07-10T16:37:41.911826', 'gensim': '4.2.0', 'python': '3.10.5 (tags/v3.10.5:f377153, Jun  6 2022, 16:14:13) [MSC v.1929 64 bit (AMD64)]', 'platform': 'Windows-10-10.0.22000-SP0', 'event': 'train'}\n"
     ]
    },
    {
     "data": {
      "text/plain": [
       "(5979088, 15709260)"
      ]
     },
     "execution_count": 117,
     "metadata": {},
     "output_type": "execute_result"
    }
   ],
   "source": [
    "w2v_model = gensim.models.Word2Vec(min_count=20,\n",
    "                     window=2,\n",
    "                     vector_size=300,\n",
    "                     sample=6e-5, \n",
    "                     alpha=0.03, \n",
    "                     min_alpha=0.0007, \n",
    "                     negative=20,\n",
    "                     workers=cores-1)\n",
    "w2v_model.build_vocab(sentences, progress_per=10000)\n",
    "w2v_model.train(sentences, total_examples=w2v_model.corpus_count, epochs=30, report_delay=1)"
   ]
  },
  {
   "cell_type": "code",
   "execution_count": 144,
   "metadata": {},
   "outputs": [
    {
     "data": {
      "text/plain": [
       "[('admire', 0.5751004815101624),\n",
       " ('man', 0.5692721605300903),\n",
       " ('married', 0.5508677363395691)]"
      ]
     },
     "execution_count": 144,
     "metadata": {},
     "output_type": "execute_result"
    }
   ],
   "source": [
    "w2v_model.wv.most_similar(positive=[\"homer_simpson\"])\n",
    "w2v_model.wv.most_similar(positive=[\"marge\"])\n",
    "w2v_model.wv.similarity(\"moe\", 'tavern')\n",
    "w2v_model.wv.similarity(\"homer_simpson\", 'marge')\n",
    "w2v_model.wv.similarity('maggie', 'baby')\n",
    "w2v_model.wv.similarity('bart', 'nelson')\n",
    "w2v_model.wv.doesnt_match(['jimbo', 'milhouse', 'nelson', 'bart', 'marge', 'homer'])\n",
    "w2v_model.wv.most_similar(positive=[\"woman\", \"homer\"], negative=[\"marge\"], topn=3)"
   ]
  },
  {
   "cell_type": "code",
   "execution_count": 187,
   "metadata": {},
   "outputs": [],
   "source": [
    "import numpy as np\n",
    "import matplotlib.pyplot as plt\n",
    "%matplotlib inline\n",
    " \n",
    "import seaborn as sns\n",
    "sns.set_style(\"darkgrid\")\n",
    "\n",
    "from sklearn.decomposition import PCA\n",
    "from sklearn.manifold import TSNE\n",
    "\n",
    "def tsnescatterplot(model, word, list_names):\n",
    "    \"\"\" \n",
    "    Plot in seaborn the results from the t-SNE dimensionality reduction algorithm of the vectors of a query word,\n",
    "    its list of most similar words, and a list of words.\n",
    "    \"\"\"\n",
    "    arrays = np.empty((0, 300), dtype='f')\n",
    "    word_labels = [word]\n",
    "    color_list  = ['red']\n",
    "\n",
    "    # adds the vector of the query word\n",
    "    arrays = np.append(arrays, model.wv.__getitem__([word]), axis=0)\n",
    "\n",
    "    # gets list of most similar words\n",
    "    close_words = model.wv.most_similar([word])\n",
    "\n",
    "    # adds the vector for each of the closest words to the array\n",
    "    for wrd_score in close_words:\n",
    "        wrd_vector = model.wv.__getitem__([wrd_score[0]])\n",
    "        word_labels.append(wrd_score[0])\n",
    "        color_list.append('blue')\n",
    "        arrays = np.append(arrays, wrd_vector, axis=0)\n",
    "\n",
    "    # adds the vector for each of the words from list_names to the array\n",
    "    for wrd in list_names:\n",
    "        wrd_vector = model.wv.__getitem__([wrd])\n",
    "        word_labels.append(wrd)\n",
    "        color_list.append('green')\n",
    "        arrays = np.append(arrays, wrd_vector, axis=0)\n",
    "\n",
    "    # Reduces the dimensionality from 300 to 15 dimensions with PCA\n",
    "    reduc = PCA(n_components=15).fit_transform(arrays)\n",
    "\n",
    "    # Finds t-SNE coordinates for 2 dimensions\n",
    "    np.set_printoptions(suppress=True)\n",
    "    Y = TSNE(n_components=2, random_state=0, perplexity=15).fit_transform(reduc)\n",
    "\n",
    "    # Sets everything up to plot\n",
    "    df = pd.DataFrame({'x': [x for x in Y[:, 0]], 'y': [y for y in Y[:, 1]], 'words': word_labels, \n",
    "                       'color': color_list})\n",
    "    fig, _ = plt.subplots()\n",
    "    fig.set_size_inches(9, 9)\n",
    "\n",
    "    # Basic plot\n",
    "    p1 = sns.regplot(data=df, x = \"x\", y = \"y\", fit_reg = False, marker = \"o\", \n",
    "                     scatter_kws = {'s': 40, 'facecolors': df['color']})\n",
    "\n",
    "    # Adds annotations one by one with a loop\n",
    "    for line in range(0, df.shape[0]):\n",
    "        xlabel = df[\"x\"][line]\n",
    "        ylabel = df['y'][line]\n",
    "        title = df[\"words\"][line].title()\n",
    "        color = df['color'][line]\n",
    "        p1.text(xlabel, ylabel, title, horizontalalignment='left', verticalalignment='bottom', \n",
    "                size='medium', color=color, weight='normal')\n",
    "\n",
    "    plt.xlim(Y[:, 0].min()-50, Y[:, 0].max()+50)\n",
    "    plt.ylim(Y[:, 1].min()-50, Y[:, 1].max()+50)\n",
    "    plt.title('t-SNE visualization for {}'.format(word.title()))"
   ]
  },
  {
   "cell_type": "code",
   "execution_count": 191,
   "metadata": {},
   "outputs": [
    {
     "name": "stderr",
     "output_type": "stream",
     "text": [
      "C:\\Users\\Usuario\\AppData\\Local\\Programs\\Python\\Python310\\lib\\site-packages\\sklearn\\manifold\\_t_sne.py:795: FutureWarning: The default initialization in TSNE will change from 'random' to 'pca' in 1.2.\n",
      "  warnings.warn(\n",
      "C:\\Users\\Usuario\\AppData\\Local\\Programs\\Python\\Python310\\lib\\site-packages\\sklearn\\manifold\\_t_sne.py:805: FutureWarning: The default learning rate in TSNE will change from 200.0 to 'auto' in 1.2.\n",
      "  warnings.warn(\n"
     ]
    },
    {
     "data": {
      "image/png": "[encoded data removed]",
      "text/plain": [
       "<Figure size 648x648 with 1 Axes>"
      ]
     },
     "metadata": {},
     "output_type": "display_data"
    }
   ],
   "source": [
    "tsnescatterplot(w2v_model, 'homer', ['dog', 'bird', 'ah', 'maude', 'bob', 'mel', 'apu', 'duff'])"
   ]
  },
  {
   "cell_type": "code",
   "execution_count": 106,
   "metadata": {},
   "outputs": [],
   "source": [
    "def preprocessing(document: str) -> dict:\n",
    "    \"\"\"\n",
    "    iterate over all words in document identifing the word and frecuency\n",
    "    remove all the problematic characters over the word\n",
    "    and return a dictionary with the word as the key and the frecuency as the value\n",
    "    \"\"\"\n",
    "    document = document.lower()\n",
    "    document = re.sub('[^A-Za-z\\']+', ' ', document)\n",
    "    document = document.split()\n",
    "    return document"
   ]
  },
  {
   "cell_type": "code",
   "execution_count": 94,
   "metadata": {},
   "outputs": [
    {
     "data": {
      "text/html": [
       "<div>\n",
       "<style scoped>\n",
       "    .dataframe tbody tr th:only-of-type {\n",
       "        vertical-align: middle;\n",
       "    }\n",
       "\n",
       "    .dataframe tbody tr th {\n",
       "        vertical-align: top;\n",
       "    }\n",
       "\n",
       "    .dataframe thead th {\n",
       "        text-align: right;\n",
       "    }\n",
       "</style>\n",
       "<table border=\"1\" class=\"dataframe\">\n",
       "  <thead>\n",
       "    <tr style=\"text-align: right;\">\n",
       "      <th></th>\n",
       "      <th>raw_character_text</th>\n",
       "      <th>spoken_words</th>\n",
       "      <th>data</th>\n",
       "    </tr>\n",
       "  </thead>\n",
       "  <tbody>\n",
       "    <tr>\n",
       "      <th>0</th>\n",
       "      <td>Miss Hoover</td>\n",
       "      <td>No, actually, it was a little of both. Sometim...</td>\n",
       "      <td>[no, actually, it, was, a, little, of, both, s...</td>\n",
       "    </tr>\n",
       "    <tr>\n",
       "      <th>1</th>\n",
       "      <td>Lisa Simpson</td>\n",
       "      <td>Where's Mr. Bergstrom?</td>\n",
       "      <td>[where's, mr, bergstrom]</td>\n",
       "    </tr>\n",
       "    <tr>\n",
       "      <th>2</th>\n",
       "      <td>Miss Hoover</td>\n",
       "      <td>I don't know. Although I'd sure like to talk t...</td>\n",
       "      <td>[i, don't, know, although, i'd, sure, like, to...</td>\n",
       "    </tr>\n",
       "    <tr>\n",
       "      <th>3</th>\n",
       "      <td>Lisa Simpson</td>\n",
       "      <td>That life is worth living.</td>\n",
       "      <td>[that, life, is, worth, living]</td>\n",
       "    </tr>\n",
       "    <tr>\n",
       "      <th>4</th>\n",
       "      <td>Edna Krabappel-Flanders</td>\n",
       "      <td>The polls will be open from now until the end ...</td>\n",
       "      <td>[the, polls, will, be, open, from, now, until,...</td>\n",
       "    </tr>\n",
       "  </tbody>\n",
       "</table>\n",
       "</div>"
      ],
      "text/plain": [
       "        raw_character_text                                       spoken_words  \\\n",
       "0              Miss Hoover  No, actually, it was a little of both. Sometim...   \n",
       "1             Lisa Simpson                             Where's Mr. Bergstrom?   \n",
       "2              Miss Hoover  I don't know. Although I'd sure like to talk t...   \n",
       "3             Lisa Simpson                         That life is worth living.   \n",
       "4  Edna Krabappel-Flanders  The polls will be open from now until the end ...   \n",
       "\n",
       "                                                data  \n",
       "0  [no, actually, it, was, a, little, of, both, s...  \n",
       "1                           [where's, mr, bergstrom]  \n",
       "2  [i, don't, know, although, i'd, sure, like, to...  \n",
       "3                    [that, life, is, worth, living]  \n",
       "4  [the, polls, will, be, open, from, now, until,...  "
      ]
     },
     "execution_count": 94,
     "metadata": {},
     "output_type": "execute_result"
    }
   ],
   "source": [
    "documents['data'] = documents.spoken_words.apply(preprocessing)\n",
    "documents.head()"
   ]
  },
  {
   "cell_type": "code",
   "execution_count": 59,
   "metadata": {},
   "outputs": [
    {
     "data": {
      "text/plain": [
       "8"
      ]
     },
     "execution_count": 59,
     "metadata": {},
     "output_type": "execute_result"
    }
   ],
   "source": [
    "import multiprocessing\n",
    "cores = multiprocessing.cpu_count()\n",
    "cores"
   ]
  },
  {
   "cell_type": "code",
   "execution_count": 95,
   "metadata": {},
   "outputs": [
    {
     "name": "stderr",
     "output_type": "stream",
     "text": [
      "2022-07-10 16:18:09,275 : INFO : collecting all words and their counts\n",
      "2022-07-10 16:18:09,275 : INFO : PROGRESS: at sentence #0, processed 0 words, keeping 0 word types\n",
      "2022-07-10 16:18:09,322 : INFO : PROGRESS: at sentence #10000, processed 97457 words, keeping 9630 word types\n",
      "2022-07-10 16:18:09,356 : INFO : PROGRESS: at sentence #20000, processed 197197 words, keeping 14591 word types\n",
      "2022-07-10 16:18:09,398 : INFO : PROGRESS: at sentence #30000, processed 306698 words, keeping 18969 word types\n",
      "2022-07-10 16:18:09,432 : INFO : PROGRESS: at sentence #40000, processed 407596 words, keeping 21873 word types\n",
      "2022-07-10 16:18:09,474 : INFO : PROGRESS: at sentence #50000, processed 500539 words, keeping 24589 word types\n",
      "2022-07-10 16:18:09,506 : INFO : PROGRESS: at sentence #60000, processed 587268 words, keeping 26856 word types\n",
      "2022-07-10 16:18:09,541 : INFO : PROGRESS: at sentence #70000, processed 684519 words, keeping 29160 word types\n",
      "2022-07-10 16:18:09,565 : INFO : PROGRESS: at sentence #80000, processed 787585 words, keeping 31522 word types\n",
      "2022-07-10 16:18:09,598 : INFO : PROGRESS: at sentence #90000, processed 888467 words, keeping 33598 word types\n",
      "2022-07-10 16:18:09,622 : INFO : PROGRESS: at sentence #100000, processed 990248 words, keeping 35471 word types\n",
      "2022-07-10 16:18:09,657 : INFO : PROGRESS: at sentence #110000, processed 1094180 words, keeping 37475 word types\n",
      "2022-07-10 16:18:09,698 : INFO : PROGRESS: at sentence #120000, processed 1195333 words, keeping 39199 word types\n",
      "2022-07-10 16:18:09,733 : INFO : PROGRESS: at sentence #130000, processed 1295476 words, keeping 40473 word types\n",
      "2022-07-10 16:18:09,741 : INFO : collected 40715 word types from a corpus of 1314016 raw words and 131853 sentences\n",
      "2022-07-10 16:18:09,741 : INFO : Creating a fresh vocabulary\n",
      "2022-07-10 16:18:09,880 : INFO : Word2Vec lifecycle event {'msg': 'effective_min_count=2 retains 23251 unique words (57.11% of original 40715, drops 17464)', 'datetime': '2022-07-10T16:18:09.880403', 'gensim': '4.2.0', 'python': '3.10.5 (tags/v3.10.5:f377153, Jun  6 2022, 16:14:13) [MSC v.1929 64 bit (AMD64)]', 'platform': 'Windows-10-10.0.22000-SP0', 'event': 'prepare_vocab'}\n",
      "2022-07-10 16:18:09,881 : INFO : Word2Vec lifecycle event {'msg': 'effective_min_count=2 leaves 1296552 word corpus (98.67% of original 1314016, drops 17464)', 'datetime': '2022-07-10T16:18:09.881517', 'gensim': '4.2.0', 'python': '3.10.5 (tags/v3.10.5:f377153, Jun  6 2022, 16:14:13) [MSC v.1929 64 bit (AMD64)]', 'platform': 'Windows-10-10.0.22000-SP0', 'event': 'prepare_vocab'}\n",
      "2022-07-10 16:18:10,159 : INFO : deleting the raw counts dictionary of 40715 items\n",
      "2022-07-10 16:18:10,159 : INFO : sample=0.001 downsamples 55 most-common words\n",
      "2022-07-10 16:18:10,159 : INFO : Word2Vec lifecycle event {'msg': 'downsampling leaves estimated 1006348.6425574735 word corpus (77.6%% of prior 1296552)', 'datetime': '2022-07-10T16:18:10.159300', 'gensim': '4.2.0', 'python': '3.10.5 (tags/v3.10.5:f377153, Jun  6 2022, 16:14:13) [MSC v.1929 64 bit (AMD64)]', 'platform': 'Windows-10-10.0.22000-SP0', 'event': 'prepare_vocab'}\n",
      "2022-07-10 16:18:10,481 : INFO : estimated required memory for 23251 words and 250 dimensions: 58127500 bytes\n",
      "2022-07-10 16:18:10,481 : INFO : resetting layer weights\n",
      "2022-07-10 16:18:10,566 : INFO : Word2Vec lifecycle event {'update': False, 'trim_rule': 'None', 'datetime': '2022-07-10T16:18:10.566039', 'gensim': '4.2.0', 'python': '3.10.5 (tags/v3.10.5:f377153, Jun  6 2022, 16:14:13) [MSC v.1929 64 bit (AMD64)]', 'platform': 'Windows-10-10.0.22000-SP0', 'event': 'build_vocab'}\n",
      "2022-07-10 16:18:10,566 : INFO : Word2Vec lifecycle event {'msg': 'training model with 7 workers on 23251 vocabulary and 250 features, using sg=0 hs=0 sample=0.001 negative=5 window=10 shrink_windows=True', 'datetime': '2022-07-10T16:18:10.566039', 'gensim': '4.2.0', 'python': '3.10.5 (tags/v3.10.5:f377153, Jun  6 2022, 16:14:13) [MSC v.1929 64 bit (AMD64)]', 'platform': 'Windows-10-10.0.22000-SP0', 'event': 'train'}\n",
      "2022-07-10 16:18:11,610 : INFO : EPOCH 0 - PROGRESS: at 33.73% examples, 334945 words/s, in_qsize 14, out_qsize 0\n",
      "2022-07-10 16:18:12,607 : INFO : EPOCH 0 - PROGRESS: at 85.27% examples, 422347 words/s, in_qsize 14, out_qsize 0\n",
      "2022-07-10 16:18:12,849 : INFO : EPOCH 0: training on 1314016 raw words (1006642 effective words) took 2.3s, 441850 effective words/s\n",
      "2022-07-10 16:18:13,882 : INFO : EPOCH 1 - PROGRESS: at 46.56% examples, 457089 words/s, in_qsize 14, out_qsize 2\n",
      "2022-07-10 16:18:14,883 : INFO : EPOCH 1 - PROGRESS: at 92.06% examples, 461256 words/s, in_qsize 11, out_qsize 0\n",
      "2022-07-10 16:18:15,065 : INFO : EPOCH 1: training on 1314016 raw words (1006156 effective words) took 2.2s, 459524 effective words/s\n",
      "2022-07-10 16:18:16,089 : INFO : EPOCH 2 - PROGRESS: at 46.55% examples, 460091 words/s, in_qsize 13, out_qsize 0\n",
      "2022-07-10 16:18:17,085 : INFO : EPOCH 2 - PROGRESS: at 98.47% examples, 495349 words/s, in_qsize 2, out_qsize 1\n",
      "2022-07-10 16:18:17,101 : INFO : EPOCH 2: training on 1314016 raw words (1006801 effective words) took 2.0s, 500002 effective words/s\n",
      "2022-07-10 16:18:18,123 : INFO : EPOCH 3 - PROGRESS: at 44.01% examples, 432951 words/s, in_qsize 13, out_qsize 0\n",
      "2022-07-10 16:18:19,134 : INFO : EPOCH 3 - PROGRESS: at 93.49% examples, 465852 words/s, in_qsize 9, out_qsize 0\n",
      "2022-07-10 16:18:19,219 : INFO : EPOCH 3: training on 1314016 raw words (1006767 effective words) took 2.1s, 477166 effective words/s\n",
      "2022-07-10 16:18:20,282 : INFO : EPOCH 4 - PROGRESS: at 48.23% examples, 467194 words/s, in_qsize 14, out_qsize 0\n",
      "2022-07-10 16:18:21,256 : INFO : EPOCH 4: training on 1314016 raw words (1006529 effective words) took 2.0s, 504662 effective words/s\n",
      "2022-07-10 16:18:21,256 : INFO : Word2Vec lifecycle event {'msg': 'training on 6570080 raw words (5032895 effective words) took 10.7s, 470680 effective words/s', 'datetime': '2022-07-10T16:18:21.256745', 'gensim': '4.2.0', 'python': '3.10.5 (tags/v3.10.5:f377153, Jun  6 2022, 16:14:13) [MSC v.1929 64 bit (AMD64)]', 'platform': 'Windows-10-10.0.22000-SP0', 'event': 'train'}\n",
      "2022-07-10 16:18:21,264 : INFO : Word2Vec lifecycle event {'params': 'Word2Vec<vocab=23251, vector_size=250, alpha=0.025>', 'datetime': '2022-07-10T16:18:21.264764', 'gensim': '4.2.0', 'python': '3.10.5 (tags/v3.10.5:f377153, Jun  6 2022, 16:14:13) [MSC v.1929 64 bit (AMD64)]', 'platform': 'Windows-10-10.0.22000-SP0', 'event': 'created'}\n"
     ]
    },
    {
     "ename": "NameError",
     "evalue": "name 'sentences' is not defined",
     "output_type": "error",
     "traceback": [
      "\u001b[1;31m---------------------------------------------------------------------------\u001b[0m",
      "\u001b[1;31mNameError\u001b[0m                                 Traceback (most recent call last)",
      "Input \u001b[1;32mIn [95]\u001b[0m, in \u001b[0;36m<cell line: 2>\u001b[1;34m()\u001b[0m\n\u001b[0;32m      1\u001b[0m model \u001b[38;5;241m=\u001b[39m gensim\u001b[38;5;241m.\u001b[39mmodels\u001b[38;5;241m.\u001b[39mWord2Vec(\u001b[38;5;28mlist\u001b[39m(documents\u001b[38;5;241m.\u001b[39mdata), vector_size\u001b[38;5;241m=\u001b[39m\u001b[38;5;241m250\u001b[39m, window\u001b[38;5;241m=\u001b[39m\u001b[38;5;241m10\u001b[39m, min_count\u001b[38;5;241m=\u001b[39m\u001b[38;5;241m2\u001b[39m, workers\u001b[38;5;241m=\u001b[39mcores\u001b[38;5;241m-\u001b[39m\u001b[38;5;241m1\u001b[39m)\n\u001b[1;32m----> 2\u001b[0m model\u001b[38;5;241m.\u001b[39mbuild_vocab(\u001b[43msentences\u001b[49m, progress_per\u001b[38;5;241m=\u001b[39m\u001b[38;5;241m10000\u001b[39m)\n\u001b[0;32m      3\u001b[0m model\u001b[38;5;241m.\u001b[39mtrain(documents\u001b[38;5;241m.\u001b[39mdata, total_examples\u001b[38;5;241m=\u001b[39m\u001b[38;5;28mlen\u001b[39m(documents\u001b[38;5;241m.\u001b[39mdata),epochs\u001b[38;5;241m=\u001b[39m\u001b[38;5;241m10\u001b[39m)\n",
      "\u001b[1;31mNameError\u001b[0m: name 'sentences' is not defined"
     ]
    }
   ],
   "source": [
    "model = gensim.models.Word2Vec(list(documents.data), vector_size=250, window=10, min_count=2, workers=cores-1)\n",
    "model.build_vocab(sentences, progress_per=10000)\n",
    "model.train(documents.data, total_examples=len(documents.data),epochs=10)"
   ]
  },
  {
   "cell_type": "code",
   "execution_count": 87,
   "metadata": {},
   "outputs": [
    {
     "data": {
      "text/plain": [
       "array([ 1.26914820e-03, -1.05296209e-01,  2.39504293e-01, -7.01210871e-02,\n",
       "       -2.79151887e-01,  1.17167205e-01, -3.73419710e-02,  2.72653252e-01,\n",
       "       -6.52650818e-02,  1.05011351e-01, -6.84294403e-02, -6.25859797e-02,\n",
       "       -1.35491580e-01,  2.83890665e-01,  2.50107199e-02,  2.23816670e-02,\n",
       "       -8.46946463e-02, -4.16693538e-02, -1.92186952e-01,  3.42573337e-02,\n",
       "       -2.43312046e-01, -9.67609957e-02,  1.17276393e-01, -6.12183213e-02,\n",
       "       -6.11034073e-02, -4.67265882e-02,  2.00843319e-01, -7.52205774e-02,\n",
       "       -4.44350332e-01,  2.26450622e-01,  3.92642803e-02, -1.97184812e-02,\n",
       "       -1.98604256e-01, -6.33489713e-02,  1.84824139e-01, -9.69781168e-03,\n",
       "        9.77793559e-02, -1.56488031e-01,  5.20672649e-02, -1.07623212e-01,\n",
       "       -5.57471113e-03,  2.18029186e-01, -2.26331018e-02,  4.05998193e-02,\n",
       "       -6.92730993e-02,  2.08391789e-02,  1.58661008e-01, -1.75039515e-01,\n",
       "       -4.74462658e-02,  1.16804205e-02,  6.00495264e-02,  5.39638549e-02,\n",
       "       -1.05940938e-01, -7.27613866e-02,  6.93937019e-02, -1.16590202e-01,\n",
       "        9.65671614e-02, -8.39809924e-02, -2.18241528e-01,  9.50368419e-02,\n",
       "       -1.04668915e-01,  4.57037203e-02,  1.40051275e-01,  5.90256043e-02,\n",
       "       -1.56034231e-01,  9.47495699e-02, -1.81466471e-02,  1.30516484e-01,\n",
       "        4.09625024e-02,  1.83311507e-01, -8.07181671e-02,  1.18238954e-02,\n",
       "       -5.38437814e-02, -2.74299234e-02,  1.09095022e-01,  1.73226744e-01,\n",
       "       -3.88511121e-02, -4.05164026e-02,  8.97896439e-02,  1.45049933e-02,\n",
       "       -3.19285206e-02, -7.24325851e-02,  9.52575877e-02,  1.73699856e-01,\n",
       "       -8.16448778e-02,  4.71555069e-02, -1.16332881e-01,  2.49365345e-01,\n",
       "        4.18383107e-02, -3.92178223e-02, -6.96807429e-02, -4.23448347e-02,\n",
       "        8.85334313e-02, -2.11992294e-01,  2.43771654e-02, -9.39526781e-02,\n",
       "        1.20831631e-01,  7.55386576e-02,  2.51245610e-02, -1.04655348e-01,\n",
       "       -7.97194913e-02,  6.07300736e-02, -1.58730019e-02,  2.51674447e-02,\n",
       "        9.29734856e-02,  7.70037919e-02, -1.42416388e-01, -1.11694392e-02,\n",
       "        5.82166528e-03,  6.36227522e-03, -1.59508884e-01, -6.16931431e-02,\n",
       "       -1.03063798e-02,  2.45139878e-02, -1.32242978e-01,  1.18159026e-01,\n",
       "        7.21027926e-02, -2.54238024e-03, -8.39607343e-02, -6.07970506e-02,\n",
       "       -1.60670474e-01, -7.30318278e-02,  8.16835240e-02, -4.02520783e-02,\n",
       "       -2.74767634e-02, -1.29782036e-01, -1.38365641e-01, -1.29171148e-01,\n",
       "       -1.89311057e-01, -5.59576303e-02,  1.18807830e-01, -3.03237252e-02,\n",
       "        3.80206592e-02, -7.37331063e-02,  8.03129449e-02,  6.87174574e-02,\n",
       "        7.16713667e-02, -2.45730970e-02, -1.40725896e-01, -1.21108154e-02,\n",
       "       -1.37330860e-01, -1.80691153e-01,  1.70055795e-02, -1.62871450e-01,\n",
       "        2.82264024e-01, -6.62600202e-03,  1.72153786e-02, -8.43038037e-02,\n",
       "        2.25179642e-01,  8.06266367e-02, -1.25336394e-01, -6.15332164e-02,\n",
       "        7.08097266e-03, -5.67927770e-02, -2.65456378e-01,  4.78129201e-02,\n",
       "        4.04511429e-02, -2.55472567e-02, -4.84819040e-02,  1.14483520e-01,\n",
       "       -6.20778315e-02, -6.86044917e-02, -5.32535911e-02, -1.19629242e-01,\n",
       "       -2.95970649e-01, -1.24704735e-02,  9.34062526e-02,  8.87233019e-03,\n",
       "        1.59014925e-01,  1.20797724e-01,  5.16932197e-02,  2.36568898e-01,\n",
       "       -8.62630680e-02,  9.79289412e-02,  4.59106360e-03, -4.93606832e-03,\n",
       "        1.46446866e-03, -3.25467773e-02,  4.56174165e-02, -7.64379501e-02,\n",
       "       -5.24677821e-02, -8.16907138e-02,  8.09875205e-02, -3.08782421e-02,\n",
       "       -1.30891412e-01,  2.31749248e-02, -5.04282601e-02, -2.02981696e-01,\n",
       "       -8.69760811e-02,  8.00675079e-02,  4.96513397e-02,  2.82498039e-02,\n",
       "        1.09619848e-01, -9.48958695e-02,  3.75624061e-01,  1.84645392e-02,\n",
       "       -2.69552227e-02, -1.48264974e-01, -4.47650030e-02, -7.18301162e-02,\n",
       "        2.83175819e-02,  4.57120389e-02,  4.45796549e-02, -2.38222301e-01,\n",
       "        4.85022366e-02, -7.38441646e-02, -1.30836656e-02,  7.97998011e-02,\n",
       "       -1.72740400e-01, -1.40258238e-01, -5.34395128e-02, -3.78463417e-02,\n",
       "        5.27494634e-03,  1.64792344e-01, -2.12800875e-01, -2.15967432e-01,\n",
       "       -9.07450020e-02, -1.64806142e-01, -7.79055655e-02,  2.02785254e-01,\n",
       "       -1.60210896e-02,  1.82919085e-01,  1.25953242e-01,  8.28682605e-05,\n",
       "        1.93065599e-01,  7.17038661e-02,  1.65490568e-01, -1.02018654e-01,\n",
       "       -9.57955513e-03,  4.71363887e-02,  1.48039281e-01, -1.13078266e-01,\n",
       "       -2.10759372e-01,  2.14844212e-01,  1.26784399e-01,  1.17678251e-02,\n",
       "       -9.05716047e-02, -1.11138046e-01,  1.44303769e-01, -4.07846048e-02,\n",
       "       -1.78158637e-02, -1.02303289e-01,  5.68871796e-02,  1.16645664e-01,\n",
       "       -8.14030915e-02,  9.52217951e-02, -1.60064269e-02, -5.78568354e-02,\n",
       "       -2.49502528e-02, -7.07569346e-02], dtype=float32)"
      ]
     },
     "execution_count": 87,
     "metadata": {},
     "output_type": "execute_result"
    }
   ],
   "source": [
    "vector = model.wv['pineapple']\n",
    "vector"
   ]
  },
  {
   "cell_type": "code",
   "execution_count": 88,
   "metadata": {},
   "outputs": [
    {
     "data": {
      "text/plain": [
       "[('isle', 0.5910033583641052),\n",
       " ('coney', 0.5768650770187378),\n",
       " ('raisin', 0.5644610524177551),\n",
       " ('slurry', 0.549674391746521),\n",
       " ('sow', 0.5444474816322327),\n",
       " ('tapas', 0.5443892478942871),\n",
       " ('melody', 0.5438315272331238),\n",
       " ('bourbon', 0.5405861735343933),\n",
       " ('yaaayyy', 0.538280189037323),\n",
       " ('mutt', 0.5372042059898376)]"
      ]
     },
     "execution_count": 88,
     "metadata": {},
     "output_type": "execute_result"
    }
   ],
   "source": [
    "model.wv.most_similar(positive=['babe'], topn=10)"
   ]
  },
  {
   "cell_type": "code",
   "execution_count": 92,
   "metadata": {},
   "outputs": [
    {
     "data": {
      "text/plain": [
       "[('shade', 0.46659356355667114),\n",
       " ('bin', 0.45938462018966675),\n",
       " ('cities', 0.45396825671195984),\n",
       " ('america', 0.45155349373817444),\n",
       " ('female', 0.4411603808403015),\n",
       " ('december', 0.4405938982963562),\n",
       " ('tulsa', 0.43407726287841797),\n",
       " ('series', 0.425297349691391),\n",
       " ('oklahoma', 0.4232740104198456),\n",
       " ('wars', 0.422929048538208)]"
      ]
     },
     "execution_count": 92,
     "metadata": {},
     "output_type": "execute_result"
    }
   ],
   "source": [
    "pos = [\"paris\", \"france\"]\n",
    "neg = [\"spain\", \"to\"]\n",
    "model.wv.most_similar(positive=pos,negative=neg)"
   ]
  }
 ],
 "metadata": {
  "kernelspec": {
   "display_name": "Python 3 (ipykernel)",
   "language": "python",
   "name": "python3"
  },
  "language_info": {
   "codemirror_mode": {
    "name": "ipython",
    "version": 3
   },
   "file_extension": ".py",
   "mimetype": "text/x-python",
   "name": "python",
   "nbconvert_exporter": "python",
   "pygments_lexer": "ipython3",
   "version": "3.10.5"
  }
 },
 "nbformat": 4,
 "nbformat_minor": 4
}
