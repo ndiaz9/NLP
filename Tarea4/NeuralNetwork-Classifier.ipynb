{
 "cells": [
  {
   "cell_type": "code",
   "execution_count": 144,
   "metadata": {},
   "outputs": [],
   "source": [
    "import re\n",
    "import spacy\n",
    "import gensim\n",
    "import logging\n",
    "import pandas as pd\n",
    "import numpy as np\n",
    "# remove warnings\n",
    "logging.basicConfig(level=logging.ERROR)\n",
    "from sklearn.model_selection import train_test_split\n",
    "import tensorflow as tf\n",
    "from tensorflow.keras import layers\n",
    "from tensorflow.keras import losses\n",
    "from tensorflow.keras import preprocessing\n",
    "from tensorflow.keras.layers.experimental.preprocessing import TextVectorization\n",
    "from keras.models import Sequential\n",
    "from tensorflow.keras.utils import to_categorical"
   ]
  },
  {
   "cell_type": "code",
   "execution_count": 2,
   "metadata": {},
   "outputs": [
    {
     "name": "stdout",
     "output_type": "stream",
     "text": [
      "(126646, 2)\n"
     ]
    },
    {
     "data": {
      "text/html": [
       "<div>\n",
       "<style scoped>\n",
       "    .dataframe tbody tr th:only-of-type {\n",
       "        vertical-align: middle;\n",
       "    }\n",
       "\n",
       "    .dataframe tbody tr th {\n",
       "        vertical-align: top;\n",
       "    }\n",
       "\n",
       "    .dataframe thead th {\n",
       "        text-align: right;\n",
       "    }\n",
       "</style>\n",
       "<table border=\"1\" class=\"dataframe\">\n",
       "  <thead>\n",
       "    <tr style=\"text-align: right;\">\n",
       "      <th></th>\n",
       "      <th>raw_character_text</th>\n",
       "      <th>spoken_words</th>\n",
       "    </tr>\n",
       "  </thead>\n",
       "  <tbody>\n",
       "    <tr>\n",
       "      <th>0</th>\n",
       "      <td>Miss Hoover</td>\n",
       "      <td>No, actually, it was a little of both. Sometim...</td>\n",
       "    </tr>\n",
       "    <tr>\n",
       "      <th>1</th>\n",
       "      <td>Lisa Simpson</td>\n",
       "      <td>Where's Mr. Bergstrom?</td>\n",
       "    </tr>\n",
       "    <tr>\n",
       "      <th>2</th>\n",
       "      <td>Miss Hoover</td>\n",
       "      <td>I don't know. Although I'd sure like to talk t...</td>\n",
       "    </tr>\n",
       "    <tr>\n",
       "      <th>3</th>\n",
       "      <td>Lisa Simpson</td>\n",
       "      <td>That life is worth living.</td>\n",
       "    </tr>\n",
       "    <tr>\n",
       "      <th>4</th>\n",
       "      <td>Edna Krabappel-Flanders</td>\n",
       "      <td>The polls will be open from now until the end ...</td>\n",
       "    </tr>\n",
       "  </tbody>\n",
       "</table>\n",
       "</div>"
      ],
      "text/plain": [
       "        raw_character_text                                       spoken_words\n",
       "0              Miss Hoover  No, actually, it was a little of both. Sometim...\n",
       "1             Lisa Simpson                             Where's Mr. Bergstrom?\n",
       "2              Miss Hoover  I don't know. Although I'd sure like to talk t...\n",
       "3             Lisa Simpson                         That life is worth living.\n",
       "4  Edna Krabappel-Flanders  The polls will be open from now until the end ..."
      ]
     },
     "metadata": {},
     "output_type": "display_data"
    }
   ],
   "source": [
    "documents = pd.read_csv('./datos/simpsons_dataset.csv').dropna().drop_duplicates()\n",
    "documents = documents.reset_index(drop=True)\n",
    "print(documents.shape)\n",
    "display(documents.head())"
   ]
  },
  {
   "cell_type": "code",
   "execution_count": 3,
   "metadata": {},
   "outputs": [
    {
     "name": "stdout",
     "output_type": "stream",
     "text": [
      "(60610, 2)\n"
     ]
    },
    {
     "data": {
      "text/html": [
       "<div>\n",
       "<style scoped>\n",
       "    .dataframe tbody tr th:only-of-type {\n",
       "        vertical-align: middle;\n",
       "    }\n",
       "\n",
       "    .dataframe tbody tr th {\n",
       "        vertical-align: top;\n",
       "    }\n",
       "\n",
       "    .dataframe thead th {\n",
       "        text-align: right;\n",
       "    }\n",
       "</style>\n",
       "<table border=\"1\" class=\"dataframe\">\n",
       "  <thead>\n",
       "    <tr style=\"text-align: right;\">\n",
       "      <th></th>\n",
       "      <th>raw_character_text</th>\n",
       "      <th>spoken_words</th>\n",
       "    </tr>\n",
       "  </thead>\n",
       "  <tbody>\n",
       "    <tr>\n",
       "      <th>1</th>\n",
       "      <td>Lisa Simpson</td>\n",
       "      <td>Where's Mr. Bergstrom?</td>\n",
       "    </tr>\n",
       "    <tr>\n",
       "      <th>3</th>\n",
       "      <td>Lisa Simpson</td>\n",
       "      <td>That life is worth living.</td>\n",
       "    </tr>\n",
       "    <tr>\n",
       "      <th>7</th>\n",
       "      <td>Bart Simpson</td>\n",
       "      <td>Victory party under the slide!</td>\n",
       "    </tr>\n",
       "    <tr>\n",
       "      <th>8</th>\n",
       "      <td>Lisa Simpson</td>\n",
       "      <td>Mr. Bergstrom! Mr. Bergstrom!</td>\n",
       "    </tr>\n",
       "    <tr>\n",
       "      <th>10</th>\n",
       "      <td>Lisa Simpson</td>\n",
       "      <td>Do you know where I could find him?</td>\n",
       "    </tr>\n",
       "  </tbody>\n",
       "</table>\n",
       "</div>"
      ],
      "text/plain": [
       "   raw_character_text                         spoken_words\n",
       "1        Lisa Simpson               Where's Mr. Bergstrom?\n",
       "3        Lisa Simpson           That life is worth living.\n",
       "7        Bart Simpson       Victory party under the slide!\n",
       "8        Lisa Simpson        Mr. Bergstrom! Mr. Bergstrom!\n",
       "10       Lisa Simpson  Do you know where I could find him?"
      ]
     },
     "metadata": {},
     "output_type": "display_data"
    }
   ],
   "source": [
    "main_characters =  [\"Lisa Simpson\", \"Bart Simpson\", \"Homer Simpson\", \"Marge Simpson\"]\n",
    "documents = documents[documents[\"raw_character_text\"].isin(main_characters)]\n",
    "print(documents.shape)\n",
    "display(documents.head())"
   ]
  },
  {
   "cell_type": "code",
   "execution_count": 4,
   "metadata": {},
   "outputs": [],
   "source": [
    "def get_sublist(list, n):\n",
    "    return [list[i:i+n] for i in range(0, len(list), n)]\n"
   ]
  },
  {
   "cell_type": "code",
   "execution_count": 41,
   "metadata": {},
   "outputs": [],
   "source": [
    "def get_vectors_characters(characters: pd.DataFrame) -> pd.DataFrame:\n",
    "    sentences_big = get_sublist(characters['spoken_words'].tolist(),5)\n",
    "    df = pd.DataFrame({ 'spoken_words': sentences_big})\n",
    "    for index,dialogue in df['spoken_words'].items():\n",
    "        df.loc[index,\"spoken_words_concatenated\"] = ' '.join(dialogue)\n",
    "    return df"
   ]
  },
  {
   "cell_type": "code",
   "execution_count": 104,
   "metadata": {},
   "outputs": [],
   "source": [
    "documents_dialogue_concatenated = documents.groupby(\"raw_character_text\")  \\\n",
    "                                    .apply(lambda x: get_vectors_characters(x)) \\\n",
    "                                    .reset_index(\"raw_character_text\")"
   ]
  },
  {
   "cell_type": "code",
   "execution_count": 105,
   "metadata": {},
   "outputs": [],
   "source": [
    "def convert_label(label):\n",
    "    if label == \"bart simpson\":\n",
    "        return 0\n",
    "    elif label == \"lisa simpson\":\n",
    "        return 1\n",
    "    elif label == \"homer simpson\":\n",
    "        return 2\n",
    "    else : \n",
    "        return 3"
   ]
  },
  {
   "cell_type": "code",
   "execution_count": 106,
   "metadata": {},
   "outputs": [
    {
     "data": {
      "text/html": [
       "<div>\n",
       "<style scoped>\n",
       "    .dataframe tbody tr th:only-of-type {\n",
       "        vertical-align: middle;\n",
       "    }\n",
       "\n",
       "    .dataframe tbody tr th {\n",
       "        vertical-align: top;\n",
       "    }\n",
       "\n",
       "    .dataframe thead th {\n",
       "        text-align: right;\n",
       "    }\n",
       "</style>\n",
       "<table border=\"1\" class=\"dataframe\">\n",
       "  <thead>\n",
       "    <tr style=\"text-align: right;\">\n",
       "      <th></th>\n",
       "      <th>raw_character_text</th>\n",
       "      <th>spoken_words</th>\n",
       "      <th>spoken_words_concatenated</th>\n",
       "    </tr>\n",
       "  </thead>\n",
       "  <tbody>\n",
       "    <tr>\n",
       "      <th>0</th>\n",
       "      <td>0</td>\n",
       "      <td>[Victory party under the slide!, Hey, thanks f...</td>\n",
       "      <td>victory party under the slide! hey, thanks for...</td>\n",
       "    </tr>\n",
       "    <tr>\n",
       "      <th>1</th>\n",
       "      <td>0</td>\n",
       "      <td>[Somebody must have voted., Uh oh., I demand a...</td>\n",
       "      <td>somebody must have voted. uh oh. i demand a re...</td>\n",
       "    </tr>\n",
       "    <tr>\n",
       "      <th>2</th>\n",
       "      <td>0</td>\n",
       "      <td>[Ah, Dad, if just me, Milhouse and Lewis had v...</td>\n",
       "      <td>ah, dad, if just me, milhouse and lewis had vo...</td>\n",
       "    </tr>\n",
       "    <tr>\n",
       "      <th>3</th>\n",
       "      <td>0</td>\n",
       "      <td>[Please Dad., What?, Yes sir., They're fightin...</td>\n",
       "      <td>please dad. what? yes sir. they're fighting in...</td>\n",
       "    </tr>\n",
       "    <tr>\n",
       "      <th>4</th>\n",
       "      <td>0</td>\n",
       "      <td>[Dad, I have as much respect for you as I ever...</td>\n",
       "      <td>dad, i have as much respect for you as i ever ...</td>\n",
       "    </tr>\n",
       "  </tbody>\n",
       "</table>\n",
       "</div>"
      ],
      "text/plain": [
       "   raw_character_text                                       spoken_words  \\\n",
       "0                   0  [Victory party under the slide!, Hey, thanks f...   \n",
       "1                   0  [Somebody must have voted., Uh oh., I demand a...   \n",
       "2                   0  [Ah, Dad, if just me, Milhouse and Lewis had v...   \n",
       "3                   0  [Please Dad., What?, Yes sir., They're fightin...   \n",
       "4                   0  [Dad, I have as much respect for you as I ever...   \n",
       "\n",
       "                           spoken_words_concatenated  \n",
       "0  victory party under the slide! hey, thanks for...  \n",
       "1  somebody must have voted. uh oh. i demand a re...  \n",
       "2  ah, dad, if just me, milhouse and lewis had vo...  \n",
       "3  please dad. what? yes sir. they're fighting in...  \n",
       "4  dad, i have as much respect for you as i ever ...  "
      ]
     },
     "execution_count": 106,
     "metadata": {},
     "output_type": "execute_result"
    }
   ],
   "source": [
    "documents_dialogue_concatenated[\"raw_character_text\"] = documents_dialogue_concatenated[\"raw_character_text\"].apply(lambda x: x.lower())\n",
    "documents_dialogue_concatenated[\"raw_character_text\"] = documents_dialogue_concatenated[\"raw_character_text\"].apply(convert_label)\n",
    "documents_dialogue_concatenated[\"spoken_words_concatenated\"] = documents_dialogue_concatenated[\"spoken_words_concatenated\"].apply(lambda x: x.lower())\n",
    "documents_dialogue_concatenated.head()"
   ]
  },
  {
   "cell_type": "code",
   "execution_count": 160,
   "metadata": {},
   "outputs": [],
   "source": [
    "\n",
    "sentences = documents_dialogue_concatenated['spoken_words_concatenated'].values\n",
    "y = documents_dialogue_concatenated['raw_character_text'].values\n",
    "sentences_train, sentences_test, y_train, y_test = train_test_split(sentences, y, test_size=0.2, random_state=1)\n",
    "\n",
    "y_train_categorical = tf.one_hot(y_train,4)\n",
    "y_test_categorical = tf.one_hot(y_test,4)\n",
    "\n",
    "# Once we have our handles, we format the datasets in a Keras-fit compatible\n",
    "# format: a tuple of the form (text_data, label).\n",
    "train_dataset = tf.data.Dataset.from_tensor_slices((sentences_train,y_train_categorical))\n",
    "test_dataset = tf.data.Dataset.from_tensor_slices((sentences_test,y_test_categorical))\n",
    "\n",
    "# We also create a dataset with only the textual data in it. This will be used\n",
    "# to build our vocabulary later on.\n",
    "text_dataset = tf.data.Dataset.from_tensor_slices((sentences_train))"
   ]
  },
  {
   "cell_type": "code",
   "execution_count": 149,
   "metadata": {},
   "outputs": [
    {
     "name": "stdout",
     "output_type": "stream",
     "text": [
      "Number of rows in the total set: 12123\n",
      "Number of rows of bart class: 2414\n",
      "Number of rows of lisa class: 2029\n",
      "Number of rows of homer class: 5195\n",
      "Number of rows of marge class: 2485\n",
      "---------------------------------------------\n",
      "Number of rows in the training set: 9698\n",
      "Number of rows of bart class: 1913\n",
      "Number of rows of lisa class: 1598\n",
      "Number of rows of homer class: 4171\n",
      "Number of rows of marge class: 2016\n",
      "---------------------------------------------\n",
      "Number of rows in the test set: 2425\n",
      "Number of rows of bart class: 501\n",
      "Number of rows of lisa class: 431\n",
      "Number of rows of homer class: 1024\n",
      "Number of rows of marge class: 469\n"
     ]
    }
   ],
   "source": [
    "\n",
    "print('Number of rows in the total set: {}'.format(sentences.shape[0]))\n",
    "print('Number of rows of bart class: {}'.format(y[y == 0].shape[0]))\n",
    "print('Number of rows of lisa class: {}'.format(y[y == 1].shape[0]))\n",
    "print('Number of rows of homer class: {}'.format(y[y == 2].shape[0]))\n",
    "print('Number of rows of marge class: {}'.format(y[y == 3].shape[0]))\n",
    "print('---------------------------------------------')\n",
    "\n",
    "print('Number of rows in the training set: {}'.format(sentences_train.shape[0]))\n",
    "print('Number of rows of bart class: {}'.format(y_train[y_train == 0].shape[0]))\n",
    "print('Number of rows of lisa class: {}'.format(y_train[y_train == 1].shape[0]))\n",
    "print('Number of rows of homer class: {}'.format(y_train[y_train == 2].shape[0]))\n",
    "print('Number of rows of marge class: {}'.format(y_train[y_train == 3].shape[0]))\n",
    "print('---------------------------------------------')\n",
    "\n",
    "print('Number of rows in the test set: {}'.format(sentences_test.shape[0]))\n",
    "\n",
    "print('Number of rows of bart class: {}'.format(y_test[y_test == 0].shape[0]))\n",
    "print('Number of rows of lisa class: {}'.format(y_test[y_test == 1].shape[0]))\n",
    "print('Number of rows of homer class: {}'.format(y_test[y_test == 2].shape[0]))\n",
    "print('Number of rows of marge class: {}'.format(y_test[y_test == 3].shape[0]))\n"
   ]
  },
  {
   "cell_type": "markdown",
   "metadata": {},
   "source": [
    "## Vectorize Layer Binary"
   ]
  },
  {
   "cell_type": "code",
   "execution_count": 172,
   "metadata": {},
   "outputs": [],
   "source": [
    "vectorize_layer_binary = TextVectorization(\n",
    "    ngrams=None, \n",
    "    max_tokens=100, vocabulary=None,\n",
    "    output_mode='binary', output_sequence_length=None, pad_to_max_tokens=True,\n",
    ")\n",
    "\n",
    "vectorize_layer_binary.adapt(text_dataset)\n"
   ]
  },
  {
   "cell_type": "code",
   "execution_count": 177,
   "metadata": {},
   "outputs": [
    {
     "name": "stdout",
     "output_type": "stream",
     "text": [
      "Model: \"sequential_13\"\n",
      "_________________________________________________________________\n",
      " Layer (type)                Output Shape              Param #   \n",
      "=================================================================\n",
      " text_vectorization_12 (Text  (None, 100)              0         \n",
      " Vectorization)                                                  \n",
      "                                                                 \n",
      " Hidden_layer (Dense)        (None, 50)                5050      \n",
      "                                                                 \n",
      " Output_layer (Dense)        (None, 4)                 204       \n",
      "                                                                 \n",
      "=================================================================\n",
      "Total params: 5,254\n",
      "Trainable params: 5,254\n",
      "Non-trainable params: 0\n",
      "_________________________________________________________________\n"
     ]
    }
   ],
   "source": [
    "modelsequ1 = Sequential()\n",
    "modelsequ1.add(tf.keras.Input(shape=(1,), dtype=tf.string))\n",
    "modelsequ1.add(vectorize_layer_binary)\n",
    "modelsequ1.add(layers.Dense(50, activation='relu', name=\"Hidden_layer\"))\n",
    "modelsequ1.add(layers.Dense(4, activation='softmax', name=\"Output_layer\"))\n",
    "modelsequ1.compile(loss='categorical_crossentropy', optimizer='sgd', metrics=['acc', 'mse']) \n",
    "modelsequ1.summary()"
   ]
  },
  {
   "cell_type": "code",
   "execution_count": 175,
   "metadata": {},
   "outputs": [
    {
     "name": "stdout",
     "output_type": "stream",
     "text": [
      "Epoch 1/20\n",
      "97/97 [==============================] - 3s 20ms/step - loss: 1.3671 - acc: 0.3418 - mse: 0.1845 - val_loss: 1.3446 - val_acc: 0.3975 - val_mse: 0.1808\n",
      "Epoch 2/20\n",
      "97/97 [==============================] - 1s 13ms/step - loss: 1.3177 - acc: 0.4147 - mse: 0.1778 - val_loss: 1.3261 - val_acc: 0.4186 - val_mse: 0.1782\n",
      "Epoch 3/20\n",
      "97/97 [==============================] - 1s 11ms/step - loss: 1.2991 - acc: 0.4244 - mse: 0.1753 - val_loss: 1.3104 - val_acc: 0.4252 - val_mse: 0.1762\n",
      "Epoch 4/20\n",
      "97/97 [==============================] - 1s 11ms/step - loss: 1.2829 - acc: 0.4306 - mse: 0.1732 - val_loss: 1.2963 - val_acc: 0.4301 - val_mse: 0.1743\n",
      "Epoch 5/20\n",
      "97/97 [==============================] - 1s 14ms/step - loss: 1.2677 - acc: 0.4353 - mse: 0.1711 - val_loss: 1.2830 - val_acc: 0.4375 - val_mse: 0.1725\n",
      "Epoch 6/20\n",
      "97/97 [==============================] - 1s 12ms/step - loss: 1.2531 - acc: 0.4440 - mse: 0.1691 - val_loss: 1.2700 - val_acc: 0.4429 - val_mse: 0.1708\n",
      "Epoch 7/20\n",
      "97/97 [==============================] - 1s 10ms/step - loss: 1.2385 - acc: 0.4529 - mse: 0.1672 - val_loss: 1.2572 - val_acc: 0.4507 - val_mse: 0.1690\n",
      "Epoch 8/20\n",
      "97/97 [==============================] - 1s 12ms/step - loss: 1.2238 - acc: 0.4603 - mse: 0.1651 - val_loss: 1.2441 - val_acc: 0.4602 - val_mse: 0.1672\n",
      "Epoch 9/20\n",
      "97/97 [==============================] - 1s 11ms/step - loss: 1.2088 - acc: 0.4691 - mse: 0.1631 - val_loss: 1.2307 - val_acc: 0.4680 - val_mse: 0.1654\n",
      "Epoch 10/20\n",
      "97/97 [==============================] - 1s 12ms/step - loss: 1.1934 - acc: 0.4774 - mse: 0.1610 - val_loss: 1.2169 - val_acc: 0.4738 - val_mse: 0.1635\n",
      "Epoch 11/20\n",
      "97/97 [==============================] - 1s 11ms/step - loss: 1.1777 - acc: 0.4870 - mse: 0.1588 - val_loss: 1.2029 - val_acc: 0.4845 - val_mse: 0.1616\n",
      "Epoch 12/20\n",
      "97/97 [==============================] - 1s 11ms/step - loss: 1.1617 - acc: 0.4976 - mse: 0.1566 - val_loss: 1.1886 - val_acc: 0.4944 - val_mse: 0.1596\n",
      "Epoch 13/20\n",
      "97/97 [==============================] - 1s 11ms/step - loss: 1.1454 - acc: 0.5101 - mse: 0.1543 - val_loss: 1.1742 - val_acc: 0.5035 - val_mse: 0.1577\n",
      "Epoch 14/20\n",
      "97/97 [==============================] - 1s 12ms/step - loss: 1.1294 - acc: 0.5185 - mse: 0.1521 - val_loss: 1.1604 - val_acc: 0.5118 - val_mse: 0.1558\n",
      "Epoch 15/20\n",
      "97/97 [==============================] - 1s 11ms/step - loss: 1.1137 - acc: 0.5292 - mse: 0.1500 - val_loss: 1.1470 - val_acc: 0.5208 - val_mse: 0.1540\n",
      "Epoch 16/20\n",
      "97/97 [==============================] - 1s 10ms/step - loss: 1.0984 - acc: 0.5403 - mse: 0.1479 - val_loss: 1.1343 - val_acc: 0.5245 - val_mse: 0.1523\n",
      "Epoch 17/20\n",
      "97/97 [==============================] - 1s 12ms/step - loss: 1.0839 - acc: 0.5451 - mse: 0.1460 - val_loss: 1.1223 - val_acc: 0.5278 - val_mse: 0.1507\n",
      "Epoch 18/20\n",
      "97/97 [==============================] - 1s 12ms/step - loss: 1.0703 - acc: 0.5506 - mse: 0.1442 - val_loss: 1.1112 - val_acc: 0.5307 - val_mse: 0.1493\n",
      "Epoch 19/20\n",
      "97/97 [==============================] - 1s 11ms/step - loss: 1.0575 - acc: 0.5582 - mse: 0.1425 - val_loss: 1.1009 - val_acc: 0.5373 - val_mse: 0.1480\n",
      "Epoch 20/20\n",
      "97/97 [==============================] - 1s 10ms/step - loss: 1.0457 - acc: 0.5632 - mse: 0.1410 - val_loss: 1.0915 - val_acc: 0.5377 - val_mse: 0.1468\n"
     ]
    },
    {
     "data": {
      "text/plain": [
       "<keras.callbacks.History at 0x1dad7715550>"
      ]
     },
     "execution_count": 175,
     "metadata": {},
     "output_type": "execute_result"
    }
   ],
   "source": [
    "batch_size = 100\n",
    "epochs = 20\n",
    "\n",
    "# Fit the model using the train and test datasets.\n",
    "modelsequ1.fit(\n",
    "    train_dataset.batch(batch_size),\n",
    "    validation_data=test_dataset.batch(batch_size),\n",
    "    epochs=epochs)"
   ]
  },
  {
   "cell_type": "markdown",
   "metadata": {},
   "source": [
    "## Vectorize Layer count"
   ]
  },
  {
   "cell_type": "code",
   "execution_count": 184,
   "metadata": {},
   "outputs": [],
   "source": [
    "vectorize_layer_count = TextVectorization(\n",
    "    ngrams=None, \n",
    "    max_tokens=100, vocabulary=None,\n",
    "    output_mode='count', output_sequence_length=None, pad_to_max_tokens=True,\n",
    ")\n",
    "\n",
    "vectorize_layer_count.adapt(text_dataset)"
   ]
  },
  {
   "cell_type": "code",
   "execution_count": 185,
   "metadata": {},
   "outputs": [
    {
     "name": "stdout",
     "output_type": "stream",
     "text": [
      "Model: \"sequential_17\"\n",
      "_________________________________________________________________\n",
      " Layer (type)                Output Shape              Param #   \n",
      "=================================================================\n",
      " text_vectorization_15 (Text  (None, 100)              0         \n",
      " Vectorization)                                                  \n",
      "                                                                 \n",
      " Hidden_layer (Dense)        (None, 50)                5050      \n",
      "                                                                 \n",
      " Output_layer (Dense)        (None, 4)                 204       \n",
      "                                                                 \n",
      "=================================================================\n",
      "Total params: 5,254\n",
      "Trainable params: 5,254\n",
      "Non-trainable params: 0\n",
      "_________________________________________________________________\n"
     ]
    }
   ],
   "source": [
    "modelsequ2 = Sequential()\n",
    "modelsequ2.add(tf.keras.Input(shape=(1,), dtype=tf.string))\n",
    "modelsequ2.add(vectorize_layer_count)\n",
    "modelsequ2.add(layers.Dense(50, activation='relu', name=\"Hidden_layer\"))\n",
    "modelsequ2.add(layers.Dense(4, activation='softmax', name=\"Output_layer\"))\n",
    "modelsequ2.compile(loss='categorical_crossentropy', optimizer='sgd', metrics=['acc', 'mse']) \n",
    "modelsequ2.summary()"
   ]
  },
  {
   "cell_type": "code",
   "execution_count": 186,
   "metadata": {},
   "outputs": [
    {
     "name": "stdout",
     "output_type": "stream",
     "text": [
      "Epoch 1/20\n",
      "97/97 [==============================] - 3s 15ms/step - loss: 1.3935 - acc: 0.3822 - mse: 0.1849 - val_loss: 1.3477 - val_acc: 0.4004 - val_mse: 0.1806\n",
      "Epoch 2/20\n",
      "97/97 [==============================] - 1s 13ms/step - loss: 1.3263 - acc: 0.4150 - mse: 0.1775 - val_loss: 1.3143 - val_acc: 0.4165 - val_mse: 0.1766\n",
      "Epoch 3/20\n",
      "97/97 [==============================] - 1s 11ms/step - loss: 1.2947 - acc: 0.4297 - mse: 0.1739 - val_loss: 1.2899 - val_acc: 0.4214 - val_mse: 0.1736\n",
      "Epoch 4/20\n",
      "97/97 [==============================] - 1s 11ms/step - loss: 1.2699 - acc: 0.4384 - mse: 0.1708 - val_loss: 1.2696 - val_acc: 0.4359 - val_mse: 0.1710\n",
      "Epoch 5/20\n",
      "97/97 [==============================] - 1s 11ms/step - loss: 1.2483 - acc: 0.4494 - mse: 0.1680 - val_loss: 1.2502 - val_acc: 0.4445 - val_mse: 0.1684\n",
      "Epoch 6/20\n",
      "97/97 [==============================] - 1s 11ms/step - loss: 1.2293 - acc: 0.4602 - mse: 0.1655 - val_loss: 1.2331 - val_acc: 0.4540 - val_mse: 0.1660\n",
      "Epoch 7/20\n",
      "97/97 [==============================] - 1s 12ms/step - loss: 1.2109 - acc: 0.4732 - mse: 0.1631 - val_loss: 1.2166 - val_acc: 0.4697 - val_mse: 0.1636\n",
      "Epoch 8/20\n",
      "97/97 [==============================] - 1s 11ms/step - loss: 1.1932 - acc: 0.4837 - mse: 0.1607 - val_loss: 1.1994 - val_acc: 0.4800 - val_mse: 0.1613\n",
      "Epoch 9/20\n",
      "97/97 [==============================] - 1s 11ms/step - loss: 1.1760 - acc: 0.4945 - mse: 0.1584 - val_loss: 1.1829 - val_acc: 0.4903 - val_mse: 0.1590\n",
      "Epoch 10/20\n",
      "97/97 [==============================] - 1s 12ms/step - loss: 1.1600 - acc: 0.5047 - mse: 0.1563 - val_loss: 1.1683 - val_acc: 0.5035 - val_mse: 0.1570\n",
      "Epoch 11/20\n",
      "97/97 [==============================] - 1s 12ms/step - loss: 1.1448 - acc: 0.5150 - mse: 0.1543 - val_loss: 1.1543 - val_acc: 0.5126 - val_mse: 0.1551\n",
      "Epoch 12/20\n",
      "97/97 [==============================] - 1s 11ms/step - loss: 1.1306 - acc: 0.5226 - mse: 0.1524 - val_loss: 1.1418 - val_acc: 0.5138 - val_mse: 0.1534\n",
      "Epoch 13/20\n",
      "97/97 [==============================] - 1s 11ms/step - loss: 1.1174 - acc: 0.5282 - mse: 0.1507 - val_loss: 1.1297 - val_acc: 0.5229 - val_mse: 0.1518\n",
      "Epoch 14/20\n",
      "97/97 [==============================] - 1s 11ms/step - loss: 1.1056 - acc: 0.5341 - mse: 0.1491 - val_loss: 1.1187 - val_acc: 0.5299 - val_mse: 0.1503\n",
      "Epoch 15/20\n",
      "97/97 [==============================] - 1s 10ms/step - loss: 1.0949 - acc: 0.5416 - mse: 0.1478 - val_loss: 1.1083 - val_acc: 0.5373 - val_mse: 0.1489\n",
      "Epoch 16/20\n",
      "97/97 [==============================] - 1s 11ms/step - loss: 1.0851 - acc: 0.5474 - mse: 0.1465 - val_loss: 1.0991 - val_acc: 0.5410 - val_mse: 0.1477\n",
      "Epoch 17/20\n",
      "97/97 [==============================] - 1s 14ms/step - loss: 1.0766 - acc: 0.5514 - mse: 0.1454 - val_loss: 1.0907 - val_acc: 0.5439 - val_mse: 0.1466\n",
      "Epoch 18/20\n",
      "97/97 [==============================] - 1s 11ms/step - loss: 1.0689 - acc: 0.5552 - mse: 0.1444 - val_loss: 1.0830 - val_acc: 0.5489 - val_mse: 0.1456\n",
      "Epoch 19/20\n",
      "97/97 [==============================] - 1s 12ms/step - loss: 1.0618 - acc: 0.5581 - mse: 0.1435 - val_loss: 1.0763 - val_acc: 0.5493 - val_mse: 0.1447\n",
      "Epoch 20/20\n",
      "97/97 [==============================] - 1s 10ms/step - loss: 1.0555 - acc: 0.5610 - mse: 0.1426 - val_loss: 1.0702 - val_acc: 0.5522 - val_mse: 0.1440\n"
     ]
    },
    {
     "data": {
      "text/plain": [
       "<keras.callbacks.History at 0x1dad9a796a0>"
      ]
     },
     "execution_count": 186,
     "metadata": {},
     "output_type": "execute_result"
    }
   ],
   "source": [
    "# Fit the model using the train and test datasets.\n",
    "modelsequ2.fit(\n",
    "    train_dataset.batch(batch_size),\n",
    "    validation_data=test_dataset.batch(batch_size),\n",
    "    epochs=epochs)"
   ]
  },
  {
   "cell_type": "markdown",
   "metadata": {},
   "source": [
    "## Vectorize layer tf-idf"
   ]
  },
  {
   "cell_type": "code",
   "execution_count": 189,
   "metadata": {},
   "outputs": [],
   "source": [
    "vectorize_layer_tfidf = TextVectorization(\n",
    "    ngrams=None, \n",
    "    max_tokens=100, vocabulary=None,\n",
    "    output_mode='tf-idf', output_sequence_length=None, pad_to_max_tokens=True,\n",
    ")\n",
    "\n",
    "vectorize_layer_tfidf.adapt(text_dataset)"
   ]
  },
  {
   "cell_type": "code",
   "execution_count": 190,
   "metadata": {},
   "outputs": [
    {
     "name": "stdout",
     "output_type": "stream",
     "text": [
      "Model: \"sequential_19\"\n",
      "_________________________________________________________________\n",
      " Layer (type)                Output Shape              Param #   \n",
      "=================================================================\n",
      " text_vectorization_17 (Text  (None, 100)              1         \n",
      " Vectorization)                                                  \n",
      "                                                                 \n",
      " Hidden_layer (Dense)        (None, 50)                5050      \n",
      "                                                                 \n",
      " Output_layer (Dense)        (None, 4)                 204       \n",
      "                                                                 \n",
      "=================================================================\n",
      "Total params: 5,255\n",
      "Trainable params: 5,254\n",
      "Non-trainable params: 1\n",
      "_________________________________________________________________\n"
     ]
    }
   ],
   "source": [
    "modelsequ3 = Sequential()\n",
    "modelsequ3.add(tf.keras.Input(shape=(1,), dtype=tf.string))\n",
    "modelsequ3.add(vectorize_layer_tfidf)\n",
    "modelsequ3.add(layers.Dense(50, activation='relu', name=\"Hidden_layer\"))\n",
    "modelsequ3.add(layers.Dense(4, activation='softmax', name=\"Output_layer\"))\n",
    "modelsequ3.compile(loss='categorical_crossentropy', optimizer='sgd', metrics=['acc', 'mse']) \n",
    "modelsequ3.summary()"
   ]
  },
  {
   "cell_type": "code",
   "execution_count": 191,
   "metadata": {},
   "outputs": [
    {
     "name": "stdout",
     "output_type": "stream",
     "text": [
      "Epoch 1/20\n",
      "97/97 [==============================] - 1s 13ms/step - loss: 1.0495 - acc: 0.5648 - mse: 0.1418 - val_loss: 1.0655 - val_acc: 0.5538 - val_mse: 0.1434\n",
      "Epoch 2/20\n",
      "97/97 [==============================] - 1s 10ms/step - loss: 1.0441 - acc: 0.5676 - mse: 0.1411 - val_loss: 1.0612 - val_acc: 0.5538 - val_mse: 0.1428\n",
      "Epoch 3/20\n",
      "97/97 [==============================] - 1s 10ms/step - loss: 1.0394 - acc: 0.5691 - mse: 0.1405 - val_loss: 1.0574 - val_acc: 0.5559 - val_mse: 0.1423\n",
      "Epoch 4/20\n",
      "97/97 [==============================] - 1s 11ms/step - loss: 1.0347 - acc: 0.5705 - mse: 0.1399 - val_loss: 1.0543 - val_acc: 0.5575 - val_mse: 0.1420\n",
      "Epoch 5/20\n",
      "97/97 [==============================] - 1s 12ms/step - loss: 1.0303 - acc: 0.5724 - mse: 0.1393 - val_loss: 1.0513 - val_acc: 0.5575 - val_mse: 0.1416\n",
      "Epoch 6/20\n",
      "97/97 [==============================] - 1s 12ms/step - loss: 1.0263 - acc: 0.5760 - mse: 0.1388 - val_loss: 1.0487 - val_acc: 0.5579 - val_mse: 0.1413\n",
      "Epoch 7/20\n",
      "97/97 [==============================] - 1s 12ms/step - loss: 1.0229 - acc: 0.5785 - mse: 0.1383 - val_loss: 1.0463 - val_acc: 0.5604 - val_mse: 0.1410\n",
      "Epoch 8/20\n",
      "97/97 [==============================] - 1s 12ms/step - loss: 1.0191 - acc: 0.5795 - mse: 0.1378 - val_loss: 1.0440 - val_acc: 0.5645 - val_mse: 0.1407\n",
      "Epoch 9/20\n",
      "97/97 [==============================] - 1s 10ms/step - loss: 1.0158 - acc: 0.5818 - mse: 0.1374 - val_loss: 1.0416 - val_acc: 0.5645 - val_mse: 0.1404\n",
      "Epoch 10/20\n",
      "97/97 [==============================] - 1s 11ms/step - loss: 1.0126 - acc: 0.5826 - mse: 0.1369 - val_loss: 1.0398 - val_acc: 0.5670 - val_mse: 0.1402\n",
      "Epoch 11/20\n",
      "97/97 [==============================] - 1s 10ms/step - loss: 1.0095 - acc: 0.5846 - mse: 0.1365 - val_loss: 1.0381 - val_acc: 0.5670 - val_mse: 0.1400\n",
      "Epoch 12/20\n",
      "97/97 [==============================] - 1s 10ms/step - loss: 1.0060 - acc: 0.5849 - mse: 0.1361 - val_loss: 1.0361 - val_acc: 0.5649 - val_mse: 0.1398\n",
      "Epoch 13/20\n",
      "97/97 [==============================] - 1s 10ms/step - loss: 1.0026 - acc: 0.5873 - mse: 0.1356 - val_loss: 1.0346 - val_acc: 0.5666 - val_mse: 0.1396\n",
      "Epoch 14/20\n",
      "97/97 [==============================] - 1s 12ms/step - loss: 0.9996 - acc: 0.5891 - mse: 0.1352 - val_loss: 1.0335 - val_acc: 0.5687 - val_mse: 0.1395\n",
      "Epoch 15/20\n",
      "97/97 [==============================] - 1s 10ms/step - loss: 0.9974 - acc: 0.5898 - mse: 0.1350 - val_loss: 1.0321 - val_acc: 0.5682 - val_mse: 0.1393\n",
      "Epoch 16/20\n",
      "97/97 [==============================] - 1s 11ms/step - loss: 0.9950 - acc: 0.5910 - mse: 0.1346 - val_loss: 1.0309 - val_acc: 0.5682 - val_mse: 0.1392\n",
      "Epoch 17/20\n",
      "97/97 [==============================] - 1s 10ms/step - loss: 0.9927 - acc: 0.5918 - mse: 0.1343 - val_loss: 1.0298 - val_acc: 0.5682 - val_mse: 0.1391\n",
      "Epoch 18/20\n",
      "97/97 [==============================] - 1s 9ms/step - loss: 0.9905 - acc: 0.5925 - mse: 0.1341 - val_loss: 1.0287 - val_acc: 0.5695 - val_mse: 0.1390\n",
      "Epoch 19/20\n",
      "97/97 [==============================] - 1s 10ms/step - loss: 0.9888 - acc: 0.5936 - mse: 0.1338 - val_loss: 1.0276 - val_acc: 0.5707 - val_mse: 0.1388\n",
      "Epoch 20/20\n",
      "97/97 [==============================] - 1s 11ms/step - loss: 0.9868 - acc: 0.5940 - mse: 0.1336 - val_loss: 1.0264 - val_acc: 0.5711 - val_mse: 0.1387\n"
     ]
    },
    {
     "data": {
      "text/plain": [
       "<keras.callbacks.History at 0x1dadbdfc790>"
      ]
     },
     "execution_count": 191,
     "metadata": {},
     "output_type": "execute_result"
    }
   ],
   "source": [
    "# Fit the model using the train and test datasets.\n",
    "modelsequ2.fit(\n",
    "    train_dataset.batch(batch_size),\n",
    "    validation_data=test_dataset.batch(batch_size),\n",
    "    epochs=epochs)"
   ]
  }
 ],
 "metadata": {
  "kernelspec": {
   "display_name": "Python 3.9.7 ('nlp')",
   "language": "python",
   "name": "python3"
  },
  "language_info": {
   "codemirror_mode": {
    "name": "ipython",
    "version": 3
   },
   "file_extension": ".py",
   "mimetype": "text/x-python",
   "name": "python",
   "nbconvert_exporter": "python",
   "pygments_lexer": "ipython3",
   "version": "3.9.7"
  },
  "vscode": {
   "interpreter": {
    "hash": "c7a79e9e75522a046d95171e373010a5dca4ce6e8605d007854b2218f1d88052"
   }
  }
 },
 "nbformat": 4,
 "nbformat_minor": 4
}
