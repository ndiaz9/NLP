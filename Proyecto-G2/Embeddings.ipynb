{
 "cells": [
  {
   "cell_type": "markdown",
   "metadata": {},
   "source": [
    "## Embeddings"
   ]
  },
  {
   "cell_type": "code",
   "execution_count": 1,
   "metadata": {},
   "outputs": [],
   "source": [
    "import re, gensim, logging, multiprocessing, datasets\n",
    "import pandas as pd\n",
    "import numpy as np\n",
    "import matplotlib.pyplot as plt\n",
    "from gensim.scripts.glove2word2vec import glove2word2vec\n",
    "from gensim.models import KeyedVectors\n",
    "from sklearn.metrics import accuracy_score, precision_score, recall_score, f1_score\n",
    "from sklearn.metrics import classification_report, confusion_matrix\n",
    "from sklearn.model_selection import train_test_split\n",
    "from keras.models import Sequential, load_model\n",
    "from keras.layers import Dense"
   ]
  },
  {
   "cell_type": "code",
   "execution_count": 2,
   "metadata": {},
   "outputs": [],
   "source": [
    "# paths to change\n",
    "output_path = './salida'\n",
    "\n",
    "# congig\n",
    "logging.basicConfig(format='%(asctime)s : %(levelname)s : %(message)s', level=logging.INFO)\n",
    "workers = multiprocessing.cpu_count()-1"
   ]
  },
  {
   "cell_type": "markdown",
   "metadata": {},
   "source": [
    "__process methods__"
   ]
  },
  {
   "cell_type": "code",
   "execution_count": 3,
   "metadata": {},
   "outputs": [],
   "source": [
    "def expand_contractions(document: str) -> str:\n",
    "    \"\"\"\n",
    "    Replace all abbreviations with their corresponding expansion\n",
    "    \"\"\"\n",
    "    document = re.sub(r\"'cause\", \"because\", document)\n",
    "    document = re.sub(r\"o'clock\", \"of the clock\", document)\n",
    "    document = re.sub(r\"won\\'t\", \"will not\", document)\n",
    "    document = re.sub(r\"can\\'t\", \"can not\", document)\n",
    "    document = re.sub(r\"n\\'t\", \" not\", document)\n",
    "    document = re.sub(r\"\\'re\", \" are\", document)\n",
    "    document = re.sub(r\"\\'s\", \" is\", document)\n",
    "    document = re.sub(r\"\\'d\", \" would\", document)\n",
    "    document = re.sub(r\"\\'ll\", \" will\", document)\n",
    "    document = re.sub(r\"\\'t\", \" not\", document)\n",
    "    document = re.sub(r\"\\'ve\", \" have\", document)\n",
    "    document = re.sub(r\"\\'m\", \" am\", document)\n",
    "    return document"
   ]
  },
  {
   "cell_type": "code",
   "execution_count": 4,
   "metadata": {},
   "outputs": [],
   "source": [
    "def replace_numbers(document: str) -> str:\n",
    "    \"\"\"\n",
    "    Replace number appearances with 'number'\n",
    "    \"\"\"\n",
    "    # Case 1: Combination of numbers and letters (Eg. 2nd -> NUM)\n",
    "    document = re.sub('[a-zA-Z]+[0-9]+[a-zA-Z]+', 'number', document)\n",
    "    document = re.sub('[0-9]+[a-zA-Z]+|[a-zA-Z]+[0-9]+', 'number', document)\n",
    "    # Case 2: Decimal numbers (Eg. 2.1 -> NUM)\n",
    "    document = re.sub('[0-9]+\\.+[0-9]+', 'number', document)\n",
    "    # Case 3: Numbers between spaces (Eg. 220 888 -> NUM)\n",
    "    document = re.sub('([0-9]+\\s)*[0-9]+', 'number', document)\n",
    "    # Case 4: One or more of the previous cases (Eg. NUM NUM -> NUM)\n",
    "    document = re.sub('((NUM)+\\s)*(NUM)+', 'number', document)\n",
    "    return document"
   ]
  },
  {
   "cell_type": "code",
   "execution_count": 5,
   "metadata": {},
   "outputs": [],
   "source": [
    "def preprocessing(document: str) -> list:\n",
    "    \"\"\"\n",
    "    iterate over all words in document identifing the word and frecuency\n",
    "    remove all the problematic characters over the word\n",
    "    and return a dictionary with the word as the key and the frecuency as the value\n",
    "    \"\"\"\n",
    "    document = document.lower()\n",
    "    document = expand_contractions(document)\n",
    "    document = replace_numbers(document)\n",
    "    document = re.sub('[^A-Za-z0-9]+', ' ', document)\n",
    "    document = document.split()\n",
    "    return document"
   ]
  },
  {
   "cell_type": "code",
   "execution_count": 6,
   "metadata": {},
   "outputs": [],
   "source": [
    "def get_sentences() -> pd.DataFrame:\n",
    "    \"\"\"\n",
    "    read and process document\n",
    "    \"\"\"\n",
    "    dataset = datasets.load_dataset('ucberkeley-dlab/measuring-hate-speech', 'binary')   \n",
    "    df = dataset['train'].to_pandas()\n",
    "    data = pd.DataFrame()\n",
    "    data['text'] = df.text\n",
    "    data['processed'] = df.text.apply(preprocessing)\n",
    "    data['hatespeech'] = df.hate_speech_score.apply(lambda x: 1 if x > 0 else 0)\n",
    "    return data"
   ]
  },
  {
   "cell_type": "code",
   "execution_count": 7,
   "metadata": {},
   "outputs": [],
   "source": [
    "def train_model(size: int, window: int, data: list, epochs: int) -> gensim.models.Word2Vec:\n",
    "    \"\"\"\n",
    "    Train the word2vec embedding\n",
    "    \"\"\"\n",
    "    model = gensim.models.Word2Vec(sentences=data, \n",
    "                                   vector_size=size, \n",
    "                                   window=window, \n",
    "                                   workers=workers, \n",
    "                                   min_count=3, \n",
    "                                   alpha=0.025, \n",
    "                                   min_alpha=0.0007)\n",
    "    model.build_vocab(data, progress_per=100000)\n",
    "    model.train(data, total_examples=len(data), epochs=epochs)\n",
    "    return model"
   ]
  },
  {
   "cell_type": "markdown",
   "metadata": {},
   "source": [
    "## Create embedding"
   ]
  },
  {
   "cell_type": "code",
   "execution_count": 8,
   "metadata": {},
   "outputs": [
    {
     "name": "stderr",
     "output_type": "stream",
     "text": [
      "2022-07-27 18:01:31,431 : WARNING : Using custom data configuration ucberkeley-dlab--measuring-hate-speech-1d47093687320b66\n",
      "2022-07-27 18:01:31,521 : WARNING : Reusing dataset parquet (C:\\Users\\Usuario\\.cache\\huggingface\\datasets\\ucberkeley-dlab___parquet\\ucberkeley-dlab--measuring-hate-speech-1d47093687320b66\\0.0.0\\7328ef7ee03eaf3f86ae40594d46a1cec86161704e02dd19f232d81eee72ade8)\n"
     ]
    },
    {
     "data": {
      "application/vnd.jupyter.widget-view+json": {
       "model_id": "3dd5323e0b814266a98acf8c9387e40e",
       "version_major": 2,
       "version_minor": 0
      },
      "text/plain": [
       "  0%|          | 0/1 [00:00<?, ?it/s]"
      ]
     },
     "metadata": {},
     "output_type": "display_data"
    },
    {
     "data": {
      "text/html": [
       "<div>\n",
       "<style scoped>\n",
       "    .dataframe tbody tr th:only-of-type {\n",
       "        vertical-align: middle;\n",
       "    }\n",
       "\n",
       "    .dataframe tbody tr th {\n",
       "        vertical-align: top;\n",
       "    }\n",
       "\n",
       "    .dataframe thead th {\n",
       "        text-align: right;\n",
       "    }\n",
       "</style>\n",
       "<table border=\"1\" class=\"dataframe\">\n",
       "  <thead>\n",
       "    <tr style=\"text-align: right;\">\n",
       "      <th></th>\n",
       "      <th>text</th>\n",
       "      <th>processed</th>\n",
       "      <th>hatespeech</th>\n",
       "    </tr>\n",
       "  </thead>\n",
       "  <tbody>\n",
       "    <tr>\n",
       "      <th>1041</th>\n",
       "      <td>Regardless of whether youre sinning or not pra...</td>\n",
       "      <td>[regardless, of, whether, youre, sinning, or, ...</td>\n",
       "      <td>0</td>\n",
       "    </tr>\n",
       "    <tr>\n",
       "      <th>66380</th>\n",
       "      <td>Jamaican is great. I also think women with NY ...</td>\n",
       "      <td>[jamaican, is, great, i, also, think, women, w...</td>\n",
       "      <td>0</td>\n",
       "    </tr>\n",
       "    <tr>\n",
       "      <th>72023</th>\n",
       "      <td>Of course you do sissy DM for sissy training @...</td>\n",
       "      <td>[of, course, you, do, sissy, dm, for, sissy, t...</td>\n",
       "      <td>1</td>\n",
       "    </tr>\n",
       "    <tr>\n",
       "      <th>75900</th>\n",
       "      <td>SHES FUCKING 11 YOU WEIRD ASS BITCH. BABIES SH...</td>\n",
       "      <td>[shes, fucking, number, you, weird, ass, bitch...</td>\n",
       "      <td>1</td>\n",
       "    </tr>\n",
       "    <tr>\n",
       "      <th>20207</th>\n",
       "      <td>And non-muslims also write books on this topic...</td>\n",
       "      <td>[and, non, muslims, also, write, books, on, th...</td>\n",
       "      <td>0</td>\n",
       "    </tr>\n",
       "    <tr>\n",
       "      <th>122548</th>\n",
       "      <td>It's just really pointless and insulting to pe...</td>\n",
       "      <td>[it, is, just, really, pointless, and, insulti...</td>\n",
       "      <td>0</td>\n",
       "    </tr>\n",
       "    <tr>\n",
       "      <th>105801</th>\n",
       "      <td>Fuck you fuck you you stupid cheating bitch go...</td>\n",
       "      <td>[fuck, you, fuck, you, you, stupid, cheating, ...</td>\n",
       "      <td>1</td>\n",
       "    </tr>\n",
       "    <tr>\n",
       "      <th>78095</th>\n",
       "      <td>look, just because you use a big word doesnt m...</td>\n",
       "      <td>[look, just, because, you, use, a, big, word, ...</td>\n",
       "      <td>0</td>\n",
       "    </tr>\n",
       "    <tr>\n",
       "      <th>44962</th>\n",
       "      <td>Bisexuals love a hard dick and a wet pussy URL</td>\n",
       "      <td>[bisexuals, love, a, hard, dick, and, a, wet, ...</td>\n",
       "      <td>0</td>\n",
       "    </tr>\n",
       "    <tr>\n",
       "      <th>26239</th>\n",
       "      <td>I am indian Ingland won the world cup final 💪💪💪</td>\n",
       "      <td>[i, am, indian, ingland, won, the, world, cup,...</td>\n",
       "      <td>0</td>\n",
       "    </tr>\n",
       "  </tbody>\n",
       "</table>\n",
       "</div>"
      ],
      "text/plain": [
       "                                                     text  \\\n",
       "1041    Regardless of whether youre sinning or not pra...   \n",
       "66380   Jamaican is great. I also think women with NY ...   \n",
       "72023   Of course you do sissy DM for sissy training @...   \n",
       "75900   SHES FUCKING 11 YOU WEIRD ASS BITCH. BABIES SH...   \n",
       "20207   And non-muslims also write books on this topic...   \n",
       "122548  It's just really pointless and insulting to pe...   \n",
       "105801  Fuck you fuck you you stupid cheating bitch go...   \n",
       "78095   look, just because you use a big word doesnt m...   \n",
       "44962      Bisexuals love a hard dick and a wet pussy URL   \n",
       "26239     I am indian Ingland won the world cup final 💪💪💪   \n",
       "\n",
       "                                                processed  hatespeech  \n",
       "1041    [regardless, of, whether, youre, sinning, or, ...           0  \n",
       "66380   [jamaican, is, great, i, also, think, women, w...           0  \n",
       "72023   [of, course, you, do, sissy, dm, for, sissy, t...           1  \n",
       "75900   [shes, fucking, number, you, weird, ass, bitch...           1  \n",
       "20207   [and, non, muslims, also, write, books, on, th...           0  \n",
       "122548  [it, is, just, really, pointless, and, insulti...           0  \n",
       "105801  [fuck, you, fuck, you, you, stupid, cheating, ...           1  \n",
       "78095   [look, just, because, you, use, a, big, word, ...           0  \n",
       "44962   [bisexuals, love, a, hard, dick, and, a, wet, ...           0  \n",
       "26239   [i, am, indian, ingland, won, the, world, cup,...           0  "
      ]
     },
     "execution_count": 8,
     "metadata": {},
     "output_type": "execute_result"
    }
   ],
   "source": [
    "sentences = get_sentences()\n",
    "sentences.sample(10)"
   ]
  },
  {
   "cell_type": "code",
   "execution_count": 9,
   "metadata": {},
   "outputs": [
    {
     "name": "stderr",
     "output_type": "stream",
     "text": [
      "2022-07-27 18:01:38,563 : INFO : collecting all words and their counts\n",
      "2022-07-27 18:01:38,564 : INFO : PROGRESS: at sentence #0, processed 0 words, keeping 0 word types\n",
      "2022-07-27 18:01:38,592 : INFO : PROGRESS: at sentence #10000, processed 260239 words, keeping 19201 word types\n",
      "2022-07-27 18:01:38,625 : INFO : PROGRESS: at sentence #20000, processed 519498 words, keeping 28373 word types\n",
      "2022-07-27 18:01:38,653 : INFO : PROGRESS: at sentence #30000, processed 784049 words, keeping 32838 word types\n",
      "2022-07-27 18:01:38,681 : INFO : PROGRESS: at sentence #40000, processed 1042524 words, keeping 35810 word types\n",
      "2022-07-27 18:01:38,711 : INFO : PROGRESS: at sentence #50000, processed 1307330 words, keeping 38072 word types\n",
      "2022-07-27 18:01:38,741 : INFO : PROGRESS: at sentence #60000, processed 1565718 words, keeping 39324 word types\n",
      "2022-07-27 18:01:38,768 : INFO : PROGRESS: at sentence #70000, processed 1824124 words, keeping 40644 word types\n",
      "2022-07-27 18:01:38,798 : INFO : PROGRESS: at sentence #80000, processed 2088159 words, keeping 41375 word types\n",
      "2022-07-27 18:01:38,836 : INFO : PROGRESS: at sentence #90000, processed 2347729 words, keeping 42077 word types\n",
      "2022-07-27 18:01:38,862 : INFO : PROGRESS: at sentence #100000, processed 2637653 words, keeping 42239 word types\n",
      "2022-07-27 18:01:38,894 : INFO : PROGRESS: at sentence #110000, processed 2988083 words, keeping 42246 word types\n",
      "2022-07-27 18:01:38,921 : INFO : PROGRESS: at sentence #120000, processed 3266039 words, keeping 42255 word types\n",
      "2022-07-27 18:01:38,957 : INFO : PROGRESS: at sentence #130000, processed 3659800 words, keeping 42271 word types\n",
      "2022-07-27 18:01:38,966 : INFO : collected 42288 word types from a corpus of 3755340 raw words and 135556 sentences\n",
      "2022-07-27 18:01:38,966 : INFO : Creating a fresh vocabulary\n",
      "2022-07-27 18:01:39,031 : INFO : Word2Vec lifecycle event {'msg': 'effective_min_count=3 retains 28140 unique words (66.54% of original 42288, drops 14148)', 'datetime': '2022-07-27T18:01:39.031406', 'gensim': '4.2.0', 'python': '3.10.5 (tags/v3.10.5:f377153, Jun  6 2022, 16:14:13) [MSC v.1929 64 bit (AMD64)]', 'platform': 'Windows-10-10.0.22000-SP0', 'event': 'prepare_vocab'}\n",
      "2022-07-27 18:01:39,031 : INFO : Word2Vec lifecycle event {'msg': 'effective_min_count=3 leaves 3733464 word corpus (99.42% of original 3755340, drops 21876)', 'datetime': '2022-07-27T18:01:39.031406', 'gensim': '4.2.0', 'python': '3.10.5 (tags/v3.10.5:f377153, Jun  6 2022, 16:14:13) [MSC v.1929 64 bit (AMD64)]', 'platform': 'Windows-10-10.0.22000-SP0', 'event': 'prepare_vocab'}\n",
      "2022-07-27 18:01:39,132 : INFO : deleting the raw counts dictionary of 42288 items\n",
      "2022-07-27 18:01:39,133 : INFO : sample=0.001 downsamples 64 most-common words\n",
      "2022-07-27 18:01:39,134 : INFO : Word2Vec lifecycle event {'msg': 'downsampling leaves estimated 2853897.397356875 word corpus (76.4%% of prior 3733464)', 'datetime': '2022-07-27T18:01:39.134360', 'gensim': '4.2.0', 'python': '3.10.5 (tags/v3.10.5:f377153, Jun  6 2022, 16:14:13) [MSC v.1929 64 bit (AMD64)]', 'platform': 'Windows-10-10.0.22000-SP0', 'event': 'prepare_vocab'}\n",
      "2022-07-27 18:01:39,300 : INFO : estimated required memory for 28140 words and 150 dimensions: 47838000 bytes\n",
      "2022-07-27 18:01:39,300 : INFO : resetting layer weights\n",
      "2022-07-27 18:01:39,317 : INFO : Word2Vec lifecycle event {'update': False, 'trim_rule': 'None', 'datetime': '2022-07-27T18:01:39.317988', 'gensim': '4.2.0', 'python': '3.10.5 (tags/v3.10.5:f377153, Jun  6 2022, 16:14:13) [MSC v.1929 64 bit (AMD64)]', 'platform': 'Windows-10-10.0.22000-SP0', 'event': 'build_vocab'}\n",
      "2022-07-27 18:01:39,318 : INFO : Word2Vec lifecycle event {'msg': 'training model with 7 workers on 28140 vocabulary and 150 features, using sg=0 hs=0 sample=0.001 negative=5 window=3 shrink_windows=True', 'datetime': '2022-07-27T18:01:39.318993', 'gensim': '4.2.0', 'python': '3.10.5 (tags/v3.10.5:f377153, Jun  6 2022, 16:14:13) [MSC v.1929 64 bit (AMD64)]', 'platform': 'Windows-10-10.0.22000-SP0', 'event': 'train'}\n",
      "2022-07-27 18:01:40,325 : INFO : EPOCH 0: training on 3755340 raw words (2853485 effective words) took 1.0s, 2879160 effective words/s\n",
      "2022-07-27 18:01:41,334 : INFO : EPOCH 1 - PROGRESS: at 93.61% examples, 2690377 words/s, in_qsize 13, out_qsize 0\n",
      "2022-07-27 18:01:41,380 : INFO : EPOCH 1: training on 3755340 raw words (2855386 effective words) took 1.0s, 2720617 effective words/s\n",
      "2022-07-27 18:01:42,392 : INFO : EPOCH 2 - PROGRESS: at 79.92% examples, 2229416 words/s, in_qsize 13, out_qsize 0\n",
      "2022-07-27 18:01:42,589 : INFO : EPOCH 2: training on 3755340 raw words (2854654 effective words) took 1.2s, 2380518 effective words/s\n",
      "2022-07-27 18:01:43,595 : INFO : EPOCH 3 - PROGRESS: at 94.33% examples, 2735671 words/s, in_qsize 13, out_qsize 0\n",
      "2022-07-27 18:01:43,627 : INFO : EPOCH 3: training on 3755340 raw words (2854540 effective words) took 1.0s, 2764127 effective words/s\n",
      "2022-07-27 18:01:44,634 : INFO : EPOCH 4 - PROGRESS: at 93.91% examples, 2711653 words/s, in_qsize 13, out_qsize 0\n",
      "2022-07-27 18:01:44,674 : INFO : EPOCH 4: training on 3755340 raw words (2854158 effective words) took 1.0s, 2743529 effective words/s\n",
      "2022-07-27 18:01:44,674 : INFO : Word2Vec lifecycle event {'msg': 'training on 18776700 raw words (14272223 effective words) took 5.4s, 2665095 effective words/s', 'datetime': '2022-07-27T18:01:44.674942', 'gensim': '4.2.0', 'python': '3.10.5 (tags/v3.10.5:f377153, Jun  6 2022, 16:14:13) [MSC v.1929 64 bit (AMD64)]', 'platform': 'Windows-10-10.0.22000-SP0', 'event': 'train'}\n",
      "2022-07-27 18:01:44,675 : INFO : Word2Vec lifecycle event {'params': 'Word2Vec<vocab=28140, vector_size=150, alpha=0.025>', 'datetime': '2022-07-27T18:01:44.675443', 'gensim': '4.2.0', 'python': '3.10.5 (tags/v3.10.5:f377153, Jun  6 2022, 16:14:13) [MSC v.1929 64 bit (AMD64)]', 'platform': 'Windows-10-10.0.22000-SP0', 'event': 'created'}\n",
      "2022-07-27 18:01:44,675 : INFO : collecting all words and their counts\n",
      "2022-07-27 18:01:44,675 : INFO : PROGRESS: at sentence #0, processed 0 words, keeping 0 word types\n",
      "2022-07-27 18:01:44,930 : INFO : PROGRESS: at sentence #100000, processed 2637653 words, keeping 42239 word types\n",
      "2022-07-27 18:01:45,023 : INFO : collected 42288 word types from a corpus of 3755340 raw words and 135556 sentences\n",
      "2022-07-27 18:01:45,024 : INFO : Creating a fresh vocabulary\n",
      "2022-07-27 18:01:45,086 : INFO : Word2Vec lifecycle event {'msg': 'effective_min_count=3 retains 28140 unique words (66.54% of original 42288, drops 14148)', 'datetime': '2022-07-27T18:01:45.086284', 'gensim': '4.2.0', 'python': '3.10.5 (tags/v3.10.5:f377153, Jun  6 2022, 16:14:13) [MSC v.1929 64 bit (AMD64)]', 'platform': 'Windows-10-10.0.22000-SP0', 'event': 'prepare_vocab'}\n",
      "2022-07-27 18:01:45,087 : INFO : Word2Vec lifecycle event {'msg': 'effective_min_count=3 leaves 3733464 word corpus (99.42% of original 3755340, drops 21876)', 'datetime': '2022-07-27T18:01:45.087288', 'gensim': '4.2.0', 'python': '3.10.5 (tags/v3.10.5:f377153, Jun  6 2022, 16:14:13) [MSC v.1929 64 bit (AMD64)]', 'platform': 'Windows-10-10.0.22000-SP0', 'event': 'prepare_vocab'}\n",
      "2022-07-27 18:01:45,189 : INFO : deleting the raw counts dictionary of 42288 items\n",
      "2022-07-27 18:01:45,191 : INFO : sample=0.001 downsamples 64 most-common words\n",
      "2022-07-27 18:01:45,191 : INFO : Word2Vec lifecycle event {'msg': 'downsampling leaves estimated 2853897.397356875 word corpus (76.4%% of prior 3733464)', 'datetime': '2022-07-27T18:01:45.191128', 'gensim': '4.2.0', 'python': '3.10.5 (tags/v3.10.5:f377153, Jun  6 2022, 16:14:13) [MSC v.1929 64 bit (AMD64)]', 'platform': 'Windows-10-10.0.22000-SP0', 'event': 'prepare_vocab'}\n",
      "2022-07-27 18:01:45,197 : WARNING : sorting after vectors have been allocated is expensive & error-prone\n",
      "2022-07-27 18:01:45,378 : INFO : estimated required memory for 28140 words and 150 dimensions: 47838000 bytes\n",
      "2022-07-27 18:01:45,379 : INFO : resetting layer weights\n",
      "2022-07-27 18:01:45,381 : INFO : Word2Vec lifecycle event {'update': False, 'trim_rule': 'None', 'datetime': '2022-07-27T18:01:45.381372', 'gensim': '4.2.0', 'python': '3.10.5 (tags/v3.10.5:f377153, Jun  6 2022, 16:14:13) [MSC v.1929 64 bit (AMD64)]', 'platform': 'Windows-10-10.0.22000-SP0', 'event': 'build_vocab'}\n",
      "2022-07-27 18:01:45,381 : WARNING : Effective 'alpha' higher than previous training cycles\n",
      "2022-07-27 18:01:45,382 : INFO : Word2Vec lifecycle event {'msg': 'training model with 7 workers on 28140 vocabulary and 150 features, using sg=0 hs=0 sample=0.001 negative=5 window=3 shrink_windows=True', 'datetime': '2022-07-27T18:01:45.382372', 'gensim': '4.2.0', 'python': '3.10.5 (tags/v3.10.5:f377153, Jun  6 2022, 16:14:13) [MSC v.1929 64 bit (AMD64)]', 'platform': 'Windows-10-10.0.22000-SP0', 'event': 'train'}\n",
      "2022-07-27 18:01:46,389 : INFO : EPOCH 0 - PROGRESS: at 95.13% examples, 2762741 words/s, in_qsize 12, out_qsize 0\n",
      "2022-07-27 18:01:46,411 : INFO : EPOCH 0: training on 3755340 raw words (2853227 effective words) took 1.0s, 2792536 effective words/s\n",
      "2022-07-27 18:01:47,421 : INFO : EPOCH 1 - PROGRESS: at 93.31% examples, 2677226 words/s, in_qsize 13, out_qsize 0\n",
      "2022-07-27 18:01:47,482 : INFO : EPOCH 1: training on 3755340 raw words (2854234 effective words) took 1.1s, 2684328 effective words/s\n",
      "2022-07-27 18:01:48,494 : INFO : EPOCH 2 - PROGRESS: at 66.01% examples, 1765124 words/s, in_qsize 13, out_qsize 0\n",
      "2022-07-27 18:01:48,956 : INFO : EPOCH 2: training on 3755340 raw words (2853702 effective words) took 1.5s, 1945394 effective words/s\n",
      "2022-07-27 18:01:49,970 : INFO : EPOCH 3 - PROGRESS: at 69.25% examples, 1856271 words/s, in_qsize 13, out_qsize 0\n",
      "2022-07-27 18:01:50,404 : INFO : EPOCH 3: training on 3755340 raw words (2853608 effective words) took 1.4s, 1982075 effective words/s\n",
      "2022-07-27 18:01:51,425 : INFO : EPOCH 4 - PROGRESS: at 66.01% examples, 1757286 words/s, in_qsize 14, out_qsize 1\n",
      "2022-07-27 18:01:51,912 : INFO : EPOCH 4: training on 3755340 raw words (2853174 effective words) took 1.5s, 1907511 effective words/s\n",
      "2022-07-27 18:01:52,927 : INFO : EPOCH 5 - PROGRESS: at 69.98% examples, 1884515 words/s, in_qsize 13, out_qsize 0\n",
      "2022-07-27 18:01:53,325 : INFO : EPOCH 5: training on 3755340 raw words (2854558 effective words) took 1.4s, 2038715 effective words/s\n",
      "2022-07-27 18:01:54,341 : INFO : EPOCH 6 - PROGRESS: at 69.98% examples, 1875242 words/s, in_qsize 14, out_qsize 0\n",
      "2022-07-27 18:01:54,748 : INFO : EPOCH 6: training on 3755340 raw words (2855236 effective words) took 1.4s, 2018477 effective words/s\n",
      "2022-07-27 18:01:55,758 : INFO : EPOCH 7 - PROGRESS: at 69.24% examples, 1861933 words/s, in_qsize 13, out_qsize 0\n",
      "2022-07-27 18:01:56,191 : INFO : EPOCH 7: training on 3755340 raw words (2853340 effective words) took 1.4s, 1988594 effective words/s\n",
      "2022-07-27 18:01:57,205 : INFO : EPOCH 8 - PROGRESS: at 69.49% examples, 1863263 words/s, in_qsize 13, out_qsize 0\n",
      "2022-07-27 18:01:57,616 : INFO : EPOCH 8: training on 3755340 raw words (2853290 effective words) took 1.4s, 2015477 effective words/s\n",
      "2022-07-27 18:01:58,630 : INFO : EPOCH 9 - PROGRESS: at 67.98% examples, 1816613 words/s, in_qsize 13, out_qsize 0\n",
      "2022-07-27 18:01:59,054 : INFO : EPOCH 9: training on 3755340 raw words (2854224 effective words) took 1.4s, 1995473 effective words/s\n",
      "2022-07-27 18:02:00,070 : INFO : EPOCH 10 - PROGRESS: at 68.00% examples, 1811751 words/s, in_qsize 13, out_qsize 0\n",
      "2022-07-27 18:02:00,535 : INFO : EPOCH 10: training on 3755340 raw words (2854346 effective words) took 1.5s, 1937010 effective words/s\n",
      "2022-07-27 18:02:01,545 : INFO : EPOCH 11 - PROGRESS: at 69.00% examples, 1857240 words/s, in_qsize 13, out_qsize 0\n",
      "2022-07-27 18:02:01,947 : INFO : EPOCH 11: training on 3755340 raw words (2855162 effective words) took 1.4s, 2035355 effective words/s\n",
      "2022-07-27 18:02:02,957 : INFO : EPOCH 12 - PROGRESS: at 69.25% examples, 1861374 words/s, in_qsize 13, out_qsize 0\n",
      "2022-07-27 18:02:03,355 : INFO : EPOCH 12: training on 3755340 raw words (2853401 effective words) took 1.4s, 2039174 effective words/s\n",
      "2022-07-27 18:02:04,364 : INFO : EPOCH 13 - PROGRESS: at 69.98% examples, 1884362 words/s, in_qsize 13, out_qsize 0\n",
      "2022-07-27 18:02:04,764 : INFO : EPOCH 13: training on 3755340 raw words (2853631 effective words) took 1.4s, 2034493 effective words/s\n",
      "2022-07-27 18:02:05,775 : INFO : EPOCH 14 - PROGRESS: at 70.69% examples, 1909202 words/s, in_qsize 13, out_qsize 0\n",
      "2022-07-27 18:02:06,185 : INFO : EPOCH 14: training on 3755340 raw words (2852781 effective words) took 1.4s, 2019788 effective words/s\n",
      "2022-07-27 18:02:07,196 : INFO : EPOCH 15 - PROGRESS: at 70.21% examples, 1892880 words/s, in_qsize 13, out_qsize 0\n",
      "2022-07-27 18:02:07,589 : INFO : EPOCH 15: training on 3755340 raw words (2853279 effective words) took 1.4s, 2046344 effective words/s\n",
      "2022-07-27 18:02:08,600 : INFO : EPOCH 16 - PROGRESS: at 68.74% examples, 1844862 words/s, in_qsize 13, out_qsize 0\n",
      "2022-07-27 18:02:09,019 : INFO : EPOCH 16: training on 3755340 raw words (2853695 effective words) took 1.4s, 2006722 effective words/s\n",
      "2022-07-27 18:02:10,031 : INFO : EPOCH 17 - PROGRESS: at 71.22% examples, 1919038 words/s, in_qsize 13, out_qsize 0\n",
      "2022-07-27 18:02:10,445 : INFO : EPOCH 17: training on 3755340 raw words (2852330 effective words) took 1.4s, 2010508 effective words/s\n",
      "2022-07-27 18:02:11,460 : INFO : EPOCH 18 - PROGRESS: at 64.05% examples, 1710036 words/s, in_qsize 13, out_qsize 0\n",
      "2022-07-27 18:02:12,029 : INFO : EPOCH 18: training on 3755340 raw words (2853567 effective words) took 1.6s, 1812618 effective words/s\n",
      "2022-07-27 18:02:13,044 : INFO : EPOCH 19 - PROGRESS: at 61.51% examples, 1641812 words/s, in_qsize 12, out_qsize 1\n",
      "2022-07-27 18:02:13,598 : INFO : EPOCH 19: training on 3755340 raw words (2853597 effective words) took 1.6s, 1828091 effective words/s\n",
      "2022-07-27 18:02:13,599 : INFO : Word2Vec lifecycle event {'msg': 'training on 75106800 raw words (57074382 effective words) took 28.2s, 2022705 effective words/s', 'datetime': '2022-07-27T18:02:13.599506', 'gensim': '4.2.0', 'python': '3.10.5 (tags/v3.10.5:f377153, Jun  6 2022, 16:14:13) [MSC v.1929 64 bit (AMD64)]', 'platform': 'Windows-10-10.0.22000-SP0', 'event': 'train'}\n"
     ]
    }
   ],
   "source": [
    "#Train embedding\n",
    "embedding = train_model(size=150, window=3, data=list(sentences['processed']), epochs=20)"
   ]
  },
  {
   "cell_type": "code",
   "execution_count": 10,
   "metadata": {},
   "outputs": [
    {
     "name": "stderr",
     "output_type": "stream",
     "text": [
      "2022-07-27 18:02:13,608 : INFO : Word2Vec lifecycle event {'fname_or_handle': './salida/embedding.model', 'separately': 'None', 'sep_limit': 10485760, 'ignore': frozenset(), 'datetime': '2022-07-27T18:02:13.608505', 'gensim': '4.2.0', 'python': '3.10.5 (tags/v3.10.5:f377153, Jun  6 2022, 16:14:13) [MSC v.1929 64 bit (AMD64)]', 'platform': 'Windows-10-10.0.22000-SP0', 'event': 'saving'}\n",
      "2022-07-27 18:02:13,609 : INFO : not storing attribute cum_table\n",
      "2022-07-27 18:02:13,675 : INFO : saved ./salida/embedding.model\n"
     ]
    }
   ],
   "source": [
    "#Save model\n",
    "embedding.save(f'{output_path}/embedding.model')"
   ]
  },
  {
   "cell_type": "code",
   "execution_count": 11,
   "metadata": {},
   "outputs": [
    {
     "name": "stderr",
     "output_type": "stream",
     "text": [
      "2022-07-27 18:02:13,687 : INFO : loading Word2Vec object from ./salida/embedding.model\n",
      "2022-07-27 18:02:13,725 : INFO : loading wv recursively from ./salida/embedding.model.wv.* with mmap=None\n",
      "2022-07-27 18:02:13,727 : INFO : setting ignored attribute cum_table to None\n",
      "2022-07-27 18:02:13,961 : INFO : Word2Vec lifecycle event {'fname': './salida/embedding.model', 'datetime': '2022-07-27T18:02:13.961532', 'gensim': '4.2.0', 'python': '3.10.5 (tags/v3.10.5:f377153, Jun  6 2022, 16:14:13) [MSC v.1929 64 bit (AMD64)]', 'platform': 'Windows-10-10.0.22000-SP0', 'event': 'loaded'}\n"
     ]
    }
   ],
   "source": [
    "#Load models\n",
    "embedding = gensim.models.Word2Vec.load(f'{output_path}/embedding.model')"
   ]
  },
  {
   "cell_type": "code",
   "execution_count": 12,
   "metadata": {},
   "outputs": [
    {
     "data": {
      "text/plain": [
       "[('northern', 0.47078409790992737),\n",
       " ('minnesota', 0.4571758508682251),\n",
       " ('virginia', 0.4569091498851776),\n",
       " ('punjab', 0.4520406126976013),\n",
       " ('london', 0.4511164128780365),\n",
       " ('dc', 0.4270707666873932),\n",
       " ('france', 0.4257383644580841),\n",
       " ('exile', 0.4248022437095642),\n",
       " ('city', 0.41792455315589905),\n",
       " ('ebloa', 0.4163171947002411),\n",
       " ('mexico', 0.4158628582954407),\n",
       " ('philippines', 0.4062328636646271),\n",
       " ('lithuania', 0.40619122982025146),\n",
       " ('cuntry', 0.4053146243095398),\n",
       " ('oklahoma', 0.3996388614177704)]"
      ]
     },
     "execution_count": 12,
     "metadata": {},
     "output_type": "execute_result"
    }
   ],
   "source": [
    "embedding.wv.most_similar(positive=[\"california\", \"texas\", \"florida\"], topn=15)"
   ]
  },
  {
   "cell_type": "markdown",
   "metadata": {},
   "source": [
    "## train the ML model"
   ]
  },
  {
   "cell_type": "code",
   "execution_count": 13,
   "metadata": {},
   "outputs": [],
   "source": [
    "def sentence_to_embedding(sentence: str) -> np.array:\n",
    "    \"\"\"\n",
    "    Returns the element-wise mean of the embeddings that represent each word in a sentence\n",
    "    \"\"\"\n",
    "    words = preprocessing(sentence)\n",
    "    vector = np.zeros(embedding.layer1_size)\n",
    "    counter = 0\n",
    "    for word in words:\n",
    "        try:\n",
    "            vector += embedding.wv[word]\n",
    "            counter += 1\n",
    "        except:\n",
    "            pass\n",
    "    if counter > 0:\n",
    "        vector = vector / counter\n",
    "    return vector"
   ]
  },
  {
   "cell_type": "code",
   "execution_count": 14,
   "metadata": {},
   "outputs": [
    {
     "name": "stdout",
     "output_type": "stream",
     "text": [
      "Number of rows in the total set: 135556\n",
      "Number of rows in the training set: 94888\n",
      "Number of rows in the validation set: 13556\n",
      "Number of rows in the test set: 27112\n"
     ]
    }
   ],
   "source": [
    "y_sample = sentences['hatespeech'].astype(float)\n",
    "X_sample = sentences['text'].astype(str)\n",
    "\n",
    "X_train_validation, X_test, y_train_validation, y_test = train_test_split(X_sample.values, \n",
    "                                                    y_sample.values, \n",
    "                                                    random_state=42,test_size=0.2)\n",
    "\n",
    "X_train, X_validation, y_train, y_validation = train_test_split(X_train_validation, \n",
    "                                                    y_train_validation, \n",
    "                                                    random_state=42,test_size=0.125)\n",
    "\n",
    "print('Number of rows in the total set: {}'.format(X_sample.shape[0]))\n",
    "print('Number of rows in the training set: {}'.format(X_train.shape[0]))\n",
    "print('Number of rows in the validation set: {}'.format(X_validation.shape[0]))\n",
    "print('Number of rows in the test set: {}'.format(X_test.shape[0]))"
   ]
  },
  {
   "cell_type": "code",
   "execution_count": 15,
   "metadata": {},
   "outputs": [],
   "source": [
    "X_train = pd.DataFrame(X_train, columns=['data']).data.apply(sentence_to_embedding)\n",
    "X_validation = pd.DataFrame(X_validation, columns=['data']).data.apply(sentence_to_embedding)\n",
    "X_test = pd.DataFrame(X_test, columns=['data']).data.apply(sentence_to_embedding)"
   ]
  },
  {
   "cell_type": "code",
   "execution_count": 16,
   "metadata": {},
   "outputs": [],
   "source": [
    "# Create the classification model\n",
    "model = Sequential()\n",
    "model.add(Dense(150, activation='relu'))\n",
    "model.add(Dense(90, activation='relu'))\n",
    "model.add(Dense(45, activation='relu'))\n",
    "model.add(Dense(15, activation='relu'))\n",
    "model.add(Dense(1, activation='sigmoid'))"
   ]
  },
  {
   "cell_type": "code",
   "execution_count": 17,
   "metadata": {},
   "outputs": [],
   "source": [
    "# Compile the model\n",
    "model.compile(loss='binary_crossentropy', optimizer='adam', metrics=['accuracy'])"
   ]
  },
  {
   "cell_type": "code",
   "execution_count": 18,
   "metadata": {},
   "outputs": [
    {
     "name": "stdout",
     "output_type": "stream",
     "text": [
      "Epoch 1/50\n",
      "2966/2966 [==============================] - 4s 1ms/step - loss: 0.3351 - accuracy: 0.8437 - val_loss: 0.3120 - val_accuracy: 0.8458\n",
      "Epoch 2/50\n",
      "2966/2966 [==============================] - 3s 1ms/step - loss: 0.2980 - accuracy: 0.8589 - val_loss: 0.2943 - val_accuracy: 0.8600\n",
      "Epoch 3/50\n",
      "2966/2966 [==============================] - 9s 3ms/step - loss: 0.2790 - accuracy: 0.8690 - val_loss: 0.2831 - val_accuracy: 0.8666\n",
      "Epoch 4/50\n",
      "2966/2966 [==============================] - 11s 4ms/step - loss: 0.2619 - accuracy: 0.8786 - val_loss: 0.2772 - val_accuracy: 0.8678\n",
      "Epoch 5/50\n",
      "2966/2966 [==============================] - 12s 4ms/step - loss: 0.2465 - accuracy: 0.8853 - val_loss: 0.2697 - val_accuracy: 0.8776\n",
      "Epoch 6/50\n",
      "2966/2966 [==============================] - 11s 4ms/step - loss: 0.2302 - accuracy: 0.8955 - val_loss: 0.2744 - val_accuracy: 0.8770\n",
      "Epoch 7/50\n",
      "2966/2966 [==============================] - 12s 4ms/step - loss: 0.2154 - accuracy: 0.9028 - val_loss: 0.2662 - val_accuracy: 0.8865\n",
      "Epoch 8/50\n",
      "2966/2966 [==============================] - 12s 4ms/step - loss: 0.2008 - accuracy: 0.9112 - val_loss: 0.2576 - val_accuracy: 0.8885\n",
      "Epoch 9/50\n",
      "2966/2966 [==============================] - 11s 4ms/step - loss: 0.1876 - accuracy: 0.9187 - val_loss: 0.2748 - val_accuracy: 0.8926\n",
      "Epoch 10/50\n",
      "2966/2966 [==============================] - 11s 4ms/step - loss: 0.1756 - accuracy: 0.9237 - val_loss: 0.2620 - val_accuracy: 0.8946\n",
      "Epoch 11/50\n",
      "2966/2966 [==============================] - 11s 4ms/step - loss: 0.1642 - accuracy: 0.9300 - val_loss: 0.2557 - val_accuracy: 0.9017\n",
      "Epoch 12/50\n",
      "2966/2966 [==============================] - 10s 3ms/step - loss: 0.1559 - accuracy: 0.9346 - val_loss: 0.2486 - val_accuracy: 0.9058\n",
      "Epoch 13/50\n",
      "2966/2966 [==============================] - 11s 4ms/step - loss: 0.1445 - accuracy: 0.9396 - val_loss: 0.2418 - val_accuracy: 0.9095\n",
      "Epoch 14/50\n",
      "2966/2966 [==============================] - 12s 4ms/step - loss: 0.1362 - accuracy: 0.9436 - val_loss: 0.2578 - val_accuracy: 0.9114\n",
      "Epoch 15/50\n",
      "2966/2966 [==============================] - 12s 4ms/step - loss: 0.1290 - accuracy: 0.9477 - val_loss: 0.2580 - val_accuracy: 0.9120\n",
      "Epoch 16/50\n",
      "2966/2966 [==============================] - 11s 4ms/step - loss: 0.1212 - accuracy: 0.9507 - val_loss: 0.2661 - val_accuracy: 0.9161\n",
      "Epoch 17/50\n",
      "2966/2966 [==============================] - 12s 4ms/step - loss: 0.1171 - accuracy: 0.9530 - val_loss: 0.2524 - val_accuracy: 0.9124\n",
      "Epoch 18/50\n",
      "2966/2966 [==============================] - 13s 4ms/step - loss: 0.1079 - accuracy: 0.9572 - val_loss: 0.2737 - val_accuracy: 0.9183\n",
      "Epoch 19/50\n",
      "2966/2966 [==============================] - 13s 4ms/step - loss: 0.1036 - accuracy: 0.9590 - val_loss: 0.2575 - val_accuracy: 0.9207\n",
      "Epoch 20/50\n",
      "2966/2966 [==============================] - 12s 4ms/step - loss: 0.0974 - accuracy: 0.9625 - val_loss: 0.2632 - val_accuracy: 0.9255\n",
      "Epoch 21/50\n",
      "2966/2966 [==============================] - 11s 4ms/step - loss: 0.0944 - accuracy: 0.9633 - val_loss: 0.2537 - val_accuracy: 0.9255\n",
      "Epoch 22/50\n",
      "2966/2966 [==============================] - 13s 4ms/step - loss: 0.0897 - accuracy: 0.9658 - val_loss: 0.2555 - val_accuracy: 0.9277\n",
      "Epoch 23/50\n",
      "2966/2966 [==============================] - 11s 4ms/step - loss: 0.0854 - accuracy: 0.9669 - val_loss: 0.2762 - val_accuracy: 0.9267\n",
      "Epoch 24/50\n",
      "2966/2966 [==============================] - 11s 4ms/step - loss: 0.0831 - accuracy: 0.9681 - val_loss: 0.2706 - val_accuracy: 0.9301\n",
      "Epoch 25/50\n",
      "2966/2966 [==============================] - 10s 3ms/step - loss: 0.0799 - accuracy: 0.9690 - val_loss: 0.3059 - val_accuracy: 0.9197\n",
      "Epoch 26/50\n",
      "2966/2966 [==============================] - 11s 4ms/step - loss: 0.0767 - accuracy: 0.9705 - val_loss: 0.2898 - val_accuracy: 0.9307\n",
      "Epoch 27/50\n",
      "2966/2966 [==============================] - 10s 3ms/step - loss: 0.0717 - accuracy: 0.9728 - val_loss: 0.2851 - val_accuracy: 0.9321\n",
      "Epoch 28/50\n",
      "2966/2966 [==============================] - 12s 4ms/step - loss: 0.0701 - accuracy: 0.9735 - val_loss: 0.2896 - val_accuracy: 0.9324\n",
      "Epoch 29/50\n",
      "2966/2966 [==============================] - 10s 3ms/step - loss: 0.0683 - accuracy: 0.9737 - val_loss: 0.2967 - val_accuracy: 0.9325\n",
      "Epoch 30/50\n",
      "2966/2966 [==============================] - 10s 3ms/step - loss: 0.0645 - accuracy: 0.9753 - val_loss: 0.2801 - val_accuracy: 0.9360\n",
      "Epoch 31/50\n",
      "2966/2966 [==============================] - 12s 4ms/step - loss: 0.0605 - accuracy: 0.9775 - val_loss: 0.2816 - val_accuracy: 0.9371\n",
      "Epoch 32/50\n",
      "2966/2966 [==============================] - 11s 4ms/step - loss: 0.0607 - accuracy: 0.9775 - val_loss: 0.3039 - val_accuracy: 0.9346\n",
      "Epoch 33/50\n",
      "2966/2966 [==============================] - 10s 3ms/step - loss: 0.0571 - accuracy: 0.9786 - val_loss: 0.3127 - val_accuracy: 0.9358\n",
      "Epoch 34/50\n",
      "2966/2966 [==============================] - 10s 4ms/step - loss: 0.0575 - accuracy: 0.9785 - val_loss: 0.2892 - val_accuracy: 0.9349\n",
      "Epoch 35/50\n",
      "2966/2966 [==============================] - 11s 4ms/step - loss: 0.0529 - accuracy: 0.9800 - val_loss: 0.3109 - val_accuracy: 0.9357\n",
      "Epoch 36/50\n",
      "2966/2966 [==============================] - 11s 4ms/step - loss: 0.0514 - accuracy: 0.9810 - val_loss: 0.3517 - val_accuracy: 0.9341\n",
      "Epoch 37/50\n",
      "2966/2966 [==============================] - 11s 4ms/step - loss: 0.0507 - accuracy: 0.9815 - val_loss: 0.3387 - val_accuracy: 0.9345\n",
      "Epoch 38/50\n",
      "2966/2966 [==============================] - 13s 4ms/step - loss: 0.0479 - accuracy: 0.9825 - val_loss: 0.3439 - val_accuracy: 0.9361\n",
      "Epoch 39/50\n",
      "2966/2966 [==============================] - 11s 4ms/step - loss: 0.0479 - accuracy: 0.9824 - val_loss: 0.3417 - val_accuracy: 0.9413\n",
      "Epoch 40/50\n",
      "2966/2966 [==============================] - 12s 4ms/step - loss: 0.0458 - accuracy: 0.9832 - val_loss: 0.3251 - val_accuracy: 0.9439\n",
      "Epoch 41/50\n",
      "2966/2966 [==============================] - 11s 4ms/step - loss: 0.0445 - accuracy: 0.9838 - val_loss: 0.3877 - val_accuracy: 0.9358\n",
      "Epoch 42/50\n",
      "2966/2966 [==============================] - 10s 3ms/step - loss: 0.0431 - accuracy: 0.9837 - val_loss: 0.3705 - val_accuracy: 0.9418\n",
      "Epoch 43/50\n",
      "2966/2966 [==============================] - 11s 4ms/step - loss: 0.0432 - accuracy: 0.9837 - val_loss: 0.3384 - val_accuracy: 0.9439\n",
      "Epoch 44/50\n",
      "2966/2966 [==============================] - 11s 4ms/step - loss: 0.0406 - accuracy: 0.9854 - val_loss: 0.3606 - val_accuracy: 0.9379\n",
      "Epoch 45/50\n",
      "2966/2966 [==============================] - 11s 4ms/step - loss: 0.0408 - accuracy: 0.9851 - val_loss: 0.3683 - val_accuracy: 0.9406\n",
      "Epoch 46/50\n",
      "2966/2966 [==============================] - 11s 4ms/step - loss: 0.0387 - accuracy: 0.9853 - val_loss: 0.3413 - val_accuracy: 0.9398\n",
      "Epoch 47/50\n",
      "2966/2966 [==============================] - 11s 4ms/step - loss: 0.0370 - accuracy: 0.9868 - val_loss: 0.3346 - val_accuracy: 0.9439\n",
      "Epoch 48/50\n",
      "2966/2966 [==============================] - 12s 4ms/step - loss: 0.0368 - accuracy: 0.9865 - val_loss: 0.3621 - val_accuracy: 0.9443\n",
      "Epoch 49/50\n",
      "2966/2966 [==============================] - 12s 4ms/step - loss: 0.0360 - accuracy: 0.9873 - val_loss: 0.3693 - val_accuracy: 0.9425\n",
      "Epoch 50/50\n",
      "2966/2966 [==============================] - 12s 4ms/step - loss: 0.0342 - accuracy: 0.9880 - val_loss: 0.3967 - val_accuracy: 0.9382\n"
     ]
    }
   ],
   "source": [
    "# Train the model\n",
    "history = model.fit(x=np.asarray(X_train.to_list()).astype('float32'),\n",
    "                    y=y_train,\n",
    "                    batch_size=32, \n",
    "                    epochs=50,\n",
    "                    validation_data=(np.asarray(X_validation.to_list()).astype('float32'), y_validation),\n",
    "                    shuffle=True)"
   ]
  },
  {
   "cell_type": "code",
   "execution_count": 19,
   "metadata": {},
   "outputs": [
    {
     "name": "stdout",
     "output_type": "stream",
     "text": [
      "Model: \"sequential\"\n",
      "_________________________________________________________________\n",
      " Layer (type)                Output Shape              Param #   \n",
      "=================================================================\n",
      " dense (Dense)               (None, 150)               22650     \n",
      "                                                                 \n",
      " dense_1 (Dense)             (None, 90)                13590     \n",
      "                                                                 \n",
      " dense_2 (Dense)             (None, 45)                4095      \n",
      "                                                                 \n",
      " dense_3 (Dense)             (None, 15)                690       \n",
      "                                                                 \n",
      " dense_4 (Dense)             (None, 1)                 16        \n",
      "                                                                 \n",
      "=================================================================\n",
      "Total params: 41,041\n",
      "Trainable params: 41,041\n",
      "Non-trainable params: 0\n",
      "_________________________________________________________________\n"
     ]
    }
   ],
   "source": [
    "model.summary()"
   ]
  },
  {
   "cell_type": "code",
   "execution_count": 20,
   "metadata": {},
   "outputs": [
    {
     "name": "stdout",
     "output_type": "stream",
     "text": [
      "272/272 [==============================] - 1s 3ms/step\n",
      "              precision    recall  f1-score   support\n",
      "\n",
      "         0.0       0.96      0.92      0.94     15104\n",
      "         1.0       0.91      0.95      0.93     12008\n",
      "\n",
      "    accuracy                           0.93     27112\n",
      "   macro avg       0.93      0.94      0.93     27112\n",
      "weighted avg       0.94      0.93      0.93     27112\n",
      "\n"
     ]
    },
    {
     "data": {
      "text/plain": [
       "(13962, 1142, 628, 11380)"
      ]
     },
     "execution_count": 20,
     "metadata": {},
     "output_type": "execute_result"
    }
   ],
   "source": [
    "emddng = np.asarray(X_test.to_list()).astype('float32')\n",
    "pred = model.predict(emddng, batch_size=100, verbose=1)\n",
    "report = classification_report(y_test, pred.round())  \n",
    "print(report)\n",
    "tn, fp, fn, tp = confusion_matrix(y_test, pred.round()).ravel()\n",
    "(tn,fp,fn,tp)"
   ]
  },
  {
   "cell_type": "code",
   "execution_count": 21,
   "metadata": {},
   "outputs": [
    {
     "name": "stdout",
     "output_type": "stream",
     "text": [
      "848/848 [==============================] - 3s 3ms/step - loss: 0.3912 - accuracy: 0.9347\n"
     ]
    },
    {
     "data": {
      "text/plain": [
       "[0.3911980986595154, 0.9347152709960938]"
      ]
     },
     "execution_count": 21,
     "metadata": {},
     "output_type": "execute_result"
    }
   ],
   "source": [
    "accr = model.evaluate(np.asarray(X_test.to_list()).astype('float32'), y_test)\n",
    "accr"
   ]
  },
  {
   "cell_type": "code",
   "execution_count": 22,
   "metadata": {},
   "outputs": [
    {
     "name": "stdout",
     "output_type": "stream",
     "text": [
      "Test set\n",
      "  Loss: 0.391\n",
      "  Accuracy: 0.935\n"
     ]
    }
   ],
   "source": [
    "print('Test set\\n  Loss: {:0.3f}\\n  Accuracy: {:0.3f}'.format(accr[0],accr[1]))"
   ]
  },
  {
   "cell_type": "code",
   "execution_count": 23,
   "metadata": {},
   "outputs": [
    {
     "name": "stdout",
     "output_type": "stream",
     "text": [
      "INFO:tensorflow:Assets written to: salida/embedding_model\\assets\n"
     ]
    },
    {
     "name": "stderr",
     "output_type": "stream",
     "text": [
      "2022-07-27 18:11:42,803 : INFO : Assets written to: salida/embedding_model\\assets\n"
     ]
    }
   ],
   "source": [
    "model.save('salida/embedding_model')"
   ]
  },
  {
   "cell_type": "code",
   "execution_count": 24,
   "metadata": {},
   "outputs": [],
   "source": [
    "def prediction(text: str, model: bin) -> str:\n",
    "    emddng = np.asarray([sentence_to_embedding(text).tolist()]).astype('float32')\n",
    "    pred = model.predict(emddng, verbose=1)\n",
    "    result = 'Hate Speech' if pred > 0.5 else 'Not Hate Speech'\n",
    "    print(pred, result)\n",
    "    return result"
   ]
  },
  {
   "cell_type": "code",
   "execution_count": 25,
   "metadata": {},
   "outputs": [],
   "source": [
    "loaded_model = load_model('salida/embedding_model')"
   ]
  },
  {
   "cell_type": "code",
   "execution_count": 26,
   "metadata": {},
   "outputs": [
    {
     "name": "stdout",
     "output_type": "stream",
     "text": [
      "1/1 [==============================] - 0s 133ms/step\n",
      "[[0.999915]] Hate Speech\n",
      "1/1 [==============================] - 0s 36ms/step\n",
      "[[5.798003e-14]] Not Hate Speech\n",
      "1/1 [==============================] - 0s 46ms/step\n",
      "[[0.9651861]] Hate Speech\n",
      "1/1 [==============================] - 0s 46ms/step\n",
      "[[0.9166897]] Hate Speech\n",
      "1/1 [==============================] - 0s 48ms/step\n",
      "[[1.]] Hate Speech\n"
     ]
    },
    {
     "data": {
      "text/plain": [
       "'Hate Speech'"
      ]
     },
     "execution_count": 26,
     "metadata": {},
     "output_type": "execute_result"
    }
   ],
   "source": [
    "prediction('i hate you', loaded_model)\n",
    "prediction('i love you', loaded_model)\n",
    "prediction('i owe you', loaded_model)\n",
    "prediction('You got bitch slapped with your own source', loaded_model)\n",
    "prediction('get away from here stupid bitch', loaded_model)"
   ]
  },
  {
   "cell_type": "code",
   "execution_count": 27,
   "metadata": {},
   "outputs": [
    {
     "data": {
      "text/plain": [
       "<matplotlib.legend.Legend at 0x1ab9e9f0d00>"
      ]
     },
     "execution_count": 27,
     "metadata": {},
     "output_type": "execute_result"
    },
    {
     "data": {
      "image/png": "[encoded data removed]",
      "text/plain": [
       "<Figure size 432x288 with 2 Axes>"
      ]
     },
     "metadata": {
      "needs_background": "light"
     },
     "output_type": "display_data"
    }
   ],
   "source": [
    "s, (at, al) = plt.subplots(2,1)\n",
    "at.plot(history.history['accuracy'], c= 'b')\n",
    "at.plot(history.history['val_accuracy'], c='r')\n",
    "at.set_title('model accuracy')\n",
    "at.set_ylabel('accuracy')\n",
    "at.set_xlabel('epoch')\n",
    "at.legend(['LSTM_train', 'LSTM_val'], loc='upper left')\n",
    "\n",
    "al.plot(history.history['loss'], c='m')\n",
    "al.plot(history.history['val_loss'], c='c')\n",
    "al.set_title('model loss')\n",
    "al.set_ylabel('loss')\n",
    "al.set_xlabel('epoch')\n",
    "al.legend(['train', 'val'], loc = 'upper left')"
   ]
  },
  {
   "cell_type": "markdown",
   "metadata": {},
   "source": [
    "## GloVe2word2vec - Embeddings"
   ]
  },
  {
   "cell_type": "code",
   "execution_count": 28,
   "metadata": {},
   "outputs": [
    {
     "name": "stderr",
     "output_type": "stream",
     "text": [
      "C:\\Users\\Usuario\\AppData\\Local\\Temp\\ipykernel_26472\\3203449831.py:4: DeprecationWarning: Call to deprecated `glove2word2vec` (KeyedVectors.load_word2vec_format(.., binary=False, no_header=True) loads GLoVE text vectors.).\n",
      "  glove2word2vec(glove_filename, word2vec_output_file)\n",
      "2022-07-27 18:11:44,990 : INFO : loading projection weights from ./datos/glove.6B.100d.txt\n",
      "2022-07-27 18:12:34,541 : INFO : KeyedVectors lifecycle event {'msg': 'loaded (400000, 100) matrix of type float32 from ./datos/glove.6B.100d.txt', 'binary': False, 'encoding': 'utf8', 'datetime': '2022-07-27T18:12:34.541298', 'gensim': '4.2.0', 'python': '3.10.5 (tags/v3.10.5:f377153, Jun  6 2022, 16:14:13) [MSC v.1929 64 bit (AMD64)]', 'platform': 'Windows-10-10.0.22000-SP0', 'event': 'load_word2vec_format'}\n",
      "2022-07-27 18:12:34,547 : INFO : converting 400000 vectors from ./datos/glove.6B.100d.txt to ./datos/glove.6B.100d.txt.word2vec\n",
      "2022-07-27 18:12:34,934 : INFO : storing 400000x100 projection weights into ./datos/glove.6B.100d.txt.word2vec\n"
     ]
    },
    {
     "data": {
      "text/plain": [
       "(400000, 100)"
      ]
     },
     "execution_count": 28,
     "metadata": {},
     "output_type": "execute_result"
    }
   ],
   "source": [
    "glove_filename = './datos/glove.6B.100d.txt'\n",
    "\n",
    "word2vec_output_file = glove_filename+'.word2vec'\n",
    "glove2word2vec(glove_filename, word2vec_output_file)"
   ]
  },
  {
   "cell_type": "code",
   "execution_count": 29,
   "metadata": {},
   "outputs": [
    {
     "name": "stderr",
     "output_type": "stream",
     "text": [
      "2022-07-27 18:13:17,730 : INFO : loading projection weights from ./datos/glove.6B.100d.txt.word2vec\n",
      "2022-07-27 18:14:09,995 : INFO : KeyedVectors lifecycle event {'msg': 'loaded (400000, 100) matrix of type float32 from ./datos/glove.6B.100d.txt.word2vec', 'binary': False, 'encoding': 'utf8', 'datetime': '2022-07-27T18:14:09.995713', 'gensim': '4.2.0', 'python': '3.10.5 (tags/v3.10.5:f377153, Jun  6 2022, 16:14:13) [MSC v.1929 64 bit (AMD64)]', 'platform': 'Windows-10-10.0.22000-SP0', 'event': 'load_word2vec_format'}\n"
     ]
    }
   ],
   "source": [
    "# load the Stanford GloVe model\n",
    "word2vec_output_file = glove_filename+'.word2vec'\n",
    "embedding = KeyedVectors.load_word2vec_format(word2vec_output_file, binary=False)"
   ]
  },
  {
   "cell_type": "code",
   "execution_count": 30,
   "metadata": {},
   "outputs": [],
   "source": [
    "def glove_sentence_to_embedding(sentence: str) -> np.array:\n",
    "    \"\"\"\n",
    "    Returns the element-wise mean of the embeddings that represent each word in a sentence\n",
    "    \"\"\"\n",
    "    words = preprocessing(sentence)\n",
    "    vector = np.zeros(embedding.vector_size)\n",
    "    counter = 0\n",
    "    for word in words:\n",
    "        try:\n",
    "            vector += embedding.get_vector(word)\n",
    "            counter += 1\n",
    "        except Exception as e:\n",
    "            pass\n",
    "    if counter > 0:\n",
    "        vector = vector / counter\n",
    "    return vector"
   ]
  },
  {
   "cell_type": "code",
   "execution_count": 31,
   "metadata": {},
   "outputs": [
    {
     "name": "stdout",
     "output_type": "stream",
     "text": [
      "Number of rows in the total set: 135556\n",
      "Number of rows in the training set: 94888\n",
      "Number of rows in the validation set: 13556\n",
      "Number of rows in the test set: 27112\n"
     ]
    }
   ],
   "source": [
    "y_sample = sentences['hatespeech'].astype(float)\n",
    "X_sample = sentences['text'].astype(str)\n",
    "\n",
    "X_train_validation, X_test, y_train_validation, y_test = train_test_split(X_sample.values, \n",
    "                                                    y_sample.values, \n",
    "                                                    random_state=42,test_size=0.2)\n",
    "\n",
    "X_train, X_validation, y_train, y_validation = train_test_split(X_train_validation, \n",
    "                                                    y_train_validation, \n",
    "                                                    random_state=42,test_size=0.125)\n",
    "\n",
    "print('Number of rows in the total set: {}'.format(X_sample.shape[0]))\n",
    "print('Number of rows in the training set: {}'.format(X_train.shape[0]))\n",
    "print('Number of rows in the validation set: {}'.format(X_validation.shape[0]))\n",
    "print('Number of rows in the test set: {}'.format(X_test.shape[0]))"
   ]
  },
  {
   "cell_type": "code",
   "execution_count": 32,
   "metadata": {},
   "outputs": [],
   "source": [
    "X_train = pd.DataFrame(X_train, columns=['data']).data.apply(glove_sentence_to_embedding)\n",
    "X_validation = pd.DataFrame(X_validation, columns=['data']).data.apply(glove_sentence_to_embedding)\n",
    "X_test = pd.DataFrame(X_test, columns=['data']).data.apply(glove_sentence_to_embedding)"
   ]
  },
  {
   "cell_type": "code",
   "execution_count": 33,
   "metadata": {},
   "outputs": [],
   "source": [
    "# Create the classification model\n",
    "glove_model = Sequential()\n",
    "glove_model.add(Dense(100, activation='relu'))\n",
    "glove_model.add(Dense(75, activation='relu'))\n",
    "glove_model.add(Dense(50, activation='relu'))\n",
    "glove_model.add(Dense(25, activation='relu'))\n",
    "glove_model.add(Dense(1, activation='sigmoid'))"
   ]
  },
  {
   "cell_type": "code",
   "execution_count": 34,
   "metadata": {},
   "outputs": [],
   "source": [
    "# Compile the model\n",
    "glove_model.compile(loss='binary_crossentropy', optimizer='adam', metrics=['accuracy'])"
   ]
  },
  {
   "cell_type": "code",
   "execution_count": 35,
   "metadata": {},
   "outputs": [
    {
     "name": "stdout",
     "output_type": "stream",
     "text": [
      "Epoch 1/50\n",
      "2966/2966 [==============================] - 14s 4ms/step - loss: 0.3834 - accuracy: 0.8235 - val_loss: 0.3507 - val_accuracy: 0.8339\n",
      "Epoch 2/50\n",
      "2966/2966 [==============================] - 13s 4ms/step - loss: 0.3373 - accuracy: 0.8385 - val_loss: 0.3398 - val_accuracy: 0.8383\n",
      "Epoch 3/50\n",
      "2966/2966 [==============================] - 16s 6ms/step - loss: 0.3225 - accuracy: 0.8445 - val_loss: 0.3253 - val_accuracy: 0.8431\n",
      "Epoch 4/50\n",
      "2966/2966 [==============================] - 17s 6ms/step - loss: 0.3127 - accuracy: 0.8490 - val_loss: 0.3231 - val_accuracy: 0.8442\n",
      "Epoch 5/50\n",
      "2966/2966 [==============================] - 12s 4ms/step - loss: 0.3045 - accuracy: 0.8538 - val_loss: 0.3388 - val_accuracy: 0.8443\n",
      "Epoch 6/50\n",
      "2966/2966 [==============================] - 18s 6ms/step - loss: 0.2962 - accuracy: 0.8573 - val_loss: 0.3261 - val_accuracy: 0.8545\n",
      "Epoch 7/50\n",
      "2966/2966 [==============================] - 19s 6ms/step - loss: 0.2881 - accuracy: 0.8625 - val_loss: 0.3316 - val_accuracy: 0.8500\n",
      "Epoch 8/50\n",
      "2966/2966 [==============================] - 15s 5ms/step - loss: 0.2811 - accuracy: 0.8656 - val_loss: 0.3240 - val_accuracy: 0.8537\n",
      "Epoch 9/50\n",
      "2966/2966 [==============================] - 11s 4ms/step - loss: 0.2742 - accuracy: 0.8697 - val_loss: 0.3245 - val_accuracy: 0.8589\n",
      "Epoch 10/50\n",
      "2966/2966 [==============================] - 12s 4ms/step - loss: 0.2676 - accuracy: 0.8735 - val_loss: 0.3233 - val_accuracy: 0.8618\n",
      "Epoch 11/50\n",
      "2966/2966 [==============================] - 12s 4ms/step - loss: 0.2610 - accuracy: 0.8776 - val_loss: 0.3177 - val_accuracy: 0.8643\n",
      "Epoch 12/50\n",
      "2966/2966 [==============================] - 11s 4ms/step - loss: 0.2526 - accuracy: 0.8816 - val_loss: 0.3182 - val_accuracy: 0.8654\n",
      "Epoch 13/50\n",
      "2966/2966 [==============================] - 12s 4ms/step - loss: 0.2452 - accuracy: 0.8855 - val_loss: 0.3384 - val_accuracy: 0.8691\n",
      "Epoch 14/50\n",
      "2966/2966 [==============================] - 10s 4ms/step - loss: 0.2399 - accuracy: 0.8896 - val_loss: 0.3169 - val_accuracy: 0.8697\n",
      "Epoch 15/50\n",
      "2966/2966 [==============================] - 11s 4ms/step - loss: 0.2330 - accuracy: 0.8921 - val_loss: 0.3297 - val_accuracy: 0.8767\n",
      "Epoch 16/50\n",
      "2966/2966 [==============================] - 11s 4ms/step - loss: 0.2262 - accuracy: 0.8950 - val_loss: 0.3248 - val_accuracy: 0.8731\n",
      "Epoch 17/50\n",
      "2966/2966 [==============================] - 12s 4ms/step - loss: 0.2223 - accuracy: 0.8981 - val_loss: 0.3277 - val_accuracy: 0.8773\n",
      "Epoch 18/50\n",
      "2966/2966 [==============================] - 13s 4ms/step - loss: 0.2164 - accuracy: 0.9023 - val_loss: 0.3254 - val_accuracy: 0.8786\n",
      "Epoch 19/50\n",
      "2966/2966 [==============================] - 15s 5ms/step - loss: 0.2101 - accuracy: 0.9046 - val_loss: 0.3255 - val_accuracy: 0.8800\n",
      "Epoch 20/50\n",
      "2966/2966 [==============================] - 12s 4ms/step - loss: 0.2068 - accuracy: 0.9062 - val_loss: 0.3106 - val_accuracy: 0.8860\n",
      "Epoch 21/50\n",
      "2966/2966 [==============================] - 12s 4ms/step - loss: 0.1998 - accuracy: 0.9097 - val_loss: 0.3427 - val_accuracy: 0.8744\n",
      "Epoch 22/50\n",
      "2966/2966 [==============================] - 12s 4ms/step - loss: 0.1962 - accuracy: 0.9125 - val_loss: 0.3036 - val_accuracy: 0.8874\n",
      "Epoch 23/50\n",
      "2966/2966 [==============================] - 12s 4ms/step - loss: 0.1904 - accuracy: 0.9155 - val_loss: 0.3243 - val_accuracy: 0.8880\n",
      "Epoch 24/50\n",
      "2966/2966 [==============================] - 10s 4ms/step - loss: 0.1864 - accuracy: 0.9173 - val_loss: 0.3215 - val_accuracy: 0.8864\n",
      "Epoch 25/50\n",
      "2966/2966 [==============================] - 12s 4ms/step - loss: 0.1839 - accuracy: 0.9193 - val_loss: 0.3217 - val_accuracy: 0.8927\n",
      "Epoch 26/50\n",
      "2966/2966 [==============================] - 18s 6ms/step - loss: 0.1785 - accuracy: 0.9209 - val_loss: 0.3194 - val_accuracy: 0.8905\n",
      "Epoch 27/50\n",
      "2966/2966 [==============================] - 21s 7ms/step - loss: 0.1756 - accuracy: 0.9224 - val_loss: 0.3357 - val_accuracy: 0.8883\n",
      "Epoch 28/50\n",
      "2966/2966 [==============================] - 20s 7ms/step - loss: 0.1705 - accuracy: 0.9254 - val_loss: 0.3360 - val_accuracy: 0.8905\n",
      "Epoch 29/50\n",
      "2966/2966 [==============================] - 20s 7ms/step - loss: 0.1667 - accuracy: 0.9274 - val_loss: 0.3307 - val_accuracy: 0.8938\n",
      "Epoch 30/50\n",
      "2966/2966 [==============================] - 20s 7ms/step - loss: 0.1629 - accuracy: 0.9292 - val_loss: 0.3208 - val_accuracy: 0.8953\n",
      "Epoch 31/50\n",
      "2966/2966 [==============================] - 20s 7ms/step - loss: 0.1626 - accuracy: 0.9294 - val_loss: 0.3290 - val_accuracy: 0.8972\n",
      "Epoch 32/50\n",
      "2966/2966 [==============================] - 19s 7ms/step - loss: 0.1585 - accuracy: 0.9310 - val_loss: 0.3292 - val_accuracy: 0.8975\n",
      "Epoch 33/50\n",
      "2966/2966 [==============================] - 21s 7ms/step - loss: 0.1532 - accuracy: 0.9339 - val_loss: 0.3323 - val_accuracy: 0.9001\n",
      "Epoch 34/50\n",
      "2966/2966 [==============================] - 19s 7ms/step - loss: 0.1538 - accuracy: 0.9334 - val_loss: 0.3188 - val_accuracy: 0.8975\n",
      "Epoch 35/50\n",
      "2966/2966 [==============================] - 19s 6ms/step - loss: 0.1491 - accuracy: 0.9366 - val_loss: 0.3282 - val_accuracy: 0.9019\n",
      "Epoch 36/50\n",
      "2966/2966 [==============================] - 23s 8ms/step - loss: 0.1471 - accuracy: 0.9364 - val_loss: 0.3274 - val_accuracy: 0.9042\n",
      "Epoch 37/50\n",
      "2966/2966 [==============================] - 20s 7ms/step - loss: 0.1441 - accuracy: 0.9387 - val_loss: 0.3208 - val_accuracy: 0.9002\n",
      "Epoch 38/50\n",
      "2966/2966 [==============================] - 20s 7ms/step - loss: 0.1400 - accuracy: 0.9404 - val_loss: 0.3312 - val_accuracy: 0.9014\n",
      "Epoch 39/50\n",
      "2966/2966 [==============================] - 19s 6ms/step - loss: 0.1396 - accuracy: 0.9404 - val_loss: 0.3292 - val_accuracy: 0.9089\n",
      "Epoch 40/50\n",
      "2966/2966 [==============================] - 20s 7ms/step - loss: 0.1381 - accuracy: 0.9414 - val_loss: 0.3265 - val_accuracy: 0.9040\n",
      "Epoch 41/50\n",
      "2966/2966 [==============================] - 18s 6ms/step - loss: 0.1342 - accuracy: 0.9438 - val_loss: 0.3532 - val_accuracy: 0.8994\n",
      "Epoch 42/50\n",
      "2966/2966 [==============================] - 15s 5ms/step - loss: 0.1317 - accuracy: 0.9440 - val_loss: 0.3426 - val_accuracy: 0.9051\n",
      "Epoch 43/50\n",
      "2966/2966 [==============================] - 18s 6ms/step - loss: 0.1293 - accuracy: 0.9455 - val_loss: 0.3379 - val_accuracy: 0.9095\n",
      "Epoch 44/50\n",
      "2966/2966 [==============================] - 17s 6ms/step - loss: 0.1309 - accuracy: 0.9457 - val_loss: 0.3427 - val_accuracy: 0.9062\n",
      "Epoch 45/50\n",
      "2966/2966 [==============================] - 18s 6ms/step - loss: 0.1252 - accuracy: 0.9475 - val_loss: 0.3268 - val_accuracy: 0.9105\n",
      "Epoch 46/50\n",
      "2966/2966 [==============================] - 18s 6ms/step - loss: 0.1229 - accuracy: 0.9486 - val_loss: 0.3557 - val_accuracy: 0.9012\n",
      "Epoch 47/50\n",
      "2966/2966 [==============================] - 18s 6ms/step - loss: 0.1229 - accuracy: 0.9481 - val_loss: 0.3662 - val_accuracy: 0.9002\n",
      "Epoch 48/50\n",
      "2966/2966 [==============================] - 19s 7ms/step - loss: 0.1203 - accuracy: 0.9503 - val_loss: 0.3572 - val_accuracy: 0.9065\n",
      "Epoch 49/50\n",
      "2966/2966 [==============================] - 18s 6ms/step - loss: 0.1174 - accuracy: 0.9511 - val_loss: 0.3605 - val_accuracy: 0.9037\n",
      "Epoch 50/50\n",
      "2966/2966 [==============================] - 17s 6ms/step - loss: 0.1161 - accuracy: 0.9526 - val_loss: 0.3503 - val_accuracy: 0.9135\n"
     ]
    }
   ],
   "source": [
    "# Train the model\n",
    "glove_history = glove_model.fit(x=np.asarray(X_train.to_list()).astype('float32'),\n",
    "                    y=y_train, \n",
    "                    batch_size=32, \n",
    "                    epochs=50,\n",
    "                    validation_data=(np.asarray(X_validation.to_list()).astype('float32'), y_validation),\n",
    "                    shuffle=True)"
   ]
  },
  {
   "cell_type": "code",
   "execution_count": 36,
   "metadata": {},
   "outputs": [
    {
     "name": "stdout",
     "output_type": "stream",
     "text": [
      "Model: \"sequential_1\"\n",
      "_________________________________________________________________\n",
      " Layer (type)                Output Shape              Param #   \n",
      "=================================================================\n",
      " dense_5 (Dense)             (None, 100)               10100     \n",
      "                                                                 \n",
      " dense_6 (Dense)             (None, 75)                7575      \n",
      "                                                                 \n",
      " dense_7 (Dense)             (None, 50)                3800      \n",
      "                                                                 \n",
      " dense_8 (Dense)             (None, 25)                1275      \n",
      "                                                                 \n",
      " dense_9 (Dense)             (None, 1)                 26        \n",
      "                                                                 \n",
      "=================================================================\n",
      "Total params: 22,776\n",
      "Trainable params: 22,776\n",
      "Non-trainable params: 0\n",
      "_________________________________________________________________\n"
     ]
    }
   ],
   "source": [
    "glove_model.summary()"
   ]
  },
  {
   "cell_type": "code",
   "execution_count": 37,
   "metadata": {},
   "outputs": [
    {
     "name": "stdout",
     "output_type": "stream",
     "text": [
      "272/272 [==============================] - 1s 4ms/step\n",
      "              precision    recall  f1-score   support\n",
      "\n",
      "         0.0       0.93      0.91      0.92     15104\n",
      "         1.0       0.89      0.91      0.90     12008\n",
      "\n",
      "    accuracy                           0.91     27112\n",
      "   macro avg       0.91      0.91      0.91     27112\n",
      "weighted avg       0.91      0.91      0.91     27112\n",
      "\n"
     ]
    },
    {
     "data": {
      "text/plain": [
       "(13721, 1383, 1028, 10980)"
      ]
     },
     "execution_count": 37,
     "metadata": {},
     "output_type": "execute_result"
    }
   ],
   "source": [
    "emddng = np.asarray(X_test.to_list()).astype('float32')\n",
    "pred = glove_model.predict(emddng, batch_size=100, verbose=1)\n",
    "report = classification_report(y_test, pred.round())  \n",
    "print(report)\n",
    "tn, fp, fn, tp = confusion_matrix(y_test, pred.round()).ravel()\n",
    "(tn,fp,fn,tp)"
   ]
  },
  {
   "cell_type": "code",
   "execution_count": 38,
   "metadata": {},
   "outputs": [
    {
     "name": "stdout",
     "output_type": "stream",
     "text": [
      "848/848 [==============================] - 4s 4ms/step - loss: 0.3297 - accuracy: 0.9111\n",
      "Test set\n",
      "  Loss: 0.330\n",
      "  Accuracy: 0.911\n"
     ]
    }
   ],
   "source": [
    "accr = glove_model.evaluate(np.asarray(X_test.to_list()).astype('float32'), y_test)\n",
    "print('Test set\\n  Loss: {:0.3f}\\n  Accuracy: {:0.3f}'.format(accr[0],accr[1]))"
   ]
  },
  {
   "cell_type": "code",
   "execution_count": 39,
   "metadata": {},
   "outputs": [],
   "source": [
    "def glove_prediction(text: str, model: bin) -> str:\n",
    "    emddng = np.asarray([glove_sentence_to_embedding(text).tolist()]).astype('float32')\n",
    "    pred = model.predict(emddng, verbose=1)\n",
    "    result = 'Hate Speech' if pred > 0.5 else 'Not Hate Speech'\n",
    "    print(text, ' | ', result, ' | ', pred)\n",
    "    return result"
   ]
  },
  {
   "cell_type": "code",
   "execution_count": 40,
   "metadata": {},
   "outputs": [
    {
     "data": {
      "text/plain": [
       "<matplotlib.legend.Legend at 0x1ab896687c0>"
      ]
     },
     "execution_count": 40,
     "metadata": {},
     "output_type": "execute_result"
    },
    {
     "data": {
      "image/png": "[encoded data removed]",
      "text/plain": [
       "<Figure size 432x288 with 2 Axes>"
      ]
     },
     "metadata": {
      "needs_background": "light"
     },
     "output_type": "display_data"
    }
   ],
   "source": [
    "s, (at, al) = plt.subplots(2,1)\n",
    "at.plot(glove_history.history['accuracy'], c= 'b')\n",
    "at.plot(glove_history.history['val_accuracy'], c='r')\n",
    "at.set_title('model accuracy')\n",
    "at.set_ylabel('accuracy')\n",
    "at.set_xlabel('epoch')\n",
    "at.legend(['LSTM_train', 'LSTM_val'], loc='upper left')\n",
    "\n",
    "al.plot(glove_history.history['loss'], c='m')\n",
    "al.plot(glove_history.history['val_loss'], c='c')\n",
    "al.set_title('model loss')\n",
    "al.set_ylabel('loss')\n",
    "al.set_xlabel('epoch')\n",
    "al.legend(['train', 'val'], loc = 'upper left')"
   ]
  },
  {
   "cell_type": "code",
   "execution_count": 41,
   "metadata": {},
   "outputs": [
    {
     "name": "stdout",
     "output_type": "stream",
     "text": [
      "1/1 [==============================] - 0s 118ms/step\n",
      "i hate you  |  Hate Speech  |  [[0.99978197]]\n",
      "1/1 [==============================] - 0s 99ms/step\n",
      "i love you  |  Not Hate Speech  |  [[9.750258e-08]]\n",
      "1/1 [==============================] - 0s 103ms/step\n",
      "i owe you  |  Not Hate Speech  |  [[2.489011e-09]]\n",
      "1/1 [==============================] - 0s 80ms/step\n",
      "You got bitch slapped with your own source  |  Hate Speech  |  [[0.9989683]]\n",
      "1/1 [==============================] - 0s 86ms/step\n",
      "stupid bitch  |  Not Hate Speech  |  [[0.37899277]]\n",
      "1/1 [==============================] - 0s 72ms/step\n",
      "you will die right now  |  Not Hate Speech  |  [[0.00134313]]\n"
     ]
    },
    {
     "data": {
      "text/plain": [
       "'Not Hate Speech'"
      ]
     },
     "execution_count": 41,
     "metadata": {},
     "output_type": "execute_result"
    }
   ],
   "source": [
    "glove_prediction('i hate you', glove_model)\n",
    "glove_prediction('i love you', glove_model)\n",
    "glove_prediction('i owe you', glove_model)\n",
    "glove_prediction('You got bitch slapped with your own source', glove_model)\n",
    "glove_prediction('stupid bitch', glove_model)\n",
    "glove_prediction('you will die right now', glove_model)"
   ]
  },
  {
   "cell_type": "code",
   "execution_count": 42,
   "metadata": {},
   "outputs": [
    {
     "name": "stdout",
     "output_type": "stream",
     "text": [
      "INFO:tensorflow:Assets written to: salida/embedding_glove\\assets\n"
     ]
    },
    {
     "name": "stderr",
     "output_type": "stream",
     "text": [
      "2022-07-27 18:28:33,948 : INFO : Assets written to: salida/embedding_glove\\assets\n"
     ]
    }
   ],
   "source": [
    "glove_model.save('salida/embedding_glove')"
   ]
  },
  {
   "cell_type": "code",
   "execution_count": 43,
   "metadata": {},
   "outputs": [],
   "source": [
    "loaded_model = load_model('salida/embedding_glove')"
   ]
  },
  {
   "cell_type": "code",
   "execution_count": 44,
   "metadata": {},
   "outputs": [
    {
     "name": "stdout",
     "output_type": "stream",
     "text": [
      "1/1 [==============================] - 1s 568ms/step\n",
      "i hate you  |  Hate Speech  |  [[0.99978197]]\n",
      "1/1 [==============================] - 0s 240ms/step\n",
      "i love you  |  Not Hate Speech  |  [[9.750258e-08]]\n",
      "1/1 [==============================] - 0s 118ms/step\n",
      "i owe you  |  Not Hate Speech  |  [[2.489011e-09]]\n",
      "1/1 [==============================] - 0s 281ms/step\n",
      "You got bitch slapped with your own source  |  Hate Speech  |  [[0.9989683]]\n",
      "1/1 [==============================] - 0s 145ms/step\n",
      "get away from here stupid bitch  |  Hate Speech  |  [[0.9153121]]\n",
      "1/1 [==============================] - 0s 270ms/step\n",
      "you will die sooner or later  |  Not Hate Speech  |  [[0.33851787]]\n"
     ]
    },
    {
     "data": {
      "text/plain": [
       "'Not Hate Speech'"
      ]
     },
     "execution_count": 44,
     "metadata": {},
     "output_type": "execute_result"
    }
   ],
   "source": [
    "glove_prediction('i hate you', loaded_model)\n",
    "glove_prediction('i love you', loaded_model)\n",
    "glove_prediction('i owe you', loaded_model)\n",
    "glove_prediction('You got bitch slapped with your own source', loaded_model)\n",
    "glove_prediction('get away from here stupid bitch', loaded_model)\n",
    "glove_prediction('you will die sooner or later', loaded_model)"
   ]
  }
 ],
 "metadata": {
  "kernelspec": {
   "display_name": "Python 3 (ipykernel)",
   "language": "python",
   "name": "python3"
  },
  "language_info": {
   "codemirror_mode": {
    "name": "ipython",
    "version": 3
   },
   "file_extension": ".py",
   "mimetype": "text/x-python",
   "name": "python",
   "nbconvert_exporter": "python",
   "pygments_lexer": "ipython3",
   "version": "3.10.5"
  },
  "vscode": {
   "interpreter": {
    "hash": "c63d8c7d738c2960218a10995aedf0a7f67a49a231e71037adf0440953cdb45b"
   }
  }
 },
 "nbformat": 4,
 "nbformat_minor": 4
}
