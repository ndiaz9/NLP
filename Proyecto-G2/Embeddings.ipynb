{
 "cells": [
  {
   "cell_type": "markdown",
   "metadata": {},
   "source": [
    "## Embeddings"
   ]
  },
  {
   "cell_type": "code",
   "execution_count": 1,
   "metadata": {},
   "outputs": [],
   "source": [
    "import re, gensim, logging, multiprocessing, datasets\n",
    "import pandas as pd\n",
    "import numpy as np\n",
    "import matplotlib.pyplot as plt\n",
    "from gensim.scripts.glove2word2vec import glove2word2vec\n",
    "from gensim.models import KeyedVectors\n",
    "from sklearn.metrics import accuracy_score, precision_score, recall_score, f1_score\n",
    "from sklearn.metrics import classification_report, confusion_matrix\n",
    "from sklearn.model_selection import train_test_split\n",
    "from keras.models import Sequential, load_model\n",
    "from keras.layers import Dense"
   ]
  },
  {
   "cell_type": "code",
   "execution_count": 2,
   "metadata": {},
   "outputs": [],
   "source": [
    "# paths to change\n",
    "output_path = './salida'\n",
    "\n",
    "# congig\n",
    "logging.basicConfig(format='%(asctime)s : %(levelname)s : %(message)s', level=logging.INFO)\n",
    "workers = multiprocessing.cpu_count()-1"
   ]
  },
  {
   "cell_type": "markdown",
   "metadata": {},
   "source": [
    "__process methods__"
   ]
  },
  {
   "cell_type": "code",
   "execution_count": 3,
   "metadata": {},
   "outputs": [],
   "source": [
    "def expand_contractions(document: str) -> str:\n",
    "    \"\"\"\n",
    "    Replace all abbreviations with their corresponding expansion\n",
    "    \"\"\"\n",
    "    document = re.sub(r\"'cause\", \"because\", document)\n",
    "    document = re.sub(r\"o'clock\", \"of the clock\", document)\n",
    "    document = re.sub(r\"won\\'t\", \"will not\", document)\n",
    "    document = re.sub(r\"can\\'t\", \"can not\", document)\n",
    "    document = re.sub(r\"n\\'t\", \" not\", document)\n",
    "    document = re.sub(r\"\\'re\", \" are\", document)\n",
    "    document = re.sub(r\"\\'s\", \" is\", document)\n",
    "    document = re.sub(r\"\\'d\", \" would\", document)\n",
    "    document = re.sub(r\"\\'ll\", \" will\", document)\n",
    "    document = re.sub(r\"\\'t\", \" not\", document)\n",
    "    document = re.sub(r\"\\'ve\", \" have\", document)\n",
    "    document = re.sub(r\"\\'m\", \" am\", document)\n",
    "    return document"
   ]
  },
  {
   "cell_type": "code",
   "execution_count": 4,
   "metadata": {},
   "outputs": [],
   "source": [
    "def replace_numbers(document: str) -> str:\n",
    "    \"\"\"\n",
    "    Replace number appearances with 'number'\n",
    "    \"\"\"\n",
    "    # Case 1: Combination of numbers and letters (Eg. 2nd -> NUM)\n",
    "    document = re.sub('[a-zA-Z]+[0-9]+[a-zA-Z]+', 'number', document)\n",
    "    document = re.sub('[0-9]+[a-zA-Z]+|[a-zA-Z]+[0-9]+', 'number', document)\n",
    "    # Case 2: Decimal numbers (Eg. 2.1 -> NUM)\n",
    "    document = re.sub('[0-9]+\\.+[0-9]+', 'number', document)\n",
    "    # Case 3: Numbers between spaces (Eg. 220 888 -> NUM)\n",
    "    document = re.sub('([0-9]+\\s)*[0-9]+', 'number', document)\n",
    "    # Case 4: One or more of the previous cases (Eg. NUM NUM -> NUM)\n",
    "    document = re.sub('((NUM)+\\s)*(NUM)+', 'number', document)\n",
    "    return document"
   ]
  },
  {
   "cell_type": "code",
   "execution_count": 5,
   "metadata": {},
   "outputs": [],
   "source": [
    "def preprocessing(document: str) -> list:\n",
    "    \"\"\"\n",
    "    iterate over all words in document identifing the word and frecuency\n",
    "    remove all the problematic characters over the word\n",
    "    and return a dictionary with the word as the key and the frecuency as the value\n",
    "    \"\"\"\n",
    "    document = document.lower()\n",
    "    document = expand_contractions(document)\n",
    "    document = replace_numbers(document)\n",
    "    document = re.sub('[^A-Za-z0-9]+', ' ', document)\n",
    "    document = document.split()\n",
    "    return document"
   ]
  },
  {
   "cell_type": "code",
   "execution_count": 6,
   "metadata": {},
   "outputs": [],
   "source": [
    "def get_sentences() -> pd.DataFrame:\n",
    "    \"\"\"\n",
    "    read and process document\n",
    "    \"\"\"\n",
    "    dataset = datasets.load_dataset('ucberkeley-dlab/measuring-hate-speech', 'binary')   \n",
    "    df = dataset['train'].to_pandas()\n",
    "    data = pd.DataFrame()\n",
    "    data['text'] = df.text\n",
    "    data['processed'] = df.text.apply(preprocessing)\n",
    "    data['hatespeech'] = df.hate_speech_score.apply(lambda x: 1 if x > 0 else 0)\n",
    "    return data"
   ]
  },
  {
   "cell_type": "code",
   "execution_count": 7,
   "metadata": {},
   "outputs": [],
   "source": [
    "def train_model(size: int, window: int, data: list, epochs: int) -> gensim.models.Word2Vec:\n",
    "    \"\"\"\n",
    "    Train the word2vec embedding\n",
    "    \"\"\"\n",
    "    model = gensim.models.Word2Vec(sentences=data, \n",
    "                                   vector_size=size, \n",
    "                                   window=window, \n",
    "                                   workers=workers, \n",
    "                                   min_count=3, \n",
    "                                   alpha=0.025, \n",
    "                                   min_alpha=0.0007)\n",
    "    model.build_vocab(data, progress_per=100000)\n",
    "    model.train(data, total_examples=len(data), epochs=epochs)\n",
    "    return model"
   ]
  },
  {
   "cell_type": "markdown",
   "metadata": {},
   "source": [
    "## Create embedding"
   ]
  },
  {
   "cell_type": "code",
   "execution_count": 8,
   "metadata": {},
   "outputs": [
    {
     "name": "stderr",
     "output_type": "stream",
     "text": [
      "2022-07-27 12:59:21,663 : WARNING : Using custom data configuration ucberkeley-dlab--measuring-hate-speech-1d47093687320b66\n",
      "2022-07-27 12:59:21,707 : WARNING : Reusing dataset parquet (C:\\Users\\Usuario\\.cache\\huggingface\\datasets\\ucberkeley-dlab___parquet\\ucberkeley-dlab--measuring-hate-speech-1d47093687320b66\\0.0.0\\7328ef7ee03eaf3f86ae40594d46a1cec86161704e02dd19f232d81eee72ade8)\n"
     ]
    },
    {
     "data": {
      "application/vnd.jupyter.widget-view+json": {
       "model_id": "571181194280452d84753788693a3f40",
       "version_major": 2,
       "version_minor": 0
      },
      "text/plain": [
       "  0%|          | 0/1 [00:00<?, ?it/s]"
      ]
     },
     "metadata": {},
     "output_type": "display_data"
    },
    {
     "data": {
      "text/html": [
       "<div>\n",
       "<style scoped>\n",
       "    .dataframe tbody tr th:only-of-type {\n",
       "        vertical-align: middle;\n",
       "    }\n",
       "\n",
       "    .dataframe tbody tr th {\n",
       "        vertical-align: top;\n",
       "    }\n",
       "\n",
       "    .dataframe thead th {\n",
       "        text-align: right;\n",
       "    }\n",
       "</style>\n",
       "<table border=\"1\" class=\"dataframe\">\n",
       "  <thead>\n",
       "    <tr style=\"text-align: right;\">\n",
       "      <th></th>\n",
       "      <th>text</th>\n",
       "      <th>processed</th>\n",
       "      <th>hatespeech</th>\n",
       "    </tr>\n",
       "  </thead>\n",
       "  <tbody>\n",
       "    <tr>\n",
       "      <th>72690</th>\n",
       "      <td>@BiggieChesse12 Yeah fr these hoes be petty as...</td>\n",
       "      <td>[number, yeah, fr, these, hoes, be, petty, asf...</td>\n",
       "      <td>1</td>\n",
       "    </tr>\n",
       "    <tr>\n",
       "      <th>66207</th>\n",
       "      <td>The woman Muslim she's looking so cute ... mus...</td>\n",
       "      <td>[the, woman, muslim, she, is, looking, so, cut...</td>\n",
       "      <td>0</td>\n",
       "    </tr>\n",
       "    <tr>\n",
       "      <th>100184</th>\n",
       "      <td>Every slant in #LosAngeles should be deported....</td>\n",
       "      <td>[every, slant, in, losangeles, should, be, dep...</td>\n",
       "      <td>1</td>\n",
       "    </tr>\n",
       "    <tr>\n",
       "      <th>5301</th>\n",
       "      <td>🔴#Israel ⚠🔼🔽 Where are human rights and intern...</td>\n",
       "      <td>[israel, where, are, human, rights, and, inter...</td>\n",
       "      <td>0</td>\n",
       "    </tr>\n",
       "    <tr>\n",
       "      <th>16593</th>\n",
       "      <td>Is arameo.(sp?) The true language of the Jews ...</td>\n",
       "      <td>[is, arameo, sp, the, true, language, of, the,...</td>\n",
       "      <td>0</td>\n",
       "    </tr>\n",
       "    <tr>\n",
       "      <th>104853</th>\n",
       "      <td>Hey ,muslim dickhead !!!!!!!! Why don;t you go...</td>\n",
       "      <td>[hey, muslim, dickhead, why, don, t, you, go, ...</td>\n",
       "      <td>1</td>\n",
       "    </tr>\n",
       "    <tr>\n",
       "      <th>25298</th>\n",
       "      <td>it's so true, dude. this is completely natural...</td>\n",
       "      <td>[it, is, so, true, dude, this, is, completely,...</td>\n",
       "      <td>1</td>\n",
       "    </tr>\n",
       "    <tr>\n",
       "      <th>60009</th>\n",
       "      <td>@Duke_Doberman Then yah tell em you're a gay l...</td>\n",
       "      <td>[duke, doberman, then, yah, tell, em, you, are...</td>\n",
       "      <td>1</td>\n",
       "    </tr>\n",
       "    <tr>\n",
       "      <th>89797</th>\n",
       "      <td>Since none of you #cuck wanna have fun, I'm go...</td>\n",
       "      <td>[since, none, of, you, cuck, wanna, have, fun,...</td>\n",
       "      <td>1</td>\n",
       "    </tr>\n",
       "    <tr>\n",
       "      <th>67621</th>\n",
       "      <td>@TahirNasser @DesiDocMI Tahir you make an exce...</td>\n",
       "      <td>[tahirnasser, desidocmi, tahir, you, make, an,...</td>\n",
       "      <td>0</td>\n",
       "    </tr>\n",
       "  </tbody>\n",
       "</table>\n",
       "</div>"
      ],
      "text/plain": [
       "                                                     text  \\\n",
       "72690   @BiggieChesse12 Yeah fr these hoes be petty as...   \n",
       "66207   The woman Muslim she's looking so cute ... mus...   \n",
       "100184  Every slant in #LosAngeles should be deported....   \n",
       "5301    🔴#Israel ⚠🔼🔽 Where are human rights and intern...   \n",
       "16593   Is arameo.(sp?) The true language of the Jews ...   \n",
       "104853  Hey ,muslim dickhead !!!!!!!! Why don;t you go...   \n",
       "25298   it's so true, dude. this is completely natural...   \n",
       "60009   @Duke_Doberman Then yah tell em you're a gay l...   \n",
       "89797   Since none of you #cuck wanna have fun, I'm go...   \n",
       "67621   @TahirNasser @DesiDocMI Tahir you make an exce...   \n",
       "\n",
       "                                                processed  hatespeech  \n",
       "72690   [number, yeah, fr, these, hoes, be, petty, asf...           1  \n",
       "66207   [the, woman, muslim, she, is, looking, so, cut...           0  \n",
       "100184  [every, slant, in, losangeles, should, be, dep...           1  \n",
       "5301    [israel, where, are, human, rights, and, inter...           0  \n",
       "16593   [is, arameo, sp, the, true, language, of, the,...           0  \n",
       "104853  [hey, muslim, dickhead, why, don, t, you, go, ...           1  \n",
       "25298   [it, is, so, true, dude, this, is, completely,...           1  \n",
       "60009   [duke, doberman, then, yah, tell, em, you, are...           1  \n",
       "89797   [since, none, of, you, cuck, wanna, have, fun,...           1  \n",
       "67621   [tahirnasser, desidocmi, tahir, you, make, an,...           0  "
      ]
     },
     "execution_count": 8,
     "metadata": {},
     "output_type": "execute_result"
    }
   ],
   "source": [
    "sentences = get_sentences()\n",
    "sentences.sample(10)"
   ]
  },
  {
   "cell_type": "code",
   "execution_count": 9,
   "metadata": {},
   "outputs": [
    {
     "name": "stderr",
     "output_type": "stream",
     "text": [
      "2022-07-27 12:59:29,370 : INFO : collecting all words and their counts\n",
      "2022-07-27 12:59:29,371 : INFO : PROGRESS: at sentence #0, processed 0 words, keeping 0 word types\n",
      "2022-07-27 12:59:29,397 : INFO : PROGRESS: at sentence #10000, processed 260239 words, keeping 19201 word types\n",
      "2022-07-27 12:59:29,433 : INFO : PROGRESS: at sentence #20000, processed 519498 words, keeping 28373 word types\n",
      "2022-07-27 12:59:29,463 : INFO : PROGRESS: at sentence #30000, processed 784049 words, keeping 32838 word types\n",
      "2022-07-27 12:59:29,492 : INFO : PROGRESS: at sentence #40000, processed 1042524 words, keeping 35810 word types\n",
      "2022-07-27 12:59:29,521 : INFO : PROGRESS: at sentence #50000, processed 1307330 words, keeping 38072 word types\n",
      "2022-07-27 12:59:29,551 : INFO : PROGRESS: at sentence #60000, processed 1565718 words, keeping 39324 word types\n",
      "2022-07-27 12:59:29,580 : INFO : PROGRESS: at sentence #70000, processed 1824124 words, keeping 40644 word types\n",
      "2022-07-27 12:59:29,616 : INFO : PROGRESS: at sentence #80000, processed 2088159 words, keeping 41375 word types\n",
      "2022-07-27 12:59:29,646 : INFO : PROGRESS: at sentence #90000, processed 2347729 words, keeping 42077 word types\n",
      "2022-07-27 12:59:29,675 : INFO : PROGRESS: at sentence #100000, processed 2637653 words, keeping 42239 word types\n",
      "2022-07-27 12:59:29,710 : INFO : PROGRESS: at sentence #110000, processed 2988083 words, keeping 42246 word types\n",
      "2022-07-27 12:59:29,736 : INFO : PROGRESS: at sentence #120000, processed 3266039 words, keeping 42255 word types\n",
      "2022-07-27 12:59:29,772 : INFO : PROGRESS: at sentence #130000, processed 3659800 words, keeping 42271 word types\n",
      "2022-07-27 12:59:29,782 : INFO : collected 42288 word types from a corpus of 3755340 raw words and 135556 sentences\n",
      "2022-07-27 12:59:29,782 : INFO : Creating a fresh vocabulary\n",
      "2022-07-27 12:59:29,843 : INFO : Word2Vec lifecycle event {'msg': 'effective_min_count=3 retains 28140 unique words (66.54% of original 42288, drops 14148)', 'datetime': '2022-07-27T12:59:29.843576', 'gensim': '4.2.0', 'python': '3.10.5 (tags/v3.10.5:f377153, Jun  6 2022, 16:14:13) [MSC v.1929 64 bit (AMD64)]', 'platform': 'Windows-10-10.0.22000-SP0', 'event': 'prepare_vocab'}\n",
      "2022-07-27 12:59:29,843 : INFO : Word2Vec lifecycle event {'msg': 'effective_min_count=3 leaves 3733464 word corpus (99.42% of original 3755340, drops 21876)', 'datetime': '2022-07-27T12:59:29.843576', 'gensim': '4.2.0', 'python': '3.10.5 (tags/v3.10.5:f377153, Jun  6 2022, 16:14:13) [MSC v.1929 64 bit (AMD64)]', 'platform': 'Windows-10-10.0.22000-SP0', 'event': 'prepare_vocab'}\n",
      "2022-07-27 12:59:29,947 : INFO : deleting the raw counts dictionary of 42288 items\n",
      "2022-07-27 12:59:29,949 : INFO : sample=0.001 downsamples 64 most-common words\n",
      "2022-07-27 12:59:29,949 : INFO : Word2Vec lifecycle event {'msg': 'downsampling leaves estimated 2853897.397356875 word corpus (76.4%% of prior 3733464)', 'datetime': '2022-07-27T12:59:29.949156', 'gensim': '4.2.0', 'python': '3.10.5 (tags/v3.10.5:f377153, Jun  6 2022, 16:14:13) [MSC v.1929 64 bit (AMD64)]', 'platform': 'Windows-10-10.0.22000-SP0', 'event': 'prepare_vocab'}\n",
      "2022-07-27 12:59:30,119 : INFO : estimated required memory for 28140 words and 150 dimensions: 47838000 bytes\n",
      "2022-07-27 12:59:30,120 : INFO : resetting layer weights\n",
      "2022-07-27 12:59:30,137 : INFO : Word2Vec lifecycle event {'update': False, 'trim_rule': 'None', 'datetime': '2022-07-27T12:59:30.137784', 'gensim': '4.2.0', 'python': '3.10.5 (tags/v3.10.5:f377153, Jun  6 2022, 16:14:13) [MSC v.1929 64 bit (AMD64)]', 'platform': 'Windows-10-10.0.22000-SP0', 'event': 'build_vocab'}\n",
      "2022-07-27 12:59:30,138 : INFO : Word2Vec lifecycle event {'msg': 'training model with 7 workers on 28140 vocabulary and 150 features, using sg=0 hs=0 sample=0.001 negative=5 window=3 shrink_windows=True', 'datetime': '2022-07-27T12:59:30.138848', 'gensim': '4.2.0', 'python': '3.10.5 (tags/v3.10.5:f377153, Jun  6 2022, 16:14:13) [MSC v.1929 64 bit (AMD64)]', 'platform': 'Windows-10-10.0.22000-SP0', 'event': 'train'}\n",
      "2022-07-27 12:59:31,126 : INFO : EPOCH 0: training on 3755340 raw words (2852755 effective words) took 1.0s, 2942008 effective words/s\n",
      "2022-07-27 12:59:32,102 : INFO : EPOCH 1: training on 3755340 raw words (2853154 effective words) took 1.0s, 2939929 effective words/s\n",
      "2022-07-27 12:59:33,098 : INFO : EPOCH 2: training on 3755340 raw words (2853372 effective words) took 1.0s, 2882292 effective words/s\n",
      "2022-07-27 12:59:34,105 : INFO : EPOCH 3 - PROGRESS: at 98.11% examples, 2815162 words/s, in_qsize 5, out_qsize 1\n",
      "2022-07-27 12:59:34,112 : INFO : EPOCH 3: training on 3755340 raw words (2853790 effective words) took 1.0s, 2829420 effective words/s\n",
      "2022-07-27 12:59:35,119 : INFO : EPOCH 4 - PROGRESS: at 92.87% examples, 2658939 words/s, in_qsize 13, out_qsize 0\n",
      "2022-07-27 12:59:35,182 : INFO : EPOCH 4: training on 3755340 raw words (2853234 effective words) took 1.1s, 2682784 effective words/s\n",
      "2022-07-27 12:59:35,183 : INFO : Word2Vec lifecycle event {'msg': 'training on 18776700 raw words (14266305 effective words) took 5.0s, 2828750 effective words/s', 'datetime': '2022-07-27T12:59:35.182254', 'gensim': '4.2.0', 'python': '3.10.5 (tags/v3.10.5:f377153, Jun  6 2022, 16:14:13) [MSC v.1929 64 bit (AMD64)]', 'platform': 'Windows-10-10.0.22000-SP0', 'event': 'train'}\n",
      "2022-07-27 12:59:35,183 : INFO : Word2Vec lifecycle event {'params': 'Word2Vec<vocab=28140, vector_size=150, alpha=0.025>', 'datetime': '2022-07-27T12:59:35.183256', 'gensim': '4.2.0', 'python': '3.10.5 (tags/v3.10.5:f377153, Jun  6 2022, 16:14:13) [MSC v.1929 64 bit (AMD64)]', 'platform': 'Windows-10-10.0.22000-SP0', 'event': 'created'}\n",
      "2022-07-27 12:59:35,183 : INFO : collecting all words and their counts\n",
      "2022-07-27 12:59:35,183 : INFO : PROGRESS: at sentence #0, processed 0 words, keeping 0 word types\n",
      "2022-07-27 12:59:35,455 : INFO : PROGRESS: at sentence #100000, processed 2637653 words, keeping 42239 word types\n",
      "2022-07-27 12:59:35,547 : INFO : collected 42288 word types from a corpus of 3755340 raw words and 135556 sentences\n",
      "2022-07-27 12:59:35,548 : INFO : Creating a fresh vocabulary\n",
      "2022-07-27 12:59:35,617 : INFO : Word2Vec lifecycle event {'msg': 'effective_min_count=3 retains 28140 unique words (66.54% of original 42288, drops 14148)', 'datetime': '2022-07-27T12:59:35.617046', 'gensim': '4.2.0', 'python': '3.10.5 (tags/v3.10.5:f377153, Jun  6 2022, 16:14:13) [MSC v.1929 64 bit (AMD64)]', 'platform': 'Windows-10-10.0.22000-SP0', 'event': 'prepare_vocab'}\n",
      "2022-07-27 12:59:35,617 : INFO : Word2Vec lifecycle event {'msg': 'effective_min_count=3 leaves 3733464 word corpus (99.42% of original 3755340, drops 21876)', 'datetime': '2022-07-27T12:59:35.617046', 'gensim': '4.2.0', 'python': '3.10.5 (tags/v3.10.5:f377153, Jun  6 2022, 16:14:13) [MSC v.1929 64 bit (AMD64)]', 'platform': 'Windows-10-10.0.22000-SP0', 'event': 'prepare_vocab'}\n",
      "2022-07-27 12:59:35,719 : INFO : deleting the raw counts dictionary of 42288 items\n",
      "2022-07-27 12:59:35,721 : INFO : sample=0.001 downsamples 64 most-common words\n",
      "2022-07-27 12:59:35,721 : INFO : Word2Vec lifecycle event {'msg': 'downsampling leaves estimated 2853897.397356875 word corpus (76.4%% of prior 3733464)', 'datetime': '2022-07-27T12:59:35.721046', 'gensim': '4.2.0', 'python': '3.10.5 (tags/v3.10.5:f377153, Jun  6 2022, 16:14:13) [MSC v.1929 64 bit (AMD64)]', 'platform': 'Windows-10-10.0.22000-SP0', 'event': 'prepare_vocab'}\n",
      "2022-07-27 12:59:35,728 : WARNING : sorting after vectors have been allocated is expensive & error-prone\n",
      "2022-07-27 12:59:35,899 : INFO : estimated required memory for 28140 words and 150 dimensions: 47838000 bytes\n",
      "2022-07-27 12:59:35,900 : INFO : resetting layer weights\n",
      "2022-07-27 12:59:35,901 : INFO : Word2Vec lifecycle event {'update': False, 'trim_rule': 'None', 'datetime': '2022-07-27T12:59:35.901472', 'gensim': '4.2.0', 'python': '3.10.5 (tags/v3.10.5:f377153, Jun  6 2022, 16:14:13) [MSC v.1929 64 bit (AMD64)]', 'platform': 'Windows-10-10.0.22000-SP0', 'event': 'build_vocab'}\n",
      "2022-07-27 12:59:35,902 : WARNING : Effective 'alpha' higher than previous training cycles\n",
      "2022-07-27 12:59:35,902 : INFO : Word2Vec lifecycle event {'msg': 'training model with 7 workers on 28140 vocabulary and 150 features, using sg=0 hs=0 sample=0.001 negative=5 window=3 shrink_windows=True', 'datetime': '2022-07-27T12:59:35.902525', 'gensim': '4.2.0', 'python': '3.10.5 (tags/v3.10.5:f377153, Jun  6 2022, 16:14:13) [MSC v.1929 64 bit (AMD64)]', 'platform': 'Windows-10-10.0.22000-SP0', 'event': 'train'}\n",
      "2022-07-27 12:59:36,910 : INFO : EPOCH 0 - PROGRESS: at 75.74% examples, 2080864 words/s, in_qsize 12, out_qsize 0\n",
      "2022-07-27 12:59:37,172 : INFO : EPOCH 0: training on 3755340 raw words (2853956 effective words) took 1.3s, 2260527 effective words/s\n",
      "2022-07-27 12:59:38,190 : INFO : EPOCH 1 - PROGRESS: at 63.76% examples, 1694687 words/s, in_qsize 12, out_qsize 1\n",
      "2022-07-27 12:59:38,797 : INFO : EPOCH 1: training on 3755340 raw words (2854227 effective words) took 1.6s, 1764770 effective words/s\n",
      "2022-07-27 12:59:39,816 : INFO : EPOCH 2 - PROGRESS: at 54.16% examples, 1449414 words/s, in_qsize 13, out_qsize 0\n",
      "2022-07-27 12:59:40,536 : INFO : EPOCH 2: training on 3755340 raw words (2853241 effective words) took 1.7s, 1654918 effective words/s\n",
      "2022-07-27 12:59:41,551 : INFO : EPOCH 3 - PROGRESS: at 59.79% examples, 1596714 words/s, in_qsize 11, out_qsize 2\n",
      "2022-07-27 12:59:42,167 : INFO : EPOCH 3: training on 3755340 raw words (2853173 effective words) took 1.6s, 1759038 effective words/s\n",
      "2022-07-27 12:59:43,185 : INFO : EPOCH 4 - PROGRESS: at 60.08% examples, 1612901 words/s, in_qsize 14, out_qsize 0\n",
      "2022-07-27 12:59:44,059 : INFO : EPOCH 4: training on 3755340 raw words (2853871 effective words) took 1.9s, 1522480 effective words/s\n",
      "2022-07-27 12:59:45,068 : INFO : EPOCH 5 - PROGRESS: at 60.08% examples, 1613281 words/s, in_qsize 13, out_qsize 0\n",
      "2022-07-27 12:59:45,726 : INFO : EPOCH 5: training on 3755340 raw words (2853353 effective words) took 1.7s, 1720280 effective words/s\n",
      "2022-07-27 12:59:46,740 : INFO : EPOCH 6 - PROGRESS: at 60.36% examples, 1614934 words/s, in_qsize 14, out_qsize 0\n",
      "2022-07-27 12:59:47,392 : INFO : EPOCH 6: training on 3755340 raw words (2854642 effective words) took 1.7s, 1723877 effective words/s\n",
      "2022-07-27 12:59:48,407 : INFO : EPOCH 7 - PROGRESS: at 60.94% examples, 1625402 words/s, in_qsize 12, out_qsize 1\n",
      "2022-07-27 12:59:49,008 : INFO : EPOCH 7: training on 3755340 raw words (2852837 effective words) took 1.6s, 1775070 effective words/s\n",
      "2022-07-27 12:59:50,024 : INFO : EPOCH 8 - PROGRESS: at 60.37% examples, 1610031 words/s, in_qsize 12, out_qsize 1\n",
      "2022-07-27 12:59:50,632 : INFO : EPOCH 8: training on 3755340 raw words (2854277 effective words) took 1.6s, 1767231 effective words/s\n",
      "2022-07-27 12:59:51,643 : INFO : EPOCH 9 - PROGRESS: at 59.79% examples, 1602891 words/s, in_qsize 13, out_qsize 0\n",
      "2022-07-27 12:59:52,252 : INFO : EPOCH 9: training on 3755340 raw words (2852916 effective words) took 1.6s, 1770908 effective words/s\n",
      "2022-07-27 12:59:53,268 : INFO : EPOCH 10 - PROGRESS: at 59.49% examples, 1591283 words/s, in_qsize 13, out_qsize 0\n",
      "2022-07-27 12:59:53,905 : INFO : EPOCH 10: training on 3755340 raw words (2854002 effective words) took 1.6s, 1736863 effective words/s\n",
      "2022-07-27 12:59:54,920 : INFO : EPOCH 11 - PROGRESS: at 58.94% examples, 1576313 words/s, in_qsize 11, out_qsize 2\n",
      "2022-07-27 12:59:55,592 : INFO : EPOCH 11: training on 3755340 raw words (2854606 effective words) took 1.7s, 1702455 effective words/s\n",
      "2022-07-27 12:59:56,604 : INFO : EPOCH 12 - PROGRESS: at 61.23% examples, 1640879 words/s, in_qsize 13, out_qsize 0\n",
      "2022-07-27 12:59:57,158 : INFO : EPOCH 12: training on 3755340 raw words (2853521 effective words) took 1.6s, 1832841 effective words/s\n",
      "2022-07-27 12:59:58,166 : INFO : EPOCH 13 - PROGRESS: at 67.43% examples, 1811897 words/s, in_qsize 13, out_qsize 0\n",
      "2022-07-27 12:59:58,662 : INFO : EPOCH 13: training on 3755340 raw words (2853915 effective words) took 1.5s, 1908087 effective words/s\n",
      "2022-07-27 12:59:59,671 : INFO : EPOCH 14 - PROGRESS: at 66.31% examples, 1780018 words/s, in_qsize 13, out_qsize 0\n",
      "2022-07-27 13:00:00,182 : INFO : EPOCH 14: training on 3755340 raw words (2853182 effective words) took 1.5s, 1888210 effective words/s\n",
      "2022-07-27 13:00:01,197 : INFO : EPOCH 15 - PROGRESS: at 55.82% examples, 1494890 words/s, in_qsize 9, out_qsize 4\n",
      "2022-07-27 13:00:01,916 : INFO : EPOCH 15: training on 3755340 raw words (2854278 effective words) took 1.7s, 1656411 effective words/s\n",
      "2022-07-27 13:00:02,929 : INFO : EPOCH 16 - PROGRESS: at 51.68% examples, 1381044 words/s, in_qsize 13, out_qsize 0\n",
      "2022-07-27 13:00:03,726 : INFO : EPOCH 16: training on 3755340 raw words (2853821 effective words) took 1.8s, 1583460 effective words/s\n",
      "2022-07-27 13:00:04,740 : INFO : EPOCH 17 - PROGRESS: at 47.44% examples, 1266749 words/s, in_qsize 13, out_qsize 0\n",
      "2022-07-27 13:00:05,661 : INFO : EPOCH 17: training on 3755340 raw words (2853619 effective words) took 1.9s, 1482016 effective words/s\n",
      "2022-07-27 13:00:06,677 : INFO : EPOCH 18 - PROGRESS: at 63.48% examples, 1693280 words/s, in_qsize 12, out_qsize 1\n",
      "2022-07-27 13:00:07,280 : INFO : EPOCH 18: training on 3755340 raw words (2854723 effective words) took 1.6s, 1771908 effective words/s\n",
      "2022-07-27 13:00:08,294 : INFO : EPOCH 19 - PROGRESS: at 63.47% examples, 1701940 words/s, in_qsize 13, out_qsize 0\n",
      "2022-07-27 13:00:08,879 : INFO : EPOCH 19: training on 3755340 raw words (2854507 effective words) took 1.6s, 1797870 effective words/s\n",
      "2022-07-27 13:00:08,881 : INFO : Word2Vec lifecycle event {'msg': 'training on 75106800 raw words (57076667 effective words) took 33.0s, 1730777 effective words/s', 'datetime': '2022-07-27T13:00:08.881125', 'gensim': '4.2.0', 'python': '3.10.5 (tags/v3.10.5:f377153, Jun  6 2022, 16:14:13) [MSC v.1929 64 bit (AMD64)]', 'platform': 'Windows-10-10.0.22000-SP0', 'event': 'train'}\n"
     ]
    }
   ],
   "source": [
    "#Train embedding\n",
    "embedding = train_model(size=150, window=3, data=list(sentences['processed']), epochs=20)"
   ]
  },
  {
   "cell_type": "code",
   "execution_count": 10,
   "metadata": {},
   "outputs": [
    {
     "name": "stderr",
     "output_type": "stream",
     "text": [
      "2022-07-27 13:00:08,890 : INFO : Word2Vec lifecycle event {'fname_or_handle': './salida/embedding.model', 'separately': 'None', 'sep_limit': 10485760, 'ignore': frozenset(), 'datetime': '2022-07-27T13:00:08.890117', 'gensim': '4.2.0', 'python': '3.10.5 (tags/v3.10.5:f377153, Jun  6 2022, 16:14:13) [MSC v.1929 64 bit (AMD64)]', 'platform': 'Windows-10-10.0.22000-SP0', 'event': 'saving'}\n",
      "2022-07-27 13:00:08,891 : INFO : not storing attribute cum_table\n",
      "2022-07-27 13:00:08,965 : INFO : saved ./salida/embedding.model\n"
     ]
    }
   ],
   "source": [
    "#Save model\n",
    "embedding.save(f'{output_path}/embedding.model')"
   ]
  },
  {
   "cell_type": "code",
   "execution_count": 11,
   "metadata": {},
   "outputs": [
    {
     "name": "stderr",
     "output_type": "stream",
     "text": [
      "2022-07-27 13:00:08,982 : INFO : loading Word2Vec object from ./salida/embedding.model\n",
      "2022-07-27 13:00:09,100 : INFO : loading wv recursively from ./salida/embedding.model.wv.* with mmap=None\n",
      "2022-07-27 13:00:09,101 : INFO : setting ignored attribute cum_table to None\n",
      "2022-07-27 13:00:09,325 : INFO : Word2Vec lifecycle event {'fname': './salida/embedding.model', 'datetime': '2022-07-27T13:00:09.325652', 'gensim': '4.2.0', 'python': '3.10.5 (tags/v3.10.5:f377153, Jun  6 2022, 16:14:13) [MSC v.1929 64 bit (AMD64)]', 'platform': 'Windows-10-10.0.22000-SP0', 'event': 'loaded'}\n"
     ]
    }
   ],
   "source": [
    "#Load models\n",
    "embedding = gensim.models.Word2Vec.load(f'{output_path}/embedding.model')"
   ]
  },
  {
   "cell_type": "code",
   "execution_count": 12,
   "metadata": {},
   "outputs": [
    {
     "data": {
      "text/plain": [
       "[('ebloa', 0.44950732588768005),\n",
       " ('exile', 0.4405592381954193),\n",
       " ('virginia', 0.43502095341682434),\n",
       " ('punjab', 0.4240919053554535),\n",
       " ('northeast', 0.4114379286766052),\n",
       " ('minnesota', 0.4103951156139374),\n",
       " ('cuntry', 0.4065544903278351),\n",
       " ('mexico', 0.40480172634124756),\n",
       " ('angeles', 0.4021584093570709),\n",
       " ('sc', 0.40105655789375305),\n",
       " ('phillipines', 0.40040645003318787),\n",
       " ('prison', 0.4002951681613922),\n",
       " ('shalom', 0.3977826237678528),\n",
       " ('philippines', 0.3966759145259857),\n",
       " ('northern', 0.3960830867290497)]"
      ]
     },
     "execution_count": 12,
     "metadata": {},
     "output_type": "execute_result"
    }
   ],
   "source": [
    "embedding.wv.most_similar(positive=[\"california\", \"texas\", \"florida\"], topn=15)"
   ]
  },
  {
   "cell_type": "markdown",
   "metadata": {},
   "source": [
    "## train the ML model"
   ]
  },
  {
   "cell_type": "code",
   "execution_count": 13,
   "metadata": {},
   "outputs": [],
   "source": [
    "def sentence_to_embedding(sentence: str) -> np.array:\n",
    "    \"\"\"\n",
    "    Returns the element-wise mean of the embeddings that represent each word in a sentence\n",
    "    \"\"\"\n",
    "    words = preprocessing(sentence)\n",
    "    vector = np.zeros(embedding.layer1_size)\n",
    "    counter = 0\n",
    "    for word in words:\n",
    "        try:\n",
    "            vector += embedding.wv[word]\n",
    "            counter += 1\n",
    "        except:\n",
    "            pass\n",
    "    if counter > 0:\n",
    "        vector = vector / counter\n",
    "    return vector"
   ]
  },
  {
   "cell_type": "code",
   "execution_count": 14,
   "metadata": {},
   "outputs": [
    {
     "name": "stdout",
     "output_type": "stream",
     "text": [
      "Number of rows in the total set: 135556\n",
      "Number of rows in the training set: 94888\n",
      "Number of rows in the validation set: 13556\n",
      "Number of rows in the test set: 27112\n"
     ]
    }
   ],
   "source": [
    "y_sample = sentences['hatespeech'].astype(float)\n",
    "X_sample = sentences['text'].astype(str)\n",
    "\n",
    "X_train_validation, X_test, y_train_validation, y_test = train_test_split(X_sample.values, \n",
    "                                                    y_sample.values, \n",
    "                                                    random_state=42,test_size=0.2)\n",
    "\n",
    "X_train, X_validation, y_train, y_validation = train_test_split(X_train_validation, \n",
    "                                                    y_train_validation, \n",
    "                                                    random_state=42,test_size=0.125)\n",
    "\n",
    "print('Number of rows in the total set: {}'.format(X_sample.shape[0]))\n",
    "print('Number of rows in the training set: {}'.format(X_train.shape[0]))\n",
    "print('Number of rows in the validation set: {}'.format(X_validation.shape[0]))\n",
    "print('Number of rows in the test set: {}'.format(X_test.shape[0]))"
   ]
  },
  {
   "cell_type": "code",
   "execution_count": 15,
   "metadata": {},
   "outputs": [],
   "source": [
    "X_train = pd.DataFrame(X_train, columns=['data']).data.apply(sentence_to_embedding)\n",
    "X_validation = pd.DataFrame(X_validation, columns=['data']).data.apply(sentence_to_embedding)\n",
    "X_test = pd.DataFrame(X_test, columns=['data']).data.apply(sentence_to_embedding)"
   ]
  },
  {
   "cell_type": "code",
   "execution_count": 16,
   "metadata": {},
   "outputs": [],
   "source": [
    "# Create the classification model\n",
    "model = Sequential()\n",
    "model.add(Dense(150, activation='relu'))\n",
    "model.add(Dense(90, activation='relu'))\n",
    "model.add(Dense(45, activation='relu'))\n",
    "model.add(Dense(15, activation='relu'))\n",
    "model.add(Dense(1, activation='sigmoid'))"
   ]
  },
  {
   "cell_type": "code",
   "execution_count": 17,
   "metadata": {},
   "outputs": [],
   "source": [
    "# Compile the model\n",
    "model.compile(loss='binary_crossentropy', optimizer='adam', metrics=['accuracy'])"
   ]
  },
  {
   "cell_type": "code",
   "execution_count": 18,
   "metadata": {},
   "outputs": [
    {
     "name": "stdout",
     "output_type": "stream",
     "text": [
      "Epoch 1/50\n",
      "2966/2966 [==============================] - 4s 1ms/step - loss: 0.3354 - accuracy: 0.8405 - val_loss: 0.3049 - val_accuracy: 0.8539\n",
      "Epoch 2/50\n",
      "2966/2966 [==============================] - 4s 1ms/step - loss: 0.2974 - accuracy: 0.8584 - val_loss: 0.3025 - val_accuracy: 0.8565\n",
      "Epoch 3/50\n",
      "2966/2966 [==============================] - 4s 1ms/step - loss: 0.2789 - accuracy: 0.8687 - val_loss: 0.2825 - val_accuracy: 0.8705\n",
      "Epoch 4/50\n",
      "2966/2966 [==============================] - 4s 1ms/step - loss: 0.2625 - accuracy: 0.8776 - val_loss: 0.2784 - val_accuracy: 0.8715\n",
      "Epoch 5/50\n",
      "2966/2966 [==============================] - 3s 1ms/step - loss: 0.2457 - accuracy: 0.8869 - val_loss: 0.2733 - val_accuracy: 0.8771\n",
      "Epoch 6/50\n",
      "2966/2966 [==============================] - 4s 1ms/step - loss: 0.2307 - accuracy: 0.8942 - val_loss: 0.2609 - val_accuracy: 0.8837\n",
      "Epoch 7/50\n",
      "2966/2966 [==============================] - 4s 1ms/step - loss: 0.2156 - accuracy: 0.9029 - val_loss: 0.2582 - val_accuracy: 0.8887\n",
      "Epoch 8/50\n",
      "2966/2966 [==============================] - 4s 1ms/step - loss: 0.2021 - accuracy: 0.9107 - val_loss: 0.2533 - val_accuracy: 0.8906\n",
      "Epoch 9/50\n",
      "2966/2966 [==============================] - 4s 1ms/step - loss: 0.1875 - accuracy: 0.9178 - val_loss: 0.2597 - val_accuracy: 0.8911\n",
      "Epoch 10/50\n",
      "2966/2966 [==============================] - 4s 1ms/step - loss: 0.1752 - accuracy: 0.9240 - val_loss: 0.2590 - val_accuracy: 0.8992\n",
      "Epoch 11/50\n",
      "2966/2966 [==============================] - 6s 2ms/step - loss: 0.1634 - accuracy: 0.9293 - val_loss: 0.2616 - val_accuracy: 0.8928\n",
      "Epoch 12/50\n",
      "2966/2966 [==============================] - 5s 2ms/step - loss: 0.1537 - accuracy: 0.9350 - val_loss: 0.2517 - val_accuracy: 0.8981\n",
      "Epoch 13/50\n",
      "2966/2966 [==============================] - 5s 2ms/step - loss: 0.1435 - accuracy: 0.9403 - val_loss: 0.2500 - val_accuracy: 0.9048\n",
      "Epoch 14/50\n",
      "2966/2966 [==============================] - 4s 2ms/step - loss: 0.1349 - accuracy: 0.9439 - val_loss: 0.2603 - val_accuracy: 0.9054\n",
      "Epoch 15/50\n",
      "2966/2966 [==============================] - 4s 1ms/step - loss: 0.1272 - accuracy: 0.9469 - val_loss: 0.2457 - val_accuracy: 0.9166\n",
      "Epoch 16/50\n",
      "2966/2966 [==============================] - 4s 1ms/step - loss: 0.1221 - accuracy: 0.9503 - val_loss: 0.2590 - val_accuracy: 0.9135\n",
      "Epoch 17/50\n",
      "2966/2966 [==============================] - 4s 1ms/step - loss: 0.1143 - accuracy: 0.9531 - val_loss: 0.2612 - val_accuracy: 0.9169\n",
      "Epoch 18/50\n",
      "2966/2966 [==============================] - 5s 2ms/step - loss: 0.1094 - accuracy: 0.9562 - val_loss: 0.2377 - val_accuracy: 0.9187\n",
      "Epoch 19/50\n",
      "2966/2966 [==============================] - 6s 2ms/step - loss: 0.1027 - accuracy: 0.9587 - val_loss: 0.2572 - val_accuracy: 0.9218\n",
      "Epoch 20/50\n",
      "2966/2966 [==============================] - 7s 2ms/step - loss: 0.0982 - accuracy: 0.9608 - val_loss: 0.2672 - val_accuracy: 0.9217\n",
      "Epoch 21/50\n",
      "2966/2966 [==============================] - 7s 2ms/step - loss: 0.0938 - accuracy: 0.9628 - val_loss: 0.2696 - val_accuracy: 0.9232\n",
      "Epoch 22/50\n",
      "2966/2966 [==============================] - 9s 3ms/step - loss: 0.0895 - accuracy: 0.9657 - val_loss: 0.2556 - val_accuracy: 0.9299\n",
      "Epoch 23/50\n",
      "2966/2966 [==============================] - 9s 3ms/step - loss: 0.0848 - accuracy: 0.9674 - val_loss: 0.2706 - val_accuracy: 0.9257\n",
      "Epoch 24/50\n",
      "2966/2966 [==============================] - 9s 3ms/step - loss: 0.0824 - accuracy: 0.9677 - val_loss: 0.2593 - val_accuracy: 0.9287\n",
      "Epoch 25/50\n",
      "2966/2966 [==============================] - 8s 3ms/step - loss: 0.0798 - accuracy: 0.9695 - val_loss: 0.2567 - val_accuracy: 0.9300\n",
      "Epoch 26/50\n",
      "2966/2966 [==============================] - 7s 2ms/step - loss: 0.0757 - accuracy: 0.9700 - val_loss: 0.2878 - val_accuracy: 0.9293\n",
      "Epoch 27/50\n",
      "2966/2966 [==============================] - 7s 3ms/step - loss: 0.0734 - accuracy: 0.9721 - val_loss: 0.3061 - val_accuracy: 0.9270\n",
      "Epoch 28/50\n",
      "2966/2966 [==============================] - 7s 3ms/step - loss: 0.0705 - accuracy: 0.9731 - val_loss: 0.2620 - val_accuracy: 0.9329\n",
      "Epoch 29/50\n",
      "2966/2966 [==============================] - 8s 3ms/step - loss: 0.0673 - accuracy: 0.9749 - val_loss: 0.2891 - val_accuracy: 0.9316\n",
      "Epoch 30/50\n",
      "2966/2966 [==============================] - 10s 3ms/step - loss: 0.0642 - accuracy: 0.9754 - val_loss: 0.2860 - val_accuracy: 0.9343\n",
      "Epoch 31/50\n",
      "2966/2966 [==============================] - 10s 4ms/step - loss: 0.0628 - accuracy: 0.9764 - val_loss: 0.3015 - val_accuracy: 0.9355\n",
      "Epoch 32/50\n",
      "2966/2966 [==============================] - 9s 3ms/step - loss: 0.0618 - accuracy: 0.9767 - val_loss: 0.2919 - val_accuracy: 0.9309\n",
      "Epoch 33/50\n",
      "2966/2966 [==============================] - 8s 3ms/step - loss: 0.0571 - accuracy: 0.9789 - val_loss: 0.3075 - val_accuracy: 0.9338\n",
      "Epoch 34/50\n",
      "2966/2966 [==============================] - 8s 3ms/step - loss: 0.0572 - accuracy: 0.9788 - val_loss: 0.2930 - val_accuracy: 0.9356\n",
      "Epoch 35/50\n",
      "2966/2966 [==============================] - 8s 3ms/step - loss: 0.0548 - accuracy: 0.9795 - val_loss: 0.3384 - val_accuracy: 0.9309\n",
      "Epoch 36/50\n",
      "2966/2966 [==============================] - 8s 3ms/step - loss: 0.0543 - accuracy: 0.9801 - val_loss: 0.3226 - val_accuracy: 0.9355\n",
      "Epoch 37/50\n",
      "2966/2966 [==============================] - 8s 3ms/step - loss: 0.0507 - accuracy: 0.9810 - val_loss: 0.3125 - val_accuracy: 0.9376\n",
      "Epoch 38/50\n",
      "2966/2966 [==============================] - 8s 3ms/step - loss: 0.0524 - accuracy: 0.9801 - val_loss: 0.3145 - val_accuracy: 0.9363\n",
      "Epoch 39/50\n",
      "2966/2966 [==============================] - 8s 3ms/step - loss: 0.0487 - accuracy: 0.9822 - val_loss: 0.3076 - val_accuracy: 0.9391\n",
      "Epoch 40/50\n",
      "2966/2966 [==============================] - 9s 3ms/step - loss: 0.0467 - accuracy: 0.9828 - val_loss: 0.3080 - val_accuracy: 0.9404\n",
      "Epoch 41/50\n",
      "2966/2966 [==============================] - 8s 3ms/step - loss: 0.0465 - accuracy: 0.9829 - val_loss: 0.3470 - val_accuracy: 0.9333\n",
      "Epoch 42/50\n",
      "2966/2966 [==============================] - 8s 3ms/step - loss: 0.0447 - accuracy: 0.9834 - val_loss: 0.3391 - val_accuracy: 0.9404\n",
      "Epoch 43/50\n",
      "2966/2966 [==============================] - 9s 3ms/step - loss: 0.0438 - accuracy: 0.9837 - val_loss: 0.3703 - val_accuracy: 0.9332\n",
      "Epoch 44/50\n",
      "2966/2966 [==============================] - 8s 3ms/step - loss: 0.0421 - accuracy: 0.9846 - val_loss: 0.3298 - val_accuracy: 0.9407\n",
      "Epoch 45/50\n",
      "2966/2966 [==============================] - 6s 2ms/step - loss: 0.0423 - accuracy: 0.9846 - val_loss: 0.3334 - val_accuracy: 0.9391\n",
      "Epoch 46/50\n",
      "2966/2966 [==============================] - 7s 2ms/step - loss: 0.0391 - accuracy: 0.9858 - val_loss: 0.3458 - val_accuracy: 0.9411\n",
      "Epoch 47/50\n",
      "2966/2966 [==============================] - 9s 3ms/step - loss: 0.0383 - accuracy: 0.9859 - val_loss: 0.3451 - val_accuracy: 0.9411\n",
      "Epoch 48/50\n",
      "2966/2966 [==============================] - 8s 3ms/step - loss: 0.0378 - accuracy: 0.9859 - val_loss: 0.3488 - val_accuracy: 0.9416\n",
      "Epoch 49/50\n",
      "2966/2966 [==============================] - 8s 3ms/step - loss: 0.0374 - accuracy: 0.9860 - val_loss: 0.3818 - val_accuracy: 0.9394\n",
      "Epoch 50/50\n",
      "2966/2966 [==============================] - 7s 2ms/step - loss: 0.0349 - accuracy: 0.9873 - val_loss: 0.3666 - val_accuracy: 0.9450\n"
     ]
    }
   ],
   "source": [
    "# Train the model\n",
    "history = model.fit(x=np.asarray(X_train.to_list()).astype('float32'),\n",
    "                    y=y_train,\n",
    "                    batch_size=32, \n",
    "                    epochs=50,\n",
    "                    validation_data=(np.asarray(X_validation.to_list()).astype('float32'), y_validation),\n",
    "                    shuffle=True)"
   ]
  },
  {
   "cell_type": "code",
   "execution_count": 19,
   "metadata": {},
   "outputs": [
    {
     "name": "stdout",
     "output_type": "stream",
     "text": [
      "Model: \"sequential\"\n",
      "_________________________________________________________________\n",
      " Layer (type)                Output Shape              Param #   \n",
      "=================================================================\n",
      " dense (Dense)               (None, 150)               22650     \n",
      "                                                                 \n",
      " dense_1 (Dense)             (None, 90)                13590     \n",
      "                                                                 \n",
      " dense_2 (Dense)             (None, 45)                4095      \n",
      "                                                                 \n",
      " dense_3 (Dense)             (None, 15)                690       \n",
      "                                                                 \n",
      " dense_4 (Dense)             (None, 1)                 16        \n",
      "                                                                 \n",
      "=================================================================\n",
      "Total params: 41,041\n",
      "Trainable params: 41,041\n",
      "Non-trainable params: 0\n",
      "_________________________________________________________________\n"
     ]
    }
   ],
   "source": [
    "model.summary()"
   ]
  },
  {
   "cell_type": "code",
   "execution_count": 20,
   "metadata": {},
   "outputs": [
    {
     "name": "stdout",
     "output_type": "stream",
     "text": [
      "848/848 [==============================] - 1s 2ms/step - loss: 0.3779 - accuracy: 0.9427\n"
     ]
    },
    {
     "data": {
      "text/plain": [
       "[0.3778544068336487, 0.9427191019058228]"
      ]
     },
     "execution_count": 20,
     "metadata": {},
     "output_type": "execute_result"
    }
   ],
   "source": [
    "accr = model.evaluate(np.asarray(X_test.to_list()).astype('float32'), y_test)\n",
    "accr"
   ]
  },
  {
   "cell_type": "code",
   "execution_count": 21,
   "metadata": {},
   "outputs": [
    {
     "name": "stdout",
     "output_type": "stream",
     "text": [
      "Test set\n",
      "  Loss: 0.378\n",
      "  Accuracy: 0.943\n"
     ]
    }
   ],
   "source": [
    "print('Test set\\n  Loss: {:0.3f}\\n  Accuracy: {:0.3f}'.format(accr[0],accr[1]))"
   ]
  },
  {
   "cell_type": "code",
   "execution_count": 22,
   "metadata": {},
   "outputs": [
    {
     "name": "stdout",
     "output_type": "stream",
     "text": [
      "INFO:tensorflow:Assets written to: salida/embedding_model\\assets\n"
     ]
    },
    {
     "name": "stderr",
     "output_type": "stream",
     "text": [
      "2022-07-27 13:06:04,869 : INFO : Assets written to: salida/embedding_model\\assets\n"
     ]
    }
   ],
   "source": [
    "model.save('salida/embedding_model')"
   ]
  },
  {
   "cell_type": "code",
   "execution_count": 23,
   "metadata": {},
   "outputs": [],
   "source": [
    "def prediction(text: str, model: bin) -> str:\n",
    "    emddng = np.asarray([sentence_to_embedding(text).tolist()]).astype('float32')\n",
    "    pred = model.predict(emddng, verbose=1)\n",
    "    result = 'Hate Speech' if pred > 0.5 else 'Not Hate Speech'\n",
    "    print(pred, result)\n",
    "    return result"
   ]
  },
  {
   "cell_type": "code",
   "execution_count": 24,
   "metadata": {},
   "outputs": [],
   "source": [
    "loaded_model = load_model('salida/embedding_model')"
   ]
  },
  {
   "cell_type": "code",
   "execution_count": 25,
   "metadata": {},
   "outputs": [
    {
     "name": "stdout",
     "output_type": "stream",
     "text": [
      "1/1 [==============================] - 0s 281ms/step\n",
      "[[1.]] Hate Speech\n",
      "1/1 [==============================] - 0s 44ms/step\n",
      "[[1.4975794e-16]] Not Hate Speech\n",
      "1/1 [==============================] - 0s 45ms/step\n",
      "[[0.02784728]] Not Hate Speech\n",
      "1/1 [==============================] - 0s 43ms/step\n",
      "[[0.9999998]] Hate Speech\n",
      "1/1 [==============================] - 0s 46ms/step\n",
      "[[0.00929866]] Not Hate Speech\n"
     ]
    },
    {
     "data": {
      "text/plain": [
       "'Not Hate Speech'"
      ]
     },
     "execution_count": 25,
     "metadata": {},
     "output_type": "execute_result"
    }
   ],
   "source": [
    "prediction('i hate you', loaded_model)\n",
    "prediction('i love you', loaded_model)\n",
    "prediction('i owe you', loaded_model)\n",
    "prediction('You got bitch slapped with your own source', loaded_model)\n",
    "prediction('get away from here stupid bitch', loaded_model)"
   ]
  },
  {
   "cell_type": "code",
   "execution_count": 26,
   "metadata": {},
   "outputs": [
    {
     "data": {
      "text/plain": [
       "<matplotlib.legend.Legend at 0x27118c7e350>"
      ]
     },
     "execution_count": 26,
     "metadata": {},
     "output_type": "execute_result"
    },
    {
     "data": {
      "image/png": "[encoded data removed]",
      "text/plain": [
       "<Figure size 432x288 with 2 Axes>"
      ]
     },
     "metadata": {
      "needs_background": "light"
     },
     "output_type": "display_data"
    }
   ],
   "source": [
    "s, (at, al) = plt.subplots(2,1)\n",
    "at.plot(history.history['accuracy'], c= 'b')\n",
    "at.plot(history.history['val_accuracy'], c='r')\n",
    "at.set_title('model accuracy')\n",
    "at.set_ylabel('accuracy')\n",
    "at.set_xlabel('epoch')\n",
    "at.legend(['LSTM_train', 'LSTM_val'], loc='upper left')\n",
    "\n",
    "al.plot(history.history['loss'], c='m')\n",
    "al.plot(history.history['val_loss'], c='c')\n",
    "al.set_title('model loss')\n",
    "al.set_ylabel('loss')\n",
    "al.set_xlabel('epoch')\n",
    "al.legend(['train', 'val'], loc = 'upper left')"
   ]
  },
  {
   "cell_type": "markdown",
   "metadata": {},
   "source": [
    "## GloVe2word2vec - Embeddings"
   ]
  },
  {
   "cell_type": "code",
   "execution_count": 27,
   "metadata": {},
   "outputs": [
    {
     "name": "stderr",
     "output_type": "stream",
     "text": [
      "C:\\Users\\Usuario\\AppData\\Local\\Temp\\ipykernel_10204\\3203449831.py:4: DeprecationWarning: Call to deprecated `glove2word2vec` (KeyedVectors.load_word2vec_format(.., binary=False, no_header=True) loads GLoVE text vectors.).\n",
      "  glove2word2vec(glove_filename, word2vec_output_file)\n",
      "2022-07-27 13:06:08,240 : INFO : loading projection weights from ./datos/glove.6B.100d.txt\n",
      "2022-07-27 13:07:46,708 : INFO : KeyedVectors lifecycle event {'msg': 'loaded (400000, 100) matrix of type float32 from ./datos/glove.6B.100d.txt', 'binary': False, 'encoding': 'utf8', 'datetime': '2022-07-27T13:07:46.708210', 'gensim': '4.2.0', 'python': '3.10.5 (tags/v3.10.5:f377153, Jun  6 2022, 16:14:13) [MSC v.1929 64 bit (AMD64)]', 'platform': 'Windows-10-10.0.22000-SP0', 'event': 'load_word2vec_format'}\n",
      "2022-07-27 13:07:46,710 : INFO : converting 400000 vectors from ./datos/glove.6B.100d.txt to ./datos/glove.6B.100d.txt.word2vec\n",
      "2022-07-27 13:07:47,334 : INFO : storing 400000x100 projection weights into ./datos/glove.6B.100d.txt.word2vec\n"
     ]
    },
    {
     "data": {
      "text/plain": [
       "(400000, 100)"
      ]
     },
     "execution_count": 27,
     "metadata": {},
     "output_type": "execute_result"
    }
   ],
   "source": [
    "glove_filename = './datos/glove.6B.100d.txt'\n",
    "\n",
    "word2vec_output_file = glove_filename+'.word2vec'\n",
    "glove2word2vec(glove_filename, word2vec_output_file)"
   ]
  },
  {
   "cell_type": "code",
   "execution_count": 28,
   "metadata": {},
   "outputs": [
    {
     "name": "stderr",
     "output_type": "stream",
     "text": [
      "2022-07-27 13:08:51,687 : INFO : loading projection weights from ./datos/glove.6B.100d.txt.word2vec\n",
      "2022-07-27 13:10:25,662 : INFO : KeyedVectors lifecycle event {'msg': 'loaded (400000, 100) matrix of type float32 from ./datos/glove.6B.100d.txt.word2vec', 'binary': False, 'encoding': 'utf8', 'datetime': '2022-07-27T13:10:25.662279', 'gensim': '4.2.0', 'python': '3.10.5 (tags/v3.10.5:f377153, Jun  6 2022, 16:14:13) [MSC v.1929 64 bit (AMD64)]', 'platform': 'Windows-10-10.0.22000-SP0', 'event': 'load_word2vec_format'}\n"
     ]
    }
   ],
   "source": [
    "# load the Stanford GloVe model\n",
    "word2vec_output_file = glove_filename+'.word2vec'\n",
    "embedding = KeyedVectors.load_word2vec_format(word2vec_output_file, binary=False)"
   ]
  },
  {
   "cell_type": "code",
   "execution_count": 29,
   "metadata": {},
   "outputs": [],
   "source": [
    "def glove_sentence_to_embedding(sentence: str) -> np.array:\n",
    "    \"\"\"\n",
    "    Returns the element-wise mean of the embeddings that represent each word in a sentence\n",
    "    \"\"\"\n",
    "    words = preprocessing(sentence)\n",
    "    vector = np.zeros(embedding.vector_size)\n",
    "    counter = 0\n",
    "    for word in words:\n",
    "        try:\n",
    "            vector += embedding.get_vector(word)\n",
    "            counter += 1\n",
    "        except Exception as e:\n",
    "            pass\n",
    "    if counter > 0:\n",
    "        vector = vector / counter\n",
    "    return vector"
   ]
  },
  {
   "cell_type": "code",
   "execution_count": 30,
   "metadata": {},
   "outputs": [
    {
     "name": "stdout",
     "output_type": "stream",
     "text": [
      "Number of rows in the total set: 135556\n",
      "Number of rows in the training set: 94888\n",
      "Number of rows in the validation set: 13556\n",
      "Number of rows in the test set: 27112\n"
     ]
    }
   ],
   "source": [
    "y_sample = sentences['hatespeech'].astype(float)\n",
    "X_sample = sentences['text'].astype(str)\n",
    "\n",
    "X_train_validation, X_test, y_train_validation, y_test = train_test_split(X_sample.values, \n",
    "                                                    y_sample.values, \n",
    "                                                    random_state=42,test_size=0.2)\n",
    "\n",
    "X_train, X_validation, y_train, y_validation = train_test_split(X_train_validation, \n",
    "                                                    y_train_validation, \n",
    "                                                    random_state=42,test_size=0.125)\n",
    "\n",
    "print('Number of rows in the total set: {}'.format(X_sample.shape[0]))\n",
    "print('Number of rows in the training set: {}'.format(X_train.shape[0]))\n",
    "print('Number of rows in the validation set: {}'.format(X_validation.shape[0]))\n",
    "print('Number of rows in the test set: {}'.format(X_test.shape[0]))"
   ]
  },
  {
   "cell_type": "code",
   "execution_count": 31,
   "metadata": {},
   "outputs": [],
   "source": [
    "X_train = pd.DataFrame(X_train, columns=['data']).data.apply(glove_sentence_to_embedding)\n",
    "X_validation = pd.DataFrame(X_validation, columns=['data']).data.apply(glove_sentence_to_embedding)\n",
    "X_test = pd.DataFrame(X_test, columns=['data']).data.apply(glove_sentence_to_embedding)"
   ]
  },
  {
   "cell_type": "code",
   "execution_count": 32,
   "metadata": {},
   "outputs": [],
   "source": [
    "# Create the classification model\n",
    "glove_model = Sequential()\n",
    "glove_model.add(Dense(100, activation='relu'))\n",
    "glove_model.add(Dense(75, activation='relu'))\n",
    "glove_model.add(Dense(50, activation='relu'))\n",
    "glove_model.add(Dense(25, activation='relu'))\n",
    "glove_model.add(Dense(1, activation='sigmoid'))"
   ]
  },
  {
   "cell_type": "code",
   "execution_count": 33,
   "metadata": {},
   "outputs": [],
   "source": [
    "# Compile the model\n",
    "glove_model.compile(loss='binary_crossentropy', optimizer='adam', metrics=['accuracy'])"
   ]
  },
  {
   "cell_type": "code",
   "execution_count": 34,
   "metadata": {},
   "outputs": [
    {
     "name": "stdout",
     "output_type": "stream",
     "text": [
      "Epoch 1/50\n",
      "2966/2966 [==============================] - 9s 3ms/step - loss: 0.3852 - accuracy: 0.8220 - val_loss: 0.3529 - val_accuracy: 0.8339\n",
      "Epoch 2/50\n",
      "2966/2966 [==============================] - 7s 2ms/step - loss: 0.3388 - accuracy: 0.8371 - val_loss: 0.3286 - val_accuracy: 0.8400\n",
      "Epoch 3/50\n",
      "2966/2966 [==============================] - 7s 2ms/step - loss: 0.3258 - accuracy: 0.8433 - val_loss: 0.3343 - val_accuracy: 0.8368\n",
      "Epoch 4/50\n",
      "2966/2966 [==============================] - 7s 2ms/step - loss: 0.3151 - accuracy: 0.8466 - val_loss: 0.3362 - val_accuracy: 0.8409\n",
      "Epoch 5/50\n",
      "2966/2966 [==============================] - 6s 2ms/step - loss: 0.3061 - accuracy: 0.8509 - val_loss: 0.3278 - val_accuracy: 0.8491\n",
      "Epoch 6/50\n",
      "2966/2966 [==============================] - 7s 2ms/step - loss: 0.2980 - accuracy: 0.8567 - val_loss: 0.3169 - val_accuracy: 0.8503\n",
      "Epoch 7/50\n",
      "2966/2966 [==============================] - 7s 2ms/step - loss: 0.2908 - accuracy: 0.8591 - val_loss: 0.3224 - val_accuracy: 0.8503\n",
      "Epoch 8/50\n",
      "2966/2966 [==============================] - 7s 2ms/step - loss: 0.2830 - accuracy: 0.8633 - val_loss: 0.3151 - val_accuracy: 0.8583\n",
      "Epoch 9/50\n",
      "2966/2966 [==============================] - 7s 2ms/step - loss: 0.2751 - accuracy: 0.8675 - val_loss: 0.3192 - val_accuracy: 0.8604\n",
      "Epoch 10/50\n",
      "2966/2966 [==============================] - 7s 2ms/step - loss: 0.2682 - accuracy: 0.8721 - val_loss: 0.3188 - val_accuracy: 0.8633\n",
      "Epoch 11/50\n",
      "2966/2966 [==============================] - 7s 2ms/step - loss: 0.2620 - accuracy: 0.8747 - val_loss: 0.3125 - val_accuracy: 0.8655\n",
      "Epoch 12/50\n",
      "2966/2966 [==============================] - 7s 2ms/step - loss: 0.2555 - accuracy: 0.8795 - val_loss: 0.3032 - val_accuracy: 0.8674\n",
      "Epoch 13/50\n",
      "2966/2966 [==============================] - 7s 2ms/step - loss: 0.2480 - accuracy: 0.8836 - val_loss: 0.3121 - val_accuracy: 0.8665\n",
      "Epoch 14/50\n",
      "2966/2966 [==============================] - 6s 2ms/step - loss: 0.2420 - accuracy: 0.8858 - val_loss: 0.3089 - val_accuracy: 0.8725\n",
      "Epoch 15/50\n",
      "2966/2966 [==============================] - 7s 2ms/step - loss: 0.2356 - accuracy: 0.8899 - val_loss: 0.3348 - val_accuracy: 0.8614\n",
      "Epoch 16/50\n",
      "2966/2966 [==============================] - 7s 3ms/step - loss: 0.2294 - accuracy: 0.8932 - val_loss: 0.3300 - val_accuracy: 0.8659\n",
      "Epoch 17/50\n",
      "2966/2966 [==============================] - 7s 2ms/step - loss: 0.2231 - accuracy: 0.8968 - val_loss: 0.3406 - val_accuracy: 0.8702\n",
      "Epoch 18/50\n",
      "2966/2966 [==============================] - 7s 2ms/step - loss: 0.2195 - accuracy: 0.8989 - val_loss: 0.3086 - val_accuracy: 0.8815\n",
      "Epoch 19/50\n",
      "2966/2966 [==============================] - 7s 3ms/step - loss: 0.2132 - accuracy: 0.9019 - val_loss: 0.3206 - val_accuracy: 0.8746\n",
      "Epoch 20/50\n",
      "2966/2966 [==============================] - 7s 2ms/step - loss: 0.2080 - accuracy: 0.9046 - val_loss: 0.3192 - val_accuracy: 0.8748\n",
      "Epoch 21/50\n",
      "2966/2966 [==============================] - 7s 2ms/step - loss: 0.2048 - accuracy: 0.9067 - val_loss: 0.3040 - val_accuracy: 0.8842\n",
      "Epoch 22/50\n",
      "2966/2966 [==============================] - 7s 2ms/step - loss: 0.1975 - accuracy: 0.9103 - val_loss: 0.3037 - val_accuracy: 0.8842\n",
      "Epoch 23/50\n",
      "2966/2966 [==============================] - 7s 2ms/step - loss: 0.1937 - accuracy: 0.9118 - val_loss: 0.3122 - val_accuracy: 0.8824\n",
      "Epoch 24/50\n",
      "2966/2966 [==============================] - 7s 2ms/step - loss: 0.1893 - accuracy: 0.9156 - val_loss: 0.3302 - val_accuracy: 0.8862\n",
      "Epoch 25/50\n",
      "2966/2966 [==============================] - 6s 2ms/step - loss: 0.1854 - accuracy: 0.9174 - val_loss: 0.3079 - val_accuracy: 0.8898\n",
      "Epoch 26/50\n",
      "2966/2966 [==============================] - 6s 2ms/step - loss: 0.1820 - accuracy: 0.9189 - val_loss: 0.3080 - val_accuracy: 0.8904\n",
      "Epoch 27/50\n",
      "2966/2966 [==============================] - 6s 2ms/step - loss: 0.1780 - accuracy: 0.9208 - val_loss: 0.3145 - val_accuracy: 0.8927\n",
      "Epoch 28/50\n",
      "2966/2966 [==============================] - 6s 2ms/step - loss: 0.1725 - accuracy: 0.9236 - val_loss: 0.3347 - val_accuracy: 0.8888\n",
      "Epoch 29/50\n",
      "2966/2966 [==============================] - 7s 2ms/step - loss: 0.1703 - accuracy: 0.9240 - val_loss: 0.3154 - val_accuracy: 0.8958\n",
      "Epoch 30/50\n",
      "2966/2966 [==============================] - 6s 2ms/step - loss: 0.1665 - accuracy: 0.9262 - val_loss: 0.3124 - val_accuracy: 0.8951\n",
      "Epoch 31/50\n",
      "2966/2966 [==============================] - 6s 2ms/step - loss: 0.1634 - accuracy: 0.9289 - val_loss: 0.3072 - val_accuracy: 0.8985\n",
      "Epoch 32/50\n",
      "2966/2966 [==============================] - 6s 2ms/step - loss: 0.1588 - accuracy: 0.9308 - val_loss: 0.3321 - val_accuracy: 0.8964\n",
      "Epoch 33/50\n",
      "2966/2966 [==============================] - 7s 2ms/step - loss: 0.1561 - accuracy: 0.9310 - val_loss: 0.3193 - val_accuracy: 0.8972\n",
      "Epoch 34/50\n",
      "2966/2966 [==============================] - 7s 2ms/step - loss: 0.1537 - accuracy: 0.9337 - val_loss: 0.3268 - val_accuracy: 0.8994\n",
      "Epoch 35/50\n",
      "2966/2966 [==============================] - 7s 2ms/step - loss: 0.1499 - accuracy: 0.9349 - val_loss: 0.3335 - val_accuracy: 0.8989\n",
      "Epoch 36/50\n",
      "2966/2966 [==============================] - 7s 2ms/step - loss: 0.1489 - accuracy: 0.9353 - val_loss: 0.3473 - val_accuracy: 0.8951\n",
      "Epoch 37/50\n",
      "2966/2966 [==============================] - 7s 2ms/step - loss: 0.1437 - accuracy: 0.9385 - val_loss: 0.3247 - val_accuracy: 0.9061\n",
      "Epoch 38/50\n",
      "2966/2966 [==============================] - 7s 2ms/step - loss: 0.1416 - accuracy: 0.9393 - val_loss: 0.3267 - val_accuracy: 0.9002\n",
      "Epoch 39/50\n",
      "2966/2966 [==============================] - 7s 2ms/step - loss: 0.1403 - accuracy: 0.9398 - val_loss: 0.3483 - val_accuracy: 0.9022\n",
      "Epoch 40/50\n",
      "2966/2966 [==============================] - 7s 2ms/step - loss: 0.1379 - accuracy: 0.9405 - val_loss: 0.3400 - val_accuracy: 0.9006\n",
      "Epoch 41/50\n",
      "2966/2966 [==============================] - 7s 2ms/step - loss: 0.1344 - accuracy: 0.9420 - val_loss: 0.3180 - val_accuracy: 0.8976\n",
      "Epoch 42/50\n",
      "2966/2966 [==============================] - 7s 2ms/step - loss: 0.1324 - accuracy: 0.9432 - val_loss: 0.3582 - val_accuracy: 0.8956\n",
      "Epoch 43/50\n",
      "2966/2966 [==============================] - 7s 2ms/step - loss: 0.1308 - accuracy: 0.9451 - val_loss: 0.3317 - val_accuracy: 0.9051\n",
      "Epoch 44/50\n",
      "2966/2966 [==============================] - 7s 2ms/step - loss: 0.1284 - accuracy: 0.9453 - val_loss: 0.3419 - val_accuracy: 0.9073\n",
      "Epoch 45/50\n",
      "2966/2966 [==============================] - 7s 2ms/step - loss: 0.1253 - accuracy: 0.9470 - val_loss: 0.3545 - val_accuracy: 0.9071\n",
      "Epoch 46/50\n",
      "2966/2966 [==============================] - 7s 2ms/step - loss: 0.1230 - accuracy: 0.9484 - val_loss: 0.3502 - val_accuracy: 0.9099\n",
      "Epoch 47/50\n",
      "2966/2966 [==============================] - 8s 3ms/step - loss: 0.1243 - accuracy: 0.9483 - val_loss: 0.3448 - val_accuracy: 0.9068\n",
      "Epoch 48/50\n",
      "2966/2966 [==============================] - 7s 2ms/step - loss: 0.1199 - accuracy: 0.9491 - val_loss: 0.3763 - val_accuracy: 0.9066\n",
      "Epoch 49/50\n",
      "2966/2966 [==============================] - 7s 2ms/step - loss: 0.1192 - accuracy: 0.9499 - val_loss: 0.3550 - val_accuracy: 0.9099\n",
      "Epoch 50/50\n",
      "2966/2966 [==============================] - 6s 2ms/step - loss: 0.1170 - accuracy: 0.9507 - val_loss: 0.3578 - val_accuracy: 0.9116\n"
     ]
    }
   ],
   "source": [
    "# Train the model\n",
    "glove_history = glove_model.fit(x=np.asarray(X_train.to_list()).astype('float32'),\n",
    "                    y=y_train, \n",
    "                    batch_size=32, \n",
    "                    epochs=50,\n",
    "                    validation_data=(np.asarray(X_validation.to_list()).astype('float32'), y_validation),\n",
    "                    shuffle=True)"
   ]
  },
  {
   "cell_type": "code",
   "execution_count": 35,
   "metadata": {},
   "outputs": [
    {
     "name": "stdout",
     "output_type": "stream",
     "text": [
      "Model: \"sequential_1\"\n",
      "_________________________________________________________________\n",
      " Layer (type)                Output Shape              Param #   \n",
      "=================================================================\n",
      " dense_5 (Dense)             (None, 100)               10100     \n",
      "                                                                 \n",
      " dense_6 (Dense)             (None, 75)                7575      \n",
      "                                                                 \n",
      " dense_7 (Dense)             (None, 50)                3800      \n",
      "                                                                 \n",
      " dense_8 (Dense)             (None, 25)                1275      \n",
      "                                                                 \n",
      " dense_9 (Dense)             (None, 1)                 26        \n",
      "                                                                 \n",
      "=================================================================\n",
      "Total params: 22,776\n",
      "Trainable params: 22,776\n",
      "Non-trainable params: 0\n",
      "_________________________________________________________________\n"
     ]
    }
   ],
   "source": [
    "glove_model.summary()"
   ]
  },
  {
   "cell_type": "code",
   "execution_count": 36,
   "metadata": {},
   "outputs": [
    {
     "name": "stdout",
     "output_type": "stream",
     "text": [
      "848/848 [==============================] - 1s 2ms/step - loss: 0.3311 - accuracy: 0.9115\n",
      "Test set\n",
      "  Loss: 0.331\n",
      "  Accuracy: 0.912\n"
     ]
    }
   ],
   "source": [
    "accr = glove_model.evaluate(np.asarray(X_test.to_list()).astype('float32'), y_test)\n",
    "print('Test set\\n  Loss: {:0.3f}\\n  Accuracy: {:0.3f}'.format(accr[0],accr[1]))"
   ]
  },
  {
   "cell_type": "code",
   "execution_count": 37,
   "metadata": {},
   "outputs": [],
   "source": [
    "def glove_prediction(text: str, model: bin) -> str:\n",
    "    emddng = np.asarray([glove_sentence_to_embedding(text).tolist()]).astype('float32')\n",
    "    pred = model.predict(emddng, verbose=1)\n",
    "    result = 'Hate Speech' if pred > 0.5 else 'Not Hate Speech'\n",
    "    print(text, ' | ', result, ' | ', pred)\n",
    "    return result"
   ]
  },
  {
   "cell_type": "code",
   "execution_count": 38,
   "metadata": {},
   "outputs": [
    {
     "data": {
      "text/plain": [
       "<matplotlib.legend.Legend at 0x271152c51e0>"
      ]
     },
     "execution_count": 38,
     "metadata": {},
     "output_type": "execute_result"
    },
    {
     "data": {
      "image/png": "[encoded data removed]",
      "text/plain": [
       "<Figure size 432x288 with 2 Axes>"
      ]
     },
     "metadata": {
      "needs_background": "light"
     },
     "output_type": "display_data"
    }
   ],
   "source": [
    "s, (at, al) = plt.subplots(2,1)\n",
    "at.plot(glove_history.history['accuracy'], c= 'b')\n",
    "at.plot(glove_history.history['val_accuracy'], c='r')\n",
    "at.set_title('model accuracy')\n",
    "at.set_ylabel('accuracy')\n",
    "at.set_xlabel('epoch')\n",
    "at.legend(['LSTM_train', 'LSTM_val'], loc='upper left')\n",
    "\n",
    "al.plot(glove_history.history['loss'], c='m')\n",
    "al.plot(glove_history.history['val_loss'], c='c')\n",
    "al.set_title('model loss')\n",
    "al.set_ylabel('loss')\n",
    "al.set_xlabel('epoch')\n",
    "al.legend(['train', 'val'], loc = 'upper left')"
   ]
  },
  {
   "cell_type": "code",
   "execution_count": 39,
   "metadata": {},
   "outputs": [
    {
     "name": "stdout",
     "output_type": "stream",
     "text": [
      "1/1 [==============================] - 0s 146ms/step\n",
      "i hate you  |  Hate Speech  |  [[1.]]\n",
      "1/1 [==============================] - 0s 34ms/step\n",
      "i love you  |  Not Hate Speech  |  [[9.426472e-09]]\n",
      "1/1 [==============================] - 0s 44ms/step\n",
      "i owe you  |  Not Hate Speech  |  [[0.46290556]]\n",
      "1/1 [==============================] - 0s 35ms/step\n",
      "You got bitch slapped with your own source  |  Hate Speech  |  [[0.98613983]]\n",
      "1/1 [==============================] - 0s 44ms/step\n",
      "stupid bitch  |  Not Hate Speech  |  [[0.1486929]]\n",
      "1/1 [==============================] - 0s 80ms/step\n",
      "you will die right now  |  Hate Speech  |  [[0.9950314]]\n"
     ]
    },
    {
     "data": {
      "text/plain": [
       "'Hate Speech'"
      ]
     },
     "execution_count": 39,
     "metadata": {},
     "output_type": "execute_result"
    }
   ],
   "source": [
    "glove_prediction('i hate you', glove_model)\n",
    "glove_prediction('i love you', glove_model)\n",
    "glove_prediction('i owe you', glove_model)\n",
    "glove_prediction('You got bitch slapped with your own source', glove_model)\n",
    "glove_prediction('stupid bitch', glove_model)\n",
    "glove_prediction('you will die right now', glove_model)"
   ]
  },
  {
   "cell_type": "code",
   "execution_count": 40,
   "metadata": {},
   "outputs": [
    {
     "name": "stdout",
     "output_type": "stream",
     "text": [
      "INFO:tensorflow:Assets written to: salida/embedding_glove\\assets\n"
     ]
    },
    {
     "name": "stderr",
     "output_type": "stream",
     "text": [
      "2022-07-27 13:17:14,489 : INFO : Assets written to: salida/embedding_glove\\assets\n"
     ]
    }
   ],
   "source": [
    "glove_model.save('salida/embedding_glove')"
   ]
  },
  {
   "cell_type": "code",
   "execution_count": 41,
   "metadata": {},
   "outputs": [],
   "source": [
    "loaded_model = load_model('salida/embedding_glove')"
   ]
  },
  {
   "cell_type": "code",
   "execution_count": 42,
   "metadata": {},
   "outputs": [
    {
     "name": "stdout",
     "output_type": "stream",
     "text": [
      "1/1 [==============================] - 0s 174ms/step\n",
      "i hate you  |  Hate Speech  |  [[1.]]\n",
      "1/1 [==============================] - 0s 52ms/step\n",
      "i love you  |  Not Hate Speech  |  [[9.426472e-09]]\n",
      "1/1 [==============================] - 0s 56ms/step\n",
      "i owe you  |  Not Hate Speech  |  [[0.46290556]]\n",
      "1/1 [==============================] - 0s 46ms/step\n",
      "You got bitch slapped with your own source  |  Hate Speech  |  [[0.98613983]]\n",
      "1/1 [==============================] - 0s 45ms/step\n",
      "get away from here stupid bitch  |  Not Hate Speech  |  [[0.09979708]]\n",
      "1/1 [==============================] - 0s 47ms/step\n",
      "you will die sooner or later  |  Hate Speech  |  [[1.]]\n"
     ]
    },
    {
     "data": {
      "text/plain": [
       "'Hate Speech'"
      ]
     },
     "execution_count": 42,
     "metadata": {},
     "output_type": "execute_result"
    }
   ],
   "source": [
    "glove_prediction('i hate you', loaded_model)\n",
    "glove_prediction('i love you', loaded_model)\n",
    "glove_prediction('i owe you', loaded_model)\n",
    "glove_prediction('You got bitch slapped with your own source', loaded_model)\n",
    "glove_prediction('get away from here stupid bitch', loaded_model)\n",
    "glove_prediction('you will die sooner or later', loaded_model)"
   ]
  }
 ],
 "metadata": {
  "kernelspec": {
   "display_name": "Python 3 (ipykernel)",
   "language": "python",
   "name": "python3"
  },
  "language_info": {
   "codemirror_mode": {
    "name": "ipython",
    "version": 3
   },
   "file_extension": ".py",
   "mimetype": "text/x-python",
   "name": "python",
   "nbconvert_exporter": "python",
   "pygments_lexer": "ipython3",
   "version": "3.10.5"
  },
  "vscode": {
   "interpreter": {
    "hash": "c63d8c7d738c2960218a10995aedf0a7f67a49a231e71037adf0440953cdb45b"
   }
  }
 },
 "nbformat": 4,
 "nbformat_minor": 4
}
