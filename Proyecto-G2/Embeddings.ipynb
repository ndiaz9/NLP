{
 "cells": [
  {
   "cell_type": "markdown",
   "metadata": {},
   "source": [
    "## Embeddings"
   ]
  },
  {
   "cell_type": "code",
   "execution_count": 43,
   "metadata": {},
   "outputs": [],
   "source": [
    "import re, gensim, logging, multiprocessing, datasets, math\n",
    "import pandas as pd\n",
    "import numpy as np\n",
    "import matplotlib.pyplot as plt\n",
    "from sklearn.manifold import TSNE\n",
    "from sklearn.metrics import accuracy_score, precision_score, recall_score, f1_score\n",
    "from sklearn.metrics import classification_report, confusion_matrix\n",
    "from sklearn.model_selection import train_test_split\n",
    "from sklearn.naive_bayes import MultinomialNB\n",
    "from sklearn.linear_model import LogisticRegression\n",
    "from sklearn.model_selection import GridSearchCV\n",
    "from sklearn.preprocessing import LabelBinarizer\n",
    "from keras.models import Sequential\n",
    "from keras.layers import Dense, Dropout, Activation\n",
    "from tensorflow.keras.utils import to_categorical\n",
    "from tensorflow.keras.optimizers import RMSprop, Adam"
   ]
  },
  {
   "cell_type": "code",
   "execution_count": 2,
   "metadata": {},
   "outputs": [],
   "source": [
    "# congig\n",
    "logging.basicConfig(format='%(asctime)s : %(levelname)s : %(message)s', level=logging.INFO)\n",
    "workers = multiprocessing.cpu_count()-1"
   ]
  },
  {
   "cell_type": "markdown",
   "metadata": {},
   "source": [
    "__paths to change__"
   ]
  },
  {
   "cell_type": "code",
   "execution_count": 3,
   "metadata": {},
   "outputs": [],
   "source": [
    "output_path = './salida'"
   ]
  },
  {
   "cell_type": "markdown",
   "metadata": {},
   "source": [
    "__process methods__"
   ]
  },
  {
   "cell_type": "code",
   "execution_count": 4,
   "metadata": {},
   "outputs": [],
   "source": [
    "def expand_contractions(document: str) -> str:\n",
    "    \"\"\"\n",
    "    Replace all abbreviations with their corresponding expansion\n",
    "    \"\"\"\n",
    "    document = re.sub(r\"'cause\", \"because\", document)\n",
    "    document = re.sub(r\"o'clock\", \"of the clock\", document)\n",
    "    document = re.sub(r\"won\\'t\", \"will not\", document)\n",
    "    document = re.sub(r\"can\\'t\", \"can not\", document)\n",
    "    document = re.sub(r\"n\\'t\", \" not\", document)\n",
    "    document = re.sub(r\"\\'re\", \" are\", document)\n",
    "    document = re.sub(r\"\\'s\", \" is\", document)\n",
    "    document = re.sub(r\"\\'d\", \" would\", document)\n",
    "    document = re.sub(r\"\\'ll\", \" will\", document)\n",
    "    document = re.sub(r\"\\'t\", \" not\", document)\n",
    "    document = re.sub(r\"\\'ve\", \" have\", document)\n",
    "    document = re.sub(r\"\\'m\", \" am\", document)\n",
    "    return document"
   ]
  },
  {
   "cell_type": "code",
   "execution_count": 5,
   "metadata": {},
   "outputs": [],
   "source": [
    "def replace_numbers(document: str) -> str:\n",
    "    \"\"\"\n",
    "    Replace number appearances with 'number'\n",
    "    \"\"\"\n",
    "    # Case 1: Combination of numbers and letters (Eg. 2nd -> NUM)\n",
    "    document = re.sub('[a-zA-Z]+[0-9]+[a-zA-Z]+', 'number', document)\n",
    "    document = re.sub('[0-9]+[a-zA-Z]+|[a-zA-Z]+[0-9]+', 'number', document)\n",
    "    # Case 2: Decimal numbers (Eg. 2.1 -> NUM)\n",
    "    document = re.sub('[0-9]+\\.+[0-9]+', 'number', document)\n",
    "    # Case 3: Numbers between spaces (Eg. 220 888 -> NUM)\n",
    "    document = re.sub('([0-9]+\\s)*[0-9]+', 'number', document)\n",
    "    # Case 4: One or more of the previous cases (Eg. NUM NUM -> NUM)\n",
    "    document = re.sub('((NUM)+\\s)*(NUM)+', 'number', document)\n",
    "    return document"
   ]
  },
  {
   "cell_type": "code",
   "execution_count": 6,
   "metadata": {},
   "outputs": [],
   "source": [
    "def preprocessing(document: str) -> list:\n",
    "    \"\"\"\n",
    "    iterate over all words in document identifing the word and frecuency\n",
    "    remove all the problematic characters over the word\n",
    "    and return a dictionary with the word as the key and the frecuency as the value\n",
    "    \"\"\"\n",
    "    document = document.lower()\n",
    "    document = expand_contractions(document)\n",
    "    document = replace_numbers(document)\n",
    "    document = re.sub('[^A-Za-z]+', ' ', document)\n",
    "    document = document.split()\n",
    "    return document"
   ]
  },
  {
   "cell_type": "code",
   "execution_count": 7,
   "metadata": {},
   "outputs": [],
   "source": [
    "def get_sentences() -> pd.DataFrame:\n",
    "    \"\"\"\n",
    "    read and process document\n",
    "    \"\"\"\n",
    "    dataset = datasets.load_dataset('ucberkeley-dlab/measuring-hate-speech', 'binary')   \n",
    "    df = dataset['train'].to_pandas()\n",
    "    data = pd.DataFrame()\n",
    "    data['text'] = df.text\n",
    "    data['processed'] = df.text.apply(preprocessing)\n",
    "    data['hatespeech'] = df.hatespeech.apply(lambda x: math.ceil(x/2))\n",
    "    return data"
   ]
  },
  {
   "cell_type": "code",
   "execution_count": 8,
   "metadata": {},
   "outputs": [],
   "source": [
    "def train_model(size: int, window: int, data: list, epochs: int) -> gensim.models.Word2Vec:\n",
    "    \"\"\"\n",
    "    Train the word2vec embedding\n",
    "    \"\"\"\n",
    "    model = gensim.models.Word2Vec(sentences=data, \n",
    "                                   vector_size=size, \n",
    "                                   window=window, \n",
    "                                   workers=workers, \n",
    "                                   min_count=3, \n",
    "                                   alpha=0.025, \n",
    "                                   min_alpha=0.0007)\n",
    "    model.build_vocab(data, progress_per=100000)\n",
    "    model.train(data, total_examples=len(data), epochs=epochs)\n",
    "    return model"
   ]
  },
  {
   "cell_type": "markdown",
   "metadata": {},
   "source": [
    "__train models__"
   ]
  },
  {
   "cell_type": "code",
   "execution_count": 9,
   "metadata": {},
   "outputs": [
    {
     "name": "stderr",
     "output_type": "stream",
     "text": [
      "2022-07-26 22:45:45,823 : WARNING : Using custom data configuration ucberkeley-dlab--measuring-hate-speech-1d47093687320b66\n",
      "2022-07-26 22:45:45,854 : WARNING : Reusing dataset parquet (C:\\Users\\Usuario\\.cache\\huggingface\\datasets\\ucberkeley-dlab___parquet\\ucberkeley-dlab--measuring-hate-speech-1d47093687320b66\\0.0.0\\7328ef7ee03eaf3f86ae40594d46a1cec86161704e02dd19f232d81eee72ade8)\n"
     ]
    },
    {
     "data": {
      "application/vnd.jupyter.widget-view+json": {
       "model_id": "ff0b649717f34bf09330ff5132fbcd7e",
       "version_major": 2,
       "version_minor": 0
      },
      "text/plain": [
       "  0%|          | 0/1 [00:00<?, ?it/s]"
      ]
     },
     "metadata": {},
     "output_type": "display_data"
    },
    {
     "data": {
      "text/html": [
       "<div>\n",
       "<style scoped>\n",
       "    .dataframe tbody tr th:only-of-type {\n",
       "        vertical-align: middle;\n",
       "    }\n",
       "\n",
       "    .dataframe tbody tr th {\n",
       "        vertical-align: top;\n",
       "    }\n",
       "\n",
       "    .dataframe thead th {\n",
       "        text-align: right;\n",
       "    }\n",
       "</style>\n",
       "<table border=\"1\" class=\"dataframe\">\n",
       "  <thead>\n",
       "    <tr style=\"text-align: right;\">\n",
       "      <th></th>\n",
       "      <th>text</th>\n",
       "      <th>processed</th>\n",
       "      <th>hatespeech</th>\n",
       "    </tr>\n",
       "  </thead>\n",
       "  <tbody>\n",
       "    <tr>\n",
       "      <th>49004</th>\n",
       "      <td>THis is why we need Islam</td>\n",
       "      <td>[this, is, why, we, need, islam]</td>\n",
       "      <td>0</td>\n",
       "    </tr>\n",
       "    <tr>\n",
       "      <th>92600</th>\n",
       "      <td>@Legionary1488 @JomavaesJos now we have a Eblo...</td>\n",
       "      <td>[number, jomavaesjos, now, we, have, a, ebloa,...</td>\n",
       "      <td>1</td>\n",
       "    </tr>\n",
       "    <tr>\n",
       "      <th>19126</th>\n",
       "      <td>To paraphrase thoughts from the last time Kent...</td>\n",
       "      <td>[to, paraphrase, thoughts, from, the, last, ti...</td>\n",
       "      <td>1</td>\n",
       "    </tr>\n",
       "    <tr>\n",
       "      <th>115614</th>\n",
       "      <td>Black people cant take jokes #bigfacts Here co...</td>\n",
       "      <td>[black, people, cant, take, jokes, bigfacts, h...</td>\n",
       "      <td>1</td>\n",
       "    </tr>\n",
       "    <tr>\n",
       "      <th>22260</th>\n",
       "      <td>fuk faze bunch of bitches</td>\n",
       "      <td>[fuk, faze, bunch, of, bitches]</td>\n",
       "      <td>1</td>\n",
       "    </tr>\n",
       "    <tr>\n",
       "      <th>71680</th>\n",
       "      <td>\"Brunette Beauty Gabriella Paltrova Fucks Him ...</td>\n",
       "      <td>[brunette, beauty, gabriella, paltrova, fucks,...</td>\n",
       "      <td>1</td>\n",
       "    </tr>\n",
       "    <tr>\n",
       "      <th>58955</th>\n",
       "      <td>That shit played off. Fucking fags</td>\n",
       "      <td>[that, shit, played, off, fucking, fags]</td>\n",
       "      <td>1</td>\n",
       "    </tr>\n",
       "    <tr>\n",
       "      <th>56087</th>\n",
       "      <td>Yeah and  Kamala \"headboard \" Harris is descen...</td>\n",
       "      <td>[yeah, and, kamala, headboard, harris, is, des...</td>\n",
       "      <td>0</td>\n",
       "    </tr>\n",
       "    <tr>\n",
       "      <th>49759</th>\n",
       "      <td>Considering there is a large LGBT community wi...</td>\n",
       "      <td>[considering, there, is, a, large, lgbt, commu...</td>\n",
       "      <td>0</td>\n",
       "    </tr>\n",
       "    <tr>\n",
       "      <th>76060</th>\n",
       "      <td>From 'lock her up!, lock her up!', to 'send he...</td>\n",
       "      <td>[from, lock, her, up, lock, her, up, to, isend...</td>\n",
       "      <td>0</td>\n",
       "    </tr>\n",
       "  </tbody>\n",
       "</table>\n",
       "</div>"
      ],
      "text/plain": [
       "                                                     text  \\\n",
       "49004                           THis is why we need Islam   \n",
       "92600   @Legionary1488 @JomavaesJos now we have a Eblo...   \n",
       "19126   To paraphrase thoughts from the last time Kent...   \n",
       "115614  Black people cant take jokes #bigfacts Here co...   \n",
       "22260                           fuk faze bunch of bitches   \n",
       "71680   \"Brunette Beauty Gabriella Paltrova Fucks Him ...   \n",
       "58955                  That shit played off. Fucking fags   \n",
       "56087   Yeah and  Kamala \"headboard \" Harris is descen...   \n",
       "49759   Considering there is a large LGBT community wi...   \n",
       "76060   From 'lock her up!, lock her up!', to 'send he...   \n",
       "\n",
       "                                                processed  hatespeech  \n",
       "49004                    [this, is, why, we, need, islam]           0  \n",
       "92600   [number, jomavaesjos, now, we, have, a, ebloa,...           1  \n",
       "19126   [to, paraphrase, thoughts, from, the, last, ti...           1  \n",
       "115614  [black, people, cant, take, jokes, bigfacts, h...           1  \n",
       "22260                     [fuk, faze, bunch, of, bitches]           1  \n",
       "71680   [brunette, beauty, gabriella, paltrova, fucks,...           1  \n",
       "58955            [that, shit, played, off, fucking, fags]           1  \n",
       "56087   [yeah, and, kamala, headboard, harris, is, des...           0  \n",
       "49759   [considering, there, is, a, large, lgbt, commu...           0  \n",
       "76060   [from, lock, her, up, lock, her, up, to, isend...           0  "
      ]
     },
     "execution_count": 9,
     "metadata": {},
     "output_type": "execute_result"
    }
   ],
   "source": [
    "sentences = get_sentences()\n",
    "sentences.sample(10)"
   ]
  },
  {
   "cell_type": "code",
   "execution_count": 10,
   "metadata": {},
   "outputs": [
    {
     "name": "stderr",
     "output_type": "stream",
     "text": [
      "2022-07-26 22:45:53,276 : INFO : collecting all words and their counts\n",
      "2022-07-26 22:45:53,277 : INFO : PROGRESS: at sentence #0, processed 0 words, keeping 0 word types\n",
      "2022-07-26 22:45:53,305 : INFO : PROGRESS: at sentence #10000, processed 260239 words, keeping 19201 word types\n",
      "2022-07-26 22:45:53,374 : INFO : PROGRESS: at sentence #20000, processed 519498 words, keeping 28373 word types\n",
      "2022-07-26 22:45:53,413 : INFO : PROGRESS: at sentence #30000, processed 784049 words, keeping 32838 word types\n",
      "2022-07-26 22:45:53,443 : INFO : PROGRESS: at sentence #40000, processed 1042524 words, keeping 35810 word types\n",
      "2022-07-26 22:45:53,474 : INFO : PROGRESS: at sentence #50000, processed 1307330 words, keeping 38072 word types\n",
      "2022-07-26 22:45:53,508 : INFO : PROGRESS: at sentence #60000, processed 1565718 words, keeping 39324 word types\n",
      "2022-07-26 22:45:53,534 : INFO : PROGRESS: at sentence #70000, processed 1824124 words, keeping 40644 word types\n",
      "2022-07-26 22:45:53,566 : INFO : PROGRESS: at sentence #80000, processed 2088159 words, keeping 41375 word types\n",
      "2022-07-26 22:45:53,596 : INFO : PROGRESS: at sentence #90000, processed 2347729 words, keeping 42077 word types\n",
      "2022-07-26 22:45:53,622 : INFO : PROGRESS: at sentence #100000, processed 2637653 words, keeping 42239 word types\n",
      "2022-07-26 22:45:53,656 : INFO : PROGRESS: at sentence #110000, processed 2988083 words, keeping 42246 word types\n",
      "2022-07-26 22:45:53,681 : INFO : PROGRESS: at sentence #120000, processed 3266039 words, keeping 42255 word types\n",
      "2022-07-26 22:45:53,720 : INFO : PROGRESS: at sentence #130000, processed 3659800 words, keeping 42271 word types\n",
      "2022-07-26 22:45:53,731 : INFO : collected 42288 word types from a corpus of 3755340 raw words and 135556 sentences\n",
      "2022-07-26 22:45:53,731 : INFO : Creating a fresh vocabulary\n",
      "2022-07-26 22:45:53,792 : INFO : Word2Vec lifecycle event {'msg': 'effective_min_count=3 retains 28140 unique words (66.54% of original 42288, drops 14148)', 'datetime': '2022-07-26T22:45:53.792264', 'gensim': '4.2.0', 'python': '3.10.5 (tags/v3.10.5:f377153, Jun  6 2022, 16:14:13) [MSC v.1929 64 bit (AMD64)]', 'platform': 'Windows-10-10.0.22000-SP0', 'event': 'prepare_vocab'}\n",
      "2022-07-26 22:45:53,793 : INFO : Word2Vec lifecycle event {'msg': 'effective_min_count=3 leaves 3733464 word corpus (99.42% of original 3755340, drops 21876)', 'datetime': '2022-07-26T22:45:53.793183', 'gensim': '4.2.0', 'python': '3.10.5 (tags/v3.10.5:f377153, Jun  6 2022, 16:14:13) [MSC v.1929 64 bit (AMD64)]', 'platform': 'Windows-10-10.0.22000-SP0', 'event': 'prepare_vocab'}\n",
      "2022-07-26 22:45:53,892 : INFO : deleting the raw counts dictionary of 42288 items\n",
      "2022-07-26 22:45:53,893 : INFO : sample=0.001 downsamples 64 most-common words\n",
      "2022-07-26 22:45:53,894 : INFO : Word2Vec lifecycle event {'msg': 'downsampling leaves estimated 2853897.397356875 word corpus (76.4%% of prior 3733464)', 'datetime': '2022-07-26T22:45:53.894252', 'gensim': '4.2.0', 'python': '3.10.5 (tags/v3.10.5:f377153, Jun  6 2022, 16:14:13) [MSC v.1929 64 bit (AMD64)]', 'platform': 'Windows-10-10.0.22000-SP0', 'event': 'prepare_vocab'}\n",
      "2022-07-26 22:45:54,068 : INFO : estimated required memory for 28140 words and 60 dimensions: 27577200 bytes\n",
      "2022-07-26 22:45:54,069 : INFO : resetting layer weights\n",
      "2022-07-26 22:45:54,075 : INFO : Word2Vec lifecycle event {'update': False, 'trim_rule': 'None', 'datetime': '2022-07-26T22:45:54.074275', 'gensim': '4.2.0', 'python': '3.10.5 (tags/v3.10.5:f377153, Jun  6 2022, 16:14:13) [MSC v.1929 64 bit (AMD64)]', 'platform': 'Windows-10-10.0.22000-SP0', 'event': 'build_vocab'}\n",
      "2022-07-26 22:45:54,075 : INFO : Word2Vec lifecycle event {'msg': 'training model with 7 workers on 28140 vocabulary and 60 features, using sg=0 hs=0 sample=0.001 negative=5 window=3 shrink_windows=True', 'datetime': '2022-07-26T22:45:54.075276', 'gensim': '4.2.0', 'python': '3.10.5 (tags/v3.10.5:f377153, Jun  6 2022, 16:14:13) [MSC v.1929 64 bit (AMD64)]', 'platform': 'Windows-10-10.0.22000-SP0', 'event': 'train'}\n",
      "2022-07-26 22:45:55,093 : INFO : EPOCH 0 - PROGRESS: at 92.17% examples, 2617450 words/s, in_qsize 13, out_qsize 0\n",
      "2022-07-26 22:45:55,181 : INFO : EPOCH 0: training on 3755340 raw words (2853977 effective words) took 1.1s, 2614990 effective words/s\n",
      "2022-07-26 22:45:56,191 : INFO : EPOCH 1 - PROGRESS: at 73.89% examples, 2008208 words/s, in_qsize 13, out_qsize 0\n",
      "2022-07-26 22:45:56,557 : INFO : EPOCH 1: training on 3755340 raw words (2854438 effective words) took 1.4s, 2087398 effective words/s\n",
      "2022-07-26 22:45:57,566 : INFO : EPOCH 2 - PROGRESS: at 63.76% examples, 1709950 words/s, in_qsize 12, out_qsize 1\n",
      "2022-07-26 22:45:58,076 : INFO : EPOCH 2: training on 3755340 raw words (2853661 effective words) took 1.5s, 1888638 effective words/s\n",
      "2022-07-26 22:45:59,087 : INFO : EPOCH 3 - PROGRESS: at 62.06% examples, 1665482 words/s, in_qsize 13, out_qsize 0\n",
      "2022-07-26 22:45:59,616 : INFO : EPOCH 3: training on 3755340 raw words (2853893 effective words) took 1.5s, 1864352 effective words/s\n",
      "2022-07-26 22:46:00,632 : INFO : EPOCH 4 - PROGRESS: at 59.22% examples, 1583357 words/s, in_qsize 13, out_qsize 0\n",
      "2022-07-26 22:46:01,193 : INFO : EPOCH 4: training on 3755340 raw words (2854326 effective words) took 1.6s, 1822230 effective words/s\n",
      "2022-07-26 22:46:01,194 : INFO : Word2Vec lifecycle event {'msg': 'training on 18776700 raw words (14270295 effective words) took 7.1s, 2004813 effective words/s', 'datetime': '2022-07-26T22:46:01.194135', 'gensim': '4.2.0', 'python': '3.10.5 (tags/v3.10.5:f377153, Jun  6 2022, 16:14:13) [MSC v.1929 64 bit (AMD64)]', 'platform': 'Windows-10-10.0.22000-SP0', 'event': 'train'}\n",
      "2022-07-26 22:46:01,194 : INFO : Word2Vec lifecycle event {'params': 'Word2Vec<vocab=28140, vector_size=60, alpha=0.025>', 'datetime': '2022-07-26T22:46:01.194635', 'gensim': '4.2.0', 'python': '3.10.5 (tags/v3.10.5:f377153, Jun  6 2022, 16:14:13) [MSC v.1929 64 bit (AMD64)]', 'platform': 'Windows-10-10.0.22000-SP0', 'event': 'created'}\n",
      "2022-07-26 22:46:01,195 : INFO : collecting all words and their counts\n",
      "2022-07-26 22:46:01,195 : INFO : PROGRESS: at sentence #0, processed 0 words, keeping 0 word types\n",
      "2022-07-26 22:46:01,510 : INFO : PROGRESS: at sentence #100000, processed 2637653 words, keeping 42239 word types\n",
      "2022-07-26 22:46:01,609 : INFO : collected 42288 word types from a corpus of 3755340 raw words and 135556 sentences\n",
      "2022-07-26 22:46:01,609 : INFO : Creating a fresh vocabulary\n",
      "2022-07-26 22:46:01,682 : INFO : Word2Vec lifecycle event {'msg': 'effective_min_count=3 retains 28140 unique words (66.54% of original 42288, drops 14148)', 'datetime': '2022-07-26T22:46:01.682239', 'gensim': '4.2.0', 'python': '3.10.5 (tags/v3.10.5:f377153, Jun  6 2022, 16:14:13) [MSC v.1929 64 bit (AMD64)]', 'platform': 'Windows-10-10.0.22000-SP0', 'event': 'prepare_vocab'}\n",
      "2022-07-26 22:46:01,683 : INFO : Word2Vec lifecycle event {'msg': 'effective_min_count=3 leaves 3733464 word corpus (99.42% of original 3755340, drops 21876)', 'datetime': '2022-07-26T22:46:01.683239', 'gensim': '4.2.0', 'python': '3.10.5 (tags/v3.10.5:f377153, Jun  6 2022, 16:14:13) [MSC v.1929 64 bit (AMD64)]', 'platform': 'Windows-10-10.0.22000-SP0', 'event': 'prepare_vocab'}\n",
      "2022-07-26 22:46:01,812 : INFO : deleting the raw counts dictionary of 42288 items\n",
      "2022-07-26 22:46:01,813 : INFO : sample=0.001 downsamples 64 most-common words\n",
      "2022-07-26 22:46:01,814 : INFO : Word2Vec lifecycle event {'msg': 'downsampling leaves estimated 2853897.397356875 word corpus (76.4%% of prior 3733464)', 'datetime': '2022-07-26T22:46:01.814812', 'gensim': '4.2.0', 'python': '3.10.5 (tags/v3.10.5:f377153, Jun  6 2022, 16:14:13) [MSC v.1929 64 bit (AMD64)]', 'platform': 'Windows-10-10.0.22000-SP0', 'event': 'prepare_vocab'}\n",
      "2022-07-26 22:46:01,821 : WARNING : sorting after vectors have been allocated is expensive & error-prone\n",
      "2022-07-26 22:46:02,025 : INFO : estimated required memory for 28140 words and 60 dimensions: 27577200 bytes\n",
      "2022-07-26 22:46:02,026 : INFO : resetting layer weights\n",
      "2022-07-26 22:46:02,027 : INFO : Word2Vec lifecycle event {'update': False, 'trim_rule': 'None', 'datetime': '2022-07-26T22:46:02.027285', 'gensim': '4.2.0', 'python': '3.10.5 (tags/v3.10.5:f377153, Jun  6 2022, 16:14:13) [MSC v.1929 64 bit (AMD64)]', 'platform': 'Windows-10-10.0.22000-SP0', 'event': 'build_vocab'}\n",
      "2022-07-26 22:46:02,027 : WARNING : Effective 'alpha' higher than previous training cycles\n",
      "2022-07-26 22:46:02,028 : INFO : Word2Vec lifecycle event {'msg': 'training model with 7 workers on 28140 vocabulary and 60 features, using sg=0 hs=0 sample=0.001 negative=5 window=3 shrink_windows=True', 'datetime': '2022-07-26T22:46:02.028285', 'gensim': '4.2.0', 'python': '3.10.5 (tags/v3.10.5:f377153, Jun  6 2022, 16:14:13) [MSC v.1929 64 bit (AMD64)]', 'platform': 'Windows-10-10.0.22000-SP0', 'event': 'train'}\n",
      "2022-07-26 22:46:03,039 : INFO : EPOCH 0 - PROGRESS: at 70.69% examples, 1907127 words/s, in_qsize 13, out_qsize 0\n",
      "2022-07-26 22:46:03,548 : INFO : EPOCH 0: training on 3755340 raw words (2853743 effective words) took 1.5s, 1888352 effective words/s\n",
      "2022-07-26 22:46:04,562 : INFO : EPOCH 1 - PROGRESS: at 64.34% examples, 1719585 words/s, in_qsize 12, out_qsize 1\n",
      "2022-07-26 22:46:05,119 : INFO : EPOCH 1: training on 3755340 raw words (2853899 effective words) took 1.6s, 1826988 effective words/s\n",
      "2022-07-26 22:46:06,134 : INFO : EPOCH 2 - PROGRESS: at 66.60% examples, 1780188 words/s, in_qsize 12, out_qsize 1\n",
      "2022-07-26 22:46:06,618 : INFO : EPOCH 2: training on 3755340 raw words (2854035 effective words) took 1.5s, 1917504 effective words/s\n",
      "2022-07-26 22:46:07,633 : INFO : EPOCH 3 - PROGRESS: at 66.01% examples, 1763632 words/s, in_qsize 12, out_qsize 1\n",
      "2022-07-26 22:46:08,062 : INFO : EPOCH 3: training on 3755340 raw words (2854792 effective words) took 1.4s, 1989904 effective words/s\n",
      "2022-07-26 22:46:09,072 : INFO : EPOCH 4 - PROGRESS: at 76.36% examples, 2097581 words/s, in_qsize 13, out_qsize 0\n",
      "2022-07-26 22:46:09,373 : INFO : EPOCH 4: training on 3755340 raw words (2854139 effective words) took 1.3s, 2189797 effective words/s\n",
      "2022-07-26 22:46:10,384 : INFO : EPOCH 5 - PROGRESS: at 75.54% examples, 2067257 words/s, in_qsize 13, out_qsize 0\n",
      "2022-07-26 22:46:10,701 : INFO : EPOCH 5: training on 3755340 raw words (2853679 effective words) took 1.3s, 2162880 effective words/s\n",
      "2022-07-26 22:46:11,711 : INFO : EPOCH 6 - PROGRESS: at 74.93% examples, 2047292 words/s, in_qsize 12, out_qsize 1\n",
      "2022-07-26 22:46:12,018 : INFO : EPOCH 6: training on 3755340 raw words (2854170 effective words) took 1.3s, 2179637 effective words/s\n",
      "2022-07-26 22:46:13,027 : INFO : EPOCH 7 - PROGRESS: at 72.95% examples, 1980920 words/s, in_qsize 12, out_qsize 1\n",
      "2022-07-26 22:46:13,374 : INFO : EPOCH 7: training on 3755340 raw words (2853716 effective words) took 1.3s, 2116617 effective words/s\n",
      "2022-07-26 22:46:14,385 : INFO : EPOCH 8 - PROGRESS: at 75.54% examples, 2068117 words/s, in_qsize 13, out_qsize 0\n",
      "2022-07-26 22:46:14,708 : INFO : EPOCH 8: training on 3755340 raw words (2854671 effective words) took 1.3s, 2152854 effective words/s\n",
      "2022-07-26 22:46:15,717 : INFO : EPOCH 9 - PROGRESS: at 74.50% examples, 2034889 words/s, in_qsize 12, out_qsize 1\n",
      "2022-07-26 22:46:16,039 : INFO : EPOCH 9: training on 3755340 raw words (2854409 effective words) took 1.3s, 2158197 effective words/s\n",
      "2022-07-26 22:46:17,055 : INFO : EPOCH 10 - PROGRESS: at 74.09% examples, 2004570 words/s, in_qsize 13, out_qsize 0\n",
      "2022-07-26 22:46:17,383 : INFO : EPOCH 10: training on 3755340 raw words (2854064 effective words) took 1.3s, 2137638 effective words/s\n",
      "2022-07-26 22:46:18,400 : INFO : EPOCH 11 - PROGRESS: at 75.54% examples, 2054698 words/s, in_qsize 13, out_qsize 0\n",
      "2022-07-26 22:46:18,785 : INFO : EPOCH 11: training on 3755340 raw words (2853743 effective words) took 1.4s, 2046084 effective words/s\n",
      "2022-07-26 22:46:19,799 : INFO : EPOCH 12 - PROGRESS: at 67.43% examples, 1805810 words/s, in_qsize 12, out_qsize 1\n",
      "2022-07-26 22:46:20,240 : INFO : EPOCH 12: training on 3755340 raw words (2854162 effective words) took 1.4s, 1975312 effective words/s\n",
      "2022-07-26 22:46:21,252 : INFO : EPOCH 13 - PROGRESS: at 71.96% examples, 1943833 words/s, in_qsize 12, out_qsize 1\n",
      "2022-07-26 22:46:21,637 : INFO : EPOCH 13: training on 3755340 raw words (2854157 effective words) took 1.4s, 2054817 effective words/s\n",
      "2022-07-26 22:46:22,653 : INFO : EPOCH 14 - PROGRESS: at 63.19% examples, 1686006 words/s, in_qsize 14, out_qsize 1\n",
      "2022-07-26 22:46:23,231 : INFO : EPOCH 14: training on 3755340 raw words (2853603 effective words) took 1.6s, 1800033 effective words/s\n",
      "2022-07-26 22:46:24,242 : INFO : EPOCH 15 - PROGRESS: at 73.21% examples, 1985931 words/s, in_qsize 13, out_qsize 0\n",
      "2022-07-26 22:46:24,631 : INFO : EPOCH 15: training on 3755340 raw words (2853669 effective words) took 1.4s, 2051623 effective words/s\n",
      "2022-07-26 22:46:25,641 : INFO : EPOCH 16 - PROGRESS: at 73.89% examples, 2010649 words/s, in_qsize 12, out_qsize 1\n",
      "2022-07-26 22:46:25,966 : INFO : EPOCH 16: training on 3755340 raw words (2854144 effective words) took 1.3s, 2149807 effective words/s\n",
      "2022-07-26 22:46:26,979 : INFO : EPOCH 17 - PROGRESS: at 69.73% examples, 1879403 words/s, in_qsize 13, out_qsize 0\n",
      "2022-07-26 22:46:27,369 : INFO : EPOCH 17: training on 3755340 raw words (2853645 effective words) took 1.4s, 2052092 effective words/s\n",
      "2022-07-26 22:46:28,379 : INFO : EPOCH 18 - PROGRESS: at 75.32% examples, 2062676 words/s, in_qsize 13, out_qsize 0\n",
      "2022-07-26 22:46:28,691 : INFO : EPOCH 18: training on 3755340 raw words (2853755 effective words) took 1.3s, 2171653 effective words/s\n",
      "2022-07-26 22:46:29,702 : INFO : EPOCH 19 - PROGRESS: at 67.43% examples, 1806582 words/s, in_qsize 13, out_qsize 0\n",
      "2022-07-26 22:46:30,147 : INFO : EPOCH 19: training on 3755340 raw words (2853910 effective words) took 1.4s, 1971656 effective words/s\n",
      "2022-07-26 22:46:31,158 : INFO : EPOCH 20 - PROGRESS: at 72.21% examples, 1954330 words/s, in_qsize 12, out_qsize 1\n",
      "2022-07-26 22:46:31,508 : INFO : EPOCH 20: training on 3755340 raw words (2854358 effective words) took 1.4s, 2109906 effective words/s\n",
      "2022-07-26 22:46:32,518 : INFO : EPOCH 21 - PROGRESS: at 74.09% examples, 2017389 words/s, in_qsize 14, out_qsize 0\n",
      "2022-07-26 22:46:32,851 : INFO : EPOCH 21: training on 3755340 raw words (2854338 effective words) took 1.3s, 2137907 effective words/s\n",
      "2022-07-26 22:46:33,864 : INFO : EPOCH 22 - PROGRESS: at 73.46% examples, 1986539 words/s, in_qsize 12, out_qsize 1\n",
      "2022-07-26 22:46:34,192 : INFO : EPOCH 22: training on 3755340 raw words (2852991 effective words) took 1.3s, 2139018 effective words/s\n",
      "2022-07-26 22:46:35,208 : INFO : EPOCH 23 - PROGRESS: at 72.95% examples, 1970905 words/s, in_qsize 13, out_qsize 0\n",
      "2022-07-26 22:46:35,550 : INFO : EPOCH 23: training on 3755340 raw words (2854207 effective words) took 1.3s, 2117833 effective words/s\n",
      "2022-07-26 22:46:36,563 : INFO : EPOCH 24 - PROGRESS: at 73.69% examples, 1996100 words/s, in_qsize 13, out_qsize 0\n",
      "2022-07-26 22:46:36,896 : INFO : EPOCH 24: training on 3755340 raw words (2853865 effective words) took 1.3s, 2134546 effective words/s\n",
      "2022-07-26 22:46:37,906 : INFO : EPOCH 25 - PROGRESS: at 76.77% examples, 2112649 words/s, in_qsize 13, out_qsize 0\n",
      "2022-07-26 22:46:38,229 : INFO : EPOCH 25: training on 3755340 raw words (2853127 effective words) took 1.3s, 2151961 effective words/s\n",
      "2022-07-26 22:46:39,239 : INFO : EPOCH 26 - PROGRESS: at 73.89% examples, 2009813 words/s, in_qsize 13, out_qsize 0\n",
      "2022-07-26 22:46:39,563 : INFO : EPOCH 26: training on 3755340 raw words (2853993 effective words) took 1.3s, 2153178 effective words/s\n",
      "2022-07-26 22:46:40,574 : INFO : EPOCH 27 - PROGRESS: at 73.89% examples, 2006858 words/s, in_qsize 13, out_qsize 0\n",
      "2022-07-26 22:46:40,903 : INFO : EPOCH 27: training on 3755340 raw words (2852711 effective words) took 1.3s, 2142597 effective words/s\n",
      "2022-07-26 22:46:41,913 : INFO : EPOCH 28 - PROGRESS: at 75.94% examples, 2083114 words/s, in_qsize 13, out_qsize 0\n",
      "2022-07-26 22:46:42,217 : INFO : EPOCH 28: training on 3755340 raw words (2853864 effective words) took 1.3s, 2183146 effective words/s\n",
      "2022-07-26 22:46:43,231 : INFO : EPOCH 29 - PROGRESS: at 73.89% examples, 2002530 words/s, in_qsize 13, out_qsize 0\n",
      "2022-07-26 22:46:43,556 : INFO : EPOCH 29: training on 3755340 raw words (2854034 effective words) took 1.3s, 2145114 effective words/s\n",
      "2022-07-26 22:46:44,567 : INFO : EPOCH 30 - PROGRESS: at 74.72% examples, 2038926 words/s, in_qsize 12, out_qsize 1\n",
      "2022-07-26 22:46:44,893 : INFO : EPOCH 30: training on 3755340 raw words (2853526 effective words) took 1.3s, 2147627 effective words/s\n",
      "2022-07-26 22:46:45,902 : INFO : EPOCH 31 - PROGRESS: at 67.16% examples, 1801474 words/s, in_qsize 13, out_qsize 0\n",
      "2022-07-26 22:46:46,396 : INFO : EPOCH 31: training on 3755340 raw words (2854476 effective words) took 1.5s, 1909083 effective words/s\n",
      "2022-07-26 22:46:47,408 : INFO : EPOCH 32 - PROGRESS: at 63.76% examples, 1711980 words/s, in_qsize 13, out_qsize 0\n",
      "2022-07-26 22:46:47,917 : INFO : EPOCH 32: training on 3755340 raw words (2853382 effective words) took 1.5s, 1888684 effective words/s\n",
      "2022-07-26 22:46:48,931 : INFO : EPOCH 33 - PROGRESS: at 73.89% examples, 2001388 words/s, in_qsize 13, out_qsize 0\n",
      "2022-07-26 22:46:49,312 : INFO : EPOCH 33: training on 3755340 raw words (2853481 effective words) took 1.4s, 2056814 effective words/s\n",
      "2022-07-26 22:46:50,325 : INFO : EPOCH 34 - PROGRESS: at 69.73% examples, 1875072 words/s, in_qsize 13, out_qsize 0\n",
      "2022-07-26 22:46:50,717 : INFO : EPOCH 34: training on 3755340 raw words (2854934 effective words) took 1.4s, 2045015 effective words/s\n",
      "2022-07-26 22:46:51,726 : INFO : EPOCH 35 - PROGRESS: at 74.52% examples, 2034263 words/s, in_qsize 13, out_qsize 0\n",
      "2022-07-26 22:46:52,056 : INFO : EPOCH 35: training on 3755340 raw words (2853987 effective words) took 1.3s, 2144996 effective words/s\n",
      "2022-07-26 22:46:53,065 : INFO : EPOCH 36 - PROGRESS: at 73.21% examples, 1988646 words/s, in_qsize 13, out_qsize 0\n",
      "2022-07-26 22:46:53,418 : INFO : EPOCH 36: training on 3755340 raw words (2854103 effective words) took 1.4s, 2107409 effective words/s\n",
      "2022-07-26 22:46:54,430 : INFO : EPOCH 37 - PROGRESS: at 74.09% examples, 2013898 words/s, in_qsize 13, out_qsize 0\n",
      "2022-07-26 22:46:54,771 : INFO : EPOCH 37: training on 3755340 raw words (2854421 effective words) took 1.3s, 2123545 effective words/s\n",
      "2022-07-26 22:46:55,783 : INFO : EPOCH 38 - PROGRESS: at 73.89% examples, 2006147 words/s, in_qsize 13, out_qsize 0\n",
      "2022-07-26 22:46:56,113 : INFO : EPOCH 38: training on 3755340 raw words (2855094 effective words) took 1.3s, 2139318 effective words/s\n",
      "2022-07-26 22:46:57,125 : INFO : EPOCH 39 - PROGRESS: at 68.76% examples, 1841989 words/s, in_qsize 13, out_qsize 0\n",
      "2022-07-26 22:46:57,577 : INFO : EPOCH 39: training on 3755340 raw words (2853259 effective words) took 1.5s, 1961117 effective words/s\n",
      "2022-07-26 22:46:58,588 : INFO : EPOCH 40 - PROGRESS: at 71.96% examples, 1945330 words/s, in_qsize 13, out_qsize 0\n",
      "2022-07-26 22:46:58,956 : INFO : EPOCH 40: training on 3755340 raw words (2853641 effective words) took 1.4s, 2081719 effective words/s\n",
      "2022-07-26 22:46:59,964 : INFO : EPOCH 41 - PROGRESS: at 73.21% examples, 1989159 words/s, in_qsize 13, out_qsize 0\n",
      "2022-07-26 22:47:00,366 : INFO : EPOCH 41: training on 3755340 raw words (2853895 effective words) took 1.4s, 2035422 effective words/s\n",
      "2022-07-26 22:47:01,377 : INFO : EPOCH 42 - PROGRESS: at 69.73% examples, 1875559 words/s, in_qsize 13, out_qsize 0\n",
      "2022-07-26 22:47:01,759 : INFO : EPOCH 42: training on 3755340 raw words (2853198 effective words) took 1.4s, 2060422 effective words/s\n",
      "2022-07-26 22:47:02,768 : INFO : EPOCH 43 - PROGRESS: at 72.21% examples, 1955137 words/s, in_qsize 12, out_qsize 1\n",
      "2022-07-26 22:47:03,137 : INFO : EPOCH 43: training on 3755340 raw words (2852723 effective words) took 1.4s, 2081955 effective words/s\n",
      "2022-07-26 22:47:04,149 : INFO : EPOCH 44 - PROGRESS: at 73.18% examples, 1982937 words/s, in_qsize 12, out_qsize 1\n",
      "2022-07-26 22:47:04,499 : INFO : EPOCH 44: training on 3755340 raw words (2853706 effective words) took 1.4s, 2110431 effective words/s\n",
      "2022-07-26 22:47:05,508 : INFO : EPOCH 45 - PROGRESS: at 70.21% examples, 1893192 words/s, in_qsize 14, out_qsize 0\n",
      "2022-07-26 22:47:05,900 : INFO : EPOCH 45: training on 3755340 raw words (2853144 effective words) took 1.4s, 2047647 effective words/s\n",
      "2022-07-26 22:47:06,914 : INFO : EPOCH 46 - PROGRESS: at 66.31% examples, 1769595 words/s, in_qsize 13, out_qsize 0\n",
      "2022-07-26 22:47:07,390 : INFO : EPOCH 46: training on 3755340 raw words (2852473 effective words) took 1.5s, 1924446 effective words/s\n",
      "2022-07-26 22:47:08,405 : INFO : EPOCH 47 - PROGRESS: at 65.75% examples, 1757549 words/s, in_qsize 13, out_qsize 0\n",
      "2022-07-26 22:47:08,908 : INFO : EPOCH 47: training on 3755340 raw words (2853684 effective words) took 1.5s, 1893552 effective words/s\n",
      "2022-07-26 22:47:09,921 : INFO : EPOCH 48 - PROGRESS: at 67.43% examples, 1803398 words/s, in_qsize 13, out_qsize 0\n",
      "2022-07-26 22:47:10,393 : INFO : EPOCH 48: training on 3755340 raw words (2853838 effective words) took 1.5s, 1933139 effective words/s\n",
      "2022-07-26 22:47:11,405 : INFO : EPOCH 49 - PROGRESS: at 66.31% examples, 1776002 words/s, in_qsize 14, out_qsize 1\n",
      "2022-07-26 22:47:11,956 : INFO : EPOCH 49: training on 3755340 raw words (2854760 effective words) took 1.6s, 1836648 effective words/s\n",
      "2022-07-26 22:47:11,957 : INFO : Word2Vec lifecycle event {'msg': 'training on 187767000 raw words (142693318 effective words) took 69.9s, 2040557 effective words/s', 'datetime': '2022-07-26T22:47:11.957603', 'gensim': '4.2.0', 'python': '3.10.5 (tags/v3.10.5:f377153, Jun  6 2022, 16:14:13) [MSC v.1929 64 bit (AMD64)]', 'platform': 'Windows-10-10.0.22000-SP0', 'event': 'train'}\n"
     ]
    }
   ],
   "source": [
    "#Train embedding\n",
    "embedding = train_model(size=60, window=3, data=list(sentences['processed']), epochs=50)"
   ]
  },
  {
   "cell_type": "code",
   "execution_count": 11,
   "metadata": {},
   "outputs": [
    {
     "name": "stderr",
     "output_type": "stream",
     "text": [
      "2022-07-26 22:47:11,968 : INFO : Word2Vec lifecycle event {'fname_or_handle': './salida/embedding.model', 'separately': 'None', 'sep_limit': 10485760, 'ignore': frozenset(), 'datetime': '2022-07-26T22:47:11.968665', 'gensim': '4.2.0', 'python': '3.10.5 (tags/v3.10.5:f377153, Jun  6 2022, 16:14:13) [MSC v.1929 64 bit (AMD64)]', 'platform': 'Windows-10-10.0.22000-SP0', 'event': 'saving'}\n",
      "2022-07-26 22:47:11,970 : INFO : not storing attribute cum_table\n",
      "2022-07-26 22:47:12,008 : INFO : saved ./salida/embedding.model\n"
     ]
    }
   ],
   "source": [
    "#Save model\n",
    "embedding.save(f'{output_path}/embedding.model')"
   ]
  },
  {
   "cell_type": "code",
   "execution_count": 12,
   "metadata": {},
   "outputs": [
    {
     "name": "stderr",
     "output_type": "stream",
     "text": [
      "2022-07-26 22:47:12,029 : INFO : loading Word2Vec object from ./salida/embedding.model\n",
      "2022-07-26 22:47:12,061 : INFO : loading wv recursively from ./salida/embedding.model.wv.* with mmap=None\n",
      "2022-07-26 22:47:12,062 : INFO : setting ignored attribute cum_table to None\n",
      "2022-07-26 22:47:12,339 : INFO : Word2Vec lifecycle event {'fname': './salida/embedding.model', 'datetime': '2022-07-26T22:47:12.339562', 'gensim': '4.2.0', 'python': '3.10.5 (tags/v3.10.5:f377153, Jun  6 2022, 16:14:13) [MSC v.1929 64 bit (AMD64)]', 'platform': 'Windows-10-10.0.22000-SP0', 'event': 'loaded'}\n"
     ]
    }
   ],
   "source": [
    "#Load models\n",
    "embedding = gensim.models.Word2Vec.load(f'{output_path}/embedding.model')"
   ]
  },
  {
   "cell_type": "code",
   "execution_count": 13,
   "metadata": {},
   "outputs": [
    {
     "data": {
      "text/plain": [
       "[('city', 0.6000299453735352),\n",
       " ('cuntry', 0.5800144672393799),\n",
       " ('punjab', 0.5570152997970581),\n",
       " ('canada', 0.5454503893852234),\n",
       " ('louisiana', 0.5220199823379517),\n",
       " ('minnesota', 0.5208011865615845),\n",
       " ('mexico', 0.5126967430114746),\n",
       " ('charlottesville', 0.5081894993782043),\n",
       " ('cuba', 0.5042896866798401),\n",
       " ('twenty', 0.5003750920295715),\n",
       " ('europe', 0.4981015920639038),\n",
       " ('mombasa', 0.4918789863586426),\n",
       " ('dayton', 0.48139140009880066),\n",
       " ('cleaners', 0.4790172576904297),\n",
       " ('england', 0.47719606757164),\n",
       " ('egypt', 0.47691085934638977),\n",
       " ('sanctuary', 0.47684207558631897),\n",
       " ('virginia', 0.47573208808898926),\n",
       " ('exile', 0.4734196066856384),\n",
       " ('kansas', 0.4729955494403839),\n",
       " ('droves', 0.4718984365463257),\n",
       " ('berlin', 0.4714069664478302),\n",
       " ('gamestop', 0.47027239203453064),\n",
       " ('iraq', 0.46955493092536926),\n",
       " ('france', 0.4670475423336029)]"
      ]
     },
     "execution_count": 13,
     "metadata": {},
     "output_type": "execute_result"
    }
   ],
   "source": [
    "embedding.wv.most_similar(positive=[\"california\", \"texas\", \"florida\"], topn=25)"
   ]
  },
  {
   "cell_type": "markdown",
   "metadata": {},
   "source": [
    "## train the ML model"
   ]
  },
  {
   "cell_type": "code",
   "execution_count": 14,
   "metadata": {},
   "outputs": [],
   "source": [
    "def sentence_to_embedding(sentence: str) -> np.array:\n",
    "    \"\"\"\n",
    "    Returns the element-wise mean of the embeddings that represent each word in a sentence\n",
    "    \"\"\"\n",
    "    words = preprocessing(sentence)\n",
    "    vector = np.zeros(embedding.layer1_size)\n",
    "    counter = 0\n",
    "    for word in words:\n",
    "        try:\n",
    "            vector += embedding.wv[word]\n",
    "            counter += 1\n",
    "        except:\n",
    "            pass\n",
    "    if counter > 0:\n",
    "        vector = vector / counter\n",
    "    return vector"
   ]
  },
  {
   "cell_type": "code",
   "execution_count": 15,
   "metadata": {},
   "outputs": [
    {
     "name": "stdout",
     "output_type": "stream",
     "text": [
      "Number of rows in the total set: 135556\n",
      "Number of rows in the training set: 94888\n",
      "Number of rows in the validation set: 13556\n",
      "Number of rows in the test set: 27112\n"
     ]
    }
   ],
   "source": [
    "y_sample = sentences['hatespeech'].astype(float)\n",
    "X_sample = sentences['text'].astype(str)\n",
    "\n",
    "X_train_validation, X_test, y_train_validation, y_test = train_test_split(X_sample.values, \n",
    "                                                    y_sample.values, \n",
    "                                                    random_state=42,test_size=0.2)\n",
    "\n",
    "X_train, X_validation, y_train, y_validation = train_test_split(X_train_validation, \n",
    "                                                    y_train_validation, \n",
    "                                                    random_state=42,test_size=0.125)\n",
    "\n",
    "print('Number of rows in the total set: {}'.format(X_sample.shape[0]))\n",
    "print('Number of rows in the training set: {}'.format(X_train.shape[0]))\n",
    "print('Number of rows in the validation set: {}'.format(X_validation.shape[0]))\n",
    "print('Number of rows in the test set: {}'.format(X_test.shape[0]))"
   ]
  },
  {
   "cell_type": "code",
   "execution_count": 16,
   "metadata": {},
   "outputs": [],
   "source": [
    "X_train = pd.DataFrame(X_train, columns=['data']).data.apply(sentence_to_embedding)\n",
    "X_validation = pd.DataFrame(X_validation, columns=['data']).data.apply(sentence_to_embedding)\n",
    "X_test = pd.DataFrame(X_test, columns=['data']).data.apply(sentence_to_embedding)"
   ]
  },
  {
   "cell_type": "code",
   "execution_count": 17,
   "metadata": {},
   "outputs": [],
   "source": [
    "# Create the classification model\n",
    "model = Sequential()\n",
    "model.add(Dense(150,  activation='relu'))\n",
    "model.add(Dense(110, activation='relu'))\n",
    "model.add(Dense(75, activation='relu'))\n",
    "model.add(Dense(45, activation='relu'))\n",
    "model.add(Dense(15, activation='relu'))\n",
    "model.add(Dense(1, activation='relu'))\n",
    "model.add(Activation('sigmoid'))"
   ]
  },
  {
   "cell_type": "code",
   "execution_count": 42,
   "metadata": {},
   "outputs": [],
   "source": [
    "# Compile the model\n",
    "model.compile(loss='binary_crossentropy', optimizer=Adam(), metrics=['accuracy'])"
   ]
  },
  {
   "cell_type": "code",
   "execution_count": 19,
   "metadata": {},
   "outputs": [
    {
     "name": "stdout",
     "output_type": "stream",
     "text": [
      "Epoch 1/20\n",
      "2966/2966 [==============================] - 5s 2ms/step - loss: 0.6238 - accuracy: 0.7575 - val_loss: 0.6185 - val_accuracy: 0.7651\n",
      "Epoch 2/20\n",
      "2966/2966 [==============================] - 4s 1ms/step - loss: 0.6155 - accuracy: 0.7707 - val_loss: 0.6181 - val_accuracy: 0.7608\n",
      "Epoch 3/20\n",
      "2966/2966 [==============================] - 4s 1ms/step - loss: 0.6126 - accuracy: 0.7753 - val_loss: 0.6249 - val_accuracy: 0.7475\n",
      "Epoch 4/20\n",
      "2966/2966 [==============================] - 4s 1ms/step - loss: 0.6118 - accuracy: 0.7733 - val_loss: 0.6145 - val_accuracy: 0.7704\n",
      "Epoch 5/20\n",
      "2966/2966 [==============================] - 4s 1ms/step - loss: 0.6111 - accuracy: 0.7748 - val_loss: 0.6164 - val_accuracy: 0.7699\n",
      "Epoch 6/20\n",
      "2966/2966 [==============================] - 4s 1ms/step - loss: 0.6085 - accuracy: 0.7817 - val_loss: 0.6122 - val_accuracy: 0.7748\n",
      "Epoch 7/20\n",
      "2966/2966 [==============================] - 4s 1ms/step - loss: 0.6066 - accuracy: 0.7852 - val_loss: 0.6149 - val_accuracy: 0.7765\n",
      "Epoch 8/20\n",
      "2966/2966 [==============================] - 4s 1ms/step - loss: 0.6058 - accuracy: 0.7843 - val_loss: 0.6147 - val_accuracy: 0.7731\n",
      "Epoch 9/20\n",
      "2966/2966 [==============================] - 4s 1ms/step - loss: 0.6050 - accuracy: 0.7851 - val_loss: 0.6147 - val_accuracy: 0.7650\n",
      "Epoch 10/20\n",
      "2966/2966 [==============================] - 4s 1ms/step - loss: 0.6043 - accuracy: 0.7854 - val_loss: 0.6127 - val_accuracy: 0.7742\n",
      "Epoch 11/20\n",
      "2966/2966 [==============================] - 4s 1ms/step - loss: 0.6033 - accuracy: 0.7873 - val_loss: 0.6132 - val_accuracy: 0.7782\n",
      "Epoch 12/20\n",
      "2966/2966 [==============================] - 4s 1ms/step - loss: 0.6031 - accuracy: 0.7863 - val_loss: 0.6117 - val_accuracy: 0.7733\n",
      "Epoch 13/20\n",
      "2966/2966 [==============================] - 4s 1ms/step - loss: 0.6024 - accuracy: 0.7871 - val_loss: 0.6129 - val_accuracy: 0.7775\n",
      "Epoch 14/20\n",
      "2966/2966 [==============================] - 4s 1ms/step - loss: 0.6011 - accuracy: 0.7885 - val_loss: 0.6156 - val_accuracy: 0.7650\n",
      "Epoch 15/20\n",
      "2966/2966 [==============================] - 4s 1ms/step - loss: 0.6006 - accuracy: 0.7890 - val_loss: 0.6140 - val_accuracy: 0.7736\n",
      "Epoch 16/20\n",
      "2966/2966 [==============================] - 4s 1ms/step - loss: 0.6004 - accuracy: 0.7867 - val_loss: 0.6165 - val_accuracy: 0.7737\n",
      "Epoch 17/20\n",
      "2966/2966 [==============================] - 4s 1ms/step - loss: 0.5995 - accuracy: 0.7895 - val_loss: 0.6131 - val_accuracy: 0.7760\n",
      "Epoch 18/20\n",
      "2966/2966 [==============================] - 4s 1ms/step - loss: 0.5977 - accuracy: 0.7916 - val_loss: 0.6150 - val_accuracy: 0.7787\n",
      "Epoch 19/20\n",
      "2966/2966 [==============================] - 4s 1ms/step - loss: 0.5972 - accuracy: 0.7922 - val_loss: 0.6153 - val_accuracy: 0.7798\n",
      "Epoch 20/20\n",
      "2966/2966 [==============================] - 4s 1ms/step - loss: 0.5960 - accuracy: 0.7936 - val_loss: 0.6169 - val_accuracy: 0.7777\n"
     ]
    }
   ],
   "source": [
    "# Train the model\n",
    "history = model.fit(x=np.asarray(X_train.to_list()).astype('float32'),\n",
    "                    y=y_train,\n",
    "                    batch_size=32, \n",
    "                    epochs=20,\n",
    "                    validation_data=(np.asarray(X_validation.to_list()).astype('float32'), y_validation),\n",
    "                    shuffle=True)"
   ]
  },
  {
   "cell_type": "code",
   "execution_count": 20,
   "metadata": {},
   "outputs": [
    {
     "name": "stdout",
     "output_type": "stream",
     "text": [
      "Model: \"sequential\"\n",
      "_________________________________________________________________\n",
      " Layer (type)                Output Shape              Param #   \n",
      "=================================================================\n",
      " dense (Dense)               (None, 150)               9150      \n",
      "                                                                 \n",
      " dense_1 (Dense)             (None, 110)               16610     \n",
      "                                                                 \n",
      " dense_2 (Dense)             (None, 75)                8325      \n",
      "                                                                 \n",
      " dense_3 (Dense)             (None, 45)                3420      \n",
      "                                                                 \n",
      " dense_4 (Dense)             (None, 15)                690       \n",
      "                                                                 \n",
      " dense_5 (Dense)             (None, 1)                 16        \n",
      "                                                                 \n",
      " activation (Activation)     (None, 1)                 0         \n",
      "                                                                 \n",
      "=================================================================\n",
      "Total params: 38,211\n",
      "Trainable params: 38,211\n",
      "Non-trainable params: 0\n",
      "_________________________________________________________________\n"
     ]
    }
   ],
   "source": [
    "model.summary()"
   ]
  },
  {
   "cell_type": "code",
   "execution_count": 21,
   "metadata": {},
   "outputs": [
    {
     "name": "stdout",
     "output_type": "stream",
     "text": [
      "848/848 [==============================] - 1s 712us/step - loss: 0.6162 - accuracy: 0.7799\n"
     ]
    },
    {
     "data": {
      "text/plain": [
       "[0.6161705851554871, 0.7798760533332825]"
      ]
     },
     "execution_count": 21,
     "metadata": {},
     "output_type": "execute_result"
    }
   ],
   "source": [
    "accr = model.evaluate(np.asarray(X_test.to_list()).astype('float32'), y_test)\n",
    "accr"
   ]
  },
  {
   "cell_type": "code",
   "execution_count": 32,
   "metadata": {},
   "outputs": [
    {
     "name": "stdout",
     "output_type": "stream",
     "text": [
      "848/848 [==============================] - 0s 521us/step\n"
     ]
    }
   ],
   "source": [
    "pred = model.predict(np.asarray(X_test.to_list()).astype('float32'), verbose=1)"
   ]
  },
  {
   "cell_type": "code",
   "execution_count": 41,
   "metadata": {},
   "outputs": [
    {
     "name": "stdout",
     "output_type": "stream",
     "text": [
      "Test set\n",
      "  Loss: 0.616\n",
      "  Accuracy: 0.780\n"
     ]
    }
   ],
   "source": [
    "print('Test set\\n  Loss: {:0.3f}\\n  Accuracy: {:0.3f}'.format(accr[0],accr[1]))"
   ]
  },
  {
   "cell_type": "code",
   "execution_count": 25,
   "metadata": {},
   "outputs": [
    {
     "data": {
      "text/plain": [
       "<matplotlib.legend.Legend at 0x1e4002d2ce0>"
      ]
     },
     "execution_count": 25,
     "metadata": {},
     "output_type": "execute_result"
    },
    {
     "data": {
      "image/png": "[encoded data removed]",
      "text/plain": [
       "<Figure size 432x288 with 2 Axes>"
      ]
     },
     "metadata": {
      "needs_background": "light"
     },
     "output_type": "display_data"
    }
   ],
   "source": [
    "s, (at, al) = plt.subplots(2,1)\n",
    "at.plot(history.history['accuracy'], c= 'b')\n",
    "at.plot(history.history['val_accuracy'], c='r')\n",
    "at.set_title('model accuracy')\n",
    "at.set_ylabel('accuracy')\n",
    "at.set_xlabel('epoch')\n",
    "at.legend(['LSTM_train', 'LSTM_val'], loc='upper left')\n",
    "\n",
    "al.plot(history.history['loss'], c='m')\n",
    "al.plot(history.history['val_loss'], c='c')\n",
    "al.set_title('model loss')\n",
    "al.set_ylabel('loss')\n",
    "al.set_xlabel('epoch')\n",
    "al.legend(['train', 'val'], loc = 'upper left')"
   ]
  },
  {
   "cell_type": "code",
   "execution_count": null,
   "metadata": {},
   "outputs": [],
   "source": []
  }
 ],
 "metadata": {
  "kernelspec": {
   "display_name": "Python 3 (ipykernel)",
   "language": "python",
   "name": "python3"
  },
  "language_info": {
   "codemirror_mode": {
    "name": "ipython",
    "version": 3
   },
   "file_extension": ".py",
   "mimetype": "text/x-python",
   "name": "python",
   "nbconvert_exporter": "python",
   "pygments_lexer": "ipython3",
   "version": "3.10.5"
  },
  "vscode": {
   "interpreter": {
    "hash": "c63d8c7d738c2960218a10995aedf0a7f67a49a231e71037adf0440953cdb45b"
   }
  }
 },
 "nbformat": 4,
 "nbformat_minor": 4
}
