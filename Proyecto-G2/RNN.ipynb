{
 "cells": [
  {
   "cell_type": "markdown",
   "metadata": {},
   "source": [
    "# **Redes Recurrentes**\n"
   ]
  },
  {
   "cell_type": "code",
   "execution_count": 2,
   "metadata": {},
   "outputs": [],
   "source": [
    "#import libreries\n",
    "\n",
    "import tensorflow as tf\n",
    "import numpy as np\n",
    "import pandas as pd\n",
    "import datasets \n",
    "import matplotlib.pyplot as plt\n",
    "\n",
    "import keras \n",
    "from sklearn.preprocessing import LabelEncoder\n",
    "from sklearn.preprocessing import StandardScaler\n",
    "from sklearn.model_selection import train_test_split\n",
    "\n",
    "# -- Keras Import\n",
    "from keras.models import Sequential\n",
    "from keras.layers import Dense, Activation\n",
    "from keras.preprocessing import image\n",
    "\n",
    "from keras.datasets import imdb\n",
    "from keras.datasets import mnist\n",
    "\n",
    "from keras.models import Sequential\n",
    "from keras.layers import Dense, Dropout, Activation, Flatten\n",
    "from keras.layers import Conv2D, MaxPooling2D\n",
    "\n",
    "from keras.utils import np_utils\n",
    "from keras.preprocessing import sequence\n",
    "from keras_preprocessing.sequence import pad_sequences\n",
    "from keras.layers import Embedding\n",
    "from keras.layers import Bidirectional, LSTM, GRU, SimpleRNN\n",
    "\n",
    "from keras.layers import Activation, TimeDistributed, RepeatVector\n",
    "from keras.callbacks import EarlyStopping, ModelCheckpoint\n",
    "\n",
    "from keras.layers import TextVectorization\n",
    "from gensim.parsing.porter import PorterStemmer \n",
    "from gensim.parsing.preprocessing import remove_stopwords\n",
    "import re\n",
    "from keras.preprocessing.text import Tokenizer"
   ]
  },
  {
   "cell_type": "code",
   "execution_count": 3,
   "metadata": {},
   "outputs": [
    {
     "name": "stdout",
     "output_type": "stream",
     "text": [
      "Loading data...\n"
     ]
    },
    {
     "name": "stderr",
     "output_type": "stream",
     "text": [
      "Using custom data configuration ucberkeley-dlab--measuring-hate-speech-7a847a2ec289eb57\n",
      "Reusing dataset parquet (/Users/karin/.cache/huggingface/datasets/ucberkeley-dlab___parquet/ucberkeley-dlab--measuring-hate-speech-7a847a2ec289eb57/0.0.0/2a3b91fbd88a2c90d1dbbb32b460cf621d31bd5b05b934492fdef7d8d6f236ec)\n"
     ]
    },
    {
     "data": {
      "application/vnd.jupyter.widget-view+json": {
       "model_id": "4c4bc375dc954551b187e2aad789d16e",
       "version_major": 2,
       "version_minor": 0
      },
      "text/plain": [
       "  0%|          | 0/1 [00:00<?, ?it/s]"
      ]
     },
     "metadata": {},
     "output_type": "display_data"
    },
    {
     "data": {
      "text/html": [
       "<div>\n",
       "<style scoped>\n",
       "    .dataframe tbody tr th:only-of-type {\n",
       "        vertical-align: middle;\n",
       "    }\n",
       "\n",
       "    .dataframe tbody tr th {\n",
       "        vertical-align: top;\n",
       "    }\n",
       "\n",
       "    .dataframe thead th {\n",
       "        text-align: right;\n",
       "    }\n",
       "</style>\n",
       "<table border=\"1\" class=\"dataframe\">\n",
       "  <thead>\n",
       "    <tr style=\"text-align: right;\">\n",
       "      <th></th>\n",
       "      <th>comment_id</th>\n",
       "      <th>annotator_id</th>\n",
       "      <th>platform</th>\n",
       "      <th>sentiment</th>\n",
       "      <th>respect</th>\n",
       "      <th>insult</th>\n",
       "      <th>humiliate</th>\n",
       "      <th>status</th>\n",
       "      <th>dehumanize</th>\n",
       "      <th>violence</th>\n",
       "      <th>...</th>\n",
       "      <th>annotator_religion_hindu</th>\n",
       "      <th>annotator_religion_jewish</th>\n",
       "      <th>annotator_religion_mormon</th>\n",
       "      <th>annotator_religion_muslim</th>\n",
       "      <th>annotator_religion_nothing</th>\n",
       "      <th>annotator_religion_other</th>\n",
       "      <th>annotator_sexuality_bisexual</th>\n",
       "      <th>annotator_sexuality_gay</th>\n",
       "      <th>annotator_sexuality_straight</th>\n",
       "      <th>annotator_sexuality_other</th>\n",
       "    </tr>\n",
       "  </thead>\n",
       "  <tbody>\n",
       "    <tr>\n",
       "      <th>0</th>\n",
       "      <td>47777</td>\n",
       "      <td>10873</td>\n",
       "      <td>3</td>\n",
       "      <td>0.0</td>\n",
       "      <td>0.0</td>\n",
       "      <td>0.0</td>\n",
       "      <td>0.0</td>\n",
       "      <td>2.0</td>\n",
       "      <td>0.0</td>\n",
       "      <td>0.0</td>\n",
       "      <td>...</td>\n",
       "      <td>False</td>\n",
       "      <td>False</td>\n",
       "      <td>False</td>\n",
       "      <td>False</td>\n",
       "      <td>False</td>\n",
       "      <td>False</td>\n",
       "      <td>False</td>\n",
       "      <td>False</td>\n",
       "      <td>True</td>\n",
       "      <td>False</td>\n",
       "    </tr>\n",
       "    <tr>\n",
       "      <th>1</th>\n",
       "      <td>39773</td>\n",
       "      <td>2790</td>\n",
       "      <td>2</td>\n",
       "      <td>0.0</td>\n",
       "      <td>0.0</td>\n",
       "      <td>0.0</td>\n",
       "      <td>0.0</td>\n",
       "      <td>2.0</td>\n",
       "      <td>0.0</td>\n",
       "      <td>0.0</td>\n",
       "      <td>...</td>\n",
       "      <td>False</td>\n",
       "      <td>False</td>\n",
       "      <td>False</td>\n",
       "      <td>False</td>\n",
       "      <td>False</td>\n",
       "      <td>False</td>\n",
       "      <td>False</td>\n",
       "      <td>False</td>\n",
       "      <td>True</td>\n",
       "      <td>False</td>\n",
       "    </tr>\n",
       "    <tr>\n",
       "      <th>2</th>\n",
       "      <td>47101</td>\n",
       "      <td>3379</td>\n",
       "      <td>3</td>\n",
       "      <td>4.0</td>\n",
       "      <td>4.0</td>\n",
       "      <td>4.0</td>\n",
       "      <td>4.0</td>\n",
       "      <td>4.0</td>\n",
       "      <td>4.0</td>\n",
       "      <td>0.0</td>\n",
       "      <td>...</td>\n",
       "      <td>False</td>\n",
       "      <td>False</td>\n",
       "      <td>False</td>\n",
       "      <td>False</td>\n",
       "      <td>True</td>\n",
       "      <td>False</td>\n",
       "      <td>False</td>\n",
       "      <td>False</td>\n",
       "      <td>True</td>\n",
       "      <td>False</td>\n",
       "    </tr>\n",
       "    <tr>\n",
       "      <th>3</th>\n",
       "      <td>43625</td>\n",
       "      <td>7365</td>\n",
       "      <td>3</td>\n",
       "      <td>2.0</td>\n",
       "      <td>3.0</td>\n",
       "      <td>2.0</td>\n",
       "      <td>1.0</td>\n",
       "      <td>2.0</td>\n",
       "      <td>0.0</td>\n",
       "      <td>0.0</td>\n",
       "      <td>...</td>\n",
       "      <td>False</td>\n",
       "      <td>False</td>\n",
       "      <td>False</td>\n",
       "      <td>False</td>\n",
       "      <td>False</td>\n",
       "      <td>False</td>\n",
       "      <td>False</td>\n",
       "      <td>False</td>\n",
       "      <td>True</td>\n",
       "      <td>False</td>\n",
       "    </tr>\n",
       "    <tr>\n",
       "      <th>4</th>\n",
       "      <td>12538</td>\n",
       "      <td>488</td>\n",
       "      <td>0</td>\n",
       "      <td>4.0</td>\n",
       "      <td>4.0</td>\n",
       "      <td>4.0</td>\n",
       "      <td>4.0</td>\n",
       "      <td>4.0</td>\n",
       "      <td>4.0</td>\n",
       "      <td>4.0</td>\n",
       "      <td>...</td>\n",
       "      <td>False</td>\n",
       "      <td>False</td>\n",
       "      <td>False</td>\n",
       "      <td>False</td>\n",
       "      <td>False</td>\n",
       "      <td>False</td>\n",
       "      <td>False</td>\n",
       "      <td>False</td>\n",
       "      <td>True</td>\n",
       "      <td>False</td>\n",
       "    </tr>\n",
       "  </tbody>\n",
       "</table>\n",
       "<p>5 rows × 131 columns</p>\n",
       "</div>"
      ],
      "text/plain": [
       "   comment_id  annotator_id  platform  sentiment  respect  insult  humiliate  \\\n",
       "0       47777         10873         3        0.0      0.0     0.0        0.0   \n",
       "1       39773          2790         2        0.0      0.0     0.0        0.0   \n",
       "2       47101          3379         3        4.0      4.0     4.0        4.0   \n",
       "3       43625          7365         3        2.0      3.0     2.0        1.0   \n",
       "4       12538           488         0        4.0      4.0     4.0        4.0   \n",
       "\n",
       "   status  dehumanize  violence  ...  annotator_religion_hindu  \\\n",
       "0     2.0         0.0       0.0  ...                     False   \n",
       "1     2.0         0.0       0.0  ...                     False   \n",
       "2     4.0         4.0       0.0  ...                     False   \n",
       "3     2.0         0.0       0.0  ...                     False   \n",
       "4     4.0         4.0       4.0  ...                     False   \n",
       "\n",
       "   annotator_religion_jewish  annotator_religion_mormon  \\\n",
       "0                      False                      False   \n",
       "1                      False                      False   \n",
       "2                      False                      False   \n",
       "3                      False                      False   \n",
       "4                      False                      False   \n",
       "\n",
       "   annotator_religion_muslim annotator_religion_nothing  \\\n",
       "0                      False                      False   \n",
       "1                      False                      False   \n",
       "2                      False                       True   \n",
       "3                      False                      False   \n",
       "4                      False                      False   \n",
       "\n",
       "   annotator_religion_other  annotator_sexuality_bisexual  \\\n",
       "0                     False                         False   \n",
       "1                     False                         False   \n",
       "2                     False                         False   \n",
       "3                     False                         False   \n",
       "4                     False                         False   \n",
       "\n",
       "   annotator_sexuality_gay  annotator_sexuality_straight  \\\n",
       "0                    False                          True   \n",
       "1                    False                          True   \n",
       "2                    False                          True   \n",
       "3                    False                          True   \n",
       "4                    False                          True   \n",
       "\n",
       "   annotator_sexuality_other  \n",
       "0                      False  \n",
       "1                      False  \n",
       "2                      False  \n",
       "3                      False  \n",
       "4                      False  \n",
       "\n",
       "[5 rows x 131 columns]"
      ]
     },
     "execution_count": 3,
     "metadata": {},
     "output_type": "execute_result"
    }
   ],
   "source": [
    "max_features = 20000\n",
    "maxlen = 100  # cut texts after this number of words (among top max_features most common words)\n",
    "batch_size = 32\n",
    "\n",
    "print(\"Loading data...\")\n",
    "\n",
    "#download data\n",
    "dataset = datasets.load_dataset('ucberkeley-dlab/measuring-hate-speech', 'binary')   \n",
    "\n",
    "# Read data\n",
    "df = dataset['train'].to_pandas()\n",
    "\n",
    "df.head()\n"
   ]
  },
  {
   "cell_type": "code",
   "execution_count": 4,
   "metadata": {},
   "outputs": [
    {
     "data": {
      "text/plain": [
       "['comment_id',\n",
       " 'annotator_id',\n",
       " 'platform',\n",
       " 'sentiment',\n",
       " 'respect',\n",
       " 'insult',\n",
       " 'humiliate',\n",
       " 'status',\n",
       " 'dehumanize',\n",
       " 'violence',\n",
       " 'genocide',\n",
       " 'attack_defend',\n",
       " 'hatespeech',\n",
       " 'hate_speech_score',\n",
       " 'text',\n",
       " 'infitms',\n",
       " 'outfitms',\n",
       " 'annotator_severity',\n",
       " 'std_err',\n",
       " 'annotator_infitms',\n",
       " 'annotator_outfitms',\n",
       " 'hypothesis',\n",
       " 'target_race_asian',\n",
       " 'target_race_black',\n",
       " 'target_race_latinx',\n",
       " 'target_race_middle_eastern',\n",
       " 'target_race_native_american',\n",
       " 'target_race_pacific_islander',\n",
       " 'target_race_white',\n",
       " 'target_race_other',\n",
       " 'target_race',\n",
       " 'target_religion_atheist',\n",
       " 'target_religion_buddhist',\n",
       " 'target_religion_christian',\n",
       " 'target_religion_hindu',\n",
       " 'target_religion_jewish',\n",
       " 'target_religion_mormon',\n",
       " 'target_religion_muslim',\n",
       " 'target_religion_other',\n",
       " 'target_religion',\n",
       " 'target_origin_immigrant',\n",
       " 'target_origin_migrant_worker',\n",
       " 'target_origin_specific_country',\n",
       " 'target_origin_undocumented',\n",
       " 'target_origin_other',\n",
       " 'target_origin',\n",
       " 'target_gender_men',\n",
       " 'target_gender_non_binary',\n",
       " 'target_gender_transgender_men',\n",
       " 'target_gender_transgender_unspecified',\n",
       " 'target_gender_transgender_women',\n",
       " 'target_gender_women',\n",
       " 'target_gender_other',\n",
       " 'target_gender',\n",
       " 'target_sexuality_bisexual',\n",
       " 'target_sexuality_gay',\n",
       " 'target_sexuality_lesbian',\n",
       " 'target_sexuality_straight',\n",
       " 'target_sexuality_other',\n",
       " 'target_sexuality',\n",
       " 'target_age_children',\n",
       " 'target_age_teenagers',\n",
       " 'target_age_young_adults',\n",
       " 'target_age_middle_aged',\n",
       " 'target_age_seniors',\n",
       " 'target_age_other',\n",
       " 'target_age',\n",
       " 'target_disability_physical',\n",
       " 'target_disability_cognitive',\n",
       " 'target_disability_neurological',\n",
       " 'target_disability_visually_impaired',\n",
       " 'target_disability_hearing_impaired',\n",
       " 'target_disability_unspecific',\n",
       " 'target_disability_other',\n",
       " 'target_disability',\n",
       " 'annotator_gender',\n",
       " 'annotator_trans',\n",
       " 'annotator_educ',\n",
       " 'annotator_income',\n",
       " 'annotator_ideology',\n",
       " 'annotator_gender_men',\n",
       " 'annotator_gender_women',\n",
       " 'annotator_gender_non_binary',\n",
       " 'annotator_gender_prefer_not_to_say',\n",
       " 'annotator_gender_self_describe',\n",
       " 'annotator_transgender',\n",
       " 'annotator_cisgender',\n",
       " 'annotator_transgender_prefer_not_to_say',\n",
       " 'annotator_education_some_high_school',\n",
       " 'annotator_education_high_school_grad',\n",
       " 'annotator_education_some_college',\n",
       " 'annotator_education_college_grad_aa',\n",
       " 'annotator_education_college_grad_ba',\n",
       " 'annotator_education_professional_degree',\n",
       " 'annotator_education_masters',\n",
       " 'annotator_education_phd',\n",
       " 'annotator_income_<10k',\n",
       " 'annotator_income_10k-50k',\n",
       " 'annotator_income_50k-100k',\n",
       " 'annotator_income_100k-200k',\n",
       " 'annotator_income_>200k',\n",
       " 'annotator_ideology_extremeley_conservative',\n",
       " 'annotator_ideology_conservative',\n",
       " 'annotator_ideology_slightly_conservative',\n",
       " 'annotator_ideology_neutral',\n",
       " 'annotator_ideology_slightly_liberal',\n",
       " 'annotator_ideology_liberal',\n",
       " 'annotator_ideology_extremeley_liberal',\n",
       " 'annotator_ideology_no_opinion',\n",
       " 'annotator_race_asian',\n",
       " 'annotator_race_black',\n",
       " 'annotator_race_latinx',\n",
       " 'annotator_race_middle_eastern',\n",
       " 'annotator_race_native_american',\n",
       " 'annotator_race_pacific_islander',\n",
       " 'annotator_race_white',\n",
       " 'annotator_race_other',\n",
       " 'annotator_age',\n",
       " 'annotator_religion_atheist',\n",
       " 'annotator_religion_buddhist',\n",
       " 'annotator_religion_christian',\n",
       " 'annotator_religion_hindu',\n",
       " 'annotator_religion_jewish',\n",
       " 'annotator_religion_mormon',\n",
       " 'annotator_religion_muslim',\n",
       " 'annotator_religion_nothing',\n",
       " 'annotator_religion_other',\n",
       " 'annotator_sexuality_bisexual',\n",
       " 'annotator_sexuality_gay',\n",
       " 'annotator_sexuality_straight',\n",
       " 'annotator_sexuality_other']"
      ]
     },
     "execution_count": 4,
     "metadata": {},
     "output_type": "execute_result"
    }
   ],
   "source": [
    "df.columns.to_list()"
   ]
  },
  {
   "cell_type": "code",
   "execution_count": 5,
   "metadata": {},
   "outputs": [
    {
     "data": {
      "text/plain": [
       "0.0    80624\n",
       "2.0    46021\n",
       "1.0     8911\n",
       "Name: hatespeech, dtype: int64"
      ]
     },
     "execution_count": 5,
     "metadata": {},
     "output_type": "execute_result"
    }
   ],
   "source": [
    "df.hatespeech.value_counts()"
   ]
  },
  {
   "cell_type": "code",
   "execution_count": 6,
   "metadata": {},
   "outputs": [],
   "source": [
    "def preprocessing(document: str) -> list:\n",
    "    \"\"\"\n",
    "    convert text to lowercase\n",
    "    remove no latin caracters \n",
    "    remove punctuation \n",
    "    remove extra spaces\n",
    "    do stemming text\n",
    "    \"\"\"\n",
    "    document = document.lower()\n",
    "    document = remove_stopwords(document)\n",
    "    document = re.sub('\\n', ' ', document)\n",
    "    document = re.sub('[^a-zA-Z]|[0-9]', ' ', document)\n",
    "    document = re.sub('\\s+', ' ', document)\n",
    "    p = PorterStemmer()\n",
    "    document = p.stem_sentence(document)\n",
    "    return document"
   ]
  },
  {
   "cell_type": "code",
   "execution_count": 7,
   "metadata": {},
   "outputs": [],
   "source": [
    "df['text']=df.text.apply(preprocessing)"
   ]
  },
  {
   "cell_type": "code",
   "execution_count": 116,
   "metadata": {},
   "outputs": [],
   "source": [
    "X = df[['comment_id',\n",
    "'annotator_id',\n",
    "'platform',\n",
    "'sentiment',\n",
    "'respect',\n",
    "'insult',\n",
    "'humiliate',\n",
    "'status',\n",
    "'dehumanize',\n",
    "'violence',\n",
    "'genocide',\n",
    "'attack_defend',\n",
    "'hatespeech',\n",
    "'hate_speech_score',\n",
    "'text',\n",
    "'infitms',\n",
    "'outfitms',\n",
    "'annotator_severity',\n",
    "'std_err',\n",
    "'annotator_infitms',\n",
    "'annotator_outfitms',\n",
    "'hypothesis',\n",
    "'target_race_asian',\n",
    "'target_race_black',\n",
    "'target_race_latinx',\n",
    "'target_race_middle_eastern',\n",
    "'target_race_native_american',\n",
    "'target_race_pacific_islander',\n",
    "'target_race_white',\n",
    "'target_race_other',\n",
    "'target_race',\n",
    "'target_religion_atheist',\n",
    "'target_religion_buddhist',\n",
    "'target_religion_christian',\n",
    "'target_religion_hindu',\n",
    "'target_religion_jewish',\n",
    "'target_religion_mormon',\n",
    "'target_religion_muslim',\n",
    "'target_religion_other',\n",
    "'target_religion',\n",
    "'target_origin_immigrant',\n",
    "'target_origin_migrant_worker',\n",
    "'target_origin_specific_country',\n",
    "'target_origin_undocumented',\n",
    "'target_origin_other',\n",
    "'target_origin',\n",
    "'target_gender_men',\n",
    "'target_gender_non_binary',\n",
    "'target_gender_transgender_men',\n",
    "'target_gender_transgender_unspecified',\n",
    "'target_gender_transgender_women',\n",
    "'target_gender_women',\n",
    "'target_gender_other',\n",
    "'target_gender',\n",
    "'target_sexuality_bisexual',\n",
    "'target_sexuality_gay',\n",
    "'target_sexuality_lesbian',\n",
    "'target_sexuality_straight',\n",
    "'target_sexuality_other',\n",
    "'target_sexuality',\n",
    "'target_age_children',\n",
    "'target_age_teenagers',\n",
    "'target_age_young_adults',\n",
    "'target_age_middle_aged',\n",
    "'target_age_seniors',\n",
    "'target_age_other',\n",
    "'target_age',\n",
    "'target_disability_physical',\n",
    "'target_disability_cognitive',\n",
    "'target_disability_neurological',\n",
    "'target_disability_visually_impaired',\n",
    "'target_disability_hearing_impaired',\n",
    "'target_disability_unspecific',\n",
    "'target_disability_other',\n",
    "'target_disability',\n",
    "'annotator_gender',\n",
    "'annotator_trans',\n",
    "'annotator_educ',\n",
    "'annotator_income',\n",
    "'annotator_ideology',\n",
    "'annotator_gender_men',\n",
    "'annotator_gender_women',\n",
    "'annotator_gender_non_binary',\n",
    "'annotator_gender_prefer_not_to_say',\n",
    "'annotator_gender_self_describe',\n",
    "'annotator_transgender',\n",
    "'annotator_cisgender',\n",
    "'annotator_transgender_prefer_not_to_say',\n",
    "'annotator_education_some_high_school',\n",
    "'annotator_education_high_school_grad',\n",
    "'annotator_education_some_college',\n",
    "'annotator_education_college_grad_aa',\n",
    "'annotator_education_college_grad_ba',\n",
    "'annotator_education_professional_degree',\n",
    "'annotator_education_masters',\n",
    "'annotator_education_phd',\n",
    "'annotator_income_<10k',\n",
    "'annotator_income_10k-50k',\n",
    "'annotator_income_50k-100k',\n",
    "'annotator_income_100k-200k',\n",
    "'annotator_income_>200k',\n",
    "'annotator_ideology_extremeley_conservative',\n",
    "'annotator_ideology_conservative',\n",
    "'annotator_ideology_slightly_conservative',\n",
    "'annotator_ideology_neutral',\n",
    "'annotator_ideology_slightly_liberal',\n",
    "'annotator_ideology_liberal',\n",
    "'annotator_ideology_extremeley_liberal',\n",
    "'annotator_ideology_no_opinion',\n",
    "'annotator_race_asian',\n",
    "'annotator_race_black',\n",
    "'annotator_race_latinx',\n",
    "'annotator_race_middle_eastern',\n",
    "'annotator_race_native_american',\n",
    "'annotator_race_pacific_islander',\n",
    "'annotator_race_white',\n",
    "'annotator_race_other',\n",
    "'annotator_age',\n",
    "'annotator_religion_atheist',\n",
    "'annotator_religion_buddhist',\n",
    "'annotator_religion_christian',\n",
    "'annotator_religion_hindu',\n",
    "'annotator_religion_jewish',\n",
    "'annotator_religion_mormon',\n",
    "'annotator_religion_muslim',\n",
    "'annotator_religion_nothing',\n",
    "'annotator_religion_other',\n",
    "'annotator_sexuality_bisexual',\n",
    "'annotator_sexuality_gay',\n",
    "'annotator_sexuality_straight',\n",
    "'annotator_sexuality_other']]\n",
    "\n",
    "y = df.hatespeech"
   ]
  },
  {
   "cell_type": "code",
   "execution_count": 9,
   "metadata": {},
   "outputs": [],
   "source": [
    "X = df['text']"
   ]
  },
  {
   "cell_type": "code",
   "execution_count": 10,
   "metadata": {},
   "outputs": [
    {
     "data": {
      "text/plain": [
       "0         ye inde sort remind elder ladi plai movi titan...\n",
       "1                        tran women read tweet right beauti\n",
       "2         question broad critic america countri flee her...\n",
       "3         time illeg countri origin freewai open prevent...\n",
       "4         starter bend pink kick ass pussi tast she s be...\n",
       "                                ...                        \n",
       "135551    break new sayi abdulmalik the saudi regim lear...\n",
       "135552    million yemen is particip mass ralli squar gov...\n",
       "135553    abeshinzo realdonaldtrump shinzoab dictat goe ...\n",
       "135554    million yemen is particip mass ralli squar gov...\n",
       "135555    op hope commit suicid dai die ass cancer feel ...\n",
       "Name: text, Length: 135556, dtype: object"
      ]
     },
     "execution_count": 10,
     "metadata": {},
     "output_type": "execute_result"
    }
   ],
   "source": [
    "X"
   ]
  },
  {
   "cell_type": "code",
   "execution_count": 11,
   "metadata": {},
   "outputs": [
    {
     "data": {
      "text/plain": [
       "dtype('float64')"
      ]
     },
     "execution_count": 11,
     "metadata": {},
     "output_type": "execute_result"
    }
   ],
   "source": [
    "y.dtype"
   ]
  },
  {
   "cell_type": "markdown",
   "metadata": {},
   "source": [
    "### **Replace hatespeech == 1 with 2** "
   ]
  },
  {
   "cell_type": "code",
   "execution_count": 12,
   "metadata": {},
   "outputs": [],
   "source": [
    "# replace 1 with 2 in y\n",
    "y = [ 2.0 if x==1 else x for x in y ]"
   ]
  },
  {
   "cell_type": "code",
   "execution_count": 13,
   "metadata": {},
   "outputs": [],
   "source": [
    "y = np.array(y)"
   ]
  },
  {
   "cell_type": "markdown",
   "metadata": {},
   "source": [
    "### **Split in train and test data** "
   ]
  },
  {
   "cell_type": "code",
   "execution_count": 14,
   "metadata": {},
   "outputs": [
    {
     "name": "stdout",
     "output_type": "stream",
     "text": [
      "Number of rows in the total set: 135556\n",
      "Number of rows in the training set: 63575\n",
      "Number of rows in the validation set: 31314\n",
      "Number of rows in the test set: 40667\n"
     ]
    }
   ],
   "source": [
    "X_train_validation, X_test, y_train_validation, y_test = train_test_split(X,y,\n",
    "                                                    random_state=1,test_size=0.3)\n",
    "\n",
    "X_train, X_validation, y_train, y_validation = train_test_split(X_train_validation, \n",
    "                                                    y_train_validation, \n",
    "                                                    random_state=1,test_size=0.33)\n",
    "\n",
    "print('Number of rows in the total set: {}'.format(df.shape[0]))\n",
    "print('Number of rows in the training set: {}'.format(len(X_train)))\n",
    "print('Number of rows in the validation set: {}'.format(len(X_validation)))\n",
    "print('Number of rows in the test set: {}'.format(len(X_test)))"
   ]
  },
  {
   "cell_type": "code",
   "execution_count": 76,
   "metadata": {},
   "outputs": [],
   "source": [
    "from keras.preprocessing.sequence import pad_sequences\n",
    "\n",
    "max_words = 20000\n",
    "max_len = 150\n",
    "\n",
    "word_token = Tokenizer(num_words=max_words)\n",
    "word_token.fit_on_texts(X_train)\n",
    "sequences = word_token.texts_to_sequences(X_train)\n",
    "sequences_matrix = sequence.pad_sequences(sequences,maxlen=max_len)"
   ]
  },
  {
   "cell_type": "code",
   "execution_count": 84,
   "metadata": {},
   "outputs": [
    {
     "data": {
      "text/plain": [
       "63575"
      ]
     },
     "execution_count": 84,
     "metadata": {},
     "output_type": "execute_result"
    }
   ],
   "source": [
    "sequences_matrix.shape[0]"
   ]
  },
  {
   "cell_type": "code",
   "execution_count": 70,
   "metadata": {},
   "outputs": [],
   "source": [
    "#def RNN():\n",
    "#    from keras.layers import LSTM, Activation, Dense, Dropout, Input, Embedding\n",
    "#    from keras.models import Model\n",
    "#    inputs = Input(name='inputs',shape=[max_len])\n",
    "#    layer = Embedding(max_words,50,input_length=max_len)(inputs)\n",
    "#    layer = LSTM(128)(layer)\n",
    "#    layer = Dense(256,name='FC1')(layer)\n",
    "#    layer = Activation('relu')(layer)\n",
    "#    layer = Dropout(0.5)(layer)\n",
    "#    layer = Dense(1,name='out_layer')(layer)\n",
    "#    layer = Activation('sigmoid')(layer)\n",
    "#    model = Model(inputs=inputs,outputs=layer)\n",
    "#    return model"
   ]
  },
  {
   "cell_type": "code",
   "execution_count": 107,
   "metadata": {},
   "outputs": [
    {
     "name": "stdout",
     "output_type": "stream",
     "text": [
      "Build model...\n"
     ]
    }
   ],
   "source": [
    "print('Build model...')\n",
    "\n",
    "from keras.layers import LSTM, Activation, Dense, Dropout, Input, Embedding\n",
    "\n",
    "max_features = 20000\n",
    "maxlen = 150 \n",
    "batch_size = 32\n",
    "\n",
    "\n",
    "model = Sequential()\n",
    "model.add(Embedding(max_features, batch_size, input_length=maxlen))\n",
    "model.add(LSTM(128))\n",
    "model.add(Dropout(0.5))\n",
    "model.add(Dense(64))\n",
    "model.add(Dense(1))\n",
    "model.add(Activation('sigmoid'))"
   ]
  },
  {
   "cell_type": "code",
   "execution_count": 108,
   "metadata": {},
   "outputs": [
    {
     "name": "stdout",
     "output_type": "stream",
     "text": [
      "Model: \"sequential_21\"\n",
      "_________________________________________________________________\n",
      " Layer (type)                Output Shape              Param #   \n",
      "=================================================================\n",
      " embedding_19 (Embedding)    (None, 150, 32)           640000    \n",
      "                                                                 \n",
      " lstm_20 (LSTM)              (None, 128)               82432     \n",
      "                                                                 \n",
      " dropout_11 (Dropout)        (None, 128)               0         \n",
      "                                                                 \n",
      " dense_5 (Dense)             (None, 64)                8256      \n",
      "                                                                 \n",
      " dense_6 (Dense)             (None, 1)                 65        \n",
      "                                                                 \n",
      " activation_16 (Activation)  (None, 1)                 0         \n",
      "                                                                 \n",
      "=================================================================\n",
      "Total params: 730,753\n",
      "Trainable params: 730,753\n",
      "Non-trainable params: 0\n",
      "_________________________________________________________________\n"
     ]
    }
   ],
   "source": [
    "from tensorflow.keras.optimizers import RMSprop,Adam\n",
    "\n",
    "#model = RNN()\n",
    "model.summary()\n",
    "model.compile(loss='binary_crossentropy',optimizer=RMSprop(),metrics=['accuracy'])"
   ]
  },
  {
   "cell_type": "code",
   "execution_count": 109,
   "metadata": {},
   "outputs": [
    {
     "name": "stdout",
     "output_type": "stream",
     "text": [
      "Epoch 1/10\n"
     ]
    },
    {
     "name": "stderr",
     "output_type": "stream",
     "text": [
      "2022-07-26 13:15:16.662074: I tensorflow/core/grappler/optimizers/custom_graph_optimizer_registry.cc:113] Plugin optimizer for device_type GPU is enabled.\n",
      "2022-07-26 13:15:21.919806: I tensorflow/core/grappler/optimizers/custom_graph_optimizer_registry.cc:113] Plugin optimizer for device_type GPU is enabled.\n",
      "2022-07-26 13:15:25.694147: I tensorflow/core/grappler/optimizers/custom_graph_optimizer_registry.cc:113] Plugin optimizer for device_type GPU is enabled.\n"
     ]
    },
    {
     "name": "stdout",
     "output_type": "stream",
     "text": [
      "1590/1590 [==============================] - ETA: 0s - loss: -353.4296 - accuracy: 0.2940"
     ]
    },
    {
     "name": "stderr",
     "output_type": "stream",
     "text": [
      "2022-07-26 13:17:46.303921: I tensorflow/core/grappler/optimizers/custom_graph_optimizer_registry.cc:113] Plugin optimizer for device_type GPU is enabled.\n",
      "2022-07-26 13:17:46.842633: I tensorflow/core/grappler/optimizers/custom_graph_optimizer_registry.cc:113] Plugin optimizer for device_type GPU is enabled.\n"
     ]
    },
    {
     "name": "stdout",
     "output_type": "stream",
     "text": [
      "1590/1590 [==============================] - 177s 92ms/step - loss: -353.4296 - accuracy: 0.2940 - val_loss: -1591.5028 - val_accuracy: 0.3802\n",
      "Epoch 2/10\n",
      "1590/1590 [==============================] - 132s 83ms/step - loss: -4368.6963 - accuracy: 0.3465 - val_loss: -8639.4824 - val_accuracy: 0.3863\n",
      "Epoch 3/10\n",
      "1590/1590 [==============================] - 145s 91ms/step - loss: -14252.6680 - accuracy: 0.3485 - val_loss: -21303.9336 - val_accuracy: 0.4189\n",
      "Epoch 4/10\n",
      "1590/1590 [==============================] - 123s 77ms/step - loss: -29412.5781 - accuracy: 0.3471 - val_loss: -39041.8281 - val_accuracy: 0.4312\n",
      "Epoch 5/10\n",
      "1590/1590 [==============================] - 120s 75ms/step - loss: -55320.3555 - accuracy: 0.3626 - val_loss: -61730.5273 - val_accuracy: 0.4028\n",
      "Epoch 6/10\n",
      "1590/1590 [==============================] - 135s 85ms/step - loss: -87392.0078 - accuracy: 0.3700 - val_loss: -94647.7812 - val_accuracy: 0.4175\n",
      "Epoch 7/10\n",
      "1590/1590 [==============================] - 141s 88ms/step - loss: -126915.2266 - accuracy: 0.3733 - val_loss: -132937.1562 - val_accuracy: 0.4474\n",
      "Epoch 8/10\n",
      "1590/1590 [==============================] - 191s 120ms/step - loss: -176172.1562 - accuracy: 0.3735 - val_loss: -165073.1719 - val_accuracy: 0.4305\n",
      "Epoch 9/10\n",
      "1590/1590 [==============================] - 161s 101ms/step - loss: -233207.6562 - accuracy: 0.3792 - val_loss: -225326.9844 - val_accuracy: 0.4366\n",
      "Epoch 10/10\n",
      "1590/1590 [==============================] - 155s 97ms/step - loss: -298077.6562 - accuracy: 0.3787 - val_loss: -281912.1562 - val_accuracy: 0.4467\n"
     ]
    }
   ],
   "source": [
    "history = model.fit(sequences_matrix,y_train,batch_size=32,epochs=10,validation_split=0.2)"
   ]
  },
  {
   "cell_type": "code",
   "execution_count": 110,
   "metadata": {},
   "outputs": [],
   "source": [
    "test_sequences = word_token.texts_to_sequences(X_test)\n",
    "test_sequences_matrix = sequence.pad_sequences(test_sequences,maxlen=max_len)"
   ]
  },
  {
   "cell_type": "code",
   "execution_count": 111,
   "metadata": {},
   "outputs": [
    {
     "name": "stdout",
     "output_type": "stream",
     "text": [
      "1271/1271 [==============================] - 31s 24ms/step - loss: -275958.6562 - accuracy: 0.4530\n"
     ]
    }
   ],
   "source": [
    "accr = model.evaluate(test_sequences_matrix,y_test)"
   ]
  },
  {
   "cell_type": "code",
   "execution_count": 112,
   "metadata": {},
   "outputs": [
    {
     "name": "stdout",
     "output_type": "stream",
     "text": [
      "Test set\n",
      "  Loss: -275958.656\n",
      "  Accuracy: 0.453\n"
     ]
    }
   ],
   "source": [
    "print('Test set\\n  Loss: {:0.3f}\\n  Accuracy: {:0.3f}'.format(accr[0],accr[1]))"
   ]
  },
  {
   "cell_type": "code",
   "execution_count": 113,
   "metadata": {},
   "outputs": [
    {
     "data": {
      "text/plain": [
       "<matplotlib.legend.Legend at 0x2f917ea00>"
      ]
     },
     "execution_count": 113,
     "metadata": {},
     "output_type": "execute_result"
    },
    {
     "data": {
      "image/png": "[encoded data removed]",
      "text/plain": [
       "<Figure size 432x288 with 2 Axes>"
      ]
     },
     "metadata": {
      "needs_background": "light"
     },
     "output_type": "display_data"
    }
   ],
   "source": [
    "s, (at, al) = plt.subplots(2,1)\n",
    "at.plot(history.history['accuracy'], c= 'b')\n",
    "at.plot(history.history['val_accuracy'], c='r')\n",
    "at.set_title('model accuracy')\n",
    "at.set_ylabel('accuracy')\n",
    "at.set_xlabel('epoch')\n",
    "at.legend(['LSTM_train', 'LSTM_val'], loc='upper left')\n",
    "\n",
    "al.plot(history.history['loss'], c='m')\n",
    "al.plot(history.history['val_loss'], c='c')\n",
    "al.set_title('model loss')\n",
    "al.set_ylabel('loss')\n",
    "al.set_xlabel('epoch')\n",
    "al.legend(['train', 'val'], loc = 'upper left')"
   ]
  },
  {
   "cell_type": "markdown",
   "metadata": {},
   "source": [
    "Persistencia del modelo:"
   ]
  },
  {
   "cell_type": "code",
   "execution_count": 115,
   "metadata": {},
   "outputs": [
    {
     "name": "stderr",
     "output_type": "stream",
     "text": [
      "WARNING:absl:Found untraced functions such as lstm_cell_21_layer_call_fn, lstm_cell_21_layer_call_and_return_conditional_losses while saving (showing 2 of 2). These functions will not be directly callable after loading.\n"
     ]
    },
    {
     "name": "stdout",
     "output_type": "stream",
     "text": [
      "INFO:tensorflow:Assets written to: salida/RNN_model/assets\n"
     ]
    },
    {
     "name": "stderr",
     "output_type": "stream",
     "text": [
      "INFO:tensorflow:Assets written to: salida/RNN_model/assets\n",
      "WARNING:absl:<keras.layers.recurrent.LSTMCell object at 0x3f83847f0> has the same name 'LSTMCell' as a built-in Keras object. Consider renaming <class 'keras.layers.recurrent.LSTMCell'> to avoid naming conflicts when loading with `tf.keras.models.load_model`. If renaming is not possible, pass the object in the `custom_objects` parameter of the load function.\n"
     ]
    }
   ],
   "source": [
    "model.save('salida/RNN_model')"
   ]
  },
  {
   "cell_type": "code",
   "execution_count": null,
   "metadata": {},
   "outputs": [],
   "source": []
  }
 ],
 "metadata": {
  "kernelspec": {
   "display_name": "Python 3.9.12 ('env_tf')",
   "language": "python",
   "name": "python3"
  },
  "language_info": {
   "codemirror_mode": {
    "name": "ipython",
    "version": 3
   },
   "file_extension": ".py",
   "mimetype": "text/x-python",
   "name": "python",
   "nbconvert_exporter": "python",
   "pygments_lexer": "ipython3",
   "version": "3.9.12"
  },
  "orig_nbformat": 4,
  "vscode": {
   "interpreter": {
    "hash": "5de9ea968598f77146e9bcf7403aafc4990d0b8fd820669c1cc9c3a0b1879543"
   }
  }
 },
 "nbformat": 4,
 "nbformat_minor": 2
}
