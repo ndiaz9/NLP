{
 "cells": [
  {
   "cell_type": "markdown",
   "id": "cb3d4585-f7a6-4574-ac7d-94ba5c6e5c54",
   "metadata": {},
   "source": [
    "# Lexicones"
   ]
  },
  {
   "cell_type": "markdown",
   "id": "042f0121-01cf-42fd-a7d1-0e84a22bbf9f",
   "metadata": {},
   "source": [
    "Se realizaran entrenamiento agregando caracteristicas extraidas de diferentes lexicones disponibles en la web junto con un lexicon creado a partir del set de entrenamiento"
   ]
  },
  {
   "cell_type": "code",
   "execution_count": 1,
   "id": "ad4f94c2-79e4-47a9-a739-9d3ee0bdbf3a",
   "metadata": {},
   "outputs": [],
   "source": [
    "import datasets\n",
    "import re\n",
    "import pandas as pd\n",
    "import numpy as np\n",
    "from time import time\n",
    "from scipy.sparse import csr_matrix\n",
    "from sklearn.utils import shuffle\n",
    "from sklearn.metrics import accuracy_score, precision_score, recall_score, f1_score\n",
    "from sklearn.naive_bayes import MultinomialNB\n",
    "from sklearn.linear_model import LogisticRegression\n",
    "from sklearn.feature_extraction import DictVectorizer\n",
    "from sklearn.feature_extraction.text import TfidfTransformer"
   ]
  },
  {
   "cell_type": "markdown",
   "id": "5092fbdb-c07c-4094-a7a2-4bf84307983b",
   "metadata": {},
   "source": [
    "## SentiWordNet"
   ]
  },
  {
   "cell_type": "code",
   "execution_count": 2,
   "id": "708f819e-4475-4bb6-a192-d167b28fe0b9",
   "metadata": {},
   "outputs": [],
   "source": [
    "from nltk.stem import WordNetLemmatizer\n",
    "from nltk.corpus import wordnet as wn\n",
    "from nltk.corpus import sentiwordnet as swn\n",
    "from nltk import sent_tokenize, word_tokenize, pos_tag, download"
   ]
  },
  {
   "cell_type": "code",
   "execution_count": 3,
   "id": "38154b55-ca70-4ebc-b66d-a96b895f96c7",
   "metadata": {},
   "outputs": [
    {
     "name": "stderr",
     "output_type": "stream",
     "text": [
      "[nltk_data] Downloading package wordnet to\n",
      "[nltk_data]     C:\\Users\\Usuario\\AppData\\Roaming\\nltk_data...\n",
      "[nltk_data]   Package wordnet is already up-to-date!\n",
      "[nltk_data] Downloading package sentiwordnet to\n",
      "[nltk_data]     C:\\Users\\Usuario\\AppData\\Roaming\\nltk_data...\n",
      "[nltk_data]   Package sentiwordnet is already up-to-date!\n",
      "[nltk_data] Downloading package omw-1.4 to\n",
      "[nltk_data]     C:\\Users\\Usuario\\AppData\\Roaming\\nltk_data...\n",
      "[nltk_data]   Package omw-1.4 is already up-to-date!\n",
      "[nltk_data] Downloading package averaged_perceptron_tagger to\n",
      "[nltk_data]     C:\\Users\\Usuario\\AppData\\Roaming\\nltk_data...\n",
      "[nltk_data]   Package averaged_perceptron_tagger is already up-to-\n",
      "[nltk_data]       date!\n"
     ]
    },
    {
     "data": {
      "text/plain": [
       "True"
      ]
     },
     "execution_count": 3,
     "metadata": {},
     "output_type": "execute_result"
    }
   ],
   "source": [
    "download('wordnet')\n",
    "download('sentiwordnet')\n",
    "download('omw-1.4')\n",
    "download('averaged_perceptron_tagger')"
   ]
  },
  {
   "cell_type": "code",
   "execution_count": 4,
   "id": "9e292e7c-42af-4bcd-aba8-62bc53a1c864",
   "metadata": {},
   "outputs": [],
   "source": [
    "def penn_to_wn(tag):\n",
    "    \"\"\"\n",
    "    Convert between the PennTreebank tags to Wordnet tags\n",
    "    \"\"\"\n",
    "    first_letter = tag[0]\n",
    "    answers = {'J': wn.ADJ, 'N': wn.NOUN, 'R': wn.ADV, 'V': wn.VERB}\n",
    "    return answers.get(first_letter)"
   ]
  },
  {
   "cell_type": "code",
   "execution_count": 5,
   "id": "d96689f9-720f-4036-8116-492aa24a0739",
   "metadata": {},
   "outputs": [],
   "source": [
    "lemmatizer = WordNetLemmatizer()\n",
    "\n",
    "def get_sentiment(word, tag):\n",
    "    \"\"\" \n",
    "    returns list of pos neg and objective score. But returns empty list if not present in senti wordnet. \n",
    "    \"\"\"\n",
    "    wn_tag = penn_to_wn(tag)\n",
    "    valid_wn_tags = (wn.NOUN, wn.ADJ, wn.ADV, wn.VERB)\n",
    "    if wn_tag not in valid_wn_tags: \n",
    "        return (0.0, 0.0, 1.0)\n",
    "\n",
    "    lemma = lemmatizer.lemmatize(word, pos=wn_tag)\n",
    "    if not lemma: \n",
    "        return (0.0, 0.0, 1.0)\n",
    "\n",
    "    synsets = wn.synsets(word, pos=wn_tag)\n",
    "    if not synsets: \n",
    "        return (0.0, 0.0, 1.0)\n",
    "\n",
    "    # Take the first sense, the most common\n",
    "    synset = synsets[0]\n",
    "    swn_synset = swn.senti_synset(synset.name())\n",
    "\n",
    "    return (swn_synset.pos_score(), swn_synset.neg_score(), swn_synset.obj_score())"
   ]
  },
  {
   "cell_type": "code",
   "execution_count": 7,
   "id": "496cebc3-dc8e-44a5-8f4a-e0b0fc52ec63",
   "metadata": {},
   "outputs": [
    {
     "name": "stdout",
     "output_type": "stream",
     "text": [
      "pos_val is [('this', 'DT'), ('movie', 'NN'), ('is', 'VBZ'), ('wonderful', 'JJ'), ('to', 'TO'), ('see', 'VB'), ('.', '.')]\n",
      "senti_val is [(0.0, 0.0, 1.0), (0.0, 0.0, 1.0), (0.25, 0.125, 0.625), (0.75, 0.0, 0.25), (0.0, 0.0, 1.0), (0.0, 0.0, 1.0), (0.0, 0.0, 1.0)]\n",
      "pos_val is [('yesterday', 'NN'), ('i', 'NN'), ('was', 'VBD'), ('bored', 'VBN'), ('as', 'IN'), ('fuck', 'NN')]\n",
      "senti_val is [(0.0, 0.0, 1.0), (0.0, 0.0, 1.0), (0.25, 0.125, 0.625), (0.125, 0.0, 0.875), (0.0, 0.0, 1.0), (0.0, 0.0, 1.0)]\n"
     ]
    }
   ],
   "source": [
    "text = 'this movie is wonderful to see. yesterday i was bored as fuck'\n",
    "sentences = sent_tokenize(text)\n",
    "for sentence in sentences:\n",
    "    words_data = word_tokenize(sentence)\n",
    "\n",
    "    pos_val = pos_tag(words_data)\n",
    "    senti_val = [get_sentiment(x,y) for (x,y) in pos_val]\n",
    "\n",
    "    print(f\"pos_val is {pos_val}\")\n",
    "    print(f\"senti_val is {senti_val}\")"
   ]
  }
 ],
 "metadata": {
  "kernelspec": {
   "display_name": "Python 3 (ipykernel)",
   "language": "python",
   "name": "python3"
  },
  "language_info": {
   "codemirror_mode": {
    "name": "ipython",
    "version": 3
   },
   "file_extension": ".py",
   "mimetype": "text/x-python",
   "name": "python",
   "nbconvert_exporter": "python",
   "pygments_lexer": "ipython3",
   "version": "3.10.5"
  }
 },
 "nbformat": 4,
 "nbformat_minor": 5
}
