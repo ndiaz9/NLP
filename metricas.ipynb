{
 "cells": [
  {
   "cell_type": "markdown",
   "metadata": {},
   "source": [
    "### Importación de librerias"
   ]
  },
  {
   "cell_type": "code",
   "execution_count": 1,
   "metadata": {},
   "outputs": [],
   "source": [
    "import numpy as np"
   ]
  },
  {
   "cell_type": "markdown",
   "metadata": {},
   "source": [
    "## Precision"
   ]
  },
  {
   "cell_type": "code",
   "execution_count": 2,
   "metadata": {},
   "outputs": [],
   "source": [
    "def precision(relevance_query):\n",
    "    n = len(relevance_query)\n",
    "    x = 0\n",
    "    for item in relevance_query:\n",
    "        if(item == 1):\n",
    "            x += 1\n",
    "    return x/n"
   ]
  },
  {
   "cell_type": "markdown",
   "metadata": {},
   "source": [
    "## Precision at K"
   ]
  },
  {
   "cell_type": "code",
   "execution_count": 3,
   "metadata": {},
   "outputs": [],
   "source": [
    "\n",
    "def precision_at_k(relevance_query,k):\n",
    "    x = 0\n",
    "    if k > 0 and k <= len(relevance_query):\n",
    "        for i in range(0, k):\n",
    "            if(relevance_query[i] == 1):\n",
    "                x += 1\n",
    "        return x/k\n",
    "    else:\n",
    "        return None"
   ]
  },
  {
   "cell_type": "markdown",
   "metadata": {},
   "source": [
    "## Recall at K"
   ]
  },
  {
   "cell_type": "code",
   "execution_count": 4,
   "metadata": {},
   "outputs": [],
   "source": [
    "def recall_at_k(relevance_query: list, number_relevant_docs:int, k: int) -> float:\n",
    "    if k > 0 and k <= len(relevance_query):\n",
    "        return sum(relevance_query[:k]) / number_relevant_docs\n",
    "    else:\n",
    "        return None"
   ]
  },
  {
   "cell_type": "markdown",
   "metadata": {},
   "source": [
    "## Average Precision"
   ]
  },
  {
   "cell_type": "code",
   "execution_count": 7,
   "metadata": {},
   "outputs": [],
   "source": [
    "def average_precision(relevance_query:list) -> float :\n",
    "    \"\"\"\n",
    "    Calcula el average precision a partir del ranking recuperado por una consulta\n",
    "\n",
    "    Primero se toman cuantos documentos son relevantes, seguido de esto se crea \n",
    "    una lista que va a almacenar las precisiones al bajar por el ranking y\n",
    "    encontrar un aumento en el recall. Finalmente, calcula el promedio de las\n",
    "    precisiones almacenadas en la lista.\n",
    "\n",
    "    Parameters\n",
    "    ----------\n",
    "    relevance_query : list\n",
    "        Vector binario que representa el ranking recuperado por una consulta, donde  1 indica que el documento es relevante y \n",
    "        0 indica que no es relevante.\n",
    "\n",
    "    Returns\n",
    "    -------\n",
    "    float\n",
    "        La precisión promedio del ranking recuperado en la consulta\n",
    "    \"\"\"\n",
    "    relevant_docs = np.sum(relevance_query)\n",
    "    last_recall = 0\n",
    "    precisions = np.array([])\n",
    "    for i in range(1,len(relevance_query)+1):\n",
    "        recall = recall_at_k(relevance_query,relevant_docs,i)\n",
    "        if recall > last_recall:\n",
    "            last_recall = recall \n",
    "            precisions= np.append(precisions,precision_at_k(relevance_query,i))\n",
    "    return np.average(precisions)"
   ]
  },
  {
   "cell_type": "markdown",
   "metadata": {},
   "source": [
    "## Mean average precision MAP"
   ]
  },
  {
   "cell_type": "code",
   "execution_count": 9,
   "metadata": {},
   "outputs": [],
   "source": [
    "def mean_average_precision(list_vectors: list)-> float:\n",
    "    \"\"\"\n",
    "    Calcula el Mean Average Precision (MAP) a partir del ranking recuperado por cada consulta, \n",
    "    a las cuales se les calcula el average precision.\n",
    "\n",
    "    Para cada vector binario dentro de la lista se le aplica la función average_precision que \n",
    "    calcula la precisión promedio. Almacenando asi el average precision de cada consulta dentro\n",
    "    de una lista a la cual se le calcula el promedio de todos los elementos que contiene.\n",
    "\n",
    "    Parameters\n",
    "    ----------\n",
    "    relevance_query : list\n",
    "        Lista de vectores binarios donde cada uno representa un vector de resultado de una \n",
    "        consulta.\n",
    "\n",
    "    Returns\n",
    "    -------\n",
    "    float\n",
    "        El Mean Average Precision del conjunto de consultas\n",
    "    \"\"\"\n",
    "    average_precisions = np.apply_along_axis(average_precision, 1, list_vectors)\n",
    "    return np.average(average_precisions)"
   ]
  },
  {
   "cell_type": "markdown",
   "metadata": {},
   "source": [
    "## GCG at K"
   ]
  },
  {
   "cell_type": "code",
   "execution_count": 15,
   "metadata": {},
   "outputs": [],
   "source": [
    "def dcg_at_k(rel, k):\n",
    "    import math\n",
    "    result = 0\n",
    "    for i in range(k):\n",
    "        discount_factor = 1/math.log(max([i+1, 2]), 2)\n",
    "        gain = + (rel[i]*discount_factor)\n",
    "        result = result + gain \n",
    "    return result"
   ]
  },
  {
   "cell_type": "markdown",
   "metadata": {},
   "source": [
    "## NDCG at K"
   ]
  },
  {
   "cell_type": "code",
   "execution_count": 16,
   "metadata": {},
   "outputs": [],
   "source": [
    "def ndcg_at_k(rel, k):\n",
    "    DCG = dcg_at_k(rel, k)\n",
    "    IDCG = dcg_at_k(sorted(rel, reverse=True), k)\n",
    "    result = DCG/IDCG\n",
    "    return result\n"
   ]
  },
  {
   "cell_type": "code",
   "execution_count": null,
   "metadata": {},
   "outputs": [],
   "source": []
  }
 ],
 "metadata": {
  "kernelspec": {
   "display_name": "Python 3 (ipykernel)",
   "language": "python",
   "name": "python3"
  },
  "language_info": {
   "codemirror_mode": {
    "name": "ipython",
    "version": 3
   },
   "file_extension": ".py",
   "mimetype": "text/x-python",
   "name": "python",
   "nbconvert_exporter": "python",
   "pygments_lexer": "ipython3",
   "version": "3.9.12"
  },
  "vscode": {
   "interpreter": {
    "hash": "c7a79e9e75522a046d95171e373010a5dca4ce6e8605d007854b2218f1d88052"
   }
  }
 },
 "nbformat": 4,
 "nbformat_minor": 4
}
