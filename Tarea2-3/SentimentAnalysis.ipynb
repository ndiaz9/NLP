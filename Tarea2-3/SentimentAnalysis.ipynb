{
 "cells": [
  {
   "cell_type": "markdown",
   "metadata": {
    "tags": []
   },
   "source": [
    "# Sentiment classifiers"
   ]
  },
  {
   "cell_type": "code",
   "execution_count": 1,
   "metadata": {},
   "outputs": [],
   "source": [
    "import pandas as pd\n",
    "import numpy as np\n",
    "import re\n",
    "from nltk.stem.porter import PorterStemmer\n",
    "from sklearn.utils import shuffle\n",
    "from sklearn.model_selection import train_test_split\n",
    "from sklearn.naive_bayes import CategoricalNB\n",
    "from sklearn.feature_extraction.text import CountVectorizer\n",
    "from sklearn.feature_extraction.text import TfidfVectorizer"
   ]
  },
  {
   "cell_type": "markdown",
   "metadata": {},
   "source": [
    "### sentiment classifier per each category"
   ]
  },
  {
   "cell_type": "markdown",
   "metadata": {},
   "source": [
    "__paths to change__"
   ]
  },
  {
   "cell_type": "code",
   "execution_count": 2,
   "metadata": {},
   "outputs": [],
   "source": [
    "# input variables\n",
    "path = './datos/Multi Domain Sentiment/'\n",
    "\n",
    "# notebook variables\n",
    "books_path = path + 'books/'\n",
    "dvd_path = path + 'dvd/'\n",
    "electronics_path = path + 'electronics/'\n",
    "kitchen_path = path + 'kitchen/'"
   ]
  },
  {
   "cell_type": "markdown",
   "metadata": {
    "tags": []
   },
   "source": [
    "__Read documents methods__"
   ]
  },
  {
   "cell_type": "code",
   "execution_count": 3,
   "metadata": {},
   "outputs": [],
   "source": [
    "def get_testing(path: str) -> pd.DataFrame:\n",
    "    testing = pd.read_csv(path + 'unlabeled.review', delimiter='#label#:', engine='python', header=None, names=['data', 'label'])\n",
    "    testing['label'] = testing.label.map({'negative':0, 'positive':1})\n",
    "    return testing"
   ]
  },
  {
   "cell_type": "code",
   "execution_count": 4,
   "metadata": {
    "tags": []
   },
   "outputs": [],
   "source": [
    "def get_traing(path: str) -> pd.DataFrame:\n",
    "    negative = pd.read_csv(path + 'negative.review', delimiter='#label#:', engine='python', header=None, names=['data', 'label'])\n",
    "    positive = pd.read_csv(path + 'positive.review', delimiter='#label#:', engine='python', header=None, names=['data', 'label'])\n",
    "    traning = pd.concat([negative, positive], axis=0, ignore_index=True)\n",
    "    traning['label'] = traning.label.map({'negative':0, 'positive':1})\n",
    "    return traning"
   ]
  },
  {
   "cell_type": "code",
   "execution_count": 5,
   "metadata": {},
   "outputs": [],
   "source": [
    "def get_corpus(paths: list) -> pd.DataFrame:\n",
    "    corpus = pd.DataFrame()\n",
    "    for path in paths:\n",
    "        negative = pd.read_csv(path + 'negative.review', delimiter='#label#:', engine='python', header=None, names=['data', 'label'])\n",
    "        positive = pd.read_csv(path + 'positive.review', delimiter='#label#:', engine='python', header=None, names=['data', 'label'])\n",
    "        unlabeled = pd.read_csv(path + 'unlabeled.review', delimiter='#label#:', engine='python', header=None, names=['data', 'label'])\n",
    "        corpus = pd.concat([corpus, negative, positive, unlabeled], axis=0, ignore_index=True)\n",
    "    corpus['label'] = corpus.label.map({'negative':0, 'positive':1})\n",
    "    return corpus"
   ]
  },
  {
   "cell_type": "code",
   "execution_count": 6,
   "metadata": {},
   "outputs": [],
   "source": [
    "def remove_characters(word: str) -> str:\n",
    "    # url tag replace\n",
    "    url_list = ['http', 'www']\n",
    "    for url in url_list:\n",
    "        if url in word: \n",
    "            word = '<url>'\n",
    "\n",
    "    # replace &something; characters\n",
    "    mt = re.match(r'&.*;($|.*)', word)\n",
    "    if mt: \n",
    "        word = word.replace(mt[0], '')\n",
    "\n",
    "    # remove problematic characters\n",
    "    remove_list = ['&quot;', '\\x1a', '[', ']', '(', ')', '!', '¡', '\"', '\\'', '*', ',', '.', '/', '\\\\', '#', '&', '+', ';', '?', '@', '%', '$', '`', '=', '~', '�']\n",
    "    for remove in remove_list:\n",
    "        word = word.replace(remove, '')\n",
    "\n",
    "    # replace dummy characters\n",
    "    word = word.replace('-_', '_').replace('_-', '_')\n",
    "    while '--' in word:\n",
    "        word = word.replace('--', '-')\n",
    "    while '__' in word:\n",
    "        word = word.replace('__', '_')\n",
    "\n",
    "    # replace years\n",
    "    mt = re.match(r'.*([1-3][0-9]{3})', word)\n",
    "    if mt: \n",
    "        word = word.replace(mt[0], '<year>')\n",
    "\n",
    "    # remove characters that starts with - or _\n",
    "    mt = re.match(r'-.*', word)\n",
    "    if mt: \n",
    "        word = word.replace(mt[0], '', 1)\n",
    "    mt = re.match(r'_.*', word)\n",
    "    if mt: \n",
    "        word = word.replace(mt[0], '', 1)\n",
    "\n",
    "    # remove characters that ends with - or _\n",
    "    mt = re.match(r'.*-$', word)\n",
    "    if mt: \n",
    "        word = re.sub(r'.$', '', word)\n",
    "    mt = re.match(r'.*_$', word)\n",
    "    if mt: \n",
    "        word = re.sub(r'.$', '', word)\n",
    "\n",
    "    # replace numbers with <num> tag\n",
    "    fa = re.findall('[0-9]+', word)\n",
    "    if fa:\n",
    "        fa = sorted(fa, reverse=True)\n",
    "        for num in fa:\n",
    "            word = word.replace(num, '<num>')\n",
    "    fa = re.findall('[0-9]+', word)\n",
    "    if fa:\n",
    "        for num in fa:\n",
    "            word = word.replace(num, '')\n",
    "    word = word.replace('<num><num>', '<num>')\n",
    "    return word"
   ]
  },
  {
   "cell_type": "code",
   "execution_count": 7,
   "metadata": {},
   "outputs": [],
   "source": [
    "porter_stemmer = PorterStemmer()\n",
    "def preprocessing(document: str) -> str:\n",
    "    words = document.split()\n",
    "    result = ''\n",
    "    for word in words:\n",
    "        item, cant = word.split(':')\n",
    "        item = remove_characters(item)\n",
    "        item = '_'.join([porter_stemmer.stem(word) for word in item.split('_')])\n",
    "        i, c = 0, int(cant)\n",
    "        while i < c:\n",
    "            result = result + ' ' + item\n",
    "            i += 1\n",
    "    return result"
   ]
  },
  {
   "cell_type": "code",
   "execution_count": 8,
   "metadata": {},
   "outputs": [
    {
     "name": "stdout",
     "output_type": "stream",
     "text": [
      "(2000, 2)\n"
     ]
    },
    {
     "data": {
      "text/html": [
       "<div>\n",
       "<style scoped>\n",
       "    .dataframe tbody tr th:only-of-type {\n",
       "        vertical-align: middle;\n",
       "    }\n",
       "\n",
       "    .dataframe tbody tr th {\n",
       "        vertical-align: top;\n",
       "    }\n",
       "\n",
       "    .dataframe thead th {\n",
       "        text-align: right;\n",
       "    }\n",
       "</style>\n",
       "<table border=\"1\" class=\"dataframe\">\n",
       "  <thead>\n",
       "    <tr style=\"text-align: right;\">\n",
       "      <th></th>\n",
       "      <th>data</th>\n",
       "      <th>label</th>\n",
       "      <th>clean</th>\n",
       "    </tr>\n",
       "  </thead>\n",
       "  <tbody>\n",
       "    <tr>\n",
       "      <th>405</th>\n",
       "      <td>he:7 someone_like:1 guy:2 this_big:1 doubt_put...</td>\n",
       "      <td>0</td>\n",
       "      <td>he he he he he he he someon_like guy guy thi_...</td>\n",
       "    </tr>\n",
       "    <tr>\n",
       "      <th>1190</th>\n",
       "      <td>you'll:1 reading:1 good:1 bound:1 james_allen:...</td>\n",
       "      <td>1</td>\n",
       "      <td>youll read good bound jame_allen jame like li...</td>\n",
       "    </tr>\n",
       "    <tr>\n",
       "      <th>1132</th>\n",
       "      <td>i:2 baby-boomers)_are:1 things_from:1 will_kno...</td>\n",
       "      <td>1</td>\n",
       "      <td>i i baby-boom_are thing_from will_know way_i ...</td>\n",
       "    </tr>\n",
       "    <tr>\n",
       "      <th>731</th>\n",
       "      <td>party_and:1 only:1 like:9 must_try:1 one:2 one...</td>\n",
       "      <td>0</td>\n",
       "      <td>parti_and onli like like like like like like ...</td>\n",
       "    </tr>\n",
       "    <tr>\n",
       "      <th>1754</th>\n",
       "      <td>more_books:1 bad_there:1 all:1 all_wish:1 mitf...</td>\n",
       "      <td>1</td>\n",
       "      <td>more_book bad_there all all_wish mitford as_u...</td>\n",
       "    </tr>\n",
       "  </tbody>\n",
       "</table>\n",
       "</div>"
      ],
      "text/plain": [
       "                                                   data  label  \\\n",
       "405   he:7 someone_like:1 guy:2 this_big:1 doubt_put...      0   \n",
       "1190  you'll:1 reading:1 good:1 bound:1 james_allen:...      1   \n",
       "1132  i:2 baby-boomers)_are:1 things_from:1 will_kno...      1   \n",
       "731   party_and:1 only:1 like:9 must_try:1 one:2 one...      0   \n",
       "1754  more_books:1 bad_there:1 all:1 all_wish:1 mitf...      1   \n",
       "\n",
       "                                                  clean  \n",
       "405    he he he he he he he someon_like guy guy thi_...  \n",
       "1190   youll read good bound jame_allen jame like li...  \n",
       "1132   i i baby-boom_are thing_from will_know way_i ...  \n",
       "731    parti_and onli like like like like like like ...  \n",
       "1754   more_book bad_there all all_wish mitford as_u...  "
      ]
     },
     "execution_count": 8,
     "metadata": {},
     "output_type": "execute_result"
    }
   ],
   "source": [
    "traning = shuffle(get_traing(books_path), random_state=0)\n",
    "print(traning.shape)\n",
    "traning['clean'] = traning.data.apply(preprocessing)\n",
    "traning.head()"
   ]
  },
  {
   "cell_type": "code",
   "execution_count": 9,
   "metadata": {},
   "outputs": [
    {
     "name": "stdout",
     "output_type": "stream",
     "text": [
      "(4465, 2)\n"
     ]
    },
    {
     "data": {
      "text/html": [
       "<div>\n",
       "<style scoped>\n",
       "    .dataframe tbody tr th:only-of-type {\n",
       "        vertical-align: middle;\n",
       "    }\n",
       "\n",
       "    .dataframe tbody tr th {\n",
       "        vertical-align: top;\n",
       "    }\n",
       "\n",
       "    .dataframe thead th {\n",
       "        text-align: right;\n",
       "    }\n",
       "</style>\n",
       "<table border=\"1\" class=\"dataframe\">\n",
       "  <thead>\n",
       "    <tr style=\"text-align: right;\">\n",
       "      <th></th>\n",
       "      <th>data</th>\n",
       "      <th>label</th>\n",
       "      <th>clean</th>\n",
       "    </tr>\n",
       "  </thead>\n",
       "  <tbody>\n",
       "    <tr>\n",
       "      <th>4263</th>\n",
       "      <td>circle_but:1 vs:1 at_all:1 and_valley:1 the_co...</td>\n",
       "      <td>1</td>\n",
       "      <td>circl_but vs at_all and_valley the_conclus mi...</td>\n",
       "    </tr>\n",
       "    <tr>\n",
       "      <th>2475</th>\n",
       "      <td>made_it:1 before_i:1 i'd_better:1 while:1 the_...</td>\n",
       "      <td>0</td>\n",
       "      <td>made_it befor_i id_better while the_foreign a...</td>\n",
       "    </tr>\n",
       "    <tr>\n",
       "      <th>1206</th>\n",
       "      <td>is_no:1 providing_valuable:1 about:1 reviewer:...</td>\n",
       "      <td>1</td>\n",
       "      <td>is_no provid_valuabl about review prove_the u...</td>\n",
       "    </tr>\n",
       "    <tr>\n",
       "      <th>1464</th>\n",
       "      <td>teen_but:1 get:2 reciepes!!simple_fun:1 made:1...</td>\n",
       "      <td>1</td>\n",
       "      <td>teen_but get get reciepessimpl_fun made veget...</td>\n",
       "    </tr>\n",
       "    <tr>\n",
       "      <th>2550</th>\n",
       "      <td>i:8 enough_parts:1 sort:2 middle:1 more_worthw...</td>\n",
       "      <td>0</td>\n",
       "      <td>i i i i i i i i enough_part sort sort middl m...</td>\n",
       "    </tr>\n",
       "  </tbody>\n",
       "</table>\n",
       "</div>"
      ],
      "text/plain": [
       "                                                   data  label  \\\n",
       "4263  circle_but:1 vs:1 at_all:1 and_valley:1 the_co...      1   \n",
       "2475  made_it:1 before_i:1 i'd_better:1 while:1 the_...      0   \n",
       "1206  is_no:1 providing_valuable:1 about:1 reviewer:...      1   \n",
       "1464  teen_but:1 get:2 reciepes!!simple_fun:1 made:1...      1   \n",
       "2550  i:8 enough_parts:1 sort:2 middle:1 more_worthw...      0   \n",
       "\n",
       "                                                  clean  \n",
       "4263   circl_but vs at_all and_valley the_conclus mi...  \n",
       "2475   made_it befor_i id_better while the_foreign a...  \n",
       "1206   is_no provid_valuabl about review prove_the u...  \n",
       "1464   teen_but get get reciepessimpl_fun made veget...  \n",
       "2550   i i i i i i i i enough_part sort sort middl m...  "
      ]
     },
     "execution_count": 9,
     "metadata": {},
     "output_type": "execute_result"
    }
   ],
   "source": [
    "testing = shuffle(get_testing(books_path), random_state=0)\n",
    "print(testing.shape)\n",
    "testing['clean'] = testing.data.apply(preprocessing)\n",
    "testing.head()"
   ]
  },
  {
   "cell_type": "code",
   "execution_count": 10,
   "metadata": {},
   "outputs": [
    {
     "name": "stdout",
     "output_type": "stream",
     "text": [
      "(1500, 134977)\n",
      "(4465, 134977)\n"
     ]
    }
   ],
   "source": [
    "vectorizer = CountVectorizer()\n",
    "train_x, train_y = train_test_split(traning, random_state=42)\n",
    "traning_data = vectorizer.fit_transform(train_x.clean)\n",
    "print(traning_data.shape)\n",
    "testing_data = vectorizer.transform(testing.clean)\n",
    "print(testing_data.shape)"
   ]
  },
  {
   "cell_type": "code",
   "execution_count": 11,
   "metadata": {},
   "outputs": [
    {
     "name": "stdout",
     "output_type": "stream",
     "text": [
      "134977\n"
     ]
    }
   ],
   "source": [
    "vect = vectorizer.get_feature_names_out()\n",
    "print(vect.size)"
   ]
  },
  {
   "cell_type": "code",
   "execution_count": 12,
   "metadata": {},
   "outputs": [
    {
     "data": {
      "text/plain": [
       "array([[0, 0, 0, ..., 0, 0, 0],\n",
       "       [0, 0, 0, ..., 0, 0, 0],\n",
       "       [0, 0, 0, ..., 0, 0, 0],\n",
       "       ...,\n",
       "       [0, 0, 0, ..., 0, 0, 0],\n",
       "       [0, 0, 0, ..., 0, 0, 0],\n",
       "       [0, 0, 0, ..., 0, 0, 0]], dtype=int64)"
      ]
     },
     "execution_count": 12,
     "metadata": {},
     "output_type": "execute_result"
    }
   ],
   "source": [
    "testing_data.toarray()"
   ]
  },
  {
   "cell_type": "code",
   "execution_count": 13,
   "metadata": {},
   "outputs": [
    {
     "data": {
      "text/html": [
       "<style>#sk-container-id-1 {color: black;background-color: white;}#sk-container-id-1 pre{padding: 0;}#sk-container-id-1 div.sk-toggleable {background-color: white;}#sk-container-id-1 label.sk-toggleable__label {cursor: pointer;display: block;width: 100%;margin-bottom: 0;padding: 0.3em;box-sizing: border-box;text-align: center;}#sk-container-id-1 label.sk-toggleable__label-arrow:before {content: \"▸\";float: left;margin-right: 0.25em;color: #696969;}#sk-container-id-1 label.sk-toggleable__label-arrow:hover:before {color: black;}#sk-container-id-1 div.sk-estimator:hover label.sk-toggleable__label-arrow:before {color: black;}#sk-container-id-1 div.sk-toggleable__content {max-height: 0;max-width: 0;overflow: hidden;text-align: left;background-color: #f0f8ff;}#sk-container-id-1 div.sk-toggleable__content pre {margin: 0.2em;color: black;border-radius: 0.25em;background-color: #f0f8ff;}#sk-container-id-1 input.sk-toggleable__control:checked~div.sk-toggleable__content {max-height: 200px;max-width: 100%;overflow: auto;}#sk-container-id-1 input.sk-toggleable__control:checked~label.sk-toggleable__label-arrow:before {content: \"▾\";}#sk-container-id-1 div.sk-estimator input.sk-toggleable__control:checked~label.sk-toggleable__label {background-color: #d4ebff;}#sk-container-id-1 div.sk-label input.sk-toggleable__control:checked~label.sk-toggleable__label {background-color: #d4ebff;}#sk-container-id-1 input.sk-hidden--visually {border: 0;clip: rect(1px 1px 1px 1px);clip: rect(1px, 1px, 1px, 1px);height: 1px;margin: -1px;overflow: hidden;padding: 0;position: absolute;width: 1px;}#sk-container-id-1 div.sk-estimator {font-family: monospace;background-color: #f0f8ff;border: 1px dotted black;border-radius: 0.25em;box-sizing: border-box;margin-bottom: 0.5em;}#sk-container-id-1 div.sk-estimator:hover {background-color: #d4ebff;}#sk-container-id-1 div.sk-parallel-item::after {content: \"\";width: 100%;border-bottom: 1px solid gray;flex-grow: 1;}#sk-container-id-1 div.sk-label:hover label.sk-toggleable__label {background-color: #d4ebff;}#sk-container-id-1 div.sk-serial::before {content: \"\";position: absolute;border-left: 1px solid gray;box-sizing: border-box;top: 0;bottom: 0;left: 50%;z-index: 0;}#sk-container-id-1 div.sk-serial {display: flex;flex-direction: column;align-items: center;background-color: white;padding-right: 0.2em;padding-left: 0.2em;position: relative;}#sk-container-id-1 div.sk-item {position: relative;z-index: 1;}#sk-container-id-1 div.sk-parallel {display: flex;align-items: stretch;justify-content: center;background-color: white;position: relative;}#sk-container-id-1 div.sk-item::before, #sk-container-id-1 div.sk-parallel-item::before {content: \"\";position: absolute;border-left: 1px solid gray;box-sizing: border-box;top: 0;bottom: 0;left: 50%;z-index: -1;}#sk-container-id-1 div.sk-parallel-item {display: flex;flex-direction: column;z-index: 1;position: relative;background-color: white;}#sk-container-id-1 div.sk-parallel-item:first-child::after {align-self: flex-end;width: 50%;}#sk-container-id-1 div.sk-parallel-item:last-child::after {align-self: flex-start;width: 50%;}#sk-container-id-1 div.sk-parallel-item:only-child::after {width: 0;}#sk-container-id-1 div.sk-dashed-wrapped {border: 1px dashed gray;margin: 0 0.4em 0.5em 0.4em;box-sizing: border-box;padding-bottom: 0.4em;background-color: white;}#sk-container-id-1 div.sk-label label {font-family: monospace;font-weight: bold;display: inline-block;line-height: 1.2em;}#sk-container-id-1 div.sk-label-container {text-align: center;}#sk-container-id-1 div.sk-container {/* jupyter's `normalize.less` sets `[hidden] { display: none; }` but bootstrap.min.css set `[hidden] { display: none !important; }` so we also need the `!important` here to be able to override the default hidden behavior on the sphinx rendered scikit-learn.org. See: https://github.com/scikit-learn/scikit-learn/issues/21755 */display: inline-block !important;position: relative;}#sk-container-id-1 div.sk-text-repr-fallback {display: none;}</style><div id=\"sk-container-id-1\" class=\"sk-top-container\"><div class=\"sk-text-repr-fallback\"><pre>CategoricalNB()</pre><b>In a Jupyter environment, please rerun this cell to show the HTML representation or trust the notebook. <br />On GitHub, the HTML representation is unable to render, please try loading this page with nbviewer.org.</b></div><div class=\"sk-container\" hidden><div class=\"sk-item\"><div class=\"sk-estimator sk-toggleable\"><input class=\"sk-toggleable__control sk-hidden--visually\" id=\"sk-estimator-id-1\" type=\"checkbox\" checked><label for=\"sk-estimator-id-1\" class=\"sk-toggleable__label sk-toggleable__label-arrow\">CategoricalNB</label><div class=\"sk-toggleable__content\"><pre>CategoricalNB()</pre></div></div></div></div></div>"
      ],
      "text/plain": [
       "CategoricalNB()"
      ]
     },
     "execution_count": 13,
     "metadata": {},
     "output_type": "execute_result"
    }
   ],
   "source": [
    "clf = CategoricalNB()\n",
    "clf.fit(traning_data.toarray(), train_x.label)"
   ]
  },
  {
   "cell_type": "code",
   "execution_count": 14,
   "metadata": {},
   "outputs": [
    {
     "data": {
      "text/plain": [
       "1"
      ]
     },
     "execution_count": 14,
     "metadata": {},
     "output_type": "execute_result"
    }
   ],
   "source": [
    "predictions = clf.predict(testing_data.toarray()[2:3])\n",
    "predictions[0]"
   ]
  },
  {
   "cell_type": "code",
   "execution_count": 15,
   "metadata": {},
   "outputs": [
    {
     "data": {
      "text/plain": [
       "array([[0, 0, 0, ..., 0, 0, 0]], dtype=int64)"
      ]
     },
     "execution_count": 15,
     "metadata": {},
     "output_type": "execute_result"
    }
   ],
   "source": [
    "testing_data.toarray()[2:3]"
   ]
  },
  {
   "cell_type": "code",
   "execution_count": 16,
   "metadata": {},
   "outputs": [
    {
     "data": {
      "text/html": [
       "<div>\n",
       "<style scoped>\n",
       "    .dataframe tbody tr th:only-of-type {\n",
       "        vertical-align: middle;\n",
       "    }\n",
       "\n",
       "    .dataframe tbody tr th {\n",
       "        vertical-align: top;\n",
       "    }\n",
       "\n",
       "    .dataframe thead th {\n",
       "        text-align: right;\n",
       "    }\n",
       "</style>\n",
       "<table border=\"1\" class=\"dataframe\">\n",
       "  <thead>\n",
       "    <tr style=\"text-align: right;\">\n",
       "      <th></th>\n",
       "      <th>data</th>\n",
       "      <th>label</th>\n",
       "      <th>clean</th>\n",
       "    </tr>\n",
       "  </thead>\n",
       "  <tbody>\n",
       "    <tr>\n",
       "      <th>4263</th>\n",
       "      <td>circle_but:1 vs:1 at_all:1 and_valley:1 the_co...</td>\n",
       "      <td>1</td>\n",
       "      <td>circl_but vs at_all and_valley the_conclus mi...</td>\n",
       "    </tr>\n",
       "    <tr>\n",
       "      <th>2475</th>\n",
       "      <td>made_it:1 before_i:1 i'd_better:1 while:1 the_...</td>\n",
       "      <td>0</td>\n",
       "      <td>made_it befor_i id_better while the_foreign a...</td>\n",
       "    </tr>\n",
       "    <tr>\n",
       "      <th>1206</th>\n",
       "      <td>is_no:1 providing_valuable:1 about:1 reviewer:...</td>\n",
       "      <td>1</td>\n",
       "      <td>is_no provid_valuabl about review prove_the u...</td>\n",
       "    </tr>\n",
       "    <tr>\n",
       "      <th>1464</th>\n",
       "      <td>teen_but:1 get:2 reciepes!!simple_fun:1 made:1...</td>\n",
       "      <td>1</td>\n",
       "      <td>teen_but get get reciepessimpl_fun made veget...</td>\n",
       "    </tr>\n",
       "    <tr>\n",
       "      <th>2550</th>\n",
       "      <td>i:8 enough_parts:1 sort:2 middle:1 more_worthw...</td>\n",
       "      <td>0</td>\n",
       "      <td>i i i i i i i i enough_part sort sort middl m...</td>\n",
       "    </tr>\n",
       "    <tr>\n",
       "      <th>...</th>\n",
       "      <td>...</td>\n",
       "      <td>...</td>\n",
       "      <td>...</td>\n",
       "    </tr>\n",
       "    <tr>\n",
       "      <th>1033</th>\n",
       "      <td>art:1 seduction:2 learn:2 greene:1 believe:1 g...</td>\n",
       "      <td>1</td>\n",
       "      <td>art seduct seduct learn learn green believ gr...</td>\n",
       "    </tr>\n",
       "    <tr>\n",
       "      <th>3264</th>\n",
       "      <td>lack_of:1 it_shows:1 journalism:1 how_they:1 i...</td>\n",
       "      <td>0</td>\n",
       "      <td>lack_of it_show journal how_they in_hi high_l...</td>\n",
       "    </tr>\n",
       "    <tr>\n",
       "      <th>1653</th>\n",
       "      <td>important_is:1 decision_like:1 martha_rules:1 ...</td>\n",
       "      <td>0</td>\n",
       "      <td>import_is decis_like martha_rule we_loos hone...</td>\n",
       "    </tr>\n",
       "    <tr>\n",
       "      <th>2607</th>\n",
       "      <td>your:1 anyone:1 well:1 did_you:1 and_useful:1 ...</td>\n",
       "      <td>1</td>\n",
       "      <td>your anyon well did_you and_use topic so love...</td>\n",
       "    </tr>\n",
       "    <tr>\n",
       "      <th>2732</th>\n",
       "      <td>your:1 book_but:1 well:1 can_you:1 e-mails?_it...</td>\n",
       "      <td>0</td>\n",
       "      <td>your book_but well can_you e-mail_it page_can...</td>\n",
       "    </tr>\n",
       "  </tbody>\n",
       "</table>\n",
       "<p>4465 rows × 3 columns</p>\n",
       "</div>"
      ],
      "text/plain": [
       "                                                   data  label  \\\n",
       "4263  circle_but:1 vs:1 at_all:1 and_valley:1 the_co...      1   \n",
       "2475  made_it:1 before_i:1 i'd_better:1 while:1 the_...      0   \n",
       "1206  is_no:1 providing_valuable:1 about:1 reviewer:...      1   \n",
       "1464  teen_but:1 get:2 reciepes!!simple_fun:1 made:1...      1   \n",
       "2550  i:8 enough_parts:1 sort:2 middle:1 more_worthw...      0   \n",
       "...                                                 ...    ...   \n",
       "1033  art:1 seduction:2 learn:2 greene:1 believe:1 g...      1   \n",
       "3264  lack_of:1 it_shows:1 journalism:1 how_they:1 i...      0   \n",
       "1653  important_is:1 decision_like:1 martha_rules:1 ...      0   \n",
       "2607  your:1 anyone:1 well:1 did_you:1 and_useful:1 ...      1   \n",
       "2732  your:1 book_but:1 well:1 can_you:1 e-mails?_it...      0   \n",
       "\n",
       "                                                  clean  \n",
       "4263   circl_but vs at_all and_valley the_conclus mi...  \n",
       "2475   made_it befor_i id_better while the_foreign a...  \n",
       "1206   is_no provid_valuabl about review prove_the u...  \n",
       "1464   teen_but get get reciepessimpl_fun made veget...  \n",
       "2550   i i i i i i i i enough_part sort sort middl m...  \n",
       "...                                                 ...  \n",
       "1033   art seduct seduct learn learn green believ gr...  \n",
       "3264   lack_of it_show journal how_they in_hi high_l...  \n",
       "1653   import_is decis_like martha_rule we_loos hone...  \n",
       "2607   your anyon well did_you and_use topic so love...  \n",
       "2732   your book_but well can_you e-mail_it page_can...  \n",
       "\n",
       "[4465 rows x 3 columns]"
      ]
     },
     "execution_count": 16,
     "metadata": {},
     "output_type": "execute_result"
    }
   ],
   "source": [
    "testing"
   ]
  }
 ],
 "metadata": {
  "kernelspec": {
   "display_name": "Python 3 (ipykernel)",
   "language": "python",
   "name": "python3"
  },
  "language_info": {
   "codemirror_mode": {
    "name": "ipython",
    "version": 3
   },
   "file_extension": ".py",
   "mimetype": "text/x-python",
   "name": "python",
   "nbconvert_exporter": "python",
   "pygments_lexer": "ipython3",
   "version": "3.10.5"
  }
 },
 "nbformat": 4,
 "nbformat_minor": 4
}
