{
 "cells": [
  {
   "cell_type": "markdown",
   "metadata": {
    "tags": []
   },
   "source": [
    "# Sentiment classifiers"
   ]
  },
  {
   "cell_type": "code",
   "execution_count": 1,
   "metadata": {},
   "outputs": [],
   "source": [
    "import re\n",
    "import pandas as pd\n",
    "import numpy as np\n",
    "from nltk.stem.porter import PorterStemmer\n",
    "from sklearn.utils import shuffle\n",
    "from sklearn.metrics import accuracy_score, precision_score, recall_score, f1_score\n",
    "from sklearn.naive_bayes import CategoricalNB, MultinomialNB\n",
    "from sklearn.feature_extraction.text import CountVectorizer\n",
    "from sklearn.feature_extraction.text import TfidfVectorizer"
   ]
  },
  {
   "cell_type": "markdown",
   "metadata": {},
   "source": [
    "### sentiment classifier per each category"
   ]
  },
  {
   "cell_type": "markdown",
   "metadata": {},
   "source": [
    "__paths to change__"
   ]
  },
  {
   "cell_type": "code",
   "execution_count": 2,
   "metadata": {},
   "outputs": [],
   "source": [
    "# input variables\n",
    "path = './datos/Multi Domain Sentiment/'\n",
    "\n",
    "# notebook variables\n",
    "books_path = path + 'books/'\n",
    "dvd_path = path + 'dvd/'\n",
    "electronics_path = path + 'electronics/'\n",
    "kitchen_path = path + 'kitchen/'"
   ]
  },
  {
   "cell_type": "markdown",
   "metadata": {
    "tags": []
   },
   "source": [
    "__Read documents methods__"
   ]
  },
  {
   "cell_type": "code",
   "execution_count": 3,
   "metadata": {},
   "outputs": [],
   "source": [
    "def get_testing(path: str) -> pd.DataFrame:\n",
    "    testing = pd.read_csv(path + 'unlabeled.review', delimiter='#label#:', engine='python', header=None, names=['data', 'label'])\n",
    "    testing['label'] = testing.label.map({'negative':0, 'positive':1})\n",
    "    return testing"
   ]
  },
  {
   "cell_type": "code",
   "execution_count": 4,
   "metadata": {
    "tags": []
   },
   "outputs": [],
   "source": [
    "def get_traing(path: str) -> pd.DataFrame:\n",
    "    negative = pd.read_csv(path + 'negative.review', delimiter='#label#:', engine='python', header=None, names=['data', 'label'])\n",
    "    positive = pd.read_csv(path + 'positive.review', delimiter='#label#:', engine='python', header=None, names=['data', 'label'])\n",
    "    traning = pd.concat([negative, positive], axis=0, ignore_index=True)\n",
    "    traning['label'] = traning.label.map({'negative':0, 'positive':1})\n",
    "    return traning"
   ]
  },
  {
   "cell_type": "code",
   "execution_count": 8,
   "metadata": {},
   "outputs": [],
   "source": [
    "def remove_characters(word: str) -> str:\n",
    "    # remove control characters\n",
    "    word = re.sub('&.*;', '', word)\n",
    "    # remove problematic characters\n",
    "    word = re.sub('-', '_', word)\n",
    "    word = re.sub('[^a-zA-Z0-9_]', '', word)\n",
    "    word = re.sub('[0-9]+', '_num_', word)\n",
    "    word = re.sub('_+', '_', word)\n",
    "    # remove characters that starts with or ends with _\n",
    "    word = re.sub('^_+', '', word)\n",
    "    word = re.sub('_$', '', word)\n",
    "    return word"
   ]
  },
  {
   "cell_type": "code",
   "execution_count": 9,
   "metadata": {},
   "outputs": [],
   "source": [
    "porter_stemmer = PorterStemmer()\n",
    "def preprocessing(document: str) -> str:\n",
    "    words = document.split()\n",
    "    result = ''\n",
    "    for word in words:\n",
    "        item, cant = word.split(':')\n",
    "        item = remove_characters(item)\n",
    "        item = '_'.join([porter_stemmer.stem(word) for word in item.split('_')])\n",
    "        i, c = 0, int(cant)\n",
    "        while i < c:\n",
    "            result = result + ' ' + item\n",
    "            i += 1\n",
    "    return result"
   ]
  },
  {
   "cell_type": "code",
   "execution_count": 10,
   "metadata": {},
   "outputs": [
    {
     "data": {
      "text/html": [
       "<div>\n",
       "<style scoped>\n",
       "    .dataframe tbody tr th:only-of-type {\n",
       "        vertical-align: middle;\n",
       "    }\n",
       "\n",
       "    .dataframe tbody tr th {\n",
       "        vertical-align: top;\n",
       "    }\n",
       "\n",
       "    .dataframe thead th {\n",
       "        text-align: right;\n",
       "    }\n",
       "</style>\n",
       "<table border=\"1\" class=\"dataframe\">\n",
       "  <thead>\n",
       "    <tr style=\"text-align: right;\">\n",
       "      <th></th>\n",
       "      <th>data</th>\n",
       "      <th>label</th>\n",
       "      <th>clean</th>\n",
       "    </tr>\n",
       "  </thead>\n",
       "  <tbody>\n",
       "    <tr>\n",
       "      <th>1290</th>\n",
       "      <td>coherence_this:1 recommend_it:1 topic:1 additi...</td>\n",
       "      <td>1</td>\n",
       "      <td>coher_thi recommend_it topic addit_to gener c...</td>\n",
       "    </tr>\n",
       "    <tr>\n",
       "      <th>1404</th>\n",
       "      <td>sort:1 fortunately_in:1 the_rise:2 thought_tha...</td>\n",
       "      <td>1</td>\n",
       "      <td>sort fortun_in the_rise the_rise thought_that...</td>\n",
       "    </tr>\n",
       "    <tr>\n",
       "      <th>1426</th>\n",
       "      <td>writer_mayle:1 again_to:1 mayle's_breakthrough...</td>\n",
       "      <td>1</td>\n",
       "      <td>writer_mayl again_to mayl_breakthrough home d...</td>\n",
       "    </tr>\n",
       "    <tr>\n",
       "      <th>1810</th>\n",
       "      <td>on_every:1 uncommon:1 only:2 mr:1 over_a:1 fol...</td>\n",
       "      <td>1</td>\n",
       "      <td>on_everi uncommon onli onli mr over_a follow ...</td>\n",
       "    </tr>\n",
       "    <tr>\n",
       "      <th>307</th>\n",
       "      <td>essays:1 feminist_essays:1 of_feminist:1 is_wo...</td>\n",
       "      <td>0</td>\n",
       "      <td>essay feminist_essay of_feminist is_wors coll...</td>\n",
       "    </tr>\n",
       "    <tr>\n",
       "      <th>1703</th>\n",
       "      <td>really:1 everything:1 books_says:1 really_work...</td>\n",
       "      <td>1</td>\n",
       "      <td>realli everyth book_say realli_work when_you ...</td>\n",
       "    </tr>\n",
       "    <tr>\n",
       "      <th>951</th>\n",
       "      <td>description:1 your:1 anyone:1 book_anymore:1 c...</td>\n",
       "      <td>0</td>\n",
       "      <td>descript your anyon book_anymor color_photogr...</td>\n",
       "    </tr>\n",
       "    <tr>\n",
       "      <th>318</th>\n",
       "      <td>disturbing:1 worrying_about:1 mean:1 thought_n...</td>\n",
       "      <td>0</td>\n",
       "      <td>disturb worri_about mean thought_next neighbo...</td>\n",
       "    </tr>\n",
       "    <tr>\n",
       "      <th>153</th>\n",
       "      <td>incident:1 revolve:1 cop_stories:1 the_chapter...</td>\n",
       "      <td>0</td>\n",
       "      <td>incid revolv cop_stori the_chapter tie end_is...</td>\n",
       "    </tr>\n",
       "    <tr>\n",
       "      <th>1653</th>\n",
       "      <td>hands_and:1 &lt;num&gt;_months:1 whenever_he:1 on_hi...</td>\n",
       "      <td>1</td>\n",
       "      <td>hand_and num_month whenev_he on_hi mama_wave ...</td>\n",
       "    </tr>\n",
       "  </tbody>\n",
       "</table>\n",
       "</div>"
      ],
      "text/plain": [
       "                                                   data  label  \\\n",
       "1290  coherence_this:1 recommend_it:1 topic:1 additi...      1   \n",
       "1404  sort:1 fortunately_in:1 the_rise:2 thought_tha...      1   \n",
       "1426  writer_mayle:1 again_to:1 mayle's_breakthrough...      1   \n",
       "1810  on_every:1 uncommon:1 only:2 mr:1 over_a:1 fol...      1   \n",
       "307   essays:1 feminist_essays:1 of_feminist:1 is_wo...      0   \n",
       "1703  really:1 everything:1 books_says:1 really_work...      1   \n",
       "951   description:1 your:1 anyone:1 book_anymore:1 c...      0   \n",
       "318   disturbing:1 worrying_about:1 mean:1 thought_n...      0   \n",
       "153   incident:1 revolve:1 cop_stories:1 the_chapter...      0   \n",
       "1653  hands_and:1 <num>_months:1 whenever_he:1 on_hi...      1   \n",
       "\n",
       "                                                  clean  \n",
       "1290   coher_thi recommend_it topic addit_to gener c...  \n",
       "1404   sort fortun_in the_rise the_rise thought_that...  \n",
       "1426   writer_mayl again_to mayl_breakthrough home d...  \n",
       "1810   on_everi uncommon onli onli mr over_a follow ...  \n",
       "307    essay feminist_essay of_feminist is_wors coll...  \n",
       "1703   realli everyth book_say realli_work when_you ...  \n",
       "951    descript your anyon book_anymor color_photogr...  \n",
       "318    disturb worri_about mean thought_next neighbo...  \n",
       "153    incid revolv cop_stori the_chapter tie end_is...  \n",
       "1653   hand_and num_month whenev_he on_hi mama_wave ...  "
      ]
     },
     "execution_count": 10,
     "metadata": {},
     "output_type": "execute_result"
    }
   ],
   "source": [
    "traning = shuffle(get_traing(books_path), random_state=0)\n",
    "traning['clean'] = traning.data.apply(preprocessing)\n",
    "traning.sample(10)"
   ]
  },
  {
   "cell_type": "code",
   "execution_count": 11,
   "metadata": {},
   "outputs": [
    {
     "data": {
      "text/html": [
       "<div>\n",
       "<style scoped>\n",
       "    .dataframe tbody tr th:only-of-type {\n",
       "        vertical-align: middle;\n",
       "    }\n",
       "\n",
       "    .dataframe tbody tr th {\n",
       "        vertical-align: top;\n",
       "    }\n",
       "\n",
       "    .dataframe thead th {\n",
       "        text-align: right;\n",
       "    }\n",
       "</style>\n",
       "<table border=\"1\" class=\"dataframe\">\n",
       "  <thead>\n",
       "    <tr style=\"text-align: right;\">\n",
       "      <th></th>\n",
       "      <th>data</th>\n",
       "      <th>label</th>\n",
       "      <th>clean</th>\n",
       "    </tr>\n",
       "  </thead>\n",
       "  <tbody>\n",
       "    <tr>\n",
       "      <th>2241</th>\n",
       "      <td>i:4 dog:1 the_dog:1 the_mind:1 both:1 how-to.:...</td>\n",
       "      <td>1</td>\n",
       "      <td>i i i i dog the_dog the_mind both how_to beyo...</td>\n",
       "    </tr>\n",
       "    <tr>\n",
       "      <th>1002</th>\n",
       "      <td>reading_this:1 mean:1 down:1 i_kept:1 he:5 par...</td>\n",
       "      <td>0</td>\n",
       "      <td>read_thi mean down i_kept he he he he he part...</td>\n",
       "    </tr>\n",
       "    <tr>\n",
       "      <th>1621</th>\n",
       "      <td>he:5 of_mcclellan's:1 fascinating_the:1 consta...</td>\n",
       "      <td>1</td>\n",
       "      <td>he he he he he of_mcclellan fascin_the consta...</td>\n",
       "    </tr>\n",
       "    <tr>\n",
       "      <th>2908</th>\n",
       "      <td>which:1 find_another:1 around_it:1 diary_i:1 w...</td>\n",
       "      <td>0</td>\n",
       "      <td>which find_anoth around_it diari_i what_happe...</td>\n",
       "    </tr>\n",
       "    <tr>\n",
       "      <th>661</th>\n",
       "      <td>be_\"wowwed\":1 after_reading:1 about:1 read:1 t...</td>\n",
       "      <td>1</td>\n",
       "      <td>be_wow after_read about read the_beach page d...</td>\n",
       "    </tr>\n",
       "    <tr>\n",
       "      <th>373</th>\n",
       "      <td>comments:1 other_in:1 found:1 problem_is:1 he:...</td>\n",
       "      <td>0</td>\n",
       "      <td>comment other_in found problem_is he wayovera...</td>\n",
       "    </tr>\n",
       "    <tr>\n",
       "      <th>3343</th>\n",
       "      <td>made_it:1 to_lookup:1 tried_to:1 i_like:1 book...</td>\n",
       "      <td>0</td>\n",
       "      <td>made_it to_lookup tri_to i_like book_becaus t...</td>\n",
       "    </tr>\n",
       "    <tr>\n",
       "      <th>739</th>\n",
       "      <td>right_there:1 cried_multiple:1 with_all:1 doll...</td>\n",
       "      <td>1</td>\n",
       "      <td>right_there cri_multipl with_all dollar dolla...</td>\n",
       "    </tr>\n",
       "    <tr>\n",
       "      <th>2626</th>\n",
       "      <td>union_the:1 the_company:1 was:2 boss:2 simply:...</td>\n",
       "      <td>0</td>\n",
       "      <td>union_the the_compani wa wa boss boss simpli ...</td>\n",
       "    </tr>\n",
       "    <tr>\n",
       "      <th>1559</th>\n",
       "      <td>your:1 people_have:1 about_&lt;dash-num&gt;:1 pages_...</td>\n",
       "      <td>0</td>\n",
       "      <td>your peopl_have about_dash_num page_im i_seem...</td>\n",
       "    </tr>\n",
       "  </tbody>\n",
       "</table>\n",
       "</div>"
      ],
      "text/plain": [
       "                                                   data  label  \\\n",
       "2241  i:4 dog:1 the_dog:1 the_mind:1 both:1 how-to.:...      1   \n",
       "1002  reading_this:1 mean:1 down:1 i_kept:1 he:5 par...      0   \n",
       "1621  he:5 of_mcclellan's:1 fascinating_the:1 consta...      1   \n",
       "2908  which:1 find_another:1 around_it:1 diary_i:1 w...      0   \n",
       "661   be_\"wowwed\":1 after_reading:1 about:1 read:1 t...      1   \n",
       "373   comments:1 other_in:1 found:1 problem_is:1 he:...      0   \n",
       "3343  made_it:1 to_lookup:1 tried_to:1 i_like:1 book...      0   \n",
       "739   right_there:1 cried_multiple:1 with_all:1 doll...      1   \n",
       "2626  union_the:1 the_company:1 was:2 boss:2 simply:...      0   \n",
       "1559  your:1 people_have:1 about_<dash-num>:1 pages_...      0   \n",
       "\n",
       "                                                  clean  \n",
       "2241   i i i i dog the_dog the_mind both how_to beyo...  \n",
       "1002   read_thi mean down i_kept he he he he he part...  \n",
       "1621   he he he he he of_mcclellan fascin_the consta...  \n",
       "2908   which find_anoth around_it diari_i what_happe...  \n",
       "661    be_wow after_read about read the_beach page d...  \n",
       "373    comment other_in found problem_is he wayovera...  \n",
       "3343   made_it to_lookup tri_to i_like book_becaus t...  \n",
       "739    right_there cri_multipl with_all dollar dolla...  \n",
       "2626   union_the the_compani wa wa boss boss simpli ...  \n",
       "1559   your peopl_have about_dash_num page_im i_seem...  "
      ]
     },
     "execution_count": 11,
     "metadata": {},
     "output_type": "execute_result"
    }
   ],
   "source": [
    "testing = shuffle(get_testing(books_path), random_state=0)\n",
    "testing['clean'] = testing.data.apply(preprocessing)\n",
    "testing.sample(10)"
   ]
  },
  {
   "cell_type": "code",
   "execution_count": 12,
   "metadata": {},
   "outputs": [],
   "source": [
    "vectorizer = CountVectorizer()\n",
    "traning_data = vectorizer.fit_transform(traning.clean.values)\n",
    "testing_data = vectorizer.transform(testing.clean.values)"
   ]
  },
  {
   "cell_type": "code",
   "execution_count": 23,
   "metadata": {},
   "outputs": [
    {
     "data": {
      "text/plain": [
       "169641"
      ]
     },
     "execution_count": 23,
     "metadata": {},
     "output_type": "execute_result"
    }
   ],
   "source": [
    "len(vectorizer.get_feature_names_out())"
   ]
  },
  {
   "cell_type": "code",
   "execution_count": 14,
   "metadata": {},
   "outputs": [
    {
     "data": {
      "text/html": [
       "<style>#sk-container-id-1 {color: black;background-color: white;}#sk-container-id-1 pre{padding: 0;}#sk-container-id-1 div.sk-toggleable {background-color: white;}#sk-container-id-1 label.sk-toggleable__label {cursor: pointer;display: block;width: 100%;margin-bottom: 0;padding: 0.3em;box-sizing: border-box;text-align: center;}#sk-container-id-1 label.sk-toggleable__label-arrow:before {content: \"▸\";float: left;margin-right: 0.25em;color: #696969;}#sk-container-id-1 label.sk-toggleable__label-arrow:hover:before {color: black;}#sk-container-id-1 div.sk-estimator:hover label.sk-toggleable__label-arrow:before {color: black;}#sk-container-id-1 div.sk-toggleable__content {max-height: 0;max-width: 0;overflow: hidden;text-align: left;background-color: #f0f8ff;}#sk-container-id-1 div.sk-toggleable__content pre {margin: 0.2em;color: black;border-radius: 0.25em;background-color: #f0f8ff;}#sk-container-id-1 input.sk-toggleable__control:checked~div.sk-toggleable__content {max-height: 200px;max-width: 100%;overflow: auto;}#sk-container-id-1 input.sk-toggleable__control:checked~label.sk-toggleable__label-arrow:before {content: \"▾\";}#sk-container-id-1 div.sk-estimator input.sk-toggleable__control:checked~label.sk-toggleable__label {background-color: #d4ebff;}#sk-container-id-1 div.sk-label input.sk-toggleable__control:checked~label.sk-toggleable__label {background-color: #d4ebff;}#sk-container-id-1 input.sk-hidden--visually {border: 0;clip: rect(1px 1px 1px 1px);clip: rect(1px, 1px, 1px, 1px);height: 1px;margin: -1px;overflow: hidden;padding: 0;position: absolute;width: 1px;}#sk-container-id-1 div.sk-estimator {font-family: monospace;background-color: #f0f8ff;border: 1px dotted black;border-radius: 0.25em;box-sizing: border-box;margin-bottom: 0.5em;}#sk-container-id-1 div.sk-estimator:hover {background-color: #d4ebff;}#sk-container-id-1 div.sk-parallel-item::after {content: \"\";width: 100%;border-bottom: 1px solid gray;flex-grow: 1;}#sk-container-id-1 div.sk-label:hover label.sk-toggleable__label {background-color: #d4ebff;}#sk-container-id-1 div.sk-serial::before {content: \"\";position: absolute;border-left: 1px solid gray;box-sizing: border-box;top: 0;bottom: 0;left: 50%;z-index: 0;}#sk-container-id-1 div.sk-serial {display: flex;flex-direction: column;align-items: center;background-color: white;padding-right: 0.2em;padding-left: 0.2em;position: relative;}#sk-container-id-1 div.sk-item {position: relative;z-index: 1;}#sk-container-id-1 div.sk-parallel {display: flex;align-items: stretch;justify-content: center;background-color: white;position: relative;}#sk-container-id-1 div.sk-item::before, #sk-container-id-1 div.sk-parallel-item::before {content: \"\";position: absolute;border-left: 1px solid gray;box-sizing: border-box;top: 0;bottom: 0;left: 50%;z-index: -1;}#sk-container-id-1 div.sk-parallel-item {display: flex;flex-direction: column;z-index: 1;position: relative;background-color: white;}#sk-container-id-1 div.sk-parallel-item:first-child::after {align-self: flex-end;width: 50%;}#sk-container-id-1 div.sk-parallel-item:last-child::after {align-self: flex-start;width: 50%;}#sk-container-id-1 div.sk-parallel-item:only-child::after {width: 0;}#sk-container-id-1 div.sk-dashed-wrapped {border: 1px dashed gray;margin: 0 0.4em 0.5em 0.4em;box-sizing: border-box;padding-bottom: 0.4em;background-color: white;}#sk-container-id-1 div.sk-label label {font-family: monospace;font-weight: bold;display: inline-block;line-height: 1.2em;}#sk-container-id-1 div.sk-label-container {text-align: center;}#sk-container-id-1 div.sk-container {/* jupyter's `normalize.less` sets `[hidden] { display: none; }` but bootstrap.min.css set `[hidden] { display: none !important; }` so we also need the `!important` here to be able to override the default hidden behavior on the sphinx rendered scikit-learn.org. See: https://github.com/scikit-learn/scikit-learn/issues/21755 */display: inline-block !important;position: relative;}#sk-container-id-1 div.sk-text-repr-fallback {display: none;}</style><div id=\"sk-container-id-1\" class=\"sk-top-container\"><div class=\"sk-text-repr-fallback\"><pre>MultinomialNB()</pre><b>In a Jupyter environment, please rerun this cell to show the HTML representation or trust the notebook. <br />On GitHub, the HTML representation is unable to render, please try loading this page with nbviewer.org.</b></div><div class=\"sk-container\" hidden><div class=\"sk-item\"><div class=\"sk-estimator sk-toggleable\"><input class=\"sk-toggleable__control sk-hidden--visually\" id=\"sk-estimator-id-1\" type=\"checkbox\" checked><label for=\"sk-estimator-id-1\" class=\"sk-toggleable__label sk-toggleable__label-arrow\">MultinomialNB</label><div class=\"sk-toggleable__content\"><pre>MultinomialNB()</pre></div></div></div></div></div>"
      ],
      "text/plain": [
       "MultinomialNB()"
      ]
     },
     "execution_count": 14,
     "metadata": {},
     "output_type": "execute_result"
    }
   ],
   "source": [
    "clf = MultinomialNB()\n",
    "clf.fit(traning_data, traning.label.values)"
   ]
  },
  {
   "cell_type": "code",
   "execution_count": 15,
   "metadata": {},
   "outputs": [
    {
     "name": "stdout",
     "output_type": "stream",
     "text": [
      "Precision score:  0.8368396694255156\n",
      "Recall score:  0.8328657829801103\n",
      "F1 score:  0.8316437462520466\n",
      "Accuracy score:  0.832026875699888\n"
     ]
    }
   ],
   "source": [
    "predictions = clf.predict(testing_data)\n",
    "print('Precision score: ', format(precision_score(testing.label.values, predictions,average='macro')))\n",
    "print('Recall score: ', format(recall_score(testing.label.values, predictions,average='macro')))\n",
    "print('F1 score: ', format(f1_score(testing.label.values, predictions,average='macro')))\n",
    "print('Accuracy score: ', format(accuracy_score(testing.label.values, predictions)))"
   ]
  }
 ],
 "metadata": {
  "kernelspec": {
   "display_name": "Python 3 (ipykernel)",
   "language": "python",
   "name": "python3"
  },
  "language_info": {
   "codemirror_mode": {
    "name": "ipython",
    "version": 3
   },
   "file_extension": ".py",
   "mimetype": "text/x-python",
   "name": "python",
   "nbconvert_exporter": "python",
   "pygments_lexer": "ipython3",
   "version": "3.10.5"
  }
 },
 "nbformat": 4,
 "nbformat_minor": 4
}
